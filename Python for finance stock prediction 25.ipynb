{
 "cells": [
  {
   "cell_type": "code",
   "execution_count": 442,
   "id": "452336da",
   "metadata": {},
   "outputs": [],
   "source": [
    "#Description this program predicts the price of Coca-cola stock for a specific day using machine learning algorithm\n",
    "from sklearn.svm import SVR\n",
    "import numpy as np \n",
    "import pandas as pd\n",
    "import matplotlib.pyplot as plt\n",
    "import yfinance as yf\n",
    "plt.style.use('fivethirtyeight')"
   ]
  },
  {
   "cell_type": "code",
   "execution_count": 443,
   "id": "6d263034",
   "metadata": {},
   "outputs": [
    {
     "name": "stdout",
     "output_type": "stream",
     "text": [
      "<class 'pandas.core.frame.DataFrame'>\n",
      "DatetimeIndex: 22 entries, 2020-10-01 to 2020-10-30\n",
      "Data columns (total 7 columns):\n",
      " #   Column        Non-Null Count  Dtype  \n",
      "---  ------        --------------  -----  \n",
      " 0   Open          22 non-null     float64\n",
      " 1   High          22 non-null     float64\n",
      " 2   Low           22 non-null     float64\n",
      " 3   Close         22 non-null     float64\n",
      " 4   Volume        22 non-null     int64  \n",
      " 5   Dividends     22 non-null     int64  \n",
      " 6   Stock Splits  22 non-null     int64  \n",
      "dtypes: float64(4), int64(3)\n",
      "memory usage: 1.4 KB\n"
     ]
    }
   ],
   "source": [
    "df=yf.Ticker('KO').history(start='2020-10-02', end='2020-11-1')\n",
    "#df.reset_index(inplace=True)\n",
    "df.info()"
   ]
  },
  {
   "cell_type": "code",
   "execution_count": 444,
   "id": "c9eef9ea",
   "metadata": {},
   "outputs": [
    {
     "data": {
      "text/html": [
       "<div>\n",
       "<style scoped>\n",
       "    .dataframe tbody tr th:only-of-type {\n",
       "        vertical-align: middle;\n",
       "    }\n",
       "\n",
       "    .dataframe tbody tr th {\n",
       "        vertical-align: top;\n",
       "    }\n",
       "\n",
       "    .dataframe thead th {\n",
       "        text-align: right;\n",
       "    }\n",
       "</style>\n",
       "<table border=\"1\" class=\"dataframe\">\n",
       "  <thead>\n",
       "    <tr style=\"text-align: right;\">\n",
       "      <th></th>\n",
       "      <th>Open</th>\n",
       "      <th>High</th>\n",
       "      <th>Low</th>\n",
       "      <th>Close</th>\n",
       "      <th>Volume</th>\n",
       "      <th>Dividends</th>\n",
       "      <th>Stock Splits</th>\n",
       "    </tr>\n",
       "    <tr>\n",
       "      <th>Date</th>\n",
       "      <th></th>\n",
       "      <th></th>\n",
       "      <th></th>\n",
       "      <th></th>\n",
       "      <th></th>\n",
       "      <th></th>\n",
       "      <th></th>\n",
       "    </tr>\n",
       "  </thead>\n",
       "  <tbody>\n",
       "    <tr>\n",
       "      <th>2020-10-30</th>\n",
       "      <td>45.638852</td>\n",
       "      <td>45.934772</td>\n",
       "      <td>45.218831</td>\n",
       "      <td>45.877499</td>\n",
       "      <td>15804000</td>\n",
       "      <td>0</td>\n",
       "      <td>0</td>\n",
       "    </tr>\n",
       "  </tbody>\n",
       "</table>\n",
       "</div>"
      ],
      "text/plain": [
       "                 Open       High        Low      Close    Volume  Dividends  \\\n",
       "Date                                                                          \n",
       "2020-10-30  45.638852  45.934772  45.218831  45.877499  15804000          0   \n",
       "\n",
       "            Stock Splits  \n",
       "Date                      \n",
       "2020-10-30             0  "
      ]
     },
     "execution_count": 444,
     "metadata": {},
     "output_type": "execute_result"
    }
   ],
   "source": [
    "actual_price = df.tail(1)\n",
    "#Show the data\n",
    "actual_price"
   ]
  },
  {
   "cell_type": "code",
   "execution_count": 445,
   "id": "d757714f",
   "metadata": {},
   "outputs": [],
   "source": [
    "#create empty list\n",
    "days = list()\n",
    "close_price= list()"
   ]
  },
  {
   "cell_type": "code",
   "execution_count": 446,
   "id": "d38727eb",
   "metadata": {},
   "outputs": [
    {
     "name": "stdout",
     "output_type": "stream",
     "text": [
      "<class 'pandas.core.frame.DataFrame'>\n",
      "DatetimeIndex: 22 entries, 2020-10-01 to 2020-10-30\n",
      "Data columns (total 8 columns):\n",
      " #   Column        Non-Null Count  Dtype  \n",
      "---  ------        --------------  -----  \n",
      " 0   Open          22 non-null     float64\n",
      " 1   High          22 non-null     float64\n",
      " 2   Low           22 non-null     float64\n",
      " 3   Close         22 non-null     float64\n",
      " 4   Volume        22 non-null     int64  \n",
      " 5   Dividends     22 non-null     int64  \n",
      " 6   Stock Splits  22 non-null     int64  \n",
      " 7   df_days       22 non-null     object \n",
      "dtypes: float64(4), int64(3), object(1)\n",
      "memory usage: 1.5+ KB\n"
     ]
    }
   ],
   "source": [
    "#Get only the date and adjusted close price\n",
    "df['df_days']=df.index.values.astype('<M8[D]').astype(str)#Converting date time index into strings\n",
    "close = df.loc[:,'Close']\n",
    "df.info()"
   ]
  },
  {
   "cell_type": "code",
   "execution_count": 447,
   "id": "3bee1618",
   "metadata": {},
   "outputs": [
    {
     "name": "stdout",
     "output_type": "stream",
     "text": [
      "2020-10-01\n",
      "2020-10-02\n",
      "2020-10-05\n",
      "2020-10-06\n",
      "2020-10-07\n",
      "2020-10-08\n",
      "2020-10-09\n",
      "2020-10-12\n",
      "2020-10-13\n",
      "2020-10-14\n",
      "2020-10-15\n",
      "2020-10-16\n",
      "2020-10-19\n",
      "2020-10-20\n",
      "2020-10-21\n",
      "2020-10-22\n",
      "2020-10-23\n",
      "2020-10-26\n",
      "2020-10-27\n",
      "2020-10-28\n",
      "2020-10-29\n",
      "2020-10-30\n"
     ]
    },
    {
     "data": {
      "text/plain": [
       "[[1],\n",
       " [2],\n",
       " [5],\n",
       " [6],\n",
       " [7],\n",
       " [8],\n",
       " [9],\n",
       " [12],\n",
       " [13],\n",
       " [14],\n",
       " [15],\n",
       " [16],\n",
       " [19],\n",
       " [20],\n",
       " [21],\n",
       " [22],\n",
       " [23],\n",
       " [26],\n",
       " [27],\n",
       " [28],\n",
       " [29],\n",
       " [30]]"
      ]
     },
     "execution_count": 447,
     "metadata": {},
     "output_type": "execute_result"
    }
   ],
   "source": [
    "#create the independent data set(Dates)\n",
    "for day in df.df_days:\n",
    "    print(day)\n",
    "    days.append([int(day.split('-')[2])])\n",
    "#Create the Dependent data set (close)\n",
    "for price in close:\n",
    "    close_price.append(float(price))\n",
    "close_price\n",
    "days"
   ]
  },
  {
   "cell_type": "code",
   "execution_count": 458,
   "id": "c0b16026",
   "metadata": {},
   "outputs": [
    {
     "data": {
      "text/plain": [
       "[[1],\n",
       " [2],\n",
       " [5],\n",
       " [6],\n",
       " [7],\n",
       " [8],\n",
       " [9],\n",
       " [12],\n",
       " [13],\n",
       " [14],\n",
       " [15],\n",
       " [16],\n",
       " [19],\n",
       " [20],\n",
       " [21],\n",
       " [22],\n",
       " [23],\n",
       " [26],\n",
       " [27],\n",
       " [28],\n",
       " [29],\n",
       " [30]]"
      ]
     },
     "execution_count": 458,
     "metadata": {},
     "output_type": "execute_result"
    }
   ],
   "source": [
    "days1=days[:-1]\n",
    "close_price1=close_price[:-1]\n",
    "#create 3 models\n",
    "lin_svr= SVR(kernel='linear',C=1000.0)# C= Regularizatuion to over fit and under fit the model\n",
    "lin_svr.fit(days1,close_price1)\n",
    "\n",
    "poly_svr= SVR(kernel='poly',C=1000.0,degree=2)\n",
    "poly_svr=poly_svr.fit(days1,close_price1)\n",
    "\n",
    "rbf_svr= SVR(kernel='rbf',C=1000.0,gamma=0.95)\n",
    "rbf_svr=rbf_svr.fit(days1,close_price1)\n",
    "days"
   ]
  },
  {
   "cell_type": "code",
   "execution_count": 459,
   "id": "dea770e3",
   "metadata": {},
   "outputs": [
    {
     "data": {
      "image/png": "[encoded data removed]",
      "text/plain": [
       "<Figure size 1152x576 with 1 Axes>"
      ]
     },
     "metadata": {},
     "output_type": "display_data"
    }
   ],
   "source": [
    "#plot the model\n",
    "plt.figure(figsize=(16,8))\n",
    "plt.scatter(days,close_price,color='black',label='Data')\n",
    "plt.plot(days,rbf_svr.predict(days),color='green',label='Lesso Model')\n",
    "plt.plot(days,poly_svr.predict(days),color='orange', label='Ploy')\n",
    "plt.plot(days,lin_svr.predict(days),color='blue', label='Linear Model')\n",
    "plt.xlabel('Days')\n",
    "plt.ylabel('Adj Close Price($)')\n",
    "plt.legend()\n",
    "plt.show()"
   ]
  },
  {
   "cell_type": "code",
   "execution_count": null,
   "id": "d5300177",
   "metadata": {},
   "outputs": [],
   "source": []
  },
  {
   "cell_type": "code",
   "execution_count": 462,
   "id": "315f1585",
   "metadata": {},
   "outputs": [
    {
     "name": "stdout",
     "output_type": "stream",
     "text": [
      "The RBF predicted Model:  [47.11425932]\n",
      "The poly predicted Model:  [47.4682852]\n",
      "The linear predicted Model:  [48.01448193]\n"
     ]
    }
   ],
   "source": [
    "day=[[30]]\n",
    "print('The RBF predicted Model: ',rbf_svr.predict(day))\n",
    "print('The poly predicted Model: ',poly_svr.predict(day))\n",
    "print('The linear predicted Model: ',lin_svr.predict(day))"
   ]
  },
  {
   "cell_type": "code",
   "execution_count": 466,
   "id": "842590c7",
   "metadata": {},
   "outputs": [
    {
     "name": "stdout",
     "output_type": "stream",
     "text": [
      "The Actual Price:  45.877498626708984\n"
     ]
    }
   ],
   "source": [
    "print('The Actual Price: ',df['Close'][21])"
   ]
  },
  {
   "cell_type": "code",
   "execution_count": null,
   "id": "d5f281d9",
   "metadata": {},
   "outputs": [],
   "source": []
  },
  {
   "cell_type": "code",
   "execution_count": null,
   "id": "17107c3e",
   "metadata": {},
   "outputs": [],
   "source": []
  }
 ],
 "metadata": {
  "kernelspec": {
   "display_name": "Python 3 (ipykernel)",
   "language": "python",
   "name": "python3"
  },
  "language_info": {
   "codemirror_mode": {
    "name": "ipython",
    "version": 3
   },
   "file_extension": ".py",
   "mimetype": "text/x-python",
   "name": "python",
   "nbconvert_exporter": "python",
   "pygments_lexer": "ipython3",
   "version": "3.7.3"
  }
 },
 "nbformat": 4,
 "nbformat_minor": 5
}
