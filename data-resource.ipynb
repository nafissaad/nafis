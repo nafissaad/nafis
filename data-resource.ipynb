{
 "cells": [
  {
   "cell_type": "code",
   "execution_count": 1,
   "id": "5c114612-61de-4f0f-8b3d-9752c0291fd8",
   "metadata": {},
   "outputs": [],
   "source": [
    "import pandas as pd"
   ]
  },
  {
   "cell_type": "code",
   "execution_count": 2,
   "id": "20c9ddcf-56ae-49d8-9518-a889f625de2d",
   "metadata": {},
   "outputs": [
    {
     "data": {
      "text/html": [
       "<div>\n",
       "<style scoped>\n",
       "    .dataframe tbody tr th:only-of-type {\n",
       "        vertical-align: middle;\n",
       "    }\n",
       "\n",
       "    .dataframe tbody tr th {\n",
       "        vertical-align: top;\n",
       "    }\n",
       "\n",
       "    .dataframe thead th {\n",
       "        text-align: right;\n",
       "    }\n",
       "</style>\n",
       "<table border=\"1\" class=\"dataframe\">\n",
       "  <thead>\n",
       "    <tr style=\"text-align: right;\">\n",
       "      <th></th>\n",
       "      <th>Unnamed: 0</th>\n",
       "      <th>Unnamed: 1</th>\n",
       "      <th>Unnamed: 2</th>\n",
       "      <th>Unnamed: 3</th>\n",
       "    </tr>\n",
       "  </thead>\n",
       "  <tbody>\n",
       "    <tr>\n",
       "      <th>0</th>\n",
       "      <td>Road Accident and casualties Statistics (2009-...</td>\n",
       "      <td>NaN</td>\n",
       "      <td>NaN</td>\n",
       "      <td>NaN</td>\n",
       "    </tr>\n",
       "    <tr>\n",
       "      <th>1</th>\n",
       "      <td>Year</td>\n",
       "      <td>Number of Accidents</td>\n",
       "      <td>Death</td>\n",
       "      <td>Injury</td>\n",
       "    </tr>\n",
       "    <tr>\n",
       "      <th>2</th>\n",
       "      <td>2009</td>\n",
       "      <td>3381</td>\n",
       "      <td>2958</td>\n",
       "      <td>2686</td>\n",
       "    </tr>\n",
       "    <tr>\n",
       "      <th>3</th>\n",
       "      <td>2010</td>\n",
       "      <td>2827</td>\n",
       "      <td>2646</td>\n",
       "      <td>1803</td>\n",
       "    </tr>\n",
       "    <tr>\n",
       "      <th>4</th>\n",
       "      <td>2011</td>\n",
       "      <td>2667</td>\n",
       "      <td>2546</td>\n",
       "      <td>1641</td>\n",
       "    </tr>\n",
       "    <tr>\n",
       "      <th>5</th>\n",
       "      <td>2012</td>\n",
       "      <td>2636</td>\n",
       "      <td>2538</td>\n",
       "      <td>2134</td>\n",
       "    </tr>\n",
       "    <tr>\n",
       "      <th>6</th>\n",
       "      <td>2013</td>\n",
       "      <td>2029</td>\n",
       "      <td>1957</td>\n",
       "      <td>1396</td>\n",
       "    </tr>\n",
       "    <tr>\n",
       "      <th>7</th>\n",
       "      <td>2014</td>\n",
       "      <td>2027</td>\n",
       "      <td>2067</td>\n",
       "      <td>1535</td>\n",
       "    </tr>\n",
       "    <tr>\n",
       "      <th>8</th>\n",
       "      <td>2015</td>\n",
       "      <td>2394</td>\n",
       "      <td>2376</td>\n",
       "      <td>1958</td>\n",
       "    </tr>\n",
       "    <tr>\n",
       "      <th>9</th>\n",
       "      <td>2016(Up to July)</td>\n",
       "      <td>1489</td>\n",
       "      <td>1422</td>\n",
       "      <td>1289</td>\n",
       "    </tr>\n",
       "  </tbody>\n",
       "</table>\n",
       "</div>"
      ],
      "text/plain": [
       "                                          Unnamed: 0           Unnamed: 1  \\\n",
       "0  Road Accident and casualties Statistics (2009-...                  NaN   \n",
       "1                                               Year  Number of Accidents   \n",
       "2                                               2009                 3381   \n",
       "3                                               2010                 2827   \n",
       "4                                               2011                 2667   \n",
       "5                                               2012                 2636   \n",
       "6                                               2013                 2029   \n",
       "7                                               2014                 2027   \n",
       "8                                               2015                 2394   \n",
       "9                                   2016(Up to July)                 1489   \n",
       "\n",
       "  Unnamed: 2 Unnamed: 3  \n",
       "0        NaN        NaN  \n",
       "1      Death     Injury  \n",
       "2       2958       2686  \n",
       "3       2646       1803  \n",
       "4       2546       1641  \n",
       "5       2538       2134  \n",
       "6       1957       1396  \n",
       "7       2067       1535  \n",
       "8       2376       1958  \n",
       "9       1422       1289  "
      ]
     },
     "execution_count": 2,
     "metadata": {},
     "output_type": "execute_result"
    }
   ],
   "source": [
    "df=pd.read_csv('data-resource_2016_11_20_Road Accident and casualties Statistics (2009-2016).csv')\n",
    "df"
   ]
  },
  {
   "cell_type": "code",
   "execution_count": 3,
   "id": "acb92c5a-3697-4457-a8c3-046041176d48",
   "metadata": {},
   "outputs": [],
   "source": [
    "df.drop([0],axis=0,inplace=True)"
   ]
  },
  {
   "cell_type": "code",
   "execution_count": 4,
   "id": "be6622a8-0614-4691-807e-c59c21d65646",
   "metadata": {},
   "outputs": [
    {
     "data": {
      "text/html": [
       "<div>\n",
       "<style scoped>\n",
       "    .dataframe tbody tr th:only-of-type {\n",
       "        vertical-align: middle;\n",
       "    }\n",
       "\n",
       "    .dataframe tbody tr th {\n",
       "        vertical-align: top;\n",
       "    }\n",
       "\n",
       "    .dataframe thead th {\n",
       "        text-align: right;\n",
       "    }\n",
       "</style>\n",
       "<table border=\"1\" class=\"dataframe\">\n",
       "  <thead>\n",
       "    <tr style=\"text-align: right;\">\n",
       "      <th></th>\n",
       "      <th>Unnamed: 0</th>\n",
       "      <th>Unnamed: 1</th>\n",
       "      <th>Unnamed: 2</th>\n",
       "      <th>Unnamed: 3</th>\n",
       "    </tr>\n",
       "  </thead>\n",
       "  <tbody>\n",
       "    <tr>\n",
       "      <th>1</th>\n",
       "      <td>Year</td>\n",
       "      <td>Number of Accidents</td>\n",
       "      <td>Death</td>\n",
       "      <td>Injury</td>\n",
       "    </tr>\n",
       "    <tr>\n",
       "      <th>2</th>\n",
       "      <td>2009</td>\n",
       "      <td>3381</td>\n",
       "      <td>2958</td>\n",
       "      <td>2686</td>\n",
       "    </tr>\n",
       "    <tr>\n",
       "      <th>3</th>\n",
       "      <td>2010</td>\n",
       "      <td>2827</td>\n",
       "      <td>2646</td>\n",
       "      <td>1803</td>\n",
       "    </tr>\n",
       "    <tr>\n",
       "      <th>4</th>\n",
       "      <td>2011</td>\n",
       "      <td>2667</td>\n",
       "      <td>2546</td>\n",
       "      <td>1641</td>\n",
       "    </tr>\n",
       "    <tr>\n",
       "      <th>5</th>\n",
       "      <td>2012</td>\n",
       "      <td>2636</td>\n",
       "      <td>2538</td>\n",
       "      <td>2134</td>\n",
       "    </tr>\n",
       "    <tr>\n",
       "      <th>6</th>\n",
       "      <td>2013</td>\n",
       "      <td>2029</td>\n",
       "      <td>1957</td>\n",
       "      <td>1396</td>\n",
       "    </tr>\n",
       "    <tr>\n",
       "      <th>7</th>\n",
       "      <td>2014</td>\n",
       "      <td>2027</td>\n",
       "      <td>2067</td>\n",
       "      <td>1535</td>\n",
       "    </tr>\n",
       "    <tr>\n",
       "      <th>8</th>\n",
       "      <td>2015</td>\n",
       "      <td>2394</td>\n",
       "      <td>2376</td>\n",
       "      <td>1958</td>\n",
       "    </tr>\n",
       "    <tr>\n",
       "      <th>9</th>\n",
       "      <td>2016(Up to July)</td>\n",
       "      <td>1489</td>\n",
       "      <td>1422</td>\n",
       "      <td>1289</td>\n",
       "    </tr>\n",
       "  </tbody>\n",
       "</table>\n",
       "</div>"
      ],
      "text/plain": [
       "         Unnamed: 0           Unnamed: 1 Unnamed: 2 Unnamed: 3\n",
       "1              Year  Number of Accidents      Death     Injury\n",
       "2              2009                 3381       2958       2686\n",
       "3              2010                 2827       2646       1803\n",
       "4              2011                 2667       2546       1641\n",
       "5              2012                 2636       2538       2134\n",
       "6              2013                 2029       1957       1396\n",
       "7              2014                 2027       2067       1535\n",
       "8              2015                 2394       2376       1958\n",
       "9  2016(Up to July)                 1489       1422       1289"
      ]
     },
     "execution_count": 4,
     "metadata": {},
     "output_type": "execute_result"
    }
   ],
   "source": [
    "df"
   ]
  },
  {
   "cell_type": "code",
   "execution_count": 6,
   "id": "e53ad351-7ce2-4a09-b565-79a4e82407cb",
   "metadata": {},
   "outputs": [],
   "source": [
    "df.columns = df.iloc[0]\n",
    "df.drop(df.index[0])\n",
    "headers = df.iloc[0]\n",
    "new_df  = pd.DataFrame(df.values[1:], columns=headers)"
   ]
  },
  {
   "cell_type": "code",
   "execution_count": 7,
   "id": "b66e2c3d-a850-47cb-8b77-fdea1f5fab7c",
   "metadata": {},
   "outputs": [
    {
     "data": {
      "text/html": [
       "<div>\n",
       "<style scoped>\n",
       "    .dataframe tbody tr th:only-of-type {\n",
       "        vertical-align: middle;\n",
       "    }\n",
       "\n",
       "    .dataframe tbody tr th {\n",
       "        vertical-align: top;\n",
       "    }\n",
       "\n",
       "    .dataframe thead th {\n",
       "        text-align: right;\n",
       "    }\n",
       "</style>\n",
       "<table border=\"1\" class=\"dataframe\">\n",
       "  <thead>\n",
       "    <tr style=\"text-align: right;\">\n",
       "      <th>1</th>\n",
       "      <th>Year</th>\n",
       "      <th>Number of Accidents</th>\n",
       "      <th>Death</th>\n",
       "      <th>Injury</th>\n",
       "    </tr>\n",
       "  </thead>\n",
       "  <tbody>\n",
       "    <tr>\n",
       "      <th>0</th>\n",
       "      <td>2009</td>\n",
       "      <td>3381</td>\n",
       "      <td>2958</td>\n",
       "      <td>2686</td>\n",
       "    </tr>\n",
       "    <tr>\n",
       "      <th>1</th>\n",
       "      <td>2010</td>\n",
       "      <td>2827</td>\n",
       "      <td>2646</td>\n",
       "      <td>1803</td>\n",
       "    </tr>\n",
       "    <tr>\n",
       "      <th>2</th>\n",
       "      <td>2011</td>\n",
       "      <td>2667</td>\n",
       "      <td>2546</td>\n",
       "      <td>1641</td>\n",
       "    </tr>\n",
       "    <tr>\n",
       "      <th>3</th>\n",
       "      <td>2012</td>\n",
       "      <td>2636</td>\n",
       "      <td>2538</td>\n",
       "      <td>2134</td>\n",
       "    </tr>\n",
       "    <tr>\n",
       "      <th>4</th>\n",
       "      <td>2013</td>\n",
       "      <td>2029</td>\n",
       "      <td>1957</td>\n",
       "      <td>1396</td>\n",
       "    </tr>\n",
       "    <tr>\n",
       "      <th>5</th>\n",
       "      <td>2014</td>\n",
       "      <td>2027</td>\n",
       "      <td>2067</td>\n",
       "      <td>1535</td>\n",
       "    </tr>\n",
       "    <tr>\n",
       "      <th>6</th>\n",
       "      <td>2015</td>\n",
       "      <td>2394</td>\n",
       "      <td>2376</td>\n",
       "      <td>1958</td>\n",
       "    </tr>\n",
       "    <tr>\n",
       "      <th>7</th>\n",
       "      <td>2016(Up to July)</td>\n",
       "      <td>1489</td>\n",
       "      <td>1422</td>\n",
       "      <td>1289</td>\n",
       "    </tr>\n",
       "  </tbody>\n",
       "</table>\n",
       "</div>"
      ],
      "text/plain": [
       "1              Year Number of Accidents Death Injury\n",
       "0              2009                3381  2958   2686\n",
       "1              2010                2827  2646   1803\n",
       "2              2011                2667  2546   1641\n",
       "3              2012                2636  2538   2134\n",
       "4              2013                2029  1957   1396\n",
       "5              2014                2027  2067   1535\n",
       "6              2015                2394  2376   1958\n",
       "7  2016(Up to July)                1489  1422   1289"
      ]
     },
     "execution_count": 7,
     "metadata": {},
     "output_type": "execute_result"
    }
   ],
   "source": [
    "new_df"
   ]
  },
  {
   "cell_type": "code",
   "execution_count": 8,
   "id": "0ed6fcb5-0c15-40b1-917b-8caa371e00e8",
   "metadata": {},
   "outputs": [
    {
     "name": "stdout",
     "output_type": "stream",
     "text": [
      "Index(['Year', 'Number of Accidents', 'Death', 'Injury'], dtype='object', name=1)\n"
     ]
    }
   ],
   "source": [
    "print(new_df.columns)"
   ]
  },
  {
   "cell_type": "code",
   "execution_count": 9,
   "id": "09f77988-2803-4927-8b7c-f4417d32bd8d",
   "metadata": {},
   "outputs": [],
   "source": [
    "new_df['Year']=new_df['Year'].apply(lambda x: int(x.split('(')[0]))"
   ]
  },
  {
   "cell_type": "code",
   "execution_count": 71,
   "id": "146bf1db-0867-4063-a3e1-cafd235c4140",
   "metadata": {},
   "outputs": [
    {
     "data": {
      "text/html": [
       "<div>\n",
       "<style scoped>\n",
       "    .dataframe tbody tr th:only-of-type {\n",
       "        vertical-align: middle;\n",
       "    }\n",
       "\n",
       "    .dataframe tbody tr th {\n",
       "        vertical-align: top;\n",
       "    }\n",
       "\n",
       "    .dataframe thead th {\n",
       "        text-align: right;\n",
       "    }\n",
       "</style>\n",
       "<table border=\"1\" class=\"dataframe\">\n",
       "  <thead>\n",
       "    <tr style=\"text-align: right;\">\n",
       "      <th>1</th>\n",
       "      <th>Year</th>\n",
       "      <th>Number of Accidents</th>\n",
       "      <th>Death</th>\n",
       "      <th>Injury</th>\n",
       "    </tr>\n",
       "  </thead>\n",
       "  <tbody>\n",
       "    <tr>\n",
       "      <th>0</th>\n",
       "      <td>2009</td>\n",
       "      <td>3381</td>\n",
       "      <td>2958</td>\n",
       "      <td>2686</td>\n",
       "    </tr>\n",
       "    <tr>\n",
       "      <th>1</th>\n",
       "      <td>2010</td>\n",
       "      <td>2827</td>\n",
       "      <td>2646</td>\n",
       "      <td>1803</td>\n",
       "    </tr>\n",
       "    <tr>\n",
       "      <th>2</th>\n",
       "      <td>2011</td>\n",
       "      <td>2667</td>\n",
       "      <td>2546</td>\n",
       "      <td>1641</td>\n",
       "    </tr>\n",
       "    <tr>\n",
       "      <th>3</th>\n",
       "      <td>2012</td>\n",
       "      <td>2636</td>\n",
       "      <td>2538</td>\n",
       "      <td>2134</td>\n",
       "    </tr>\n",
       "    <tr>\n",
       "      <th>4</th>\n",
       "      <td>2013</td>\n",
       "      <td>2029</td>\n",
       "      <td>1957</td>\n",
       "      <td>1396</td>\n",
       "    </tr>\n",
       "    <tr>\n",
       "      <th>5</th>\n",
       "      <td>2014</td>\n",
       "      <td>2027</td>\n",
       "      <td>2067</td>\n",
       "      <td>1535</td>\n",
       "    </tr>\n",
       "    <tr>\n",
       "      <th>6</th>\n",
       "      <td>2015</td>\n",
       "      <td>2394</td>\n",
       "      <td>2376</td>\n",
       "      <td>1958</td>\n",
       "    </tr>\n",
       "    <tr>\n",
       "      <th>7</th>\n",
       "      <td>2016</td>\n",
       "      <td>1489</td>\n",
       "      <td>1422</td>\n",
       "      <td>1289</td>\n",
       "    </tr>\n",
       "  </tbody>\n",
       "</table>\n",
       "</div>"
      ],
      "text/plain": [
       "1  Year Number of Accidents Death Injury\n",
       "0  2009                3381  2958   2686\n",
       "1  2010                2827  2646   1803\n",
       "2  2011                2667  2546   1641\n",
       "3  2012                2636  2538   2134\n",
       "4  2013                2029  1957   1396\n",
       "5  2014                2027  2067   1535\n",
       "6  2015                2394  2376   1958\n",
       "7  2016                1489  1422   1289"
      ]
     },
     "execution_count": 71,
     "metadata": {},
     "output_type": "execute_result"
    }
   ],
   "source": [
    "new_df"
   ]
  },
  {
   "cell_type": "code",
   "execution_count": 72,
   "id": "fc4a72a9-2b91-47ed-97ba-67286d7fbddd",
   "metadata": {},
   "outputs": [],
   "source": [
    "new_df[['Year','Number of Accidents','Death','Injury']]=new_df[['Year','Number of Accidents','Death','Injury']].astype(int)"
   ]
  },
  {
   "cell_type": "code",
   "execution_count": 73,
   "id": "8e43f545-c0ca-4988-9f61-a2c1c9dce028",
   "metadata": {},
   "outputs": [
    {
     "data": {
      "text/plain": [
       "1\n",
       "Year                   int32\n",
       "Number of Accidents    int32\n",
       "Death                  int32\n",
       "Injury                 int32\n",
       "dtype: object"
      ]
     },
     "execution_count": 73,
     "metadata": {},
     "output_type": "execute_result"
    }
   ],
   "source": [
    "new_df.dtypes"
   ]
  },
  {
   "cell_type": "code",
   "execution_count": 74,
   "id": "22b20e51-12a7-44d5-9c58-9fe5a5cde578",
   "metadata": {},
   "outputs": [],
   "source": [
    "import numpy as np\n",
    "new_df[['Change in Number of Accident','Change in Number of Death']]=(new_df[['Number of Accidents','Death']].pct_change(periods=1))*100"
   ]
  },
  {
   "cell_type": "code",
   "execution_count": 75,
   "id": "de8e80aa-06cd-47f4-8996-b470634cc326",
   "metadata": {},
   "outputs": [
    {
     "data": {
      "text/html": [
       "<div>\n",
       "<style scoped>\n",
       "    .dataframe tbody tr th:only-of-type {\n",
       "        vertical-align: middle;\n",
       "    }\n",
       "\n",
       "    .dataframe tbody tr th {\n",
       "        vertical-align: top;\n",
       "    }\n",
       "\n",
       "    .dataframe thead th {\n",
       "        text-align: right;\n",
       "    }\n",
       "</style>\n",
       "<table border=\"1\" class=\"dataframe\">\n",
       "  <thead>\n",
       "    <tr style=\"text-align: right;\">\n",
       "      <th>1</th>\n",
       "      <th>Year</th>\n",
       "      <th>Number of Accidents</th>\n",
       "      <th>Death</th>\n",
       "      <th>Injury</th>\n",
       "      <th>Change in Number of Accident</th>\n",
       "      <th>Change in Number of Death</th>\n",
       "    </tr>\n",
       "  </thead>\n",
       "  <tbody>\n",
       "    <tr>\n",
       "      <th>0</th>\n",
       "      <td>2009</td>\n",
       "      <td>3381</td>\n",
       "      <td>2958</td>\n",
       "      <td>2686</td>\n",
       "      <td>NaN</td>\n",
       "      <td>NaN</td>\n",
       "    </tr>\n",
       "    <tr>\n",
       "      <th>1</th>\n",
       "      <td>2010</td>\n",
       "      <td>2827</td>\n",
       "      <td>2646</td>\n",
       "      <td>1803</td>\n",
       "      <td>-16.385685</td>\n",
       "      <td>-10.547667</td>\n",
       "    </tr>\n",
       "    <tr>\n",
       "      <th>2</th>\n",
       "      <td>2011</td>\n",
       "      <td>2667</td>\n",
       "      <td>2546</td>\n",
       "      <td>1641</td>\n",
       "      <td>-5.659710</td>\n",
       "      <td>-3.779289</td>\n",
       "    </tr>\n",
       "    <tr>\n",
       "      <th>3</th>\n",
       "      <td>2012</td>\n",
       "      <td>2636</td>\n",
       "      <td>2538</td>\n",
       "      <td>2134</td>\n",
       "      <td>-1.162355</td>\n",
       "      <td>-0.314218</td>\n",
       "    </tr>\n",
       "    <tr>\n",
       "      <th>4</th>\n",
       "      <td>2013</td>\n",
       "      <td>2029</td>\n",
       "      <td>1957</td>\n",
       "      <td>1396</td>\n",
       "      <td>-23.027314</td>\n",
       "      <td>-22.892041</td>\n",
       "    </tr>\n",
       "    <tr>\n",
       "      <th>5</th>\n",
       "      <td>2014</td>\n",
       "      <td>2027</td>\n",
       "      <td>2067</td>\n",
       "      <td>1535</td>\n",
       "      <td>-0.098571</td>\n",
       "      <td>5.620848</td>\n",
       "    </tr>\n",
       "    <tr>\n",
       "      <th>6</th>\n",
       "      <td>2015</td>\n",
       "      <td>2394</td>\n",
       "      <td>2376</td>\n",
       "      <td>1958</td>\n",
       "      <td>18.105575</td>\n",
       "      <td>14.949202</td>\n",
       "    </tr>\n",
       "    <tr>\n",
       "      <th>7</th>\n",
       "      <td>2016</td>\n",
       "      <td>1489</td>\n",
       "      <td>1422</td>\n",
       "      <td>1289</td>\n",
       "      <td>-37.802840</td>\n",
       "      <td>-40.151515</td>\n",
       "    </tr>\n",
       "  </tbody>\n",
       "</table>\n",
       "</div>"
      ],
      "text/plain": [
       "1  Year  Number of Accidents  Death  Injury  Change in Number of Accident  \\\n",
       "0  2009                 3381   2958    2686                           NaN   \n",
       "1  2010                 2827   2646    1803                    -16.385685   \n",
       "2  2011                 2667   2546    1641                     -5.659710   \n",
       "3  2012                 2636   2538    2134                     -1.162355   \n",
       "4  2013                 2029   1957    1396                    -23.027314   \n",
       "5  2014                 2027   2067    1535                     -0.098571   \n",
       "6  2015                 2394   2376    1958                     18.105575   \n",
       "7  2016                 1489   1422    1289                    -37.802840   \n",
       "\n",
       "1  Change in Number of Death  \n",
       "0                        NaN  \n",
       "1                 -10.547667  \n",
       "2                  -3.779289  \n",
       "3                  -0.314218  \n",
       "4                 -22.892041  \n",
       "5                   5.620848  \n",
       "6                  14.949202  \n",
       "7                 -40.151515  "
      ]
     },
     "execution_count": 75,
     "metadata": {},
     "output_type": "execute_result"
    }
   ],
   "source": [
    "new_df"
   ]
  },
  {
   "cell_type": "code",
   "execution_count": 76,
   "id": "342873da-d297-484a-86b0-cd321d7a1776",
   "metadata": {},
   "outputs": [],
   "source": [
    "new_df=new_df.fillna(0)"
   ]
  },
  {
   "cell_type": "code",
   "execution_count": 77,
   "id": "1b954a82-d654-4301-80f0-23e7c4a090fd",
   "metadata": {},
   "outputs": [
    {
     "data": {
      "text/plain": [
       "1\n",
       "Year                              int32\n",
       "Number of Accidents               int32\n",
       "Death                             int32\n",
       "Injury                            int32\n",
       "Change in Number of Accident    float64\n",
       "Change in Number of Death       float64\n",
       "dtype: object"
      ]
     },
     "execution_count": 77,
     "metadata": {},
     "output_type": "execute_result"
    }
   ],
   "source": [
    "new_df.dtypes"
   ]
  },
  {
   "cell_type": "code",
   "execution_count": 78,
   "id": "7d303680-edd6-45e5-a892-288f8448bbc3",
   "metadata": {},
   "outputs": [],
   "source": [
    "new_df['Total_Number_of_Accident_victims']=new_df['Death']+new_df['Injury']"
   ]
  },
  {
   "cell_type": "code",
   "execution_count": 79,
   "id": "694e98f6-591c-4c4c-9898-7686515ea8e6",
   "metadata": {},
   "outputs": [
    {
     "data": {
      "text/html": [
       "<div>\n",
       "<style scoped>\n",
       "    .dataframe tbody tr th:only-of-type {\n",
       "        vertical-align: middle;\n",
       "    }\n",
       "\n",
       "    .dataframe tbody tr th {\n",
       "        vertical-align: top;\n",
       "    }\n",
       "\n",
       "    .dataframe thead th {\n",
       "        text-align: right;\n",
       "    }\n",
       "</style>\n",
       "<table border=\"1\" class=\"dataframe\">\n",
       "  <thead>\n",
       "    <tr style=\"text-align: right;\">\n",
       "      <th>1</th>\n",
       "      <th>Year</th>\n",
       "      <th>Number of Accidents</th>\n",
       "      <th>Death</th>\n",
       "      <th>Injury</th>\n",
       "      <th>Change in Number of Accident</th>\n",
       "      <th>Change in Number of Death</th>\n",
       "      <th>Total_Number_of_Accident_victims</th>\n",
       "    </tr>\n",
       "  </thead>\n",
       "  <tbody>\n",
       "    <tr>\n",
       "      <th>0</th>\n",
       "      <td>2009</td>\n",
       "      <td>3381</td>\n",
       "      <td>2958</td>\n",
       "      <td>2686</td>\n",
       "      <td>0.000000</td>\n",
       "      <td>0.000000</td>\n",
       "      <td>5644</td>\n",
       "    </tr>\n",
       "    <tr>\n",
       "      <th>1</th>\n",
       "      <td>2010</td>\n",
       "      <td>2827</td>\n",
       "      <td>2646</td>\n",
       "      <td>1803</td>\n",
       "      <td>-16.385685</td>\n",
       "      <td>-10.547667</td>\n",
       "      <td>4449</td>\n",
       "    </tr>\n",
       "    <tr>\n",
       "      <th>2</th>\n",
       "      <td>2011</td>\n",
       "      <td>2667</td>\n",
       "      <td>2546</td>\n",
       "      <td>1641</td>\n",
       "      <td>-5.659710</td>\n",
       "      <td>-3.779289</td>\n",
       "      <td>4187</td>\n",
       "    </tr>\n",
       "    <tr>\n",
       "      <th>3</th>\n",
       "      <td>2012</td>\n",
       "      <td>2636</td>\n",
       "      <td>2538</td>\n",
       "      <td>2134</td>\n",
       "      <td>-1.162355</td>\n",
       "      <td>-0.314218</td>\n",
       "      <td>4672</td>\n",
       "    </tr>\n",
       "    <tr>\n",
       "      <th>4</th>\n",
       "      <td>2013</td>\n",
       "      <td>2029</td>\n",
       "      <td>1957</td>\n",
       "      <td>1396</td>\n",
       "      <td>-23.027314</td>\n",
       "      <td>-22.892041</td>\n",
       "      <td>3353</td>\n",
       "    </tr>\n",
       "    <tr>\n",
       "      <th>5</th>\n",
       "      <td>2014</td>\n",
       "      <td>2027</td>\n",
       "      <td>2067</td>\n",
       "      <td>1535</td>\n",
       "      <td>-0.098571</td>\n",
       "      <td>5.620848</td>\n",
       "      <td>3602</td>\n",
       "    </tr>\n",
       "    <tr>\n",
       "      <th>6</th>\n",
       "      <td>2015</td>\n",
       "      <td>2394</td>\n",
       "      <td>2376</td>\n",
       "      <td>1958</td>\n",
       "      <td>18.105575</td>\n",
       "      <td>14.949202</td>\n",
       "      <td>4334</td>\n",
       "    </tr>\n",
       "    <tr>\n",
       "      <th>7</th>\n",
       "      <td>2016</td>\n",
       "      <td>1489</td>\n",
       "      <td>1422</td>\n",
       "      <td>1289</td>\n",
       "      <td>-37.802840</td>\n",
       "      <td>-40.151515</td>\n",
       "      <td>2711</td>\n",
       "    </tr>\n",
       "  </tbody>\n",
       "</table>\n",
       "</div>"
      ],
      "text/plain": [
       "1  Year  Number of Accidents  Death  Injury  Change in Number of Accident  \\\n",
       "0  2009                 3381   2958    2686                      0.000000   \n",
       "1  2010                 2827   2646    1803                    -16.385685   \n",
       "2  2011                 2667   2546    1641                     -5.659710   \n",
       "3  2012                 2636   2538    2134                     -1.162355   \n",
       "4  2013                 2029   1957    1396                    -23.027314   \n",
       "5  2014                 2027   2067    1535                     -0.098571   \n",
       "6  2015                 2394   2376    1958                     18.105575   \n",
       "7  2016                 1489   1422    1289                    -37.802840   \n",
       "\n",
       "1  Change in Number of Death  Total_Number_of_Accident_victims  \n",
       "0                   0.000000                              5644  \n",
       "1                 -10.547667                              4449  \n",
       "2                  -3.779289                              4187  \n",
       "3                  -0.314218                              4672  \n",
       "4                 -22.892041                              3353  \n",
       "5                   5.620848                              3602  \n",
       "6                  14.949202                              4334  \n",
       "7                 -40.151515                              2711  "
      ]
     },
     "execution_count": 79,
     "metadata": {},
     "output_type": "execute_result"
    }
   ],
   "source": [
    "new_df"
   ]
  },
  {
   "cell_type": "code",
   "execution_count": 80,
   "id": "140ba110-c6a7-4548-96ae-7b9672818384",
   "metadata": {},
   "outputs": [],
   "source": [
    "import matplotlib\n",
    "from matplotlib import pyplot as plt\n",
    "%matplotlib inline"
   ]
  },
  {
   "cell_type": "code",
   "execution_count": 81,
   "id": "ce226565-86a7-4783-b243-6fa980df3c63",
   "metadata": {},
   "outputs": [
    {
     "data": {
      "text/plain": [
       "Text(0.5, 1.0, 'Casualities')"
      ]
     },
     "execution_count": 81,
     "metadata": {},
     "output_type": "execute_result"
    },
    {
     "data": {
      "image/png": "[encoded data removed]",
      "text/plain": [
       "<Figure size 432x288 with 1 Axes>"
      ]
     },
     "metadata": {},
     "output_type": "display_data"
    }
   ],
   "source": [
    "labels = ['Death', 'Injury']\n",
    "sizes = [ new_df.Death.sum(),new_df.Injury.sum()]\n",
    "ig, ax = plt.subplots()\n",
    "ax.pie(sizes, labels=labels, autopct='%1.1f%%')\n",
    "ax.axis('equal')  # Equal aspect ratio ensures the pie chart is circular.\n",
    "ax.set_title('Casualities')\n",
    "\n",
    "\n"
   ]
  },
  {
   "cell_type": "code",
   "execution_count": 82,
   "id": "f5593aca-f84b-4250-9886-8a753abf55c9",
   "metadata": {},
   "outputs": [
    {
     "data": {
      "text/plain": [
       "array([0, 1, 2, 3, 4, 5, 6, 7])"
      ]
     },
     "execution_count": 82,
     "metadata": {},
     "output_type": "execute_result"
    }
   ],
   "source": [
    "%matplotlib inline\n",
    "ypos=np.arange(len(new_df.Year))\n",
    "ypos"
   ]
  },
  {
   "cell_type": "code",
   "execution_count": 83,
   "id": "7ff9f864-69b4-4cab-9589-b49e790dd02e",
   "metadata": {},
   "outputs": [
    {
     "data": {
      "text/plain": [
       "Text(0, 0.5, 'Accidents over the year')"
      ]
     },
     "execution_count": 83,
     "metadata": {},
     "output_type": "execute_result"
    },
    {
     "data": {
      "image/png": "[encoded data removed]",
      "text/plain": [
       "<Figure size 2160x720 with 1 Axes>"
      ]
     },
     "metadata": {
      "needs_background": "light"
     },
     "output_type": "display_data"
    }
   ],
   "source": [
    "plt.figure(figsize=(30,10))\n",
    "plt.title(\"Number of Accidents\",size=20)\n",
    "plt.xticks(ypos,new_df.Year,size=20)\n",
    "plt.bar(ypos,new_df['Number of Accidents'])\n",
    "plt.ylabel(\"Accidents over the year\",size=20)"
   ]
  },
  {
   "cell_type": "code",
   "execution_count": 84,
   "id": "d2fcfa32-9fde-47f7-9555-60dd28ba9560",
   "metadata": {},
   "outputs": [
    {
     "data": {
      "text/plain": [
       "[<matplotlib.lines.Line2D at 0xe945880>]"
      ]
     },
     "execution_count": 84,
     "metadata": {},
     "output_type": "execute_result"
    },
    {
     "data": {
      "image/png": "[encoded data removed]",
      "text/plain": [
       "<Figure size 432x288 with 1 Axes>"
      ]
     },
     "metadata": {
      "needs_background": "light"
     },
     "output_type": "display_data"
    }
   ],
   "source": [
    "plt.plot(new_df.Year,new_df['Change in Number of Accident'])"
   ]
  },
  {
   "cell_type": "code",
   "execution_count": 85,
   "id": "aa2ae98f-07a7-4621-add2-b999c8dfd0d0",
   "metadata": {},
   "outputs": [
    {
     "data": {
      "text/plain": [
       "[<matplotlib.lines.Line2D at 0xe97bdf0>]"
      ]
     },
     "execution_count": 85,
     "metadata": {},
     "output_type": "execute_result"
    },
    {
     "data": {
      "image/png": "[encoded data removed]",
      "text/plain": [
       "<Figure size 432x288 with 1 Axes>"
      ]
     },
     "metadata": {
      "needs_background": "light"
     },
     "output_type": "display_data"
    }
   ],
   "source": [
    "plt.plot(new_df.Year,new_df['Change in Number of Death'])"
   ]
  },
  {
   "cell_type": "code",
   "execution_count": 86,
   "id": "993eaf23-a2f8-40ba-983f-653e21f2406b",
   "metadata": {},
   "outputs": [
    {
     "data": {
      "text/html": [
       "<div>\n",
       "<style scoped>\n",
       "    .dataframe tbody tr th:only-of-type {\n",
       "        vertical-align: middle;\n",
       "    }\n",
       "\n",
       "    .dataframe tbody tr th {\n",
       "        vertical-align: top;\n",
       "    }\n",
       "\n",
       "    .dataframe thead th {\n",
       "        text-align: right;\n",
       "    }\n",
       "</style>\n",
       "<table border=\"1\" class=\"dataframe\">\n",
       "  <thead>\n",
       "    <tr style=\"text-align: right;\">\n",
       "      <th>1</th>\n",
       "      <th>Year</th>\n",
       "      <th>Number of Accidents</th>\n",
       "      <th>Death</th>\n",
       "      <th>Injury</th>\n",
       "      <th>Change in Number of Accident</th>\n",
       "      <th>Change in Number of Death</th>\n",
       "      <th>Total_Number_of_Accident_victims</th>\n",
       "    </tr>\n",
       "  </thead>\n",
       "  <tbody>\n",
       "    <tr>\n",
       "      <th>3</th>\n",
       "      <td>2012</td>\n",
       "      <td>2636</td>\n",
       "      <td>2538</td>\n",
       "      <td>2134</td>\n",
       "      <td>-1.162355</td>\n",
       "      <td>-0.314218</td>\n",
       "      <td>4672</td>\n",
       "    </tr>\n",
       "    <tr>\n",
       "      <th>6</th>\n",
       "      <td>2015</td>\n",
       "      <td>2394</td>\n",
       "      <td>2376</td>\n",
       "      <td>1958</td>\n",
       "      <td>18.105575</td>\n",
       "      <td>14.949202</td>\n",
       "      <td>4334</td>\n",
       "    </tr>\n",
       "    <tr>\n",
       "      <th>5</th>\n",
       "      <td>2014</td>\n",
       "      <td>2027</td>\n",
       "      <td>2067</td>\n",
       "      <td>1535</td>\n",
       "      <td>-0.098571</td>\n",
       "      <td>5.620848</td>\n",
       "      <td>3602</td>\n",
       "    </tr>\n",
       "    <tr>\n",
       "      <th>4</th>\n",
       "      <td>2013</td>\n",
       "      <td>2029</td>\n",
       "      <td>1957</td>\n",
       "      <td>1396</td>\n",
       "      <td>-23.027314</td>\n",
       "      <td>-22.892041</td>\n",
       "      <td>3353</td>\n",
       "    </tr>\n",
       "    <tr>\n",
       "      <th>7</th>\n",
       "      <td>2016</td>\n",
       "      <td>1489</td>\n",
       "      <td>1422</td>\n",
       "      <td>1289</td>\n",
       "      <td>-37.802840</td>\n",
       "      <td>-40.151515</td>\n",
       "      <td>2711</td>\n",
       "    </tr>\n",
       "  </tbody>\n",
       "</table>\n",
       "</div>"
      ],
      "text/plain": [
       "1  Year  Number of Accidents  Death  Injury  Change in Number of Accident  \\\n",
       "3  2012                 2636   2538    2134                     -1.162355   \n",
       "6  2015                 2394   2376    1958                     18.105575   \n",
       "5  2014                 2027   2067    1535                     -0.098571   \n",
       "4  2013                 2029   1957    1396                    -23.027314   \n",
       "7  2016                 1489   1422    1289                    -37.802840   \n",
       "\n",
       "1  Change in Number of Death  Total_Number_of_Accident_victims  \n",
       "3                  -0.314218                              4672  \n",
       "6                  14.949202                              4334  \n",
       "5                   5.620848                              3602  \n",
       "4                 -22.892041                              3353  \n",
       "7                 -40.151515                              2711  "
      ]
     },
     "execution_count": 86,
     "metadata": {},
     "output_type": "execute_result"
    }
   ],
   "source": [
    "new_df[3:].sort_values('Death',ascending=False)\n"
   ]
  },
  {
   "cell_type": "code",
   "execution_count": 90,
   "id": "0db323e0-c1b3-462b-87de-dc7101570171",
   "metadata": {},
   "outputs": [
    {
     "data": {
      "text/plain": [
       "<AxesSubplot:xlabel='Year'>"
      ]
     },
     "execution_count": 90,
     "metadata": {},
     "output_type": "execute_result"
    },
    {
     "data": {
      "image/png": "[encoded data removed]",
      "text/plain": [
       "<Figure size 432x288 with 1 Axes>"
      ]
     },
     "metadata": {
      "needs_background": "light"
     },
     "output_type": "display_data"
    }
   ],
   "source": [
    "df=new_df.set_index('Year')\n",
    "df2=['Number of Accidents','Death','Injury']\n",
    "df3=df[df2]\n",
    "df3.plot()"
   ]
  },
  {
   "cell_type": "code",
   "execution_count": null,
   "id": "bc67ef75-ef60-49bb-8f9d-a0cd13191e2f",
   "metadata": {},
   "outputs": [],
   "source": []
  },
  {
   "cell_type": "code",
   "execution_count": null,
   "id": "bde7a51d-7d17-451e-9952-45d245736e93",
   "metadata": {},
   "outputs": [],
   "source": []
  },
  {
   "cell_type": "code",
   "execution_count": null,
   "id": "27b0098b-3c30-4dab-a43a-2039b4e18738",
   "metadata": {},
   "outputs": [],
   "source": []
  }
 ],
 "metadata": {
  "kernelspec": {
   "display_name": "Python 3 (ipykernel)",
   "language": "python",
   "name": "python3"
  },
  "language_info": {
   "codemirror_mode": {
    "name": "ipython",
    "version": 3
   },
   "file_extension": ".py",
   "mimetype": "text/x-python",
   "name": "python",
   "nbconvert_exporter": "python",
   "pygments_lexer": "ipython3",
   "version": "3.7.3"
  }
 },
 "nbformat": 4,
 "nbformat_minor": 5
}
