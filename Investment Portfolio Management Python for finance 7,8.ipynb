{
 "cells": [
  {
   "cell_type": "code",
   "execution_count": 1,
   "id": "180d8b73",
   "metadata": {},
   "outputs": [],
   "source": [
    "# Provides ways to work with large multidimensional arrays\n",
    "import numpy as np \n",
    "# Allows for further data manipulation and analysis\n",
    "import pandas as pd\n",
    "from pandas_datareader import data as web # Reads stock data \n",
    "import matplotlib.pyplot as plt # Plotting\n",
    "import matplotlib.dates as mdates # Styling dates\n",
    "%matplotlib inline\n",
    "\n",
    "import datetime as dt # For defining dates\n",
    "import mplfinance as mpf # Matplotlib finance\n",
    "\n",
    "import time\n",
    "\n",
    "# Used to get data from a directory\n",
    "import os\n",
    "from os import listdir\n",
    "from os.path import isfile, join\n",
    "\n",
    "#Statsmodels is a great library we can use to run regressions.\n",
    "import statsmodels.api as sm\n",
    "# Seaborn extends the capabilities of Matplotlib\n",
    "import seaborn as sns\n",
    "# Used for calculating regressions\n",
    "from statsmodels.tsa.ar_model import AutoReg, ar_select_order"
   ]
  },
  {
   "cell_type": "code",
   "execution_count": 2,
   "id": "19ab765f",
   "metadata": {},
   "outputs": [],
   "source": [
    "# Define path to files\n",
    "# For MacOS\n",
    "PATH = \"C:\\\\Users\\\\nafissaad\\\\Finance\\\\Stock List\\\\\"\n",
    "# For Windows\n",
    "# PATH = \"D:/Python for Finance/Stocks/\"\n",
    "\n",
    "# Start date defaults\n",
    "S_YEAR = 2017\n",
    "S_MONTH = 1\n",
    "S_DAY = 3\n",
    "S_DATE_STR = \"2017-01-03\"\n",
    "S_DATE_DATETIME = dt.datetime(S_YEAR, S_MONTH, S_DAY)\n",
    "\n",
    "# End date defaults\n",
    "E_YEAR = 2021\n",
    "E_MONTH = 8\n",
    "E_DAY = 19\n",
    "E_DATE_STR = \"2022-02-04\"\n",
    "E_DATE_DATETIME = dt.datetime(E_YEAR, E_MONTH, E_DAY)"
   ]
  },
  {
   "cell_type": "code",
   "execution_count": 3,
   "id": "34224112",
   "metadata": {},
   "outputs": [],
   "source": [
    "stocks_not_downloaded = []\n",
    "missing_stocks = []"
   ]
  },
  {
   "cell_type": "code",
   "execution_count": 4,
   "id": "a5270adc",
   "metadata": {},
   "outputs": [
    {
     "data": {
      "text/plain": [
       "893"
      ]
     },
     "execution_count": 4,
     "metadata": {},
     "output_type": "execute_result"
    }
   ],
   "source": [
    "files = [x for x in listdir(PATH) if isfile(join(PATH, x))]\n",
    "tickers = [os.path.splitext(x)[0] for x in files]\n",
    "tickers\n",
    "\n",
    "# On MacOS Only\n",
    "# tickers.remove('.DS_Store')\n",
    "# 2886 total stocks\n",
    "tickers.sort()\n",
    "len(tickers)"
   ]
  },
  {
   "cell_type": "code",
   "execution_count": 5,
   "id": "60a286f8",
   "metadata": {},
   "outputs": [],
   "source": [
    "def get_df_from_csv(ticker):\n",
    "    try:\n",
    "        df = pd.read_csv(PATH + ticker + '.csv', index_col='Date', \n",
    "                         parse_dates=True)\n",
    "    except FileNotFoundError:\n",
    "        pass\n",
    "        # print(\"File Doesn't Exist\")\n",
    "    else:\n",
    "        return df"
   ]
  },
  {
   "cell_type": "code",
   "execution_count": 6,
   "id": "baa2a491",
   "metadata": {},
   "outputs": [],
   "source": [
    "def merge_df_by_column_name(col_name, sdate, edate, *tickers):\n",
    "    # Will hold data for all dataframes with the same column name\n",
    "    mult_df = pd.DataFrame()\n",
    "    \n",
    "    for x in tickers:\n",
    "        df = get_df_from_csv(x)\n",
    "        mask = (df.index >= sdate) & (df.index <= edate)\n",
    "        mult_df[x] = df.loc[mask][col_name]\n",
    "        \n",
    "    return mult_df"
   ]
  },
  {
   "cell_type": "code",
   "execution_count": 7,
   "id": "4ea6fc04",
   "metadata": {},
   "outputs": [],
   "source": [
    "#port_list = ['GNRC','DXCM','AMD','NFLX','COST','TGT','AES','MSCI','NEM','AMT','HES']"
   ]
  },
  {
   "cell_type": "code",
   "execution_count": 8,
   "id": "ff5012b8",
   "metadata": {},
   "outputs": [
    {
     "data": {
      "text/plain": [
       "11"
      ]
     },
     "execution_count": 8,
     "metadata": {},
     "output_type": "execute_result"
    }
   ],
   "source": [
    "port_list = [\"GNRC\",'CPRT','ODFL',\"AMD\", \"PAYC\",\"CHTR\",\n",
    "            \"MKC\", \"PG\",\n",
    "            \"PGR\",'NEM','CCI'\n",
    "            ]\n",
    "num_stocks = len(port_list)\n",
    "num_stocks"
   ]
  },
  {
   "cell_type": "code",
   "execution_count": 9,
   "id": "24c7e38d",
   "metadata": {},
   "outputs": [
    {
     "data": {
      "text/html": [
       "<div>\n",
       "<style scoped>\n",
       "    .dataframe tbody tr th:only-of-type {\n",
       "        vertical-align: middle;\n",
       "    }\n",
       "\n",
       "    .dataframe tbody tr th {\n",
       "        vertical-align: top;\n",
       "    }\n",
       "\n",
       "    .dataframe thead th {\n",
       "        text-align: right;\n",
       "    }\n",
       "</style>\n",
       "<table border=\"1\" class=\"dataframe\">\n",
       "  <thead>\n",
       "    <tr style=\"text-align: right;\">\n",
       "      <th></th>\n",
       "      <th>GNRC</th>\n",
       "      <th>CPRT</th>\n",
       "      <th>ODFL</th>\n",
       "      <th>AMD</th>\n",
       "      <th>PAYC</th>\n",
       "      <th>CHTR</th>\n",
       "      <th>MKC</th>\n",
       "      <th>PG</th>\n",
       "      <th>PGR</th>\n",
       "      <th>NEM</th>\n",
       "      <th>CCI</th>\n",
       "    </tr>\n",
       "    <tr>\n",
       "      <th>Date</th>\n",
       "      <th></th>\n",
       "      <th></th>\n",
       "      <th></th>\n",
       "      <th></th>\n",
       "      <th></th>\n",
       "      <th></th>\n",
       "      <th></th>\n",
       "      <th></th>\n",
       "      <th></th>\n",
       "      <th></th>\n",
       "      <th></th>\n",
       "    </tr>\n",
       "  </thead>\n",
       "  <tbody>\n",
       "    <tr>\n",
       "      <th>2018-01-02</th>\n",
       "      <td>48.029999</td>\n",
       "      <td>43.599998</td>\n",
       "      <td>88.341873</td>\n",
       "      <td>10.980000</td>\n",
       "      <td>80.440002</td>\n",
       "      <td>348.970001</td>\n",
       "      <td>47.579823</td>\n",
       "      <td>80.641121</td>\n",
       "      <td>46.956581</td>\n",
       "      <td>34.176991</td>\n",
       "      <td>95.263092</td>\n",
       "    </tr>\n",
       "    <tr>\n",
       "      <th>2018-01-03</th>\n",
       "      <td>49.730000</td>\n",
       "      <td>43.389999</td>\n",
       "      <td>88.433861</td>\n",
       "      <td>11.550000</td>\n",
       "      <td>81.029999</td>\n",
       "      <td>353.029999</td>\n",
       "      <td>47.692631</td>\n",
       "      <td>80.543282</td>\n",
       "      <td>46.931129</td>\n",
       "      <td>33.890396</td>\n",
       "      <td>94.860809</td>\n",
       "    </tr>\n",
       "    <tr>\n",
       "      <th>2018-01-04</th>\n",
       "      <td>50.070000</td>\n",
       "      <td>43.740002</td>\n",
       "      <td>88.952980</td>\n",
       "      <td>12.120000</td>\n",
       "      <td>83.110001</td>\n",
       "      <td>349.790009</td>\n",
       "      <td>47.993431</td>\n",
       "      <td>81.112595</td>\n",
       "      <td>46.922638</td>\n",
       "      <td>34.266548</td>\n",
       "      <td>93.758881</td>\n",
       "    </tr>\n",
       "    <tr>\n",
       "      <th>2018-01-05</th>\n",
       "      <td>50.410000</td>\n",
       "      <td>43.529999</td>\n",
       "      <td>89.761230</td>\n",
       "      <td>11.880000</td>\n",
       "      <td>83.879997</td>\n",
       "      <td>350.880005</td>\n",
       "      <td>48.463459</td>\n",
       "      <td>81.165970</td>\n",
       "      <td>47.100765</td>\n",
       "      <td>34.391945</td>\n",
       "      <td>94.476028</td>\n",
       "    </tr>\n",
       "    <tr>\n",
       "      <th>2018-01-08</th>\n",
       "      <td>49.529999</td>\n",
       "      <td>43.549999</td>\n",
       "      <td>90.654900</td>\n",
       "      <td>12.280000</td>\n",
       "      <td>84.639999</td>\n",
       "      <td>356.549988</td>\n",
       "      <td>48.515163</td>\n",
       "      <td>81.592972</td>\n",
       "      <td>47.244961</td>\n",
       "      <td>34.356113</td>\n",
       "      <td>94.755859</td>\n",
       "    </tr>\n",
       "    <tr>\n",
       "      <th>...</th>\n",
       "      <td>...</td>\n",
       "      <td>...</td>\n",
       "      <td>...</td>\n",
       "      <td>...</td>\n",
       "      <td>...</td>\n",
       "      <td>...</td>\n",
       "      <td>...</td>\n",
       "      <td>...</td>\n",
       "      <td>...</td>\n",
       "      <td>...</td>\n",
       "      <td>...</td>\n",
       "    </tr>\n",
       "    <tr>\n",
       "      <th>2022-01-19</th>\n",
       "      <td>291.359985</td>\n",
       "      <td>131.899994</td>\n",
       "      <td>312.429993</td>\n",
       "      <td>128.270004</td>\n",
       "      <td>329.760010</td>\n",
       "      <td>581.299988</td>\n",
       "      <td>96.059998</td>\n",
       "      <td>161.130005</td>\n",
       "      <td>107.629997</td>\n",
       "      <td>64.949997</td>\n",
       "      <td>183.190002</td>\n",
       "    </tr>\n",
       "    <tr>\n",
       "      <th>2022-01-20</th>\n",
       "      <td>284.109985</td>\n",
       "      <td>128.399994</td>\n",
       "      <td>306.989990</td>\n",
       "      <td>121.889999</td>\n",
       "      <td>328.269989</td>\n",
       "      <td>572.159973</td>\n",
       "      <td>95.339996</td>\n",
       "      <td>162.000000</td>\n",
       "      <td>107.169998</td>\n",
       "      <td>63.840000</td>\n",
       "      <td>181.649994</td>\n",
       "    </tr>\n",
       "    <tr>\n",
       "      <th>2022-01-21</th>\n",
       "      <td>271.160004</td>\n",
       "      <td>126.690002</td>\n",
       "      <td>296.809998</td>\n",
       "      <td>118.809998</td>\n",
       "      <td>310.000000</td>\n",
       "      <td>569.690002</td>\n",
       "      <td>95.709999</td>\n",
       "      <td>162.619995</td>\n",
       "      <td>108.019997</td>\n",
       "      <td>63.090000</td>\n",
       "      <td>182.250000</td>\n",
       "    </tr>\n",
       "    <tr>\n",
       "      <th>2022-01-24</th>\n",
       "      <td>286.190002</td>\n",
       "      <td>129.419998</td>\n",
       "      <td>309.049988</td>\n",
       "      <td>116.529999</td>\n",
       "      <td>326.290009</td>\n",
       "      <td>577.130005</td>\n",
       "      <td>94.169998</td>\n",
       "      <td>161.300003</td>\n",
       "      <td>109.879997</td>\n",
       "      <td>63.080002</td>\n",
       "      <td>183.610001</td>\n",
       "    </tr>\n",
       "    <tr>\n",
       "      <th>2022-01-25</th>\n",
       "      <td>276.320007</td>\n",
       "      <td>127.089996</td>\n",
       "      <td>299.970001</td>\n",
       "      <td>111.129997</td>\n",
       "      <td>304.670013</td>\n",
       "      <td>563.539978</td>\n",
       "      <td>93.019997</td>\n",
       "      <td>159.539993</td>\n",
       "      <td>109.300003</td>\n",
       "      <td>63.290001</td>\n",
       "      <td>182.179993</td>\n",
       "    </tr>\n",
       "  </tbody>\n",
       "</table>\n",
       "<p>1024 rows × 11 columns</p>\n",
       "</div>"
      ],
      "text/plain": [
       "                  GNRC        CPRT        ODFL         AMD        PAYC  \\\n",
       "Date                                                                     \n",
       "2018-01-02   48.029999   43.599998   88.341873   10.980000   80.440002   \n",
       "2018-01-03   49.730000   43.389999   88.433861   11.550000   81.029999   \n",
       "2018-01-04   50.070000   43.740002   88.952980   12.120000   83.110001   \n",
       "2018-01-05   50.410000   43.529999   89.761230   11.880000   83.879997   \n",
       "2018-01-08   49.529999   43.549999   90.654900   12.280000   84.639999   \n",
       "...                ...         ...         ...         ...         ...   \n",
       "2022-01-19  291.359985  131.899994  312.429993  128.270004  329.760010   \n",
       "2022-01-20  284.109985  128.399994  306.989990  121.889999  328.269989   \n",
       "2022-01-21  271.160004  126.690002  296.809998  118.809998  310.000000   \n",
       "2022-01-24  286.190002  129.419998  309.049988  116.529999  326.290009   \n",
       "2022-01-25  276.320007  127.089996  299.970001  111.129997  304.670013   \n",
       "\n",
       "                  CHTR        MKC          PG         PGR        NEM  \\\n",
       "Date                                                                   \n",
       "2018-01-02  348.970001  47.579823   80.641121   46.956581  34.176991   \n",
       "2018-01-03  353.029999  47.692631   80.543282   46.931129  33.890396   \n",
       "2018-01-04  349.790009  47.993431   81.112595   46.922638  34.266548   \n",
       "2018-01-05  350.880005  48.463459   81.165970   47.100765  34.391945   \n",
       "2018-01-08  356.549988  48.515163   81.592972   47.244961  34.356113   \n",
       "...                ...        ...         ...         ...        ...   \n",
       "2022-01-19  581.299988  96.059998  161.130005  107.629997  64.949997   \n",
       "2022-01-20  572.159973  95.339996  162.000000  107.169998  63.840000   \n",
       "2022-01-21  569.690002  95.709999  162.619995  108.019997  63.090000   \n",
       "2022-01-24  577.130005  94.169998  161.300003  109.879997  63.080002   \n",
       "2022-01-25  563.539978  93.019997  159.539993  109.300003  63.290001   \n",
       "\n",
       "                   CCI  \n",
       "Date                    \n",
       "2018-01-02   95.263092  \n",
       "2018-01-03   94.860809  \n",
       "2018-01-04   93.758881  \n",
       "2018-01-05   94.476028  \n",
       "2018-01-08   94.755859  \n",
       "...                ...  \n",
       "2022-01-19  183.190002  \n",
       "2022-01-20  181.649994  \n",
       "2022-01-21  182.250000  \n",
       "2022-01-24  183.610001  \n",
       "2022-01-25  182.179993  \n",
       "\n",
       "[1024 rows x 11 columns]"
      ]
     },
     "execution_count": 9,
     "metadata": {},
     "output_type": "execute_result"
    }
   ],
   "source": [
    "mult_df = merge_df_by_column_name('Adj Close',  '2018-01-01', \n",
    "                                  '2022-02-04', *port_list)\n",
    "mult_df"
   ]
  },
  {
   "cell_type": "code",
   "execution_count": 10,
   "id": "f10d7771",
   "metadata": {},
   "outputs": [
    {
     "data": {
      "text/html": [
       "<div>\n",
       "<style scoped>\n",
       "    .dataframe tbody tr th:only-of-type {\n",
       "        vertical-align: middle;\n",
       "    }\n",
       "\n",
       "    .dataframe tbody tr th {\n",
       "        vertical-align: top;\n",
       "    }\n",
       "\n",
       "    .dataframe thead th {\n",
       "        text-align: right;\n",
       "    }\n",
       "</style>\n",
       "<table border=\"1\" class=\"dataframe\">\n",
       "  <thead>\n",
       "    <tr style=\"text-align: right;\">\n",
       "      <th></th>\n",
       "      <th>GNRC</th>\n",
       "      <th>CPRT</th>\n",
       "      <th>ODFL</th>\n",
       "      <th>AMD</th>\n",
       "      <th>PAYC</th>\n",
       "      <th>CHTR</th>\n",
       "      <th>MKC</th>\n",
       "      <th>PG</th>\n",
       "      <th>PGR</th>\n",
       "      <th>NEM</th>\n",
       "      <th>CCI</th>\n",
       "    </tr>\n",
       "    <tr>\n",
       "      <th>Date</th>\n",
       "      <th></th>\n",
       "      <th></th>\n",
       "      <th></th>\n",
       "      <th></th>\n",
       "      <th></th>\n",
       "      <th></th>\n",
       "      <th></th>\n",
       "      <th></th>\n",
       "      <th></th>\n",
       "      <th></th>\n",
       "      <th></th>\n",
       "    </tr>\n",
       "  </thead>\n",
       "  <tbody>\n",
       "    <tr>\n",
       "      <th>2018-01-02</th>\n",
       "      <td>1.000000</td>\n",
       "      <td>1.000000</td>\n",
       "      <td>1.000000</td>\n",
       "      <td>1.000000</td>\n",
       "      <td>1.000000</td>\n",
       "      <td>1.000000</td>\n",
       "      <td>1.000000</td>\n",
       "      <td>1.000000</td>\n",
       "      <td>1.000000</td>\n",
       "      <td>1.000000</td>\n",
       "      <td>1.000000</td>\n",
       "    </tr>\n",
       "    <tr>\n",
       "      <th>2018-01-03</th>\n",
       "      <td>1.035395</td>\n",
       "      <td>0.995184</td>\n",
       "      <td>1.001041</td>\n",
       "      <td>1.051913</td>\n",
       "      <td>1.007335</td>\n",
       "      <td>1.011634</td>\n",
       "      <td>1.002371</td>\n",
       "      <td>0.998787</td>\n",
       "      <td>0.999458</td>\n",
       "      <td>0.991614</td>\n",
       "      <td>0.995777</td>\n",
       "    </tr>\n",
       "    <tr>\n",
       "      <th>2018-01-04</th>\n",
       "      <td>1.042473</td>\n",
       "      <td>1.003211</td>\n",
       "      <td>1.006918</td>\n",
       "      <td>1.103825</td>\n",
       "      <td>1.033192</td>\n",
       "      <td>1.002350</td>\n",
       "      <td>1.008693</td>\n",
       "      <td>1.005847</td>\n",
       "      <td>0.999277</td>\n",
       "      <td>1.002620</td>\n",
       "      <td>0.984210</td>\n",
       "    </tr>\n",
       "    <tr>\n",
       "      <th>2018-01-05</th>\n",
       "      <td>1.049552</td>\n",
       "      <td>0.998395</td>\n",
       "      <td>1.016067</td>\n",
       "      <td>1.081967</td>\n",
       "      <td>1.042765</td>\n",
       "      <td>1.005473</td>\n",
       "      <td>1.018572</td>\n",
       "      <td>1.006508</td>\n",
       "      <td>1.003071</td>\n",
       "      <td>1.006289</td>\n",
       "      <td>0.991738</td>\n",
       "    </tr>\n",
       "    <tr>\n",
       "      <th>2018-01-08</th>\n",
       "      <td>1.031230</td>\n",
       "      <td>0.998853</td>\n",
       "      <td>1.026183</td>\n",
       "      <td>1.118397</td>\n",
       "      <td>1.052213</td>\n",
       "      <td>1.021721</td>\n",
       "      <td>1.019658</td>\n",
       "      <td>1.011804</td>\n",
       "      <td>1.006141</td>\n",
       "      <td>1.005241</td>\n",
       "      <td>0.994675</td>\n",
       "    </tr>\n",
       "    <tr>\n",
       "      <th>...</th>\n",
       "      <td>...</td>\n",
       "      <td>...</td>\n",
       "      <td>...</td>\n",
       "      <td>...</td>\n",
       "      <td>...</td>\n",
       "      <td>...</td>\n",
       "      <td>...</td>\n",
       "      <td>...</td>\n",
       "      <td>...</td>\n",
       "      <td>...</td>\n",
       "      <td>...</td>\n",
       "    </tr>\n",
       "    <tr>\n",
       "      <th>2022-01-19</th>\n",
       "      <td>6.066208</td>\n",
       "      <td>3.025229</td>\n",
       "      <td>3.536601</td>\n",
       "      <td>11.682150</td>\n",
       "      <td>4.099453</td>\n",
       "      <td>1.665759</td>\n",
       "      <td>2.018923</td>\n",
       "      <td>1.998112</td>\n",
       "      <td>2.292117</td>\n",
       "      <td>1.900401</td>\n",
       "      <td>1.922990</td>\n",
       "    </tr>\n",
       "    <tr>\n",
       "      <th>2022-01-20</th>\n",
       "      <td>5.915261</td>\n",
       "      <td>2.944954</td>\n",
       "      <td>3.475022</td>\n",
       "      <td>11.101093</td>\n",
       "      <td>4.080930</td>\n",
       "      <td>1.639568</td>\n",
       "      <td>2.003790</td>\n",
       "      <td>2.008901</td>\n",
       "      <td>2.282321</td>\n",
       "      <td>1.867923</td>\n",
       "      <td>1.906824</td>\n",
       "    </tr>\n",
       "    <tr>\n",
       "      <th>2022-01-21</th>\n",
       "      <td>5.645638</td>\n",
       "      <td>2.905734</td>\n",
       "      <td>3.359788</td>\n",
       "      <td>10.820583</td>\n",
       "      <td>3.853804</td>\n",
       "      <td>1.632490</td>\n",
       "      <td>2.011567</td>\n",
       "      <td>2.016589</td>\n",
       "      <td>2.300423</td>\n",
       "      <td>1.845979</td>\n",
       "      <td>1.913123</td>\n",
       "    </tr>\n",
       "    <tr>\n",
       "      <th>2022-01-24</th>\n",
       "      <td>5.958568</td>\n",
       "      <td>2.968349</td>\n",
       "      <td>3.498341</td>\n",
       "      <td>10.612933</td>\n",
       "      <td>4.056315</td>\n",
       "      <td>1.653810</td>\n",
       "      <td>1.979200</td>\n",
       "      <td>2.000220</td>\n",
       "      <td>2.340034</td>\n",
       "      <td>1.845686</td>\n",
       "      <td>1.927399</td>\n",
       "    </tr>\n",
       "    <tr>\n",
       "      <th>2022-01-25</th>\n",
       "      <td>5.753071</td>\n",
       "      <td>2.914908</td>\n",
       "      <td>3.395559</td>\n",
       "      <td>10.121129</td>\n",
       "      <td>3.787544</td>\n",
       "      <td>1.614867</td>\n",
       "      <td>1.955030</td>\n",
       "      <td>1.978395</td>\n",
       "      <td>2.327682</td>\n",
       "      <td>1.851831</td>\n",
       "      <td>1.912388</td>\n",
       "    </tr>\n",
       "  </tbody>\n",
       "</table>\n",
       "<p>1024 rows × 11 columns</p>\n",
       "</div>"
      ],
      "text/plain": [
       "                GNRC      CPRT      ODFL        AMD      PAYC      CHTR  \\\n",
       "Date                                                                      \n",
       "2018-01-02  1.000000  1.000000  1.000000   1.000000  1.000000  1.000000   \n",
       "2018-01-03  1.035395  0.995184  1.001041   1.051913  1.007335  1.011634   \n",
       "2018-01-04  1.042473  1.003211  1.006918   1.103825  1.033192  1.002350   \n",
       "2018-01-05  1.049552  0.998395  1.016067   1.081967  1.042765  1.005473   \n",
       "2018-01-08  1.031230  0.998853  1.026183   1.118397  1.052213  1.021721   \n",
       "...              ...       ...       ...        ...       ...       ...   \n",
       "2022-01-19  6.066208  3.025229  3.536601  11.682150  4.099453  1.665759   \n",
       "2022-01-20  5.915261  2.944954  3.475022  11.101093  4.080930  1.639568   \n",
       "2022-01-21  5.645638  2.905734  3.359788  10.820583  3.853804  1.632490   \n",
       "2022-01-24  5.958568  2.968349  3.498341  10.612933  4.056315  1.653810   \n",
       "2022-01-25  5.753071  2.914908  3.395559  10.121129  3.787544  1.614867   \n",
       "\n",
       "                 MKC        PG       PGR       NEM       CCI  \n",
       "Date                                                          \n",
       "2018-01-02  1.000000  1.000000  1.000000  1.000000  1.000000  \n",
       "2018-01-03  1.002371  0.998787  0.999458  0.991614  0.995777  \n",
       "2018-01-04  1.008693  1.005847  0.999277  1.002620  0.984210  \n",
       "2018-01-05  1.018572  1.006508  1.003071  1.006289  0.991738  \n",
       "2018-01-08  1.019658  1.011804  1.006141  1.005241  0.994675  \n",
       "...              ...       ...       ...       ...       ...  \n",
       "2022-01-19  2.018923  1.998112  2.292117  1.900401  1.922990  \n",
       "2022-01-20  2.003790  2.008901  2.282321  1.867923  1.906824  \n",
       "2022-01-21  2.011567  2.016589  2.300423  1.845979  1.913123  \n",
       "2022-01-24  1.979200  2.000220  2.340034  1.845686  1.927399  \n",
       "2022-01-25  1.955030  1.978395  2.327682  1.851831  1.912388  \n",
       "\n",
       "[1024 rows x 11 columns]"
      ]
     },
     "execution_count": 10,
     "metadata": {},
     "output_type": "execute_result"
    }
   ],
   "source": [
    "mult_df/mult_df.iloc[0]"
   ]
  },
  {
   "cell_type": "code",
   "execution_count": 11,
   "id": "94947117",
   "metadata": {},
   "outputs": [
    {
     "data": {
      "text/plain": [
       "1.0353945666332411"
      ]
     },
     "execution_count": 11,
     "metadata": {},
     "output_type": "execute_result"
    }
   ],
   "source": [
    "49.730000/48.029999"
   ]
  },
  {
   "cell_type": "code",
   "execution_count": 12,
   "id": "a527c167",
   "metadata": {},
   "outputs": [
    {
     "data": {
      "text/plain": [
       "1.0424734757958252"
      ]
     },
     "execution_count": 12,
     "metadata": {},
     "output_type": "execute_result"
    }
   ],
   "source": [
    "50.070000/48.029999"
   ]
  },
  {
   "cell_type": "code",
   "execution_count": 13,
   "id": "50926813",
   "metadata": {},
   "outputs": [
    {
     "data": {
      "image/png": "[encoded data removed]",
      "text/plain": [
       "<Figure size 1152x648 with 1 Axes>"
      ]
     },
     "metadata": {
      "needs_background": "light"
     },
     "output_type": "display_data"
    }
   ],
   "source": [
    "(mult_df / mult_df.iloc[0] * 100).plot(figsize=(16, 9))\n",
    "plt.show()"
   ]
  },
  {
   "cell_type": "code",
   "execution_count": 14,
   "id": "01f8a0cc",
   "metadata": {},
   "outputs": [
    {
     "data": {
      "text/plain": [
       "GNRC    0.431019\n",
       "CPRT    0.263538\n",
       "ODFL    0.301136\n",
       "AMD     0.570172\n",
       "PAYC    0.328048\n",
       "CHTR    0.118056\n",
       "MKC     0.165144\n",
       "PG      0.168070\n",
       "PGR     0.208121\n",
       "NEM     0.151785\n",
       "CCI     0.159712\n",
       "dtype: float64"
      ]
     },
     "execution_count": 14,
     "metadata": {},
     "output_type": "execute_result"
    }
   ],
   "source": [
    "#Mean Return\n",
    "returns=np.log(mult_df/mult_df.shift(1))\n",
    "mean_ret = returns.mean() * 252#252 annual trading days\n",
    "mean_ret#it could be go up or down by 60%"
   ]
  },
  {
   "cell_type": "code",
   "execution_count": 15,
   "id": "1c3bf2b8",
   "metadata": {},
   "outputs": [
    {
     "data": {
      "text/html": [
       "<div>\n",
       "<style scoped>\n",
       "    .dataframe tbody tr th:only-of-type {\n",
       "        vertical-align: middle;\n",
       "    }\n",
       "\n",
       "    .dataframe tbody tr th {\n",
       "        vertical-align: top;\n",
       "    }\n",
       "\n",
       "    .dataframe thead th {\n",
       "        text-align: right;\n",
       "    }\n",
       "</style>\n",
       "<table border=\"1\" class=\"dataframe\">\n",
       "  <thead>\n",
       "    <tr style=\"text-align: right;\">\n",
       "      <th></th>\n",
       "      <th>GNRC</th>\n",
       "      <th>CPRT</th>\n",
       "      <th>ODFL</th>\n",
       "      <th>AMD</th>\n",
       "      <th>PAYC</th>\n",
       "      <th>CHTR</th>\n",
       "      <th>MKC</th>\n",
       "      <th>PG</th>\n",
       "      <th>PGR</th>\n",
       "      <th>NEM</th>\n",
       "      <th>CCI</th>\n",
       "    </tr>\n",
       "  </thead>\n",
       "  <tbody>\n",
       "    <tr>\n",
       "      <th>GNRC</th>\n",
       "      <td>0.159099</td>\n",
       "      <td>0.059915</td>\n",
       "      <td>0.058104</td>\n",
       "      <td>0.086661</td>\n",
       "      <td>0.088167</td>\n",
       "      <td>0.040792</td>\n",
       "      <td>0.029436</td>\n",
       "      <td>0.025795</td>\n",
       "      <td>0.038117</td>\n",
       "      <td>0.022074</td>\n",
       "      <td>0.041262</td>\n",
       "    </tr>\n",
       "    <tr>\n",
       "      <th>CPRT</th>\n",
       "      <td>0.059915</td>\n",
       "      <td>0.097475</td>\n",
       "      <td>0.050601</td>\n",
       "      <td>0.067258</td>\n",
       "      <td>0.084222</td>\n",
       "      <td>0.036823</td>\n",
       "      <td>0.026740</td>\n",
       "      <td>0.024575</td>\n",
       "      <td>0.029365</td>\n",
       "      <td>0.015413</td>\n",
       "      <td>0.033523</td>\n",
       "    </tr>\n",
       "    <tr>\n",
       "      <th>ODFL</th>\n",
       "      <td>0.058104</td>\n",
       "      <td>0.050601</td>\n",
       "      <td>0.098081</td>\n",
       "      <td>0.063665</td>\n",
       "      <td>0.062091</td>\n",
       "      <td>0.032967</td>\n",
       "      <td>0.026423</td>\n",
       "      <td>0.022195</td>\n",
       "      <td>0.035285</td>\n",
       "      <td>0.013992</td>\n",
       "      <td>0.030085</td>\n",
       "    </tr>\n",
       "    <tr>\n",
       "      <th>AMD</th>\n",
       "      <td>0.086661</td>\n",
       "      <td>0.067258</td>\n",
       "      <td>0.063665</td>\n",
       "      <td>0.305073</td>\n",
       "      <td>0.114230</td>\n",
       "      <td>0.053605</td>\n",
       "      <td>0.031146</td>\n",
       "      <td>0.027964</td>\n",
       "      <td>0.040401</td>\n",
       "      <td>0.029445</td>\n",
       "      <td>0.040893</td>\n",
       "    </tr>\n",
       "    <tr>\n",
       "      <th>PAYC</th>\n",
       "      <td>0.088167</td>\n",
       "      <td>0.084222</td>\n",
       "      <td>0.062091</td>\n",
       "      <td>0.114230</td>\n",
       "      <td>0.220489</td>\n",
       "      <td>0.049372</td>\n",
       "      <td>0.037211</td>\n",
       "      <td>0.030485</td>\n",
       "      <td>0.050533</td>\n",
       "      <td>0.019492</td>\n",
       "      <td>0.056496</td>\n",
       "    </tr>\n",
       "    <tr>\n",
       "      <th>CHTR</th>\n",
       "      <td>0.040792</td>\n",
       "      <td>0.036823</td>\n",
       "      <td>0.032967</td>\n",
       "      <td>0.053605</td>\n",
       "      <td>0.049372</td>\n",
       "      <td>0.083678</td>\n",
       "      <td>0.022395</td>\n",
       "      <td>0.024152</td>\n",
       "      <td>0.027292</td>\n",
       "      <td>0.014724</td>\n",
       "      <td>0.034052</td>\n",
       "    </tr>\n",
       "    <tr>\n",
       "      <th>MKC</th>\n",
       "      <td>0.029436</td>\n",
       "      <td>0.026740</td>\n",
       "      <td>0.026423</td>\n",
       "      <td>0.031146</td>\n",
       "      <td>0.037211</td>\n",
       "      <td>0.022395</td>\n",
       "      <td>0.064181</td>\n",
       "      <td>0.031992</td>\n",
       "      <td>0.028917</td>\n",
       "      <td>0.018393</td>\n",
       "      <td>0.036963</td>\n",
       "    </tr>\n",
       "    <tr>\n",
       "      <th>PG</th>\n",
       "      <td>0.025795</td>\n",
       "      <td>0.024575</td>\n",
       "      <td>0.022195</td>\n",
       "      <td>0.027964</td>\n",
       "      <td>0.030485</td>\n",
       "      <td>0.024152</td>\n",
       "      <td>0.031992</td>\n",
       "      <td>0.047254</td>\n",
       "      <td>0.028067</td>\n",
       "      <td>0.012404</td>\n",
       "      <td>0.032187</td>\n",
       "    </tr>\n",
       "    <tr>\n",
       "      <th>PGR</th>\n",
       "      <td>0.038117</td>\n",
       "      <td>0.029365</td>\n",
       "      <td>0.035285</td>\n",
       "      <td>0.040401</td>\n",
       "      <td>0.050533</td>\n",
       "      <td>0.027292</td>\n",
       "      <td>0.028917</td>\n",
       "      <td>0.028067</td>\n",
       "      <td>0.070780</td>\n",
       "      <td>0.012854</td>\n",
       "      <td>0.033829</td>\n",
       "    </tr>\n",
       "    <tr>\n",
       "      <th>NEM</th>\n",
       "      <td>0.022074</td>\n",
       "      <td>0.015413</td>\n",
       "      <td>0.013992</td>\n",
       "      <td>0.029445</td>\n",
       "      <td>0.019492</td>\n",
       "      <td>0.014724</td>\n",
       "      <td>0.018393</td>\n",
       "      <td>0.012404</td>\n",
       "      <td>0.012854</td>\n",
       "      <td>0.103916</td>\n",
       "      <td>0.019355</td>\n",
       "    </tr>\n",
       "    <tr>\n",
       "      <th>CCI</th>\n",
       "      <td>0.041262</td>\n",
       "      <td>0.033523</td>\n",
       "      <td>0.030085</td>\n",
       "      <td>0.040893</td>\n",
       "      <td>0.056496</td>\n",
       "      <td>0.034052</td>\n",
       "      <td>0.036963</td>\n",
       "      <td>0.032187</td>\n",
       "      <td>0.033829</td>\n",
       "      <td>0.019355</td>\n",
       "      <td>0.074907</td>\n",
       "    </tr>\n",
       "  </tbody>\n",
       "</table>\n",
       "</div>"
      ],
      "text/plain": [
       "          GNRC      CPRT      ODFL       AMD      PAYC      CHTR       MKC  \\\n",
       "GNRC  0.159099  0.059915  0.058104  0.086661  0.088167  0.040792  0.029436   \n",
       "CPRT  0.059915  0.097475  0.050601  0.067258  0.084222  0.036823  0.026740   \n",
       "ODFL  0.058104  0.050601  0.098081  0.063665  0.062091  0.032967  0.026423   \n",
       "AMD   0.086661  0.067258  0.063665  0.305073  0.114230  0.053605  0.031146   \n",
       "PAYC  0.088167  0.084222  0.062091  0.114230  0.220489  0.049372  0.037211   \n",
       "CHTR  0.040792  0.036823  0.032967  0.053605  0.049372  0.083678  0.022395   \n",
       "MKC   0.029436  0.026740  0.026423  0.031146  0.037211  0.022395  0.064181   \n",
       "PG    0.025795  0.024575  0.022195  0.027964  0.030485  0.024152  0.031992   \n",
       "PGR   0.038117  0.029365  0.035285  0.040401  0.050533  0.027292  0.028917   \n",
       "NEM   0.022074  0.015413  0.013992  0.029445  0.019492  0.014724  0.018393   \n",
       "CCI   0.041262  0.033523  0.030085  0.040893  0.056496  0.034052  0.036963   \n",
       "\n",
       "            PG       PGR       NEM       CCI  \n",
       "GNRC  0.025795  0.038117  0.022074  0.041262  \n",
       "CPRT  0.024575  0.029365  0.015413  0.033523  \n",
       "ODFL  0.022195  0.035285  0.013992  0.030085  \n",
       "AMD   0.027964  0.040401  0.029445  0.040893  \n",
       "PAYC  0.030485  0.050533  0.019492  0.056496  \n",
       "CHTR  0.024152  0.027292  0.014724  0.034052  \n",
       "MKC   0.031992  0.028917  0.018393  0.036963  \n",
       "PG    0.047254  0.028067  0.012404  0.032187  \n",
       "PGR   0.028067  0.070780  0.012854  0.033829  \n",
       "NEM   0.012404  0.012854  0.103916  0.019355  \n",
       "CCI   0.032187  0.033829  0.019355  0.074907  "
      ]
     },
     "execution_count": 15,
     "metadata": {},
     "output_type": "execute_result"
    }
   ],
   "source": [
    "#Returns covariance \n",
    "returns.cov()*252"
   ]
  },
  {
   "cell_type": "code",
   "execution_count": 16,
   "id": "abba9a34",
   "metadata": {},
   "outputs": [
    {
     "data": {
      "text/html": [
       "<div>\n",
       "<style scoped>\n",
       "    .dataframe tbody tr th:only-of-type {\n",
       "        vertical-align: middle;\n",
       "    }\n",
       "\n",
       "    .dataframe tbody tr th {\n",
       "        vertical-align: top;\n",
       "    }\n",
       "\n",
       "    .dataframe thead th {\n",
       "        text-align: right;\n",
       "    }\n",
       "</style>\n",
       "<table border=\"1\" class=\"dataframe\">\n",
       "  <thead>\n",
       "    <tr style=\"text-align: right;\">\n",
       "      <th></th>\n",
       "      <th>GNRC</th>\n",
       "      <th>CPRT</th>\n",
       "      <th>ODFL</th>\n",
       "      <th>AMD</th>\n",
       "      <th>PAYC</th>\n",
       "      <th>CHTR</th>\n",
       "      <th>MKC</th>\n",
       "      <th>PG</th>\n",
       "      <th>PGR</th>\n",
       "      <th>NEM</th>\n",
       "      <th>CCI</th>\n",
       "    </tr>\n",
       "  </thead>\n",
       "  <tbody>\n",
       "    <tr>\n",
       "      <th>GNRC</th>\n",
       "      <td>1.000000</td>\n",
       "      <td>0.481122</td>\n",
       "      <td>0.465132</td>\n",
       "      <td>0.393360</td>\n",
       "      <td>0.470740</td>\n",
       "      <td>0.353539</td>\n",
       "      <td>0.291299</td>\n",
       "      <td>0.297501</td>\n",
       "      <td>0.359192</td>\n",
       "      <td>0.171674</td>\n",
       "      <td>0.377973</td>\n",
       "    </tr>\n",
       "    <tr>\n",
       "      <th>CPRT</th>\n",
       "      <td>0.481122</td>\n",
       "      <td>1.000000</td>\n",
       "      <td>0.517514</td>\n",
       "      <td>0.390025</td>\n",
       "      <td>0.574491</td>\n",
       "      <td>0.407729</td>\n",
       "      <td>0.338078</td>\n",
       "      <td>0.362094</td>\n",
       "      <td>0.353530</td>\n",
       "      <td>0.153143</td>\n",
       "      <td>0.392318</td>\n",
       "    </tr>\n",
       "    <tr>\n",
       "      <th>ODFL</th>\n",
       "      <td>0.465132</td>\n",
       "      <td>0.517514</td>\n",
       "      <td>1.000000</td>\n",
       "      <td>0.368050</td>\n",
       "      <td>0.422223</td>\n",
       "      <td>0.363903</td>\n",
       "      <td>0.333028</td>\n",
       "      <td>0.326022</td>\n",
       "      <td>0.423483</td>\n",
       "      <td>0.138593</td>\n",
       "      <td>0.350994</td>\n",
       "    </tr>\n",
       "    <tr>\n",
       "      <th>AMD</th>\n",
       "      <td>0.393360</td>\n",
       "      <td>0.390025</td>\n",
       "      <td>0.368050</td>\n",
       "      <td>1.000000</td>\n",
       "      <td>0.440438</td>\n",
       "      <td>0.335503</td>\n",
       "      <td>0.222583</td>\n",
       "      <td>0.232901</td>\n",
       "      <td>0.274941</td>\n",
       "      <td>0.165376</td>\n",
       "      <td>0.270513</td>\n",
       "    </tr>\n",
       "    <tr>\n",
       "      <th>PAYC</th>\n",
       "      <td>0.470740</td>\n",
       "      <td>0.574491</td>\n",
       "      <td>0.422223</td>\n",
       "      <td>0.440438</td>\n",
       "      <td>1.000000</td>\n",
       "      <td>0.363478</td>\n",
       "      <td>0.312803</td>\n",
       "      <td>0.298656</td>\n",
       "      <td>0.404507</td>\n",
       "      <td>0.128769</td>\n",
       "      <td>0.439605</td>\n",
       "    </tr>\n",
       "    <tr>\n",
       "      <th>CHTR</th>\n",
       "      <td>0.353539</td>\n",
       "      <td>0.407729</td>\n",
       "      <td>0.363903</td>\n",
       "      <td>0.335503</td>\n",
       "      <td>0.363478</td>\n",
       "      <td>1.000000</td>\n",
       "      <td>0.305593</td>\n",
       "      <td>0.384076</td>\n",
       "      <td>0.354631</td>\n",
       "      <td>0.157893</td>\n",
       "      <td>0.430103</td>\n",
       "    </tr>\n",
       "    <tr>\n",
       "      <th>MKC</th>\n",
       "      <td>0.291299</td>\n",
       "      <td>0.338078</td>\n",
       "      <td>0.333028</td>\n",
       "      <td>0.222583</td>\n",
       "      <td>0.312803</td>\n",
       "      <td>0.305593</td>\n",
       "      <td>1.000000</td>\n",
       "      <td>0.580920</td>\n",
       "      <td>0.429034</td>\n",
       "      <td>0.225220</td>\n",
       "      <td>0.533092</td>\n",
       "    </tr>\n",
       "    <tr>\n",
       "      <th>PG</th>\n",
       "      <td>0.297501</td>\n",
       "      <td>0.362094</td>\n",
       "      <td>0.326022</td>\n",
       "      <td>0.232901</td>\n",
       "      <td>0.298656</td>\n",
       "      <td>0.384076</td>\n",
       "      <td>0.580920</td>\n",
       "      <td>1.000000</td>\n",
       "      <td>0.485316</td>\n",
       "      <td>0.177008</td>\n",
       "      <td>0.541005</td>\n",
       "    </tr>\n",
       "    <tr>\n",
       "      <th>PGR</th>\n",
       "      <td>0.359192</td>\n",
       "      <td>0.353530</td>\n",
       "      <td>0.423483</td>\n",
       "      <td>0.274941</td>\n",
       "      <td>0.404507</td>\n",
       "      <td>0.354631</td>\n",
       "      <td>0.429034</td>\n",
       "      <td>0.485316</td>\n",
       "      <td>1.000000</td>\n",
       "      <td>0.149878</td>\n",
       "      <td>0.464591</td>\n",
       "    </tr>\n",
       "    <tr>\n",
       "      <th>NEM</th>\n",
       "      <td>0.171674</td>\n",
       "      <td>0.153143</td>\n",
       "      <td>0.138593</td>\n",
       "      <td>0.165376</td>\n",
       "      <td>0.128769</td>\n",
       "      <td>0.157893</td>\n",
       "      <td>0.225220</td>\n",
       "      <td>0.177008</td>\n",
       "      <td>0.149878</td>\n",
       "      <td>1.000000</td>\n",
       "      <td>0.219377</td>\n",
       "    </tr>\n",
       "    <tr>\n",
       "      <th>CCI</th>\n",
       "      <td>0.377973</td>\n",
       "      <td>0.392318</td>\n",
       "      <td>0.350994</td>\n",
       "      <td>0.270513</td>\n",
       "      <td>0.439605</td>\n",
       "      <td>0.430103</td>\n",
       "      <td>0.533092</td>\n",
       "      <td>0.541005</td>\n",
       "      <td>0.464591</td>\n",
       "      <td>0.219377</td>\n",
       "      <td>1.000000</td>\n",
       "    </tr>\n",
       "  </tbody>\n",
       "</table>\n",
       "</div>"
      ],
      "text/plain": [
       "          GNRC      CPRT      ODFL       AMD      PAYC      CHTR       MKC  \\\n",
       "GNRC  1.000000  0.481122  0.465132  0.393360  0.470740  0.353539  0.291299   \n",
       "CPRT  0.481122  1.000000  0.517514  0.390025  0.574491  0.407729  0.338078   \n",
       "ODFL  0.465132  0.517514  1.000000  0.368050  0.422223  0.363903  0.333028   \n",
       "AMD   0.393360  0.390025  0.368050  1.000000  0.440438  0.335503  0.222583   \n",
       "PAYC  0.470740  0.574491  0.422223  0.440438  1.000000  0.363478  0.312803   \n",
       "CHTR  0.353539  0.407729  0.363903  0.335503  0.363478  1.000000  0.305593   \n",
       "MKC   0.291299  0.338078  0.333028  0.222583  0.312803  0.305593  1.000000   \n",
       "PG    0.297501  0.362094  0.326022  0.232901  0.298656  0.384076  0.580920   \n",
       "PGR   0.359192  0.353530  0.423483  0.274941  0.404507  0.354631  0.429034   \n",
       "NEM   0.171674  0.153143  0.138593  0.165376  0.128769  0.157893  0.225220   \n",
       "CCI   0.377973  0.392318  0.350994  0.270513  0.439605  0.430103  0.533092   \n",
       "\n",
       "            PG       PGR       NEM       CCI  \n",
       "GNRC  0.297501  0.359192  0.171674  0.377973  \n",
       "CPRT  0.362094  0.353530  0.153143  0.392318  \n",
       "ODFL  0.326022  0.423483  0.138593  0.350994  \n",
       "AMD   0.232901  0.274941  0.165376  0.270513  \n",
       "PAYC  0.298656  0.404507  0.128769  0.439605  \n",
       "CHTR  0.384076  0.354631  0.157893  0.430103  \n",
       "MKC   0.580920  0.429034  0.225220  0.533092  \n",
       "PG    1.000000  0.485316  0.177008  0.541005  \n",
       "PGR   0.485316  1.000000  0.149878  0.464591  \n",
       "NEM   0.177008  0.149878  1.000000  0.219377  \n",
       "CCI   0.541005  0.464591  0.219377  1.000000  "
      ]
     },
     "execution_count": 16,
     "metadata": {},
     "output_type": "execute_result"
    }
   ],
   "source": [
    "returns.corr()"
   ]
  },
  {
   "cell_type": "code",
   "execution_count": 17,
   "id": "ac3d58e0",
   "metadata": {},
   "outputs": [
    {
     "name": "stdout",
     "output_type": "stream",
     "text": [
      "Weights : [0.07912139 0.11789626 0.05882533 0.07944094 0.13543164 0.01727299\n",
      " 0.0705036  0.14520402 0.11206738 0.11463524 0.06960122]\n",
      "Totak Weights : 0.9999999999999999\n"
     ]
    }
   ],
   "source": [
    "#Generate random weights equal to 1\n",
    "weights = np.random.random(11)\n",
    "weights /= np.sum(weights)#Devide weight devided by weights ammount\n",
    "print('Weights :',weights)\n",
    "print('Totak Weights :',np.sum(weights))"
   ]
  },
  {
   "cell_type": "code",
   "execution_count": 18,
   "id": "1ce4cd9a",
   "metadata": {},
   "outputs": [
    {
     "data": {
      "text/plain": [
       "0.2625369747254849"
      ]
     },
     "execution_count": 18,
     "metadata": {},
     "output_type": "execute_result"
    }
   ],
   "source": [
    "#Calculate Return of our Portfolio\n",
    "np.sum(weights*returns.mean())*252"
   ]
  },
  {
   "cell_type": "code",
   "execution_count": 19,
   "id": "be972587",
   "metadata": {},
   "outputs": [
    {
     "data": {
      "text/plain": [
       "0.21630415376747575"
      ]
     },
     "execution_count": 19,
     "metadata": {},
     "output_type": "execute_result"
    }
   ],
   "source": [
    "# Calculate volatility or portfolio risk\n",
    "np.sqrt(np.dot(weights.T,np.dot(returns.cov()*252,weights)))"
   ]
  },
  {
   "cell_type": "code",
   "execution_count": 20,
   "id": "bbcef0a6",
   "metadata": {},
   "outputs": [
    {
     "data": {
      "text/plain": [
       "(array([0.26960008, 0.27168921, 0.23586565, ..., 0.25761119, 0.25676129,\n",
       "        0.24734464]),\n",
       " array([0.20926722, 0.22325485, 0.20441194, ..., 0.21837668, 0.22418099,\n",
       "        0.21992151]),\n",
       " array([1.22857312, 1.16095669, 1.09272311, ..., 1.12242385, 1.08957182,\n",
       "        1.06785661]),\n",
       " array([[0.14535629, 0.04696294, 0.10372849, ..., 0.06791303, 0.20952308,\n",
       "         0.02961696],\n",
       "        [0.03040814, 0.1528359 , 0.06259956, ..., 0.13509722, 0.14209963,\n",
       "         0.04080238],\n",
       "        [0.13727075, 0.07924567, 0.04251653, ..., 0.15483273, 0.0313636 ,\n",
       "         0.11115799],\n",
       "        ...,\n",
       "        [0.05227019, 0.03373524, 0.07622919, ..., 0.01461172, 0.15446805,\n",
       "         0.03880504],\n",
       "        [0.06050867, 0.06884711, 0.04431426, ..., 0.07666149, 0.14529842,\n",
       "         0.1370591 ],\n",
       "        [0.1204296 , 0.12707839, 0.01127814, ..., 0.12431501, 0.00792494,\n",
       "         0.14619118]]))"
      ]
     },
     "execution_count": 20,
     "metadata": {},
     "output_type": "execute_result"
    }
   ],
   "source": [
    "#Analyzing Return and risk of 20000 Combitations\n",
    "risk_free_rate = 0.0125\n",
    "p_ret = []#Return list\n",
    "p_vol = []#volatility list\n",
    "p_SR =[]#sharp ratio best return at lower risk\n",
    "p_wt =[]#weightings\n",
    "\n",
    "for x in range(20000):\n",
    "    # Generate random weights\n",
    "    p_weights = np.random.random(11)\n",
    "    p_weights /= np.sum(p_weights)\n",
    "    \n",
    "    # Add return using those weights to list\n",
    "    ret_1 = np.sum(p_weights * returns.mean()) * 252\n",
    "    p_ret.append(ret_1)\n",
    "    \n",
    "    # Add volatility or standard deviation to list\n",
    "    vol_1 = np.sqrt(np.dot(p_weights.T, np.dot(returns.cov() * 252, p_weights)))\n",
    "    p_vol.append(vol_1)\n",
    "    \n",
    "    # Get Sharpe ratio\n",
    "    SR_1 = (ret_1 - risk_free_rate) / vol_1\n",
    "    p_SR.append(SR_1)\n",
    "    \n",
    "    # Store the weights for each portfolio\n",
    "    p_wt.append(p_weights)\n",
    "    \n",
    "# Convert to Numpy arrays\n",
    "p_ret = np.array(p_ret)\n",
    "p_vol = np.array(p_vol)\n",
    "p_SR = np.array(p_SR)\n",
    "p_wt = np.array(p_wt)\n",
    "\n",
    "p_ret, p_vol, p_SR, p_wt"
   ]
  },
  {
   "cell_type": "code",
   "execution_count": 21,
   "id": "c7bf4259",
   "metadata": {},
   "outputs": [
    {
     "data": {
      "text/plain": [
       "20000"
      ]
     },
     "execution_count": 21,
     "metadata": {},
     "output_type": "execute_result"
    }
   ],
   "source": [
    "len(p_ret)"
   ]
  },
  {
   "cell_type": "code",
   "execution_count": 22,
   "id": "3c970260",
   "metadata": {},
   "outputs": [
    {
     "data": {
      "image/png": "[encoded data removed]",
      "text/plain": [
       "<Figure size 1152x648 with 1 Axes>"
      ]
     },
     "metadata": {
      "needs_background": "light"
     },
     "output_type": "display_data"
    }
   ],
   "source": [
    "ports = pd.DataFrame({'Return': p_ret, 'Volatility': p_vol})\n",
    "\n",
    "ports.plot(x='Volatility', y='Return', kind='scatter', figsize=(16, 9))\n",
    "plt.show()"
   ]
  },
  {
   "cell_type": "code",
   "execution_count": 23,
   "id": "f60b1ddd",
   "metadata": {},
   "outputs": [
    {
     "name": "stdout",
     "output_type": "stream",
     "text": [
      "Stock : GNRC : 18.33\n",
      "Stock : CPRT : 5.48\n",
      "Stock : ODFL : 15.04\n",
      "Stock : AMD : 17.55\n",
      "Stock : PAYC : 0.83\n",
      "Stock : CHTR : 2.98\n",
      "Stock : MKC : 6.06\n",
      "Stock : PG : 13.77\n",
      "Stock : PGR : 7.73\n",
      "Stock : NEM : 11.84\n",
      "Stock : CCI : 0.41\n",
      "\n",
      "Volatility : 0.2311767875735979\n",
      "\n",
      "Return : 0.3128734171457895\n"
     ]
    }
   ],
   "source": [
    "SR_index=np.argmax(p_SR)# which number index has maximum Sarp ratio\n",
    "i = 0\n",
    "while i < 11:\n",
    "    print('Stock : %s : %2.2f' %(port_list[i],(p_wt[SR_index][i]*100)))#port list = stocks tickers, p_weight\n",
    "    i += 1\n",
    "print('\\nVolatility :',p_vol[SR_index])\n",
    "print('\\nReturn :',p_ret[SR_index])"
   ]
  },
  {
   "cell_type": "code",
   "execution_count": 24,
   "id": "05cdaa29",
   "metadata": {},
   "outputs": [
    {
     "data": {
      "text/plain": [
       "100.00000000000001"
      ]
     },
     "execution_count": 24,
     "metadata": {},
     "output_type": "execute_result"
    }
   ],
   "source": [
    "26.63+14.69+1.09+1.09+19.19+23.95+1.95+5.12+5.59+0.35+0.35"
   ]
  },
  {
   "cell_type": "code",
   "execution_count": 25,
   "id": "020f9d61",
   "metadata": {},
   "outputs": [
    {
     "data": {
      "text/plain": [
       "20000"
      ]
     },
     "execution_count": 25,
     "metadata": {},
     "output_type": "execute_result"
    }
   ],
   "source": [
    "len(p_SR)"
   ]
  },
  {
   "cell_type": "code",
   "execution_count": 26,
   "id": "f60d8a1e",
   "metadata": {},
   "outputs": [
    {
     "data": {
      "text/plain": [
       "9363"
      ]
     },
     "execution_count": 26,
     "metadata": {},
     "output_type": "execute_result"
    }
   ],
   "source": [
    "SR_index"
   ]
  },
  {
   "cell_type": "code",
   "execution_count": 27,
   "id": "fba1ddbc",
   "metadata": {},
   "outputs": [
    {
     "data": {
      "text/plain": [
       "[0.1832768836555785,\n",
       " 0.05481958762681458,\n",
       " 0.1503838297723027,\n",
       " 0.1755222758256441,\n",
       " 0.00826769726841259,\n",
       " 0.029776805990486974,\n",
       " 0.06059450702305213,\n",
       " 0.13767227221474107,\n",
       " 0.07725307974144593,\n",
       " 0.1183723737035876,\n",
       " 0.004060687177933863]"
      ]
     },
     "execution_count": 27,
     "metadata": {},
     "output_type": "execute_result"
    }
   ],
   "source": [
    "wt=p_wt[SR_index].tolist()\n",
    "wt"
   ]
  },
  {
   "cell_type": "code",
   "execution_count": 28,
   "id": "064abd67",
   "metadata": {
    "scrolled": true
   },
   "outputs": [
    {
     "data": {
      "text/plain": [
       "0.9999999999999999"
      ]
     },
     "execution_count": 28,
     "metadata": {},
     "output_type": "execute_result"
    }
   ],
   "source": [
    "p_wt[SR_index].sum()"
   ]
  },
  {
   "cell_type": "code",
   "execution_count": 29,
   "id": "7628dfd2",
   "metadata": {},
   "outputs": [],
   "source": [
    "port_list = [\"GNRC\", \"CPRT\", \"ODFL\", \"AMD\", \"PAYC\", \"CHTR\", \"MKC\", \n",
    "             \"PG\", \"PGR\", \"NEM\", \"CCI\"]"
   ]
  },
  {
   "cell_type": "code",
   "execution_count": 30,
   "id": "8e11308c",
   "metadata": {},
   "outputs": [
    {
     "data": {
      "text/plain": [
       "array([[102.01000214,  93.48000336, 127.20014954,  49.09999847,\n",
       "        271.79998779, 490.42999268,  81.26832581, 116.84966278,\n",
       "         67.14667511,  40.94464111, 133.36073303]])"
      ]
     },
     "execution_count": 30,
     "metadata": {},
     "output_type": "execute_result"
    }
   ],
   "source": [
    "port_df_start = merge_df_by_column_name('Adj Close',  '2020-01-02', \n",
    "                                  '2020-01-02', *port_list)\n",
    "price=port_df_start.values\n",
    "price"
   ]
  },
  {
   "cell_type": "code",
   "execution_count": 31,
   "id": "9ac8bbc1",
   "metadata": {},
   "outputs": [],
   "source": [
    "price=[102.01000214,  93.48000336, 127.20014954,  49.09999847,\n",
    "        271.79998779, 490.42999268,  81.26832581, 116.84966278,\n",
    "         67.14667511,  40.94464111, 133.36073303]"
   ]
  },
  {
   "cell_type": "code",
   "execution_count": 49,
   "id": "dcc76841",
   "metadata": {},
   "outputs": [],
   "source": [
    "def Stock_cost(il):\n",
    "    stocks=[]\n",
    "    cost=[]\n",
    "    inv_target=[]\n",
    "    for i in range(0,10):\n",
    "        inv=il*wt[i]\n",
    "        #print('inv',inv)\n",
    "        hs=inv/price[i]\n",
    "        #print(hs)\n",
    "        hs=round(hs)\n",
    "        #print(hs)\n",
    "        if hs < 1:\n",
    "            hs=1\n",
    "        c=hs*price[i]\n",
    "        #print('cost',c)\n",
    "        stocks.append(hs)\n",
    "        cost.append(c)\n",
    "        inv_target.append(inv)\n",
    "    return stocks,cost,inv_target"
   ]
  },
  {
   "cell_type": "code",
   "execution_count": 55,
   "id": "4ca0a4cb",
   "metadata": {},
   "outputs": [
    {
     "data": {
      "text/plain": [
       "([13, 4, 8, 25, 1, 1, 5, 8, 8, 20],\n",
       " [1326.13002782,\n",
       "  373.92001344,\n",
       "  1017.60119632,\n",
       "  1227.49996175,\n",
       "  271.79998779,\n",
       "  490.42999268,\n",
       "  406.34162904999994,\n",
       "  934.79730224,\n",
       "  537.17340088,\n",
       "  818.8928222],\n",
       " [1282.9381855890497,\n",
       "  383.7371133877021,\n",
       "  1052.6868084061189,\n",
       "  1228.6559307795087,\n",
       "  57.87388087888813,\n",
       "  208.43764193340883,\n",
       "  424.1615491613649,\n",
       "  963.7059055031875,\n",
       "  540.7715581901216,\n",
       "  828.6066159251131])"
      ]
     },
     "execution_count": 55,
     "metadata": {},
     "output_type": "execute_result"
    }
   ],
   "source": [
    "Stock_cost(7000)"
   ]
  },
  {
   "cell_type": "code",
   "execution_count": 56,
   "id": "4f7f9483",
   "metadata": {},
   "outputs": [],
   "source": [
    "c=[1282.9381855890497,\n",
    "  383.7371133877021,\n",
    "  1052.6868084061189,\n",
    "  1228.6559307795087,\n",
    "  57.87388087888813,\n",
    "  208.43764193340883,\n",
    "  424.1615491613649,\n",
    "  963.7059055031875,\n",
    "  540.7715581901216,\n",
    "  828.6066159251131]"
   ]
  },
  {
   "cell_type": "code",
   "execution_count": 52,
   "id": "d1309c50",
   "metadata": {},
   "outputs": [
    {
     "data": {
      "text/plain": [
       "6971.575189754463"
      ]
     },
     "execution_count": 52,
     "metadata": {},
     "output_type": "execute_result"
    }
   ],
   "source": [
    "sum(c)"
   ]
  },
  {
   "cell_type": "code",
   "execution_count": 59,
   "id": "b9dd4d4f",
   "metadata": {},
   "outputs": [],
   "source": [
    "l=[2550.250053405762, 1869.6000671386719, 2801.878051757813, 1276.5999603271484, 271.79998779296875, 490.42999267578125, 327.7214050292969, 118.2088623046875, 341.39949798583984, 1168.7718505859377, 405.90911865234364, 115.7245979309082]"
   ]
  },
  {
   "cell_type": "code",
   "execution_count": 60,
   "id": "4cb418d7",
   "metadata": {},
   "outputs": [
    {
     "data": {
      "text/plain": [
       "11738.293445587158"
      ]
     },
     "execution_count": 60,
     "metadata": {},
     "output_type": "execute_result"
    }
   ],
   "source": [
    "sum(l)"
   ]
  },
  {
   "cell_type": "code",
   "execution_count": null,
   "id": "c025e533",
   "metadata": {},
   "outputs": [],
   "source": []
  }
 ],
 "metadata": {
  "kernelspec": {
   "display_name": "Python 3 (ipykernel)",
   "language": "python",
   "name": "python3"
  },
  "language_info": {
   "codemirror_mode": {
    "name": "ipython",
    "version": 3
   },
   "file_extension": ".py",
   "mimetype": "text/x-python",
   "name": "python",
   "nbconvert_exporter": "python",
   "pygments_lexer": "ipython3",
   "version": "3.7.3"
  }
 },
 "nbformat": 4,
 "nbformat_minor": 5
}
