{
 "cells": [
  {
   "cell_type": "code",
   "execution_count": 21,
   "id": "92780ec3",
   "metadata": {},
   "outputs": [],
   "source": [
    "from statsmodels.graphics.tsaplots import plot_acf, plot_pacf\n",
    "from statsmodels.tsa.statespace.varmax import VARMAX\n",
    "from statsmodels.tsa.api import VAR\n",
    "from statsmodels.tsa.stattools import grangercausalitytests, adfuller\n",
    "from tqdm import tqdm_notebook\n",
    "from itertools import product\n",
    "\n",
    "import matplotlib.pyplot as plt\n",
    "import statsmodels.api as sm\n",
    "import pandas as pd\n",
    "import numpy as np\n",
    "\n",
    "import warnings\n",
    "warnings.filterwarnings('ignore')"
   ]
  },
  {
   "cell_type": "code",
   "execution_count": 22,
   "id": "a09a72c1",
   "metadata": {},
   "outputs": [
    {
     "name": "stdout",
     "output_type": "stream",
     "text": [
      "(123, 8)\n"
     ]
    },
    {
     "data": {
      "text/html": [
       "<div>\n",
       "<style scoped>\n",
       "    .dataframe tbody tr th:only-of-type {\n",
       "        vertical-align: middle;\n",
       "    }\n",
       "\n",
       "    .dataframe tbody tr th {\n",
       "        vertical-align: top;\n",
       "    }\n",
       "\n",
       "    .dataframe thead th {\n",
       "        text-align: right;\n",
       "    }\n",
       "</style>\n",
       "<table border=\"1\" class=\"dataframe\">\n",
       "  <thead>\n",
       "    <tr style=\"text-align: right;\">\n",
       "      <th></th>\n",
       "      <th>rgnp</th>\n",
       "      <th>pgnp</th>\n",
       "      <th>ulc</th>\n",
       "      <th>gdfco</th>\n",
       "      <th>gdf</th>\n",
       "      <th>gdfim</th>\n",
       "      <th>gdfcf</th>\n",
       "      <th>gdfce</th>\n",
       "    </tr>\n",
       "    <tr>\n",
       "      <th>date</th>\n",
       "      <th></th>\n",
       "      <th></th>\n",
       "      <th></th>\n",
       "      <th></th>\n",
       "      <th></th>\n",
       "      <th></th>\n",
       "      <th></th>\n",
       "      <th></th>\n",
       "    </tr>\n",
       "  </thead>\n",
       "  <tbody>\n",
       "    <tr>\n",
       "      <th>1959-01-01</th>\n",
       "      <td>1606.4</td>\n",
       "      <td>1608.3</td>\n",
       "      <td>47.5</td>\n",
       "      <td>36.9</td>\n",
       "      <td>37.4</td>\n",
       "      <td>26.9</td>\n",
       "      <td>32.3</td>\n",
       "      <td>23.1</td>\n",
       "    </tr>\n",
       "    <tr>\n",
       "      <th>1959-04-01</th>\n",
       "      <td>1637.0</td>\n",
       "      <td>1622.2</td>\n",
       "      <td>47.5</td>\n",
       "      <td>37.4</td>\n",
       "      <td>37.5</td>\n",
       "      <td>27.0</td>\n",
       "      <td>32.2</td>\n",
       "      <td>23.4</td>\n",
       "    </tr>\n",
       "    <tr>\n",
       "      <th>1959-07-01</th>\n",
       "      <td>1629.5</td>\n",
       "      <td>1636.2</td>\n",
       "      <td>48.7</td>\n",
       "      <td>37.6</td>\n",
       "      <td>37.6</td>\n",
       "      <td>27.1</td>\n",
       "      <td>32.4</td>\n",
       "      <td>23.4</td>\n",
       "    </tr>\n",
       "    <tr>\n",
       "      <th>1959-10-01</th>\n",
       "      <td>1643.4</td>\n",
       "      <td>1650.3</td>\n",
       "      <td>48.8</td>\n",
       "      <td>37.7</td>\n",
       "      <td>37.8</td>\n",
       "      <td>27.1</td>\n",
       "      <td>32.5</td>\n",
       "      <td>23.8</td>\n",
       "    </tr>\n",
       "    <tr>\n",
       "      <th>1960-01-01</th>\n",
       "      <td>1671.6</td>\n",
       "      <td>1664.6</td>\n",
       "      <td>49.1</td>\n",
       "      <td>37.8</td>\n",
       "      <td>37.8</td>\n",
       "      <td>27.2</td>\n",
       "      <td>32.4</td>\n",
       "      <td>23.8</td>\n",
       "    </tr>\n",
       "  </tbody>\n",
       "</table>\n",
       "</div>"
      ],
      "text/plain": [
       "              rgnp    pgnp   ulc  gdfco   gdf  gdfim  gdfcf  gdfce\n",
       "date                                                              \n",
       "1959-01-01  1606.4  1608.3  47.5   36.9  37.4   26.9   32.3   23.1\n",
       "1959-04-01  1637.0  1622.2  47.5   37.4  37.5   27.0   32.2   23.4\n",
       "1959-07-01  1629.5  1636.2  48.7   37.6  37.6   27.1   32.4   23.4\n",
       "1959-10-01  1643.4  1650.3  48.8   37.7  37.8   27.1   32.5   23.8\n",
       "1960-01-01  1671.6  1664.6  49.1   37.8  37.8   27.2   32.4   23.8"
      ]
     },
     "execution_count": 22,
     "metadata": {},
     "output_type": "execute_result"
    }
   ],
   "source": [
    "filepath = 'https://raw.githubusercontent.com/selva86/datasets/master/Raotbl6.csv'\n",
    "macro_data = pd.read_csv(filepath, parse_dates=['date'], index_col='date')\n",
    "print(macro_data.shape)  # (123, 8)\n",
    "macro_data.head()"
   ]
  },
  {
   "cell_type": "code",
   "execution_count": 23,
   "id": "0971cd09",
   "metadata": {},
   "outputs": [
    {
     "data": {
      "image/png": "[encoded data removed]",
      "text/plain": [
       "<Figure size 1200x720 with 8 Axes>"
      ]
     },
     "metadata": {
      "needs_background": "light"
     },
     "output_type": "display_data"
    }
   ],
   "source": [
    "fig, axes = plt.subplots(nrows=4, ncols=2, dpi=120, figsize=(10,6))\n",
    "for i, ax in enumerate(axes.flatten()):\n",
    "    data = macro_data[macro_data.columns[i]]\n",
    "    ax.plot(data, color='red', linewidth=1)\n",
    "    # Decorations\n",
    "    ax.set_title(macro_data.columns[i])\n",
    "    ax.xaxis.set_ticks_position('none')\n",
    "    ax.yaxis.set_ticks_position('none')\n",
    "    ax.spines[\"top\"].set_alpha(0)\n",
    "    ax.tick_params(labelsize=6)\n",
    "\n",
    "plt.tight_layout();"
   ]
  },
  {
   "cell_type": "code",
   "execution_count": 26,
   "id": "b48cd200",
   "metadata": {},
   "outputs": [
    {
     "name": "stdout",
     "output_type": "stream",
     "text": [
      "realgdp\n",
      "ADF Statistic: -4.2444214126642485\n",
      "p-value: 0.000553653708669568\n",
      "\n",
      "---------------------\n",
      "\n",
      "realcons\n",
      "ADF Statistic: -4.375379730160643\n",
      "p-value: 0.000328071866991873\n"
     ]
    }
   ],
   "source": [
    "ad_fuller_result_1 = adfuller(macro_data['gdfim'].diff()[1:])\n",
    "\n",
    "print('realgdp')\n",
    "print(f'ADF Statistic: {ad_fuller_result_1[0]}')\n",
    "print(f'p-value: {ad_fuller_result_1[1]}')\n",
    "\n",
    "print('\\n---------------------\\n')\n",
    "\n",
    "ad_fuller_result_2 = adfuller((macro_data['gdfce'].diff()[1:]).diff()[1:])\n",
    "\n",
    "print('realcons')\n",
    "print(f'ADF Statistic: {ad_fuller_result_2[0]}')\n",
    "print(f'p-value: {ad_fuller_result_2[1]}')"
   ]
  },
  {
   "cell_type": "code",
   "execution_count": 27,
   "id": "e61ada5c",
   "metadata": {},
   "outputs": [
    {
     "name": "stdout",
     "output_type": "stream",
     "text": [
      "gdfce causes ulc?\n",
      "\n",
      "------------------\n",
      "\n",
      "Granger Causality\n",
      "number of lags (no zero) 1\n",
      "ssr based F test:         F=60.2942 , p=0.0000  , df_denom=119, df_num=1\n",
      "ssr based chi2 test:   chi2=61.8142 , p=0.0000  , df=1\n",
      "likelihood ratio test: chi2=50.0084 , p=0.0000  , df=1\n",
      "parameter F test:         F=60.2942 , p=0.0000  , df_denom=119, df_num=1\n",
      "\n",
      "Granger Causality\n",
      "number of lags (no zero) 2\n",
      "ssr based F test:         F=5.2509  , p=0.0066  , df_denom=116, df_num=2\n",
      "ssr based chi2 test:   chi2=10.9544 , p=0.0042  , df=2\n",
      "likelihood ratio test: chi2=10.4866 , p=0.0053  , df=2\n",
      "parameter F test:         F=5.2509  , p=0.0066  , df_denom=116, df_num=2\n",
      "\n",
      "Granger Causality\n",
      "number of lags (no zero) 3\n",
      "ssr based F test:         F=3.7587  , p=0.0129  , df_denom=113, df_num=3\n",
      "ssr based chi2 test:   chi2=11.9746 , p=0.0075  , df=3\n",
      "likelihood ratio test: chi2=11.4142 , p=0.0097  , df=3\n",
      "parameter F test:         F=3.7587  , p=0.0129  , df_denom=113, df_num=3\n",
      "\n",
      "Granger Causality\n",
      "number of lags (no zero) 4\n",
      "ssr based F test:         F=2.4773  , p=0.0483  , df_denom=110, df_num=4\n",
      "ssr based chi2 test:   chi2=10.7198 , p=0.0299  , df=4\n",
      "likelihood ratio test: chi2=10.2641 , p=0.0362  , df=4\n",
      "parameter F test:         F=2.4773  , p=0.0483  , df_denom=110, df_num=4\n",
      "\n",
      "ulc causes rgnp?\n",
      "\n",
      "------------------\n",
      "\n",
      "Granger Causality\n",
      "number of lags (no zero) 1\n",
      "ssr based F test:         F=33.5252 , p=0.0000  , df_denom=119, df_num=1\n",
      "ssr based chi2 test:   chi2=34.3704 , p=0.0000  , df=1\n",
      "likelihood ratio test: chi2=30.2812 , p=0.0000  , df=1\n",
      "parameter F test:         F=33.5252 , p=0.0000  , df_denom=119, df_num=1\n",
      "\n",
      "Granger Causality\n",
      "number of lags (no zero) 2\n",
      "ssr based F test:         F=9.6650  , p=0.0001  , df_denom=116, df_num=2\n",
      "ssr based chi2 test:   chi2=20.1633 , p=0.0000  , df=2\n",
      "likelihood ratio test: chi2=18.6493 , p=0.0001  , df=2\n",
      "parameter F test:         F=9.6650  , p=0.0001  , df_denom=116, df_num=2\n",
      "\n",
      "Granger Causality\n",
      "number of lags (no zero) 3\n",
      "ssr based F test:         F=6.3042  , p=0.0005  , df_denom=113, df_num=3\n",
      "ssr based chi2 test:   chi2=20.0840 , p=0.0002  , df=3\n",
      "likelihood ratio test: chi2=18.5701 , p=0.0003  , df=3\n",
      "parameter F test:         F=6.3042  , p=0.0005  , df_denom=113, df_num=3\n",
      "\n",
      "Granger Causality\n",
      "number of lags (no zero) 4\n",
      "ssr based F test:         F=5.2252  , p=0.0007  , df_denom=110, df_num=4\n",
      "ssr based chi2 test:   chi2=22.6108 , p=0.0002  , df=4\n",
      "likelihood ratio test: chi2=20.7011 , p=0.0004  , df=4\n",
      "parameter F test:         F=5.2252  , p=0.0007  , df_denom=110, df_num=4\n"
     ]
    }
   ],
   "source": [
    "print('gdfce causes ulc?\\n')\n",
    "print('------------------')\n",
    "granger_1 = grangercausalitytests(macro_data[['gdfim', 'gdfce']], 4)\n",
    "\n",
    "print('\\nulc causes rgnp?\\n')\n",
    "print('------------------')\n",
    "granger_2 = grangercausalitytests(macro_data[['gdfce', 'gdfim']], 4)"
   ]
  },
  {
   "cell_type": "code",
   "execution_count": 28,
   "id": "05dd3eb7",
   "metadata": {},
   "outputs": [
    {
     "name": "stdout",
     "output_type": "stream",
     "text": [
      "(123, 2)\n"
     ]
    }
   ],
   "source": [
    "macro_data = macro_data[['gdfim','gdfce']]\n",
    "print(macro_data.shape)"
   ]
  },
  {
   "cell_type": "code",
   "execution_count": 29,
   "id": "7b7ccc50",
   "metadata": {},
   "outputs": [],
   "source": [
    "train_df=macro_data[:-12]\n",
    "test_df=macro_data[-12:]"
   ]
  },
  {
   "cell_type": "code",
   "execution_count": 30,
   "id": "ff6ae0b8",
   "metadata": {},
   "outputs": [
    {
     "name": "stdout",
     "output_type": "stream",
     "text": [
      "(12, 2)\n"
     ]
    }
   ],
   "source": [
    "print(test_df.shape)\n"
   ]
  },
  {
   "cell_type": "code",
   "execution_count": 31,
   "id": "34728652",
   "metadata": {},
   "outputs": [],
   "source": [
    "model = VAR(train_df.diff()[1:])"
   ]
  },
  {
   "cell_type": "code",
   "execution_count": 32,
   "id": "6a9f63ff",
   "metadata": {},
   "outputs": [
    {
     "name": "stdout",
     "output_type": "stream",
     "text": [
      " VAR Order Selection (* highlights the minimums)  \n",
      "==================================================\n",
      "       AIC         BIC         FPE         HQIC   \n",
      "--------------------------------------------------\n",
      "0        1.353       1.409       3.869       1.375\n",
      "1       0.4491     0.6158*       1.567      0.5163\n",
      "2       0.5029      0.7807       1.654      0.6150\n",
      "3       0.5102      0.8991       1.667      0.6670\n",
      "4       0.4972      0.9972       1.646      0.6988\n",
      "5       0.4539       1.065       1.578      0.7003\n",
      "6       0.3442       1.066       1.417      0.6354\n",
      "7       0.3683       1.202       1.454      0.7043\n",
      "8       0.3444       1.289       1.424      0.7252\n",
      "9       0.3892       1.445       1.495      0.8148\n",
      "10      0.2547       1.421       1.313      0.7251\n",
      "11      0.3010       1.579       1.383      0.8163\n",
      "12      0.3040       1.693       1.397      0.8640\n",
      "13      0.1957       1.696       1.263      0.8006\n",
      "14     -0.1839       1.427      0.8726      0.4657\n",
      "15     -0.3140       1.408      0.7747      0.3805\n",
      "16     -0.4437       1.390      0.6893      0.2956\n",
      "17     -0.4212       1.523      0.7155      0.3628\n",
      "18     -0.4233       1.632      0.7262      0.4055\n",
      "19    -0.8786*       1.288     0.4696*  -0.004919*\n",
      "20     -0.8119       1.466      0.5131      0.1066\n",
      "--------------------------------------------------\n"
     ]
    }
   ],
   "source": [
    "sorted_order=model.select_order(maxlags=20)\n",
    "print(sorted_order.summary())"
   ]
  },
  {
   "cell_type": "code",
   "execution_count": 43,
   "id": "e3519c1c",
   "metadata": {},
   "outputs": [
    {
     "name": "stdout",
     "output_type": "stream",
     "text": [
      "                           Statespace Model Results                           \n",
      "==============================================================================\n",
      "Dep. Variable:     ['gdfim', 'gdfce']   No. Observations:                  111\n",
      "Model:                         VAR(1)   Log Likelihood                -345.810\n",
      "                          + intercept   AIC                            709.619\n",
      "Date:                Mon, 24 Jan 2022   BIC                            734.005\n",
      "Time:                        17:50:46   HQIC                           719.512\n",
      "Sample:                    01-01-1959                                         \n",
      "                         - 07-01-1986                                         \n",
      "Covariance Type:                  opg                                         \n",
      "===================================================================================\n",
      "Ljung-Box (L1) (Q):           36.52, 19.48   Jarque-Bera (JB):        78.08, 103.41\n",
      "Prob(Q):                        0.00, 0.00   Prob(JB):                   0.00, 0.00\n",
      "Heteroskedasticity (H):       27.02, 48.84   Skew:                      0.74, -0.49\n",
      "Prob(H) (two-sided):            0.00, 0.00   Kurtosis:                   6.83, 7.62\n",
      "                          Results for equation gdfim                          \n",
      "==============================================================================\n",
      "                 coef    std err          z      P>|z|      [0.025      0.975]\n",
      "------------------------------------------------------------------------------\n",
      "intercept     -0.4641      0.656     -0.707      0.480      -1.750       0.822\n",
      "L1.gdfim       1.1275      0.025     45.834      0.000       1.079       1.176\n",
      "L1.gdfce      -0.1215      0.020     -6.160      0.000      -0.160      -0.083\n",
      "                          Results for equation gdfce                          \n",
      "==============================================================================\n",
      "                 coef    std err          z      P>|z|      [0.025      0.975]\n",
      "------------------------------------------------------------------------------\n",
      "intercept     -1.0081      0.931     -1.083      0.279      -2.833       0.817\n",
      "L1.gdfim       0.1627      0.035      4.649      0.000       0.094       0.231\n",
      "L1.gdfce       0.8519      0.029     29.042      0.000       0.794       0.909\n",
      "                                Error covariance matrix                                 \n",
      "========================================================================================\n",
      "                           coef    std err          z      P>|z|      [0.025      0.975]\n",
      "----------------------------------------------------------------------------------------\n",
      "sqrt.var.gdfim           1.0064      0.047     21.200      0.000       0.913       1.099\n",
      "sqrt.cov.gdfim.gdfce     0.9949      0.110      9.070      0.000       0.780       1.210\n",
      "sqrt.var.gdfce           1.2541      0.063     19.848      0.000       1.130       1.378\n",
      "========================================================================================\n",
      "\n",
      "Warnings:\n",
      "[1] Covariance matrix calculated using the outer product of gradients (complex-step).\n"
     ]
    }
   ],
   "source": [
    "var_model = VARMAX(train_df, order=(1,0),enforce_stationarity= True)\n",
    "fitted_model = var_model.fit(disp=False)\n",
    "print(fitted_model.summary())"
   ]
  },
  {
   "cell_type": "code",
   "execution_count": 44,
   "id": "eb8c2d58",
   "metadata": {},
   "outputs": [],
   "source": [
    "n_forecast = 12\n",
    "predict = fitted_model.get_prediction(start=len(train_df),end=len(train_df) + n_forecast-1)#start=\"1989-07-01\",end='1999-01-01')\n",
    "\n",
    "predictions=predict.predicted_mean"
   ]
  },
  {
   "cell_type": "code",
   "execution_count": 51,
   "id": "f222f7d4",
   "metadata": {},
   "outputs": [
    {
     "data": {
      "text/html": [
       "<div>\n",
       "<style scoped>\n",
       "    .dataframe tbody tr th:only-of-type {\n",
       "        vertical-align: middle;\n",
       "    }\n",
       "\n",
       "    .dataframe tbody tr th {\n",
       "        vertical-align: top;\n",
       "    }\n",
       "\n",
       "    .dataframe thead th {\n",
       "        text-align: right;\n",
       "    }\n",
       "</style>\n",
       "<table border=\"1\" class=\"dataframe\">\n",
       "  <thead>\n",
       "    <tr style=\"text-align: right;\">\n",
       "      <th></th>\n",
       "      <th>Pred_gdfim</th>\n",
       "      <th>Pred_gdfce</th>\n",
       "    </tr>\n",
       "  </thead>\n",
       "  <tbody>\n",
       "    <tr>\n",
       "      <th>1986-10-01</th>\n",
       "      <td>93.636536</td>\n",
       "      <td>88.732502</td>\n",
       "    </tr>\n",
       "    <tr>\n",
       "      <th>1987-01-01</th>\n",
       "      <td>94.329387</td>\n",
       "      <td>89.817093</td>\n",
       "    </tr>\n",
       "    <tr>\n",
       "      <th>1987-04-01</th>\n",
       "      <td>94.978803</td>\n",
       "      <td>90.853760</td>\n",
       "    </tr>\n",
       "    <tr>\n",
       "      <th>1987-07-01</th>\n",
       "      <td>95.585070</td>\n",
       "      <td>91.842536</td>\n",
       "    </tr>\n",
       "    <tr>\n",
       "      <th>1987-10-01</th>\n",
       "      <td>96.148505</td>\n",
       "      <td>92.783492</td>\n",
       "    </tr>\n",
       "    <tr>\n",
       "      <th>1988-01-01</th>\n",
       "      <td>96.669458</td>\n",
       "      <td>93.676744</td>\n",
       "    </tr>\n",
       "    <tr>\n",
       "      <th>1988-04-01</th>\n",
       "      <td>97.148307</td>\n",
       "      <td>94.522444</td>\n",
       "    </tr>\n",
       "    <tr>\n",
       "      <th>1988-07-01</th>\n",
       "      <td>97.585463</td>\n",
       "      <td>95.320786</td>\n",
       "    </tr>\n",
       "    <tr>\n",
       "      <th>1988-10-01</th>\n",
       "      <td>97.981365</td>\n",
       "      <td>96.072001</td>\n",
       "    </tr>\n",
       "    <tr>\n",
       "      <th>1989-01-01</th>\n",
       "      <td>98.336477</td>\n",
       "      <td>96.776355</td>\n",
       "    </tr>\n",
       "    <tr>\n",
       "      <th>1989-04-01</th>\n",
       "      <td>98.651293</td>\n",
       "      <td>97.434154</td>\n",
       "    </tr>\n",
       "    <tr>\n",
       "      <th>1989-07-01</th>\n",
       "      <td>98.926332</td>\n",
       "      <td>98.045738</td>\n",
       "    </tr>\n",
       "  </tbody>\n",
       "</table>\n",
       "</div>"
      ],
      "text/plain": [
       "            Pred_gdfim  Pred_gdfce\n",
       "1986-10-01   93.636536   88.732502\n",
       "1987-01-01   94.329387   89.817093\n",
       "1987-04-01   94.978803   90.853760\n",
       "1987-07-01   95.585070   91.842536\n",
       "1987-10-01   96.148505   92.783492\n",
       "1988-01-01   96.669458   93.676744\n",
       "1988-04-01   97.148307   94.522444\n",
       "1988-07-01   97.585463   95.320786\n",
       "1988-10-01   97.981365   96.072001\n",
       "1989-01-01   98.336477   96.776355\n",
       "1989-04-01   98.651293   97.434154\n",
       "1989-07-01   98.926332   98.045738"
      ]
     },
     "execution_count": 51,
     "metadata": {},
     "output_type": "execute_result"
    }
   ],
   "source": [
    "predictions.columns=['Pred_gdfim','Pred_gdfce']\n",
    "predictions"
   ]
  },
  {
   "cell_type": "code",
   "execution_count": 52,
   "id": "0b5d432c",
   "metadata": {},
   "outputs": [
    {
     "data": {
      "text/html": [
       "<div>\n",
       "<style scoped>\n",
       "    .dataframe tbody tr th:only-of-type {\n",
       "        vertical-align: middle;\n",
       "    }\n",
       "\n",
       "    .dataframe tbody tr th {\n",
       "        vertical-align: top;\n",
       "    }\n",
       "\n",
       "    .dataframe thead th {\n",
       "        text-align: right;\n",
       "    }\n",
       "</style>\n",
       "<table border=\"1\" class=\"dataframe\">\n",
       "  <thead>\n",
       "    <tr style=\"text-align: right;\">\n",
       "      <th></th>\n",
       "      <th>gdfim</th>\n",
       "      <th>gdfce</th>\n",
       "      <th>Pred_gdfim</th>\n",
       "      <th>Pred_gdfce</th>\n",
       "    </tr>\n",
       "  </thead>\n",
       "  <tbody>\n",
       "    <tr>\n",
       "      <th>1986-10-01</th>\n",
       "      <td>94.7</td>\n",
       "      <td>85.6</td>\n",
       "      <td>93.636536</td>\n",
       "      <td>88.732502</td>\n",
       "    </tr>\n",
       "    <tr>\n",
       "      <th>1987-01-01</th>\n",
       "      <td>97.9</td>\n",
       "      <td>89.4</td>\n",
       "      <td>94.329387</td>\n",
       "      <td>89.817093</td>\n",
       "    </tr>\n",
       "    <tr>\n",
       "      <th>1987-04-01</th>\n",
       "      <td>100.4</td>\n",
       "      <td>91.3</td>\n",
       "      <td>94.978803</td>\n",
       "      <td>90.853760</td>\n",
       "    </tr>\n",
       "    <tr>\n",
       "      <th>1987-07-01</th>\n",
       "      <td>101.9</td>\n",
       "      <td>93.1</td>\n",
       "      <td>95.585070</td>\n",
       "      <td>91.842536</td>\n",
       "    </tr>\n",
       "    <tr>\n",
       "      <th>1987-10-01</th>\n",
       "      <td>103.3</td>\n",
       "      <td>92.9</td>\n",
       "      <td>96.148505</td>\n",
       "      <td>92.783492</td>\n",
       "    </tr>\n",
       "    <tr>\n",
       "      <th>1988-01-01</th>\n",
       "      <td>104.5</td>\n",
       "      <td>91.5</td>\n",
       "      <td>96.669458</td>\n",
       "      <td>93.676744</td>\n",
       "    </tr>\n",
       "    <tr>\n",
       "      <th>1988-04-01</th>\n",
       "      <td>106.1</td>\n",
       "      <td>92.3</td>\n",
       "      <td>97.148307</td>\n",
       "      <td>94.522444</td>\n",
       "    </tr>\n",
       "    <tr>\n",
       "      <th>1988-07-01</th>\n",
       "      <td>106.2</td>\n",
       "      <td>92.8</td>\n",
       "      <td>97.585463</td>\n",
       "      <td>95.320786</td>\n",
       "    </tr>\n",
       "    <tr>\n",
       "      <th>1988-10-01</th>\n",
       "      <td>107.3</td>\n",
       "      <td>92.9</td>\n",
       "      <td>97.981365</td>\n",
       "      <td>96.072001</td>\n",
       "    </tr>\n",
       "    <tr>\n",
       "      <th>1989-01-01</th>\n",
       "      <td>109.5</td>\n",
       "      <td>94.0</td>\n",
       "      <td>98.336477</td>\n",
       "      <td>96.776355</td>\n",
       "    </tr>\n",
       "    <tr>\n",
       "      <th>1989-04-01</th>\n",
       "      <td>111.1</td>\n",
       "      <td>100.6</td>\n",
       "      <td>98.651293</td>\n",
       "      <td>97.434154</td>\n",
       "    </tr>\n",
       "    <tr>\n",
       "      <th>1989-07-01</th>\n",
       "      <td>109.8</td>\n",
       "      <td>98.2</td>\n",
       "      <td>98.926332</td>\n",
       "      <td>98.045738</td>\n",
       "    </tr>\n",
       "  </tbody>\n",
       "</table>\n",
       "</div>"
      ],
      "text/plain": [
       "            gdfim  gdfce  Pred_gdfim  Pred_gdfce\n",
       "1986-10-01   94.7   85.6   93.636536   88.732502\n",
       "1987-01-01   97.9   89.4   94.329387   89.817093\n",
       "1987-04-01  100.4   91.3   94.978803   90.853760\n",
       "1987-07-01  101.9   93.1   95.585070   91.842536\n",
       "1987-10-01  103.3   92.9   96.148505   92.783492\n",
       "1988-01-01  104.5   91.5   96.669458   93.676744\n",
       "1988-04-01  106.1   92.3   97.148307   94.522444\n",
       "1988-07-01  106.2   92.8   97.585463   95.320786\n",
       "1988-10-01  107.3   92.9   97.981365   96.072001\n",
       "1989-01-01  109.5   94.0   98.336477   96.776355\n",
       "1989-04-01  111.1  100.6   98.651293   97.434154\n",
       "1989-07-01  109.8   98.2   98.926332   98.045738"
      ]
     },
     "execution_count": 52,
     "metadata": {},
     "output_type": "execute_result"
    }
   ],
   "source": [
    "test_vs_pred=pd.concat([test_df,predictions],axis=1)\n",
    "test_vs_pred"
   ]
  },
  {
   "cell_type": "code",
   "execution_count": 53,
   "id": "efdd7d93",
   "metadata": {},
   "outputs": [
    {
     "data": {
      "text/plain": [
       "<matplotlib.axes._subplots.AxesSubplot at 0x17c4ea79be0>"
      ]
     },
     "execution_count": 53,
     "metadata": {},
     "output_type": "execute_result"
    },
    {
     "data": {
      "image/png": "[encoded data removed]",
      "text/plain": [
       "<Figure size 864x360 with 1 Axes>"
      ]
     },
     "metadata": {
      "needs_background": "light"
     },
     "output_type": "display_data"
    }
   ],
   "source": [
    "test_vs_pred.plot(figsize=(12,5))"
   ]
  },
  {
   "cell_type": "code",
   "execution_count": 55,
   "id": "e98ef359",
   "metadata": {},
   "outputs": [
    {
     "data": {
      "text/plain": [
       "<matplotlib.axes._subplots.AxesSubplot at 0x17c4ea14320>"
      ]
     },
     "execution_count": 55,
     "metadata": {},
     "output_type": "execute_result"
    },
    {
     "data": {
      "image/png": "[encoded data removed]",
      "text/plain": [
       "<Figure size 864x360 with 1 Axes>"
      ]
     },
     "metadata": {
      "needs_background": "light"
     },
     "output_type": "display_data"
    }
   ],
   "source": [
    "test_vs_pred[['gdfim','Pred_gdfim']].plot(figsize=(12,5))"
   ]
  },
  {
   "cell_type": "code",
   "execution_count": null,
   "id": "cc5c821a",
   "metadata": {},
   "outputs": [],
   "source": [
    "from sklearn.metrics import mean_squared_error\n",
    "import math \n",
    "from statistics import mean\n",
    "\n",
    "rmse_ulc=math.sqrt(mean_squared_error(predictions['ulc_predicted'],test_df['ulc']))\n",
    "print('Mean value of ULC is : {}. Root Mean Squared Error is :{}'.format(mean(test_df['ulc']),rmse_ulc))\n",
    "\n",
    "rmse_rgnp=math.sqrt(mean_squared_error(predictions['rgnp_predicted'],test_df['rgnp']))\n",
    "print('Mean value of RGNP is : {}. Root Mean Squared Error is :{}'.format(mean(test_df['rgnp']),rmse_rgnp))"
   ]
  },
  {
   "cell_type": "code",
   "execution_count": null,
   "id": "5415c306",
   "metadata": {},
   "outputs": [],
   "source": [
    "40.434928819033/178.56666666666666"
   ]
  },
  {
   "cell_type": "code",
   "execution_count": null,
   "id": "2f014bc1",
   "metadata": {},
   "outputs": [],
   "source": [
    "327.8523683404757/3970.6916666666666"
   ]
  },
  {
   "cell_type": "code",
   "execution_count": null,
   "id": "1bd28296",
   "metadata": {},
   "outputs": [],
   "source": []
  }
 ],
 "metadata": {
  "kernelspec": {
   "display_name": "Python 3 (ipykernel)",
   "language": "python",
   "name": "python3"
  },
  "language_info": {
   "codemirror_mode": {
    "name": "ipython",
    "version": 3
   },
   "file_extension": ".py",
   "mimetype": "text/x-python",
   "name": "python",
   "nbconvert_exporter": "python",
   "pygments_lexer": "ipython3",
   "version": "3.7.3"
  }
 },
 "nbformat": 4,
 "nbformat_minor": 5
}
