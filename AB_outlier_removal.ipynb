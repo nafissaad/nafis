{
 "cells": [
  {
   "cell_type": "code",
   "execution_count": 1,
   "id": "263f8cc7-8a24-4bde-a170-5e4af6f93cc4",
   "metadata": {},
   "outputs": [],
   "source": [
    "import pandas as pd"
   ]
  },
  {
   "cell_type": "code",
   "execution_count": 9,
   "id": "0260c46c-3627-45c6-a03a-2d8eda6494c7",
   "metadata": {},
   "outputs": [
    {
     "data": {
      "text/plain": [
       "(48895, 16)"
      ]
     },
     "execution_count": 9,
     "metadata": {},
     "output_type": "execute_result"
    }
   ],
   "source": [
    "df = pd.read_csv(\"AB_NYC_2019.csv\")\n",
    "df.shape"
   ]
  },
  {
   "cell_type": "code",
   "execution_count": 19,
   "id": "a245fa6d-17ab-4a80-88e6-d201666e8e96",
   "metadata": {},
   "outputs": [
    {
     "data": {
      "text/plain": [
       "count    48895.000000\n",
       "mean       152.720687\n",
       "std        240.154170\n",
       "min          0.000000\n",
       "25%         69.000000\n",
       "50%        106.000000\n",
       "75%        175.000000\n",
       "max      10000.000000\n",
       "Name: price, dtype: float64"
      ]
     },
     "execution_count": 19,
     "metadata": {},
     "output_type": "execute_result"
    }
   ],
   "source": [
    "df.price.describe()"
   ]
  },
  {
   "cell_type": "code",
   "execution_count": 13,
   "id": "ce19e21a-4db8-40cb-b17a-ffcc4b6dbe1b",
   "metadata": {},
   "outputs": [
    {
     "data": {
      "text/plain": [
       "(30.0, 799.0)"
      ]
     },
     "execution_count": 13,
     "metadata": {},
     "output_type": "execute_result"
    }
   ],
   "source": [
    "min_thresold, max_thresold = df.price.quantile([0.01,0.99])\n",
    "min_thresold, max_thresold"
   ]
  },
  {
   "cell_type": "code",
   "execution_count": 14,
   "id": "c54e872c-71df-41d9-9918-217666f46898",
   "metadata": {},
   "outputs": [
    {
     "data": {
      "text/plain": [
       "(47744, 16)"
      ]
     },
     "execution_count": 14,
     "metadata": {},
     "output_type": "execute_result"
    }
   ],
   "source": [
    "df2 = df[(df.price<max_thresold) & (df.price>min_thresold)]\n",
    "df2.shape"
   ]
  },
  {
   "cell_type": "code",
   "execution_count": 17,
   "id": "1eb397b5-82bf-4c9e-a35e-40cc2f878717",
   "metadata": {},
   "outputs": [
    {
     "data": {
      "text/plain": [
       "count    47744.000000\n",
       "mean       138.832503\n",
       "std        102.890554\n",
       "min         31.000000\n",
       "25%         70.000000\n",
       "50%        108.000000\n",
       "75%        175.000000\n",
       "max        795.000000\n",
       "Name: price, dtype: float64"
      ]
     },
     "execution_count": 17,
     "metadata": {},
     "output_type": "execute_result"
    }
   ],
   "source": [
    "df2.price.describe()"
   ]
  },
  {
   "cell_type": "code",
   "execution_count": null,
   "id": "b600ebbb-e76c-4fac-a8fe-c55dbb465826",
   "metadata": {},
   "outputs": [],
   "source": []
  }
 ],
 "metadata": {
  "kernelspec": {
   "display_name": "Python 3 (ipykernel)",
   "language": "python",
   "name": "python3"
  },
  "language_info": {
   "codemirror_mode": {
    "name": "ipython",
    "version": 3
   },
   "file_extension": ".py",
   "mimetype": "text/x-python",
   "name": "python",
   "nbconvert_exporter": "python",
   "pygments_lexer": "ipython3",
   "version": "3.9.5"
  }
 },
 "nbformat": 4,
 "nbformat_minor": 5
}
