{
 "cells": [
  {
   "cell_type": "code",
   "execution_count": 22,
   "id": "363e0fda-8ace-4b41-881e-85cbe0c2a953",
   "metadata": {},
   "outputs": [],
   "source": [
    "import pandas as pd\n",
    "import numpy as np\n",
    "import matplotlib.pyplot as plt"
   ]
  },
  {
   "cell_type": "code",
   "execution_count": 23,
   "id": "62775aa0-cd46-47ad-a5e1-cc631a37d3b5",
   "metadata": {},
   "outputs": [
    {
     "data": {
      "text/html": [
       "<div>\n",
       "<style scoped>\n",
       "    .dataframe tbody tr th:only-of-type {\n",
       "        vertical-align: middle;\n",
       "    }\n",
       "\n",
       "    .dataframe tbody tr th {\n",
       "        vertical-align: top;\n",
       "    }\n",
       "\n",
       "    .dataframe thead th {\n",
       "        text-align: right;\n",
       "    }\n",
       "</style>\n",
       "<table border=\"1\" class=\"dataframe\">\n",
       "  <thead>\n",
       "    <tr style=\"text-align: right;\">\n",
       "      <th></th>\n",
       "      <th>Year</th>\n",
       "      <th>GDP</th>\n",
       "      <th>GDP per capita</th>\n",
       "      <th>GDP growth</th>\n",
       "      <th>Inflation rate</th>\n",
       "      <th>Unemployed rate</th>\n",
       "      <th>Government debt</th>\n",
       "      <th>Total Investment</th>\n",
       "    </tr>\n",
       "  </thead>\n",
       "  <tbody>\n",
       "    <tr>\n",
       "      <th>0</th>\n",
       "      <td>1980</td>\n",
       "      <td>41.2</td>\n",
       "      <td>500</td>\n",
       "      <td>3.10%</td>\n",
       "      <td>15.40%</td>\n",
       "      <td>NaN</td>\n",
       "      <td>NaN</td>\n",
       "      <td>14.44%</td>\n",
       "    </tr>\n",
       "    <tr>\n",
       "      <th>1</th>\n",
       "      <td>1981</td>\n",
       "      <td>47.4</td>\n",
       "      <td>560</td>\n",
       "      <td>5.60%</td>\n",
       "      <td>14.50%</td>\n",
       "      <td>NaN</td>\n",
       "      <td>NaN</td>\n",
       "      <td>17.16%</td>\n",
       "    </tr>\n",
       "    <tr>\n",
       "      <th>2</th>\n",
       "      <td>1982</td>\n",
       "      <td>52.0</td>\n",
       "      <td>597</td>\n",
       "      <td>3.20%</td>\n",
       "      <td>12.90%</td>\n",
       "      <td>NaN</td>\n",
       "      <td>NaN</td>\n",
       "      <td>17.36%</td>\n",
       "    </tr>\n",
       "    <tr>\n",
       "      <th>3</th>\n",
       "      <td>1983</td>\n",
       "      <td>56.5</td>\n",
       "      <td>633</td>\n",
       "      <td>4.60%</td>\n",
       "      <td>9.50%</td>\n",
       "      <td>NaN</td>\n",
       "      <td>NaN</td>\n",
       "      <td>16.56%</td>\n",
       "    </tr>\n",
       "    <tr>\n",
       "      <th>4</th>\n",
       "      <td>1984</td>\n",
       "      <td>61.0</td>\n",
       "      <td>664</td>\n",
       "      <td>4.20%</td>\n",
       "      <td>10.40%</td>\n",
       "      <td>NaN</td>\n",
       "      <td>NaN</td>\n",
       "      <td>16.48%</td>\n",
       "    </tr>\n",
       "  </tbody>\n",
       "</table>\n",
       "</div>"
      ],
      "text/plain": [
       "   Year  GDP  GDP per capita GDP growth Inflation rate Unemployed rate  \\\n",
       "0  1980  41.2            500      3.10%         15.40%             NaN   \n",
       "1  1981  47.4            560      5.60%         14.50%             NaN   \n",
       "2  1982  52.0            597      3.20%         12.90%             NaN   \n",
       "3  1983  56.5            633      4.60%          9.50%             NaN   \n",
       "4  1984  61.0            664      4.20%         10.40%             NaN   \n",
       "\n",
       "  Government debt Total Investment  \n",
       "0             NaN           14.44%  \n",
       "1             NaN           17.16%  \n",
       "2             NaN           17.36%  \n",
       "3             NaN           16.56%  \n",
       "4             NaN           16.48%  "
      ]
     },
     "execution_count": 23,
     "metadata": {},
     "output_type": "execute_result"
    }
   ],
   "source": [
    "df=pd.read_csv('BD_economic_indicators.csv')\n",
    "df.head(5)"
   ]
  },
  {
   "cell_type": "code",
   "execution_count": 24,
   "id": "9064da2d-0995-4447-bf83-7cf96e04e809",
   "metadata": {},
   "outputs": [
    {
     "name": "stdout",
     "output_type": "stream",
     "text": [
      "<class 'pandas.core.frame.DataFrame'>\n",
      "RangeIndex: 40 entries, 0 to 39\n",
      "Data columns (total 8 columns):\n",
      " #   Column            Non-Null Count  Dtype  \n",
      "---  ------            --------------  -----  \n",
      " 0   Year              40 non-null     int64  \n",
      " 1   GDP               40 non-null     float64\n",
      " 2   GDP per capita    40 non-null     object \n",
      " 3   GDP growth        40 non-null     object \n",
      " 4   Inflation rate    40 non-null     object \n",
      " 5   Unemployed rate   29 non-null     object \n",
      " 6   Government debt   17 non-null     object \n",
      " 7   Total Investment  40 non-null     object \n",
      "dtypes: float64(1), int64(1), object(6)\n",
      "memory usage: 2.6+ KB\n"
     ]
    }
   ],
   "source": [
    "df.info()"
   ]
  },
  {
   "cell_type": "code",
   "execution_count": 30,
   "id": "142229fe-6fdd-4506-b6a8-1a2b0ca5ad08",
   "metadata": {},
   "outputs": [
    {
     "name": "stdout",
     "output_type": "stream",
     "text": [
      "[305.62680843 273.72957447 353.47265936  18.55170282 114.24340469\n",
      " 193.98648958]\n"
     ]
    }
   ],
   "source": [
    "x=df.iloc[:,0:1].values\n",
    "y=df.iloc[:,1:2].values\n",
    "from sklearn.model_selection import train_test_split\n",
    "x_train,x_test,y_train,y_test=train_test_split(x,y,test_size=0.15,random_state=0)\n",
    "from sklearn import linear_model\n",
    "lasso_reg=linear_model.Lasso(alpha=200,max_iter=300,tol=0.3)\n",
    "lasso_reg.fit(x_train,y_train)\n",
    "y_pred=lasso_reg.predict(x_test)\n",
    "print(y_pred)"
   ]
  },
  {
   "cell_type": "code",
   "execution_count": 31,
   "id": "ed091919-67fa-4446-893e-0c873a6184a9",
   "metadata": {},
   "outputs": [
    {
     "data": {
      "text/plain": [
       "array([[205.7],\n",
       "       [180.2],\n",
       "       [265.5],\n",
       "       [ 61. ],\n",
       "       [ 91.1],\n",
       "       [128.2]])"
      ]
     },
     "execution_count": 31,
     "metadata": {},
     "output_type": "execute_result"
    }
   ],
   "source": [
    "y_test"
   ]
  },
  {
   "cell_type": "code",
   "execution_count": 35,
   "id": "f6eb7455-ba14-461c-b77e-e7fb470a81fe",
   "metadata": {},
   "outputs": [
    {
     "data": {
      "text/plain": [
       "0.8606884549787448"
      ]
     },
     "execution_count": 35,
     "metadata": {},
     "output_type": "execute_result"
    }
   ],
   "source": [
    "lasso_reg.score(x_train,y_train)"
   ]
  },
  {
   "cell_type": "code",
   "execution_count": 36,
   "id": "d7ecd296-f064-4b50-b5d5-42bb628e30c3",
   "metadata": {},
   "outputs": [
    {
     "data": {
      "image/png": "[encoded data removed]",
      "text/plain": [
       "<Figure size 432x288 with 1 Axes>"
      ]
     },
     "metadata": {
      "needs_background": "light"
     },
     "output_type": "display_data"
    }
   ],
   "source": [
    "%matplotlib inline\n",
    "plt.scatter(x_test,y_test,color='red')\n",
    "plt.xlabel('Year',size=12)\n",
    "plt.ylabel('GDP',size=12)\n",
    "plt.show()"
   ]
  },
  {
   "cell_type": "code",
   "execution_count": 37,
   "id": "7fb33b86-82e4-48c0-aa81-48b6ada18ffa",
   "metadata": {},
   "outputs": [
    {
     "data": {
      "image/png": "[encoded data removed]",
      "text/plain": [
       "<Figure size 432x288 with 1 Axes>"
      ]
     },
     "metadata": {
      "needs_background": "light"
     },
     "output_type": "display_data"
    }
   ],
   "source": [
    "%matplotlib inline\n",
    "plt.scatter(x_train,y_train,color='red')\n",
    "plt.xlabel('Year',size=12)\n",
    "plt.ylabel('GDP',size=12)\n",
    "plt.plot(x_train,lasso_reg.predict(x_train),color='green')\n",
    "plt.show()"
   ]
  },
  {
   "cell_type": "code",
   "execution_count": 38,
   "id": "747b30a2-90bc-4dd2-b873-c4f49cb50505",
   "metadata": {},
   "outputs": [
    {
     "name": "stdout",
     "output_type": "stream",
     "text": [
      "[41.2]\n"
     ]
    }
   ],
   "source": [
    "from sklearn.tree import DecisionTreeRegressor\n",
    "regressor=DecisionTreeRegressor()\n",
    "regressor.fit(x,y)\n",
    "\n",
    "y_pred=regressor.predict([[10]])\n",
    "print(y_pred)\n"
   ]
  },
  {
   "cell_type": "code",
   "execution_count": 39,
   "id": "62c30b0a-f9cf-440c-8ca6-fbb159e785f4",
   "metadata": {},
   "outputs": [
    {
     "data": {
      "text/plain": [
       "1.0"
      ]
     },
     "execution_count": 39,
     "metadata": {},
     "output_type": "execute_result"
    }
   ],
   "source": [
    "regressor.score(x_train,y_train)"
   ]
  },
  {
   "cell_type": "code",
   "execution_count": 40,
   "id": "ee97813d-ac31-4ee3-a2f9-64e248b9d63b",
   "metadata": {},
   "outputs": [
    {
     "data": {
      "image/png": "[encoded data removed]",
      "text/plain": [
       "<Figure size 432x288 with 1 Axes>"
      ]
     },
     "metadata": {
      "needs_background": "light"
     },
     "output_type": "display_data"
    }
   ],
   "source": [
    "plt.scatter(x,y,color='red')\n",
    "plt.plot(x,regressor.predict(x),color='green')\n",
    "plt.title('Year Vs GDP')\n",
    "plt.xlabel('Year')\n",
    "plt.ylabel('GDP')\n",
    "plt.show()"
   ]
  },
  {
   "cell_type": "code",
   "execution_count": 41,
   "id": "ac625a53-0d01-4a8c-a4fa-ddea50d6f502",
   "metadata": {},
   "outputs": [],
   "source": [
    "df1=df.dropna()"
   ]
  },
  {
   "cell_type": "code",
   "execution_count": 42,
   "id": "805a3581-1659-49c7-b999-af4a6e3fae5f",
   "metadata": {},
   "outputs": [
    {
     "data": {
      "text/plain": [
       "(40, 8)"
      ]
     },
     "execution_count": 42,
     "metadata": {},
     "output_type": "execute_result"
    }
   ],
   "source": [
    "df.shape"
   ]
  },
  {
   "cell_type": "code",
   "execution_count": 43,
   "id": "302fb680-c875-408d-bb59-a9210059d2c3",
   "metadata": {},
   "outputs": [
    {
     "data": {
      "text/plain": [
       "(17, 8)"
      ]
     },
     "execution_count": 43,
     "metadata": {},
     "output_type": "execute_result"
    }
   ],
   "source": [
    "df1.shape"
   ]
  },
  {
   "cell_type": "code",
   "execution_count": 44,
   "id": "47a56492-bb1c-4c2d-b4a8-9b640c742ca2",
   "metadata": {},
   "outputs": [],
   "source": [
    "df2=df1.replace('%','',regex=True)"
   ]
  },
  {
   "cell_type": "code",
   "execution_count": 45,
   "id": "091cb17b-1d00-4d4d-a10d-6cb96147d665",
   "metadata": {
    "scrolled": true,
    "tags": []
   },
   "outputs": [
    {
     "data": {
      "text/html": [
       "<div>\n",
       "<style scoped>\n",
       "    .dataframe tbody tr th:only-of-type {\n",
       "        vertical-align: middle;\n",
       "    }\n",
       "\n",
       "    .dataframe tbody tr th {\n",
       "        vertical-align: top;\n",
       "    }\n",
       "\n",
       "    .dataframe thead th {\n",
       "        text-align: right;\n",
       "    }\n",
       "</style>\n",
       "<table border=\"1\" class=\"dataframe\">\n",
       "  <thead>\n",
       "    <tr style=\"text-align: right;\">\n",
       "      <th></th>\n",
       "      <th>Year</th>\n",
       "      <th>GDP</th>\n",
       "      <th>GDP per capita</th>\n",
       "      <th>GDP growth</th>\n",
       "      <th>Inflation rate</th>\n",
       "      <th>Unemployed rate</th>\n",
       "      <th>Government debt</th>\n",
       "      <th>Total Investment</th>\n",
       "    </tr>\n",
       "  </thead>\n",
       "  <tbody>\n",
       "    <tr>\n",
       "      <th>23</th>\n",
       "      <td>2003</td>\n",
       "      <td>221.9</td>\n",
       "      <td>1594</td>\n",
       "      <td>5.80</td>\n",
       "      <td>5.40</td>\n",
       "      <td>4.32</td>\n",
       "      <td>44.30</td>\n",
       "      <td>24.68</td>\n",
       "    </tr>\n",
       "    <tr>\n",
       "      <th>24</th>\n",
       "      <td>2004</td>\n",
       "      <td>241.9</td>\n",
       "      <td>1713</td>\n",
       "      <td>6.10</td>\n",
       "      <td>6.10</td>\n",
       "      <td>4.30</td>\n",
       "      <td>43.50</td>\n",
       "      <td>24.99</td>\n",
       "    </tr>\n",
       "    <tr>\n",
       "      <th>25</th>\n",
       "      <td>2005</td>\n",
       "      <td>265.5</td>\n",
       "      <td>1855</td>\n",
       "      <td>6.30</td>\n",
       "      <td>7.00</td>\n",
       "      <td>4.25</td>\n",
       "      <td>42.30</td>\n",
       "      <td>25.83</td>\n",
       "    </tr>\n",
       "    <tr>\n",
       "      <th>26</th>\n",
       "      <td>2006</td>\n",
       "      <td>291.4</td>\n",
       "      <td>2018</td>\n",
       "      <td>6.90</td>\n",
       "      <td>6.80</td>\n",
       "      <td>3.59</td>\n",
       "      <td>42.30</td>\n",
       "      <td>26.14</td>\n",
       "    </tr>\n",
       "    <tr>\n",
       "      <th>27</th>\n",
       "      <td>2007</td>\n",
       "      <td>319.7</td>\n",
       "      <td>2183</td>\n",
       "      <td>6.50</td>\n",
       "      <td>9.10</td>\n",
       "      <td>3.77</td>\n",
       "      <td>41.90</td>\n",
       "      <td>26.18</td>\n",
       "    </tr>\n",
       "    <tr>\n",
       "      <th>28</th>\n",
       "      <td>2008</td>\n",
       "      <td>344.0</td>\n",
       "      <td>2325</td>\n",
       "      <td>5.50</td>\n",
       "      <td>8.90</td>\n",
       "      <td>4.07</td>\n",
       "      <td>40.60</td>\n",
       "      <td>26.20</td>\n",
       "    </tr>\n",
       "    <tr>\n",
       "      <th>29</th>\n",
       "      <td>2009</td>\n",
       "      <td>365.0</td>\n",
       "      <td>2441</td>\n",
       "      <td>5.30</td>\n",
       "      <td>4.90</td>\n",
       "      <td>5.00</td>\n",
       "      <td>39.50</td>\n",
       "      <td>26.21</td>\n",
       "    </tr>\n",
       "    <tr>\n",
       "      <th>30</th>\n",
       "      <td>2010</td>\n",
       "      <td>391.7</td>\n",
       "      <td>2592</td>\n",
       "      <td>6.00</td>\n",
       "      <td>9.40</td>\n",
       "      <td>3.37</td>\n",
       "      <td>35.50</td>\n",
       "      <td>26.25</td>\n",
       "    </tr>\n",
       "    <tr>\n",
       "      <th>31</th>\n",
       "      <td>2011</td>\n",
       "      <td>425.8</td>\n",
       "      <td>2785</td>\n",
       "      <td>6.50</td>\n",
       "      <td>11.50</td>\n",
       "      <td>3.71</td>\n",
       "      <td>36.60</td>\n",
       "      <td>27.42</td>\n",
       "    </tr>\n",
       "    <tr>\n",
       "      <th>32</th>\n",
       "      <td>2012</td>\n",
       "      <td>460.8</td>\n",
       "      <td>2979</td>\n",
       "      <td>6.30</td>\n",
       "      <td>6.20</td>\n",
       "      <td>4.04</td>\n",
       "      <td>36.20</td>\n",
       "      <td>28.26</td>\n",
       "    </tr>\n",
       "    <tr>\n",
       "      <th>33</th>\n",
       "      <td>2013</td>\n",
       "      <td>496.5</td>\n",
       "      <td>3171</td>\n",
       "      <td>6.00</td>\n",
       "      <td>7.50</td>\n",
       "      <td>4.43</td>\n",
       "      <td>35.80</td>\n",
       "      <td>28.39</td>\n",
       "    </tr>\n",
       "    <tr>\n",
       "      <th>34</th>\n",
       "      <td>2014</td>\n",
       "      <td>537.3</td>\n",
       "      <td>3396</td>\n",
       "      <td>6.30</td>\n",
       "      <td>7.00</td>\n",
       "      <td>4.41</td>\n",
       "      <td>35.30</td>\n",
       "      <td>28.58</td>\n",
       "    </tr>\n",
       "    <tr>\n",
       "      <th>35</th>\n",
       "      <td>2015</td>\n",
       "      <td>581.6</td>\n",
       "      <td>3638</td>\n",
       "      <td>6.80</td>\n",
       "      <td>6.20</td>\n",
       "      <td>4.42</td>\n",
       "      <td>33.60</td>\n",
       "      <td>28.89</td>\n",
       "    </tr>\n",
       "    <tr>\n",
       "      <th>36</th>\n",
       "      <td>2016</td>\n",
       "      <td>629.9</td>\n",
       "      <td>3900</td>\n",
       "      <td>7.20</td>\n",
       "      <td>5.70</td>\n",
       "      <td>4.35</td>\n",
       "      <td>33.30</td>\n",
       "      <td>29.65</td>\n",
       "    </tr>\n",
       "    <tr>\n",
       "      <th>37</th>\n",
       "      <td>2017</td>\n",
       "      <td>690.5</td>\n",
       "      <td>4231</td>\n",
       "      <td>7.60</td>\n",
       "      <td>5.60</td>\n",
       "      <td>4.37</td>\n",
       "      <td>32.60</td>\n",
       "      <td>30.51</td>\n",
       "    </tr>\n",
       "    <tr>\n",
       "      <th>38</th>\n",
       "      <td>2018</td>\n",
       "      <td>753.4</td>\n",
       "      <td>4630</td>\n",
       "      <td>7.90</td>\n",
       "      <td>5.60</td>\n",
       "      <td>4.30</td>\n",
       "      <td>34.00</td>\n",
       "      <td>31.23</td>\n",
       "    </tr>\n",
       "    <tr>\n",
       "      <th>39</th>\n",
       "      <td>2019</td>\n",
       "      <td>817.6</td>\n",
       "      <td>5028</td>\n",
       "      <td>8.10</td>\n",
       "      <td>5.50</td>\n",
       "      <td>4.29</td>\n",
       "      <td>33.50</td>\n",
       "      <td>31.60</td>\n",
       "    </tr>\n",
       "  </tbody>\n",
       "</table>\n",
       "</div>"
      ],
      "text/plain": [
       "    Year   GDP  GDP per capita GDP growth Inflation rate Unemployed rate  \\\n",
       "23  2003  221.9           1594       5.80           5.40            4.32   \n",
       "24  2004  241.9           1713       6.10           6.10            4.30   \n",
       "25  2005  265.5           1855       6.30           7.00            4.25   \n",
       "26  2006  291.4           2018       6.90           6.80            3.59   \n",
       "27  2007  319.7           2183       6.50           9.10            3.77   \n",
       "28  2008  344.0           2325       5.50           8.90            4.07   \n",
       "29  2009  365.0           2441       5.30           4.90            5.00   \n",
       "30  2010  391.7           2592       6.00           9.40            3.37   \n",
       "31  2011  425.8           2785       6.50          11.50            3.71   \n",
       "32  2012  460.8           2979       6.30           6.20            4.04   \n",
       "33  2013  496.5           3171       6.00           7.50            4.43   \n",
       "34  2014  537.3           3396       6.30           7.00            4.41   \n",
       "35  2015  581.6           3638       6.80           6.20            4.42   \n",
       "36  2016  629.9           3900       7.20           5.70            4.35   \n",
       "37  2017  690.5           4231       7.60           5.60            4.37   \n",
       "38  2018  753.4           4630       7.90           5.60            4.30   \n",
       "39  2019  817.6           5028       8.10           5.50            4.29   \n",
       "\n",
       "   Government debt Total Investment  \n",
       "23           44.30            24.68  \n",
       "24           43.50            24.99  \n",
       "25           42.30            25.83  \n",
       "26           42.30            26.14  \n",
       "27           41.90            26.18  \n",
       "28           40.60            26.20  \n",
       "29           39.50            26.21  \n",
       "30           35.50            26.25  \n",
       "31           36.60            27.42  \n",
       "32           36.20            28.26  \n",
       "33           35.80            28.39  \n",
       "34           35.30            28.58  \n",
       "35           33.60            28.89  \n",
       "36           33.30            29.65  \n",
       "37           32.60            30.51  \n",
       "38           34.00            31.23  \n",
       "39           33.50            31.60  "
      ]
     },
     "execution_count": 45,
     "metadata": {},
     "output_type": "execute_result"
    }
   ],
   "source": [
    "df3=df2.replace({\n",
    "    'GDP per capita': ','\n",
    "},'',regex=True)\n",
    "df3"
   ]
  },
  {
   "cell_type": "code",
   "execution_count": 46,
   "id": "67b65283-131a-4b9e-864b-e1328784c8ae",
   "metadata": {},
   "outputs": [
    {
     "name": "stdout",
     "output_type": "stream",
     "text": [
      "<class 'pandas.core.frame.DataFrame'>\n",
      "Int64Index: 17 entries, 23 to 39\n",
      "Data columns (total 8 columns):\n",
      " #   Column            Non-Null Count  Dtype  \n",
      "---  ------            --------------  -----  \n",
      " 0   Year              17 non-null     int64  \n",
      " 1   GDP               17 non-null     float64\n",
      " 2   GDP per capita    17 non-null     object \n",
      " 3   GDP growth        17 non-null     object \n",
      " 4   Inflation rate    17 non-null     object \n",
      " 5   Unemployed rate   17 non-null     object \n",
      " 6   Government debt   17 non-null     object \n",
      " 7   Total Investment  17 non-null     object \n",
      "dtypes: float64(1), int64(1), object(6)\n",
      "memory usage: 1.2+ KB\n"
     ]
    }
   ],
   "source": [
    "df3.info()"
   ]
  },
  {
   "cell_type": "code",
   "execution_count": 47,
   "id": "4d1dd5ba-ffc5-48fd-8530-5d6ca447299f",
   "metadata": {},
   "outputs": [
    {
     "name": "stdout",
     "output_type": "stream",
     "text": [
      "<class 'pandas.core.frame.DataFrame'>\n",
      "Int64Index: 17 entries, 23 to 39\n",
      "Data columns (total 8 columns):\n",
      " #   Column            Non-Null Count  Dtype  \n",
      "---  ------            --------------  -----  \n",
      " 0   Year              17 non-null     int64  \n",
      " 1   GDP               17 non-null     float64\n",
      " 2   GDP per capita    17 non-null     object \n",
      " 3   GDP growth        17 non-null     float64\n",
      " 4   Inflation rate    17 non-null     object \n",
      " 5   Unemployed rate   17 non-null     object \n",
      " 6   Government debt   17 non-null     object \n",
      " 7   Total Investment  17 non-null     object \n",
      "dtypes: float64(2), int64(1), object(5)\n",
      "memory usage: 1.2+ KB\n"
     ]
    }
   ],
   "source": [
    "df3['GDP growth']=df3['GDP growth'].apply(float)\n",
    "df3.info()"
   ]
  },
  {
   "cell_type": "code",
   "execution_count": 48,
   "id": "f63cb87a-b03d-4fdf-93db-6fec7b6da6d0",
   "metadata": {},
   "outputs": [],
   "source": [
    "df3['GDP per capita']=df3['GDP per capita'].astype(int)\n",
    "df3['GDP growth']=df3['GDP growth'].astype(float)\n",
    "df3['Inflation rate']=df3['Inflation rate'].astype(float)\n",
    "df3['Unemployed rate']=df3['Unemployed rate'].astype(float)\n",
    "df3['Government debt']=df3['Government debt'].astype(float)\n",
    "df3['Total Investment']=df3['Total Investment'].astype(float)\n",
    "\n"
   ]
  },
  {
   "cell_type": "code",
   "execution_count": 49,
   "id": "064f04dc-fe66-4342-9fa0-b8c3d013ceea",
   "metadata": {},
   "outputs": [
    {
     "name": "stdout",
     "output_type": "stream",
     "text": [
      "<class 'pandas.core.frame.DataFrame'>\n",
      "Int64Index: 17 entries, 23 to 39\n",
      "Data columns (total 8 columns):\n",
      " #   Column            Non-Null Count  Dtype  \n",
      "---  ------            --------------  -----  \n",
      " 0   Year              17 non-null     int64  \n",
      " 1   GDP               17 non-null     float64\n",
      " 2   GDP per capita    17 non-null     int32  \n",
      " 3   GDP growth        17 non-null     float64\n",
      " 4   Inflation rate    17 non-null     float64\n",
      " 5   Unemployed rate   17 non-null     float64\n",
      " 6   Government debt   17 non-null     float64\n",
      " 7   Total Investment  17 non-null     float64\n",
      "dtypes: float64(6), int32(1), int64(1)\n",
      "memory usage: 1.1 KB\n"
     ]
    }
   ],
   "source": [
    "df3.info()"
   ]
  },
  {
   "cell_type": "code",
   "execution_count": 50,
   "id": "3584e9cc-4c2a-4073-8289-414f19500828",
   "metadata": {},
   "outputs": [],
   "source": [
    "x=df3['Year']\n",
    "y=df3['Total Investment']\n",
    "import seaborn as sns"
   ]
  },
  {
   "cell_type": "code",
   "execution_count": 51,
   "id": "41f59840-3701-4773-93a6-3a4129f0d430",
   "metadata": {},
   "outputs": [
    {
     "name": "stderr",
     "output_type": "stream",
     "text": [
      "C:\\Users\\nafissaad\\AppData\\Local\\Programs\\Python\\Python37\\lib\\site-packages\\seaborn\\_decorators.py:43: FutureWarning: Pass the following variables as keyword args: x, y. From version 0.12, the only valid positional argument will be `data`, and passing other arguments without an explicit keyword will result in an error or misinterpretation.\n",
      "  FutureWarning\n"
     ]
    },
    {
     "data": {
      "image/png": "[encoded data removed]",
      "text/plain": [
       "<Figure size 864x576 with 1 Axes>"
      ]
     },
     "metadata": {
      "needs_background": "light"
     },
     "output_type": "display_data"
    }
   ],
   "source": [
    "plt.figure(figsize=(12,8))\n",
    "ax=sns.barplot(x,y.index)\n",
    "plt.xlabel('Year')\n",
    "plt.ylabel('Total Investment')\n",
    "plt.title('Investment over the year')\n",
    "for patch in ax.patches:\n",
    "    width=patch.get_width()\n",
    "    height=patch.get_height()\n",
    "    x=patch.get_x()\n",
    "    y=patch.get_y()\n",
    "    plt.text(width + x, height + y, '{:.1f} '.format(width))\n"
   ]
  },
  {
   "cell_type": "code",
   "execution_count": 52,
   "id": "69559708-b246-4274-9d5a-b9244d6731c6",
   "metadata": {},
   "outputs": [
    {
     "data": {
      "image/png": "[encoded data removed]",
      "text/plain": [
       "<Figure size 432x288 with 1 Axes>"
      ]
     },
     "metadata": {
      "needs_background": "light"
     },
     "output_type": "display_data"
    }
   ],
   "source": [
    "plt.plot(df3.Year,df3['GDP per capita'],color='green')\n",
    "plt.title('GDP Per Capita Over the Year')\n",
    "plt.xlabel('Year')\n",
    "plt.ylabel('GDP per capita')\n",
    "plt.show()"
   ]
  }
 ],
 "metadata": {
  "kernelspec": {
   "display_name": "Python 3 (ipykernel)",
   "language": "python",
   "name": "python3"
  },
  "language_info": {
   "codemirror_mode": {
    "name": "ipython",
    "version": 3
   },
   "file_extension": ".py",
   "mimetype": "text/x-python",
   "name": "python",
   "nbconvert_exporter": "python",
   "pygments_lexer": "ipython3",
   "version": "3.7.3"
  }
 },
 "nbformat": 4,
 "nbformat_minor": 5
}
