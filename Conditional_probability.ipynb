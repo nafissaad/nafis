{
 "cells": [
  {
   "cell_type": "code",
   "execution_count": 1,
   "id": "0d4f7010-47e2-416e-bc28-a9cbab180fb1",
   "metadata": {},
   "outputs": [],
   "source": [
    "from itertools import product"
   ]
  },
  {
   "cell_type": "code",
   "execution_count": 2,
   "id": "ea8eee21-219c-4657-b80f-9d7593e97d42",
   "metadata": {},
   "outputs": [
    {
     "data": {
      "text/plain": [
       "[(1, 'a'), (1, 'b'), (1, 'c'), (2, 'a'), (2, 'b'), (2, 'c')]"
      ]
     },
     "execution_count": 2,
     "metadata": {},
     "output_type": "execute_result"
    }
   ],
   "source": [
    "list(product([1,2],['a','b','c']))"
   ]
  },
  {
   "cell_type": "code",
   "execution_count": 3,
   "id": "b00cf43b-951c-43ac-884c-9e8dfa9ac044",
   "metadata": {},
   "outputs": [],
   "source": [
    "n=3\n",
    "omega=set(product(['H','T'],repeat=n))"
   ]
  },
  {
   "cell_type": "code",
   "execution_count": 4,
   "id": "9e91dd6b-1cc8-456a-9fc7-f6e6606f9c0a",
   "metadata": {},
   "outputs": [
    {
     "data": {
      "text/plain": [
       "{('H', 'H', 'H'),\n",
       " ('H', 'H', 'T'),\n",
       " ('H', 'T', 'H'),\n",
       " ('H', 'T', 'T'),\n",
       " ('T', 'H', 'H'),\n",
       " ('T', 'H', 'T'),\n",
       " ('T', 'T', 'H'),\n",
       " ('T', 'T', 'T')}"
      ]
     },
     "execution_count": 4,
     "metadata": {},
     "output_type": "execute_result"
    }
   ],
   "source": [
    "omega"
   ]
  },
  {
   "cell_type": "code",
   "execution_count": 5,
   "id": "fac2c68b-9963-402f-88c4-b38fd735fe04",
   "metadata": {},
   "outputs": [
    {
     "data": {
      "text/plain": [
       "8"
      ]
     },
     "execution_count": 5,
     "metadata": {},
     "output_type": "execute_result"
    }
   ],
   "source": [
    "len(omega)"
   ]
  },
  {
   "cell_type": "code",
   "execution_count": 6,
   "id": "150ade34-0ee4-441f-b715-f152ca2918cc",
   "metadata": {},
   "outputs": [],
   "source": [
    "A={om for om in omega if om[0]=='T'}\n",
    "B={om for om in omega if om.count('T')==2}"
   ]
  },
  {
   "cell_type": "code",
   "execution_count": 7,
   "id": "581d8ae7-7985-4a42-8c86-7a8aa45fe5c8",
   "metadata": {},
   "outputs": [
    {
     "data": {
      "text/plain": [
       "{('T', 'H', 'H'), ('T', 'H', 'T'), ('T', 'T', 'H'), ('T', 'T', 'T')}"
      ]
     },
     "execution_count": 7,
     "metadata": {},
     "output_type": "execute_result"
    }
   ],
   "source": [
    "A"
   ]
  },
  {
   "cell_type": "code",
   "execution_count": 8,
   "id": "ee20fb6e-1109-4ace-8d9f-22063b352956",
   "metadata": {},
   "outputs": [
    {
     "data": {
      "text/plain": [
       "{('H', 'T', 'T'), ('T', 'H', 'T'), ('T', 'T', 'H')}"
      ]
     },
     "execution_count": 8,
     "metadata": {},
     "output_type": "execute_result"
    }
   ],
   "source": [
    "B"
   ]
  },
  {
   "cell_type": "code",
   "execution_count": 9,
   "id": "a6370949-bb36-4c02-908a-34b364f3b854",
   "metadata": {},
   "outputs": [
    {
     "data": {
      "text/plain": [
       "8"
      ]
     },
     "execution_count": 9,
     "metadata": {},
     "output_type": "execute_result"
    }
   ],
   "source": [
    "len(omega)"
   ]
  },
  {
   "cell_type": "code",
   "execution_count": 10,
   "id": "37e8f72d-5d8f-4f96-abf2-11240be631cd",
   "metadata": {},
   "outputs": [],
   "source": [
    "def prob(x):\n",
    "    return len(x)/len(omega)"
   ]
  },
  {
   "cell_type": "code",
   "execution_count": 11,
   "id": "2281c49d-d1d9-483f-a4ea-f4f66e61fe5b",
   "metadata": {},
   "outputs": [
    {
     "data": {
      "text/plain": [
       "{('T', 'H', 'T'), ('T', 'T', 'H')}"
      ]
     },
     "execution_count": 11,
     "metadata": {},
     "output_type": "execute_result"
    }
   ],
   "source": [
    "A & B"
   ]
  },
  {
   "cell_type": "code",
   "execution_count": 12,
   "id": "a41d9578-7b47-4edb-90ff-ce19ca743b67",
   "metadata": {},
   "outputs": [
    {
     "data": {
      "text/plain": [
       "{('H', 'T', 'T'),\n",
       " ('T', 'H', 'H'),\n",
       " ('T', 'H', 'T'),\n",
       " ('T', 'T', 'H'),\n",
       " ('T', 'T', 'T')}"
      ]
     },
     "execution_count": 12,
     "metadata": {},
     "output_type": "execute_result"
    }
   ],
   "source": [
    "A | B"
   ]
  },
  {
   "cell_type": "code",
   "execution_count": 13,
   "id": "85835183-ad0d-4db6-a721-e07e5806c3ef",
   "metadata": {},
   "outputs": [],
   "source": [
    "def cond_prob(X,Y):\n",
    "    return len(X & Y)/len(Y)"
   ]
  },
  {
   "cell_type": "code",
   "execution_count": 14,
   "id": "1e0268c6-5d80-4589-9312-e50a07c0d364",
   "metadata": {},
   "outputs": [
    {
     "data": {
      "text/plain": [
       "0.5"
      ]
     },
     "execution_count": 14,
     "metadata": {},
     "output_type": "execute_result"
    }
   ],
   "source": [
    "prob(A)"
   ]
  },
  {
   "cell_type": "code",
   "execution_count": 15,
   "id": "7d9b0938-ca7e-4c82-ae01-aa8fb9025ea9",
   "metadata": {},
   "outputs": [
    {
     "data": {
      "text/plain": [
       "0.375"
      ]
     },
     "execution_count": 15,
     "metadata": {},
     "output_type": "execute_result"
    }
   ],
   "source": [
    "prob(B)"
   ]
  },
  {
   "cell_type": "code",
   "execution_count": 16,
   "id": "05433397-674c-4641-a5ac-3fa11b951751",
   "metadata": {},
   "outputs": [
    {
     "data": {
      "text/plain": [
       "0.6666666666666666"
      ]
     },
     "execution_count": 16,
     "metadata": {},
     "output_type": "execute_result"
    }
   ],
   "source": [
    "cond_prob(A,B)"
   ]
  },
  {
   "cell_type": "code",
   "execution_count": 17,
   "id": "fc6d7412-404b-4112-acb6-088992ae44b9",
   "metadata": {},
   "outputs": [
    {
     "data": {
      "text/plain": [
       "0.25"
      ]
     },
     "execution_count": 17,
     "metadata": {},
     "output_type": "execute_result"
    }
   ],
   "source": [
    "prob(A & B)#Related to each other"
   ]
  },
  {
   "cell_type": "code",
   "execution_count": 18,
   "id": "a2cb5634-7d4c-423d-a86a-b1132be751c0",
   "metadata": {},
   "outputs": [
    {
     "data": {
      "text/plain": [
       "0.1875"
      ]
     },
     "execution_count": 18,
     "metadata": {},
     "output_type": "execute_result"
    }
   ],
   "source": [
    "prob(A) * prob(B)# Independent"
   ]
  },
  {
   "cell_type": "code",
   "execution_count": 19,
   "id": "5ce2386d-d78c-4e35-8aa3-bee930b35723",
   "metadata": {},
   "outputs": [],
   "source": [
    "def are_indep(X,Y):\n",
    "    return prob(X & Y)==prob(X) * prob(Y)"
   ]
  },
  {
   "cell_type": "code",
   "execution_count": 20,
   "id": "1407d469-7c73-41df-9764-d4999d6cd92c",
   "metadata": {},
   "outputs": [
    {
     "data": {
      "text/plain": [
       "False"
      ]
     },
     "execution_count": 20,
     "metadata": {},
     "output_type": "execute_result"
    }
   ],
   "source": [
    "are_indep(A,B)"
   ]
  },
  {
   "cell_type": "code",
   "execution_count": 21,
   "id": "dff70f5d-e6ab-43e3-aa3d-3abfa664c1ad",
   "metadata": {},
   "outputs": [],
   "source": [
    "C={om for om in omega if om[1]==\"H\"}"
   ]
  },
  {
   "cell_type": "code",
   "execution_count": 22,
   "id": "8efef804-cc64-40c7-b1b2-51c05eb36792",
   "metadata": {},
   "outputs": [
    {
     "data": {
      "text/plain": [
       "True"
      ]
     },
     "execution_count": 22,
     "metadata": {},
     "output_type": "execute_result"
    }
   ],
   "source": [
    "are_indep(A,C)"
   ]
  },
  {
   "cell_type": "code",
   "execution_count": null,
   "id": "12fe8eab",
   "metadata": {},
   "outputs": [],
   "source": []
  }
 ],
 "metadata": {
  "kernelspec": {
   "display_name": "Python 3 (ipykernel)",
   "language": "python",
   "name": "python3"
  },
  "language_info": {
   "codemirror_mode": {
    "name": "ipython",
    "version": 3
   },
   "file_extension": ".py",
   "mimetype": "text/x-python",
   "name": "python",
   "nbconvert_exporter": "python",
   "pygments_lexer": "ipython3",
   "version": "3.7.3"
  }
 },
 "nbformat": 4,
 "nbformat_minor": 5
}
