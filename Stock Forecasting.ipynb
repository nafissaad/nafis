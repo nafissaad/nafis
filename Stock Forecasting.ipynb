{
 "cells": [
  {
   "cell_type": "code",
   "execution_count": 4,
   "id": "b7c62cff",
   "metadata": {},
   "outputs": [],
   "source": [
    "import yfinance as yf\n",
    "import matplotlib.pyplot as plt\n",
    "import pandas as pd\n",
    "from datetime import datetime, timedelta"
   ]
  },
  {
   "cell_type": "code",
   "execution_count": 17,
   "id": "215558ea",
   "metadata": {},
   "outputs": [],
   "source": [
    "#define the ticker symbol\n",
    "tickerSymbol = 'TSLA'"
   ]
  },
  {
   "cell_type": "code",
   "execution_count": 18,
   "id": "ec62e899",
   "metadata": {},
   "outputs": [],
   "source": [
    "#get data on this ticker\n",
    "tickerData = yf.Ticker(tickerSymbol)"
   ]
  },
  {
   "cell_type": "code",
   "execution_count": 19,
   "id": "d78a9ee4",
   "metadata": {},
   "outputs": [],
   "source": [
    "#get the historical prices for this ticker\n",
    "tickerDf = tickerData.history(interval='1d', start='2019-1-2', end='2020-4-10')"
   ]
  },
  {
   "cell_type": "code",
   "execution_count": 20,
   "id": "6b2afbde",
   "metadata": {},
   "outputs": [],
   "source": [
    "priceData = tickerDf.Open"
   ]
  },
  {
   "cell_type": "code",
   "execution_count": 21,
   "id": "2ed24815",
   "metadata": {},
   "outputs": [],
   "source": [
    "priceData = priceData.asfreq(pd.infer_freq(priceData.index))"
   ]
  },
  {
   "cell_type": "code",
   "execution_count": 22,
   "id": "50f66ff3",
   "metadata": {},
   "outputs": [
    {
     "data": {
      "text/plain": [
       "Date\n",
       "2019-01-02     61.220001\n",
       "2019-01-03     61.400002\n",
       "2019-01-04     61.200001\n",
       "2019-01-05           NaN\n",
       "2019-01-06           NaN\n",
       "                 ...    \n",
       "2020-04-05           NaN\n",
       "2020-04-06    102.239998\n",
       "2020-04-07    109.000000\n",
       "2020-04-08    110.839996\n",
       "2020-04-09    112.417999\n",
       "Freq: D, Name: Open, Length: 464, dtype: float64"
      ]
     },
     "execution_count": 22,
     "metadata": {},
     "output_type": "execute_result"
    }
   ],
   "source": [
    "priceData"
   ]
  },
  {
   "cell_type": "code",
   "execution_count": 23,
   "id": "9cbcd1f8",
   "metadata": {},
   "outputs": [
    {
     "data": {
      "text/plain": [
       "Text(0.5, 1.0, 'TSLA Price Data')"
      ]
     },
     "execution_count": 23,
     "metadata": {},
     "output_type": "execute_result"
    },
    {
     "data": {
      "image/png": "[encoded data removed]",
      "text/plain": [
       "<Figure size 720x288 with 1 Axes>"
      ]
     },
     "metadata": {
      "needs_background": "light"
     },
     "output_type": "display_data"
    }
   ],
   "source": [
    "plt.figure(figsize=(10,4))\n",
    "plt.plot(priceData)\n",
    "for year in range(priceData.index[0].year, priceData.index[-1].year+1):\n",
    "    plt.axvline(datetime(year,1,1), color='k', linestyle='--', alpha=0.2)\n",
    "plt.title(\"%s Price Data\"%tickerSymbol, fontsize=20)"
   ]
  },
  {
   "cell_type": "code",
   "execution_count": 44,
   "id": "10b62f1e",
   "metadata": {},
   "outputs": [
    {
     "data": {
      "text/plain": [
       "(Date\n",
       " 2019-01-02         NaN\n",
       " 2019-01-03    0.002940\n",
       " 2019-01-04   -0.003257\n",
       " 2019-01-05    0.000000\n",
       " 2019-01-06    0.000000\n",
       "                 ...   \n",
       " 2020-04-05    0.000000\n",
       " 2020-04-06    0.003337\n",
       " 2020-04-07    0.066119\n",
       " 2020-04-08    0.016881\n",
       " 2020-04-09    0.014237\n",
       " Freq: D, Name: Open, Length: 464, dtype: float64,\n",
       " Date\n",
       " 2019-01-03    0.002940\n",
       " 2019-01-04   -0.003257\n",
       " 2019-01-05    0.000000\n",
       " 2019-01-06    0.000000\n",
       " 2019-01-07    0.051373\n",
       "                 ...   \n",
       " 2020-04-05    0.000000\n",
       " 2020-04-06    0.003337\n",
       " 2020-04-07    0.066119\n",
       " 2020-04-08    0.016881\n",
       " 2020-04-09    0.014237\n",
       " Freq: D, Name: Open, Length: 463, dtype: float64,\n",
       " Date\n",
       " 2019-01-03     True\n",
       " 2019-01-04    False\n",
       " 2019-01-05    False\n",
       " 2019-01-06    False\n",
       " 2019-01-07     True\n",
       "               ...  \n",
       " 2020-04-05    False\n",
       " 2020-04-06     True\n",
       " 2020-04-07     True\n",
       " 2020-04-08     True\n",
       " 2020-04-09     True\n",
       " Freq: D, Name: Open, Length: 463, dtype: bool,\n",
       " Date\n",
       " 2019-01-03    False\n",
       " 2019-01-04     True\n",
       " 2019-01-05    False\n",
       " 2019-01-06    False\n",
       " 2019-01-07    False\n",
       "               ...  \n",
       " 2020-04-05    False\n",
       " 2020-04-06    False\n",
       " 2020-04-07    False\n",
       " 2020-04-08    False\n",
       " 2020-04-09    False\n",
       " Freq: D, Name: Open, Length: 463, dtype: bool)"
      ]
     },
     "execution_count": 44,
     "metadata": {},
     "output_type": "execute_result"
    }
   ],
   "source": [
    "priceData.pct_change(),priceData.pct_change()[1:],priceData.pct_change()[1:]>0,priceData.pct_change()[1:]<0 #this series is sub_series"
   ]
  },
  {
   "cell_type": "code",
   "execution_count": 48,
   "id": "efb8a044",
   "metadata": {},
   "outputs": [],
   "source": [
    "def get_buying_selling_days(price_data, b, s):\n",
    "    \n",
    "    #get the percent change day after day\n",
    "    pct_change = price_data.pct_change()[1:]\n",
    "    \n",
    "    #this function checks the buying condition\n",
    "    def buying_condition(sub_series):\n",
    "        return (sub_series > 0).all()\n",
    "    \n",
    "    #this function checks the selling condition\n",
    "    def selling_condition(sub_series):\n",
    "        return (sub_series < 0).all()\n",
    "    \n",
    "    #get all buying days in the data\n",
    "    buying_days = pct_change.rolling(b).apply(buying_condition)\n",
    "    \n",
    "    #get all potential selling days in the data\n",
    "    potential_selling_days = pct_change.rolling(s).apply(selling_condition)\n",
    "    \n",
    "    #return a dictionary\n",
    "    return {'buying_days': buying_days, 'potential_selling_days': potential_selling_days}\n"
   ]
  },
  {
   "cell_type": "code",
   "execution_count": 60,
   "id": "2a892c83",
   "metadata": {},
   "outputs": [],
   "source": [
    "info_dit = get_buying_selling_days(priceData, 3, 1)"
   ]
  },
  {
   "cell_type": "code",
   "execution_count": 61,
   "id": "90c4199c",
   "metadata": {},
   "outputs": [],
   "source": [
    "buying_days = info_dict['buying_days']\n",
    "potential_selling_days = info_dict['potential_selling_days']"
   ]
  },
  {
   "cell_type": "code",
   "execution_count": 62,
   "id": "17c038a2",
   "metadata": {},
   "outputs": [],
   "source": [
    "#create dataframe to store information\n",
    "df_stocks = pd.DataFrame(index = buying_days.index)"
   ]
  },
  {
   "cell_type": "code",
   "execution_count": 63,
   "id": "fd67b026",
   "metadata": {},
   "outputs": [],
   "source": [
    "#populate df with buying days, possible selling days, and price\n",
    "df_stocks['buying_day'] = (buying_days == 1)\n",
    "df_stocks['potential_selling_day'] = (potential_selling_days == 1)\n",
    "df_stocks['price'] = priceData\n",
    "\n",
    "#only keep days that are buying or possible selling days\n",
    "df_stocks = df_stocks[(df_stocks.buying_day | df_stocks.potential_selling_day)]"
   ]
  },
  {
   "cell_type": "code",
   "execution_count": 64,
   "id": "1d7ea292",
   "metadata": {},
   "outputs": [
    {
     "data": {
      "text/plain": [
       "(Date\n",
       " 2019-01-03     True\n",
       " 2019-01-04    False\n",
       " 2019-01-05    False\n",
       " 2019-01-06    False\n",
       " 2019-01-07     True\n",
       "               ...  \n",
       " 2020-04-05    False\n",
       " 2020-04-06     True\n",
       " 2020-04-07     True\n",
       " 2020-04-08     True\n",
       " 2020-04-09     True\n",
       " Freq: D, Name: Open, Length: 463, dtype: bool,\n",
       " Date\n",
       " 2019-01-03    0.0\n",
       " 2019-01-04    1.0\n",
       " 2019-01-05    0.0\n",
       " 2019-01-06    0.0\n",
       " 2019-01-07    0.0\n",
       "              ... \n",
       " 2020-04-05    0.0\n",
       " 2020-04-06    0.0\n",
       " 2020-04-07    0.0\n",
       " 2020-04-08    0.0\n",
       " 2020-04-09    0.0\n",
       " Freq: D, Name: Open, Length: 463, dtype: float64)"
      ]
     },
     "execution_count": 64,
     "metadata": {},
     "output_type": "execute_result"
    }
   ],
   "source": [
    "buying_days == 1, potential_selling_days"
   ]
  },
  {
   "cell_type": "code",
   "execution_count": 29,
   "id": "8985e355",
   "metadata": {},
   "outputs": [
    {
     "data": {
      "text/html": [
       "<div>\n",
       "<style scoped>\n",
       "    .dataframe tbody tr th:only-of-type {\n",
       "        vertical-align: middle;\n",
       "    }\n",
       "\n",
       "    .dataframe tbody tr th {\n",
       "        vertical-align: top;\n",
       "    }\n",
       "\n",
       "    .dataframe thead th {\n",
       "        text-align: right;\n",
       "    }\n",
       "</style>\n",
       "<table border=\"1\" class=\"dataframe\">\n",
       "  <thead>\n",
       "    <tr style=\"text-align: right;\">\n",
       "      <th></th>\n",
       "      <th>buying_day</th>\n",
       "      <th>potential_selling_day</th>\n",
       "      <th>price</th>\n",
       "    </tr>\n",
       "    <tr>\n",
       "      <th>Date</th>\n",
       "      <th></th>\n",
       "      <th></th>\n",
       "      <th></th>\n",
       "    </tr>\n",
       "  </thead>\n",
       "  <tbody>\n",
       "    <tr>\n",
       "      <th>2019-01-03</th>\n",
       "      <td>True</td>\n",
       "      <td>False</td>\n",
       "      <td>61.400002</td>\n",
       "    </tr>\n",
       "    <tr>\n",
       "      <th>2019-01-04</th>\n",
       "      <td>False</td>\n",
       "      <td>True</td>\n",
       "      <td>61.200001</td>\n",
       "    </tr>\n",
       "    <tr>\n",
       "      <th>2019-01-07</th>\n",
       "      <td>True</td>\n",
       "      <td>False</td>\n",
       "      <td>64.344002</td>\n",
       "    </tr>\n",
       "    <tr>\n",
       "      <th>2019-01-08</th>\n",
       "      <td>True</td>\n",
       "      <td>False</td>\n",
       "      <td>68.391998</td>\n",
       "    </tr>\n",
       "    <tr>\n",
       "      <th>2019-01-09</th>\n",
       "      <td>False</td>\n",
       "      <td>True</td>\n",
       "      <td>67.099998</td>\n",
       "    </tr>\n",
       "  </tbody>\n",
       "</table>\n",
       "</div>"
      ],
      "text/plain": [
       "            buying_day  potential_selling_day      price\n",
       "Date                                                    \n",
       "2019-01-03        True                  False  61.400002\n",
       "2019-01-04       False                   True  61.200001\n",
       "2019-01-07        True                  False  64.344002\n",
       "2019-01-08        True                  False  68.391998\n",
       "2019-01-09       False                   True  67.099998"
      ]
     },
     "execution_count": 29,
     "metadata": {},
     "output_type": "execute_result"
    }
   ],
   "source": [
    "df_stocks.head()"
   ]
  },
  {
   "cell_type": "code",
   "execution_count": 30,
   "id": "5882dabe",
   "metadata": {},
   "outputs": [],
   "source": [
    "def check_cumulative_percent_change(price_data, buy_date, potential_sell_date):\n",
    "    \"\"\"\n",
    "    This helper function will check if the cumulative percent change\n",
    "    between a buying and potential selling day yields overall growth\n",
    "    \"\"\"\n",
    "    \n",
    "    #get the percent change day after day\n",
    "    pct_change = price_data.pct_change()[1:]\n",
    "    \n",
    "    sub_series = 1 + pct_change[buy_date + timedelta(hours=1): potential_sell_date]\n",
    "\n",
    "    return sub_series.product() > 1"
   ]
  },
  {
   "cell_type": "code",
   "execution_count": 69,
   "id": "9223e4d1",
   "metadata": {},
   "outputs": [
    {
     "data": {
      "text/plain": [
       "Date\n",
       "2019-01-04   -0.003257\n",
       "2019-01-07    0.051373\n",
       "2019-01-08    0.062912\n",
       "2019-01-09   -0.018891\n",
       "2019-01-10   -0.003279\n",
       "                ...   \n",
       "2020-04-03    0.059185\n",
       "2020-04-06    0.003337\n",
       "2020-04-07    0.066119\n",
       "2020-04-08    0.016881\n",
       "2020-04-09    0.014237\n",
       "Name: price, Length: 319, dtype: float64"
      ]
     },
     "execution_count": 69,
     "metadata": {},
     "output_type": "execute_result"
    }
   ],
   "source": [
    "df_stocks.price.pct_change()[1:]"
   ]
  },
  {
   "cell_type": "code",
   "execution_count": 31,
   "id": "142d5e6a",
   "metadata": {},
   "outputs": [],
   "source": [
    "def get_investing_result(df_stocks, starting_funds, verbose=False):\n",
    "    \n",
    "    #get a copy of price data\n",
    "    price_data = df_stocks.price\n",
    "    \n",
    "    #at start, not holding any shares\n",
    "    holding = False\n",
    "    \n",
    "    #init vars\n",
    "    current_funds = starting_funds\n",
    "    current_shares = 0\n",
    "    last_buy_date = None\n",
    "    \n",
    "    #init dict of buying and selling dates\n",
    "    events_list = []\n",
    "    \n",
    "    #for each buying day and potential selling day...\n",
    "    for date,data in df_stocks.iterrows():\n",
    "        \n",
    "        #if not currently holding shares, and this is a buying day...\n",
    "        if (not holding) and data.buying_day:\n",
    "            \n",
    "            #calculate the number of shares we can buy\n",
    "            num_shares_to_buy = int(current_funds / data.price)\n",
    "            \n",
    "            #update number of shares\n",
    "            current_shares += num_shares_to_buy\n",
    "            \n",
    "            #decrease current funds\n",
    "            current_funds -= num_shares_to_buy * data.price\n",
    "            \n",
    "            #set last buy date\n",
    "            last_buy_date = date\n",
    "            events_list.append(('b', date))\n",
    "            \n",
    "            #we are now holding shares\n",
    "            holding = True\n",
    "            \n",
    "            if verbose:\n",
    "                print('Bought %s shares at $%s on %s totaling $%s'%(num_shares_to_buy, data.price, date.date(), round(num_shares_to_buy*data.price,2)))\n",
    "        \n",
    "        #if you are holding shares, and this is a potential selling day...\n",
    "        elif holding and data.potential_selling_day:\n",
    "            \n",
    "            #check to make sure we're making a profit\n",
    "            if check_cumulative_percent_change(price_data, last_buy_date, date):\n",
    "                #add to our current funds\n",
    "                current_funds += current_shares * data.price\n",
    "                \n",
    "                if verbose:\n",
    "                    print('Sold %s shares at $%s on %s totaling $%s'%(current_shares, data.price, date.date(), round(num_shares_to_buy*data.price,2)))\n",
    "                    print('--------------------------------------')\n",
    "                    \n",
    "                #reset current shares\n",
    "                current_shares = 0\n",
    "                \n",
    "                #we are no longer holding shares\n",
    "                holding = False\n",
    "                \n",
    "                events_list.append(('s', date))\n",
    "                \n",
    "    #get the stock price at the end of the time span\n",
    "    final_stock_price = price_data[-1]\n",
    "        \n",
    "    #get the final total value of all assets (funds + stock value)\n",
    "    final_value = current_funds + final_stock_price * current_shares\n",
    "    \n",
    "    #return the percent change in value\n",
    "    return round((final_value - starting_funds) / starting_funds,2), events_list\n"
   ]
  },
  {
   "cell_type": "code",
   "execution_count": 32,
   "id": "a04906eb",
   "metadata": {},
   "outputs": [
    {
     "name": "stdout",
     "output_type": "stream",
     "text": [
      "Bought 162 shares at $61.400001525878906 on 2019-01-03 totaling $9946.8\n",
      "Sold 162 shares at $67.0999984741211 on 2019-01-09 totaling $10870.2\n",
      "--------------------------------------\n",
      "Bought 159 shares at $68.41799926757812 on 2019-01-11 totaling $10878.46\n",
      "Sold 159 shares at $69.22200012207031 on 2019-11-14 totaling $11006.3\n",
      "--------------------------------------\n",
      "Bought 157 shares at $70.12799835205078 on 2019-11-15 totaling $11010.1\n",
      "Sold 157 shares at $70.3499984741211 on 2019-11-19 totaling $11044.95\n",
      "--------------------------------------\n",
      "Bought 153 shares at $72.0 on 2019-11-20 totaling $11016.0\n",
      "Sold 153 shares at $85.75800323486328 on 2019-12-30 totaling $13120.97\n",
      "--------------------------------------\n",
      "Bought 155 shares at $84.9000015258789 on 2020-01-02 totaling $13159.5\n",
      "Sold 155 shares at $88.09400177001953 on 2020-01-06 totaling $13654.57\n",
      "--------------------------------------\n",
      "Bought 148 shares at $92.27999877929688 on 2020-01-07 totaling $13657.44\n",
      "Sold 148 shares at $96.35800170898438 on 2020-01-10 totaling $14260.98\n",
      "--------------------------------------\n",
      "Bought 144 shares at $98.69999694824219 on 2020-01-13 totaling $14212.8\n",
      "Sold 144 shares at $105.9520034790039 on 2020-01-15 totaling $15257.09\n",
      "--------------------------------------\n",
      "Bought 151 shares at $101.52200317382812 on 2020-01-17 totaling $15329.82\n",
      "Sold 151 shares at $112.8499984741211 on 2020-01-23 totaling $17040.35\n",
      "--------------------------------------\n",
      "Bought 149 shares at $114.1259994506836 on 2020-01-24 totaling $17004.77\n",
      "Sold 149 shares at $164.65199279785156 on 2020-02-05 totaling $24533.15\n",
      "--------------------------------------\n",
      "Bought 168 shares at $146.11000061035156 on 2020-02-07 totaling $24546.48\n",
      "Sold 168 shares at $153.75799560546875 on 2020-02-11 totaling $25831.34\n",
      "--------------------------------------\n",
      "Bought 166 shares at $155.57400512695312 on 2020-02-12 totaling $25825.28\n",
      "Sold 166 shares at $182.38999938964844 on 2020-02-20 totaling $30276.74\n",
      "--------------------------------------\n",
      "Bought 178 shares at $169.8000030517578 on 2020-02-25 totaling $30224.4\n"
     ]
    }
   ],
   "source": [
    "percent_change, events_list = get_investing_result(df_stocks, 10000, True)"
   ]
  },
  {
   "cell_type": "code",
   "execution_count": 33,
   "id": "47e6c2b7",
   "metadata": {},
   "outputs": [
    {
     "name": "stdout",
     "output_type": "stream",
     "text": [
      "1.01\n"
     ]
    }
   ],
   "source": [
    "print(percent_change)"
   ]
  },
  {
   "cell_type": "code",
   "execution_count": 34,
   "id": "8a7dbcfb",
   "metadata": {},
   "outputs": [
    {
     "data": {
      "text/plain": [
       "(34, 193)"
      ]
     },
     "execution_count": 34,
     "metadata": {},
     "output_type": "execute_result"
    },
    {
     "data": {
      "image/png": "[encoded data removed]",
      "text/plain": [
       "<Figure size 720x288 with 1 Axes>"
      ]
     },
     "metadata": {
      "needs_background": "light"
     },
     "output_type": "display_data"
    }
   ],
   "source": [
    "plt.figure(figsize=(10,4))\n",
    "plt.plot(priceData)\n",
    "\n",
    "y_lims = (int(priceData.min()*.95), int(priceData.max()*1.05))\n",
    "shaded_y_lims = int(priceData.min()*.5), int(priceData.max()*1.5)\n",
    "\n",
    "for idx, event in enumerate(events_list):\n",
    "    color = 'red' if event[0] == 'b' else 'blue'\n",
    "    plt.axvline(event[1], color=color, linestyle='--', alpha=0.4)\n",
    "    if event[0] == 's':\n",
    "        plt.fill_betweenx(range(*shaded_y_lims), \n",
    "                          event[1], events_list[idx-1][1], color='k', alpha=0.1)\n",
    "\n",
    "plt.title(\"%s Price Data\"%tickerSymbol, fontsize=20)\n",
    "plt.ylim(*y_lims)"
   ]
  },
  {
   "cell_type": "code",
   "execution_count": null,
   "id": "d829da1c",
   "metadata": {},
   "outputs": [],
   "source": []
  },
  {
   "cell_type": "code",
   "execution_count": null,
   "id": "992f2c5a",
   "metadata": {},
   "outputs": [],
   "source": []
  },
  {
   "cell_type": "code",
   "execution_count": null,
   "id": "0debdea4",
   "metadata": {},
   "outputs": [],
   "source": []
  }
 ],
 "metadata": {
  "kernelspec": {
   "display_name": "Python 3 (ipykernel)",
   "language": "python",
   "name": "python3"
  },
  "language_info": {
   "codemirror_mode": {
    "name": "ipython",
    "version": 3
   },
   "file_extension": ".py",
   "mimetype": "text/x-python",
   "name": "python",
   "nbconvert_exporter": "python",
   "pygments_lexer": "ipython3",
   "version": "3.7.3"
  }
 },
 "nbformat": 4,
 "nbformat_minor": 5
}
