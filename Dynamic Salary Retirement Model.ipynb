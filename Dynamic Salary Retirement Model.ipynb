{
 "cells": [
  {
   "cell_type": "code",
   "execution_count": 1,
   "id": "3197f816",
   "metadata": {},
   "outputs": [],
   "source": [
    "from dataclasses import dataclass\n",
    "import pandas as pd\n",
    "import random\n",
    "%matplotlib inline"
   ]
  },
  {
   "cell_type": "code",
   "execution_count": 2,
   "id": "46ad76c6",
   "metadata": {},
   "outputs": [
    {
     "data": {
      "text/plain": [
       "ModelInputs(start_salary=60000, promos_every_n_year=5, cost_o_living_raise=0.02, promo_rise=0.15, savings_rate=0.25, interest_rate=0.05, Desired_cash=1500000)"
      ]
     },
     "execution_count": 2,
     "metadata": {},
     "output_type": "execute_result"
    }
   ],
   "source": [
    "@dataclass\n",
    "class ModelInputs:\n",
    "    start_salary: int = 60000\n",
    "    promos_every_n_year : int = 5\n",
    "    cost_o_living_raise :float = 0.02\n",
    "    promo_rise: float = 0.15\n",
    "    savings_rate: float = 0.25\n",
    "    interest_rate: float = 0.05\n",
    "    Desired_cash: int = 1500000\n",
    "\n",
    "model_data = ModelInputs()\n",
    "model_data           "
   ]
  },
  {
   "cell_type": "code",
   "execution_count": 3,
   "id": "ac5a0903",
   "metadata": {},
   "outputs": [],
   "source": [
    "data = model_data"
   ]
  },
  {
   "cell_type": "code",
   "execution_count": 4,
   "id": "530e8f4a",
   "metadata": {},
   "outputs": [
    {
     "data": {
      "text/plain": [
       "0.15"
      ]
     },
     "execution_count": 4,
     "metadata": {},
     "output_type": "execute_result"
    }
   ],
   "source": [
    "data.promo_rise"
   ]
  },
  {
   "cell_type": "code",
   "execution_count": 5,
   "id": "50e5bfe8",
   "metadata": {},
   "outputs": [
    {
     "data": {
      "text/plain": [
       "61200.0"
      ]
     },
     "execution_count": 5,
     "metadata": {},
     "output_type": "execute_result"
    }
   ],
   "source": [
    "def salary_at_year(data,year):\n",
    "    Num_promos = int(year/data.promos_every_n_year)\n",
    "    salary_t = data.start_salary *(1+data.cost_o_living_raise)**year *(1+data.promo_rise)**Num_promos\n",
    "    return salary_t\n",
    "salary_at_year(data,1)"
   ]
  },
  {
   "cell_type": "code",
   "execution_count": 6,
   "id": "19905cda",
   "metadata": {},
   "outputs": [
    {
     "name": "stdout",
     "output_type": "stream",
     "text": [
      "The salary at year 1 is $ 61,200\n",
      "The salary at year 2 is $ 62,424\n",
      "The salary at year 3 is $ 63,672\n",
      "The salary at year 4 is $ 64,946\n",
      "The salary at year 5 is $ 76,182\n",
      "The salary at year 6 is $ 77,705\n"
     ]
    }
   ],
   "source": [
    "for  i in range(6):\n",
    "    year=i+1\n",
    "    salary = salary_at_year(model_data,year)\n",
    "    print(f'The salary at year {year} is ${salary: ,.0f}')\n",
    "    "
   ]
  },
  {
   "cell_type": "code",
   "execution_count": 7,
   "id": "86e0ec14",
   "metadata": {},
   "outputs": [
    {
     "data": {
      "text/plain": [
       "19045.3938552"
      ]
     },
     "execution_count": 7,
     "metadata": {},
     "output_type": "execute_result"
    }
   ],
   "source": [
    "year=3\n",
    "def cash_saved_during_year(data,year):\n",
    "    salary= salary_at_year(data,year)\n",
    "    cash_saved=salary*data.savings_rate\n",
    "    return cash_saved\n",
    "cash_saved_during_year(data,5)"
   ]
  },
  {
   "cell_type": "code",
   "execution_count": 8,
   "id": "4add6ed9",
   "metadata": {},
   "outputs": [],
   "source": [
    "def wealth_at_year(data,year,prior_wealth):\n",
    "    cash_saved = cash_saved_during_year(data,year)\n",
    "    wealth = prior_wealth*(1 + data.interest_rate) + cash_saved\n",
    "    return wealth"
   ]
  },
  {
   "cell_type": "code",
   "execution_count": 9,
   "id": "2b950984",
   "metadata": {},
   "outputs": [
    {
     "name": "stdout",
     "output_type": "stream",
     "text": [
      "The wealth at year 1 is $15300.\n",
      "The wealth at year 2 is $31671.\n",
      "The wealth at year 3 is $49173.\n",
      "The wealth at year 4 is $67868.\n",
      "The wealth at year 5 is $90307.\n",
      "The wealth at year 6 is $114248.\n",
      "The wealth at year 7 is $139775.\n",
      "The wealth at year 8 is $166975.\n",
      "The wealth at year 9 is $195939.\n",
      "The wealth at year 10 is $229918.\n",
      "The wealth at year 11 is $266080.\n",
      "The wealth at year 12 is $304542.\n",
      "The wealth at year 13 is $345431.\n",
      "The wealth at year 14 is $388878.\n",
      "The wealth at year 15 is $439025.\n",
      "The wealth at year 16 is $492294.\n",
      "The wealth at year 17 is $548853.\n",
      "The wealth at year 18 is $608878.\n",
      "The wealth at year 19 is $672557.\n",
      "The wealth at year 20 is $745168.\n",
      "The wealth at year 21 is $822190.\n",
      "The wealth at year 22 is $903859.\n",
      "The wealth at year 23 is $990422.\n",
      "The wealth at year 24 is $1082140.\n",
      "The wealth at year 25 is $1185745.\n",
      "The wealth at year 26 is $1295520.\n",
      "The wealth at year 27 is $1411793.\n",
      "The wealth at year 28 is $1534910.\n",
      "The wealth at year 29 is $1665234.\n",
      "The wealth at year 30 is $1811342.\n"
     ]
    }
   ],
   "source": [
    "prior_wealth = 0\n",
    "for i in range(30):\n",
    "    year = i+ 1\n",
    "    wealth = wealth_at_year(data,year,prior_wealth)\n",
    "    print(f'The wealth at year {year} is ${wealth:.0f}.')\n",
    "    \n",
    "    prior_wealth = wealth"
   ]
  },
  {
   "cell_type": "code",
   "execution_count": 10,
   "id": "f9fea6dd",
   "metadata": {},
   "outputs": [
    {
     "name": "stdout",
     "output_type": "stream",
     "text": [
      "wealths over time:\n",
      "The wealth at year1is $15,300.\n",
      "The wealth at year2is $31,671.\n",
      "The wealth at year3is $49,173.\n",
      "The wealth at year4is $67,868.\n",
      "The wealth at year5is $90,307.\n",
      "The wealth at year6is $114,248.\n",
      "The wealth at year7is $139,775.\n",
      "The wealth at year8is $166,975.\n",
      "The wealth at year9is $195,939.\n",
      "The wealth at year10is $229,918.\n",
      "The wealth at year11is $266,080.\n",
      "The wealth at year12is $304,542.\n",
      "The wealth at year13is $345,431.\n",
      "The wealth at year14is $388,878.\n",
      "The wealth at year15is $439,025.\n",
      "The wealth at year16is $492,294.\n",
      "The wealth at year17is $548,853.\n",
      "The wealth at year18is $608,878.\n",
      "The wealth at year19is $672,557.\n",
      "The wealth at year20is $745,168.\n",
      "The wealth at year21is $822,190.\n",
      "The wealth at year22is $903,859.\n",
      "The wealth at year23is $990,422.\n",
      "The wealth at year24is $1,082,140.\n",
      "The wealth at year25is $1,185,745.\n",
      "The wealth at year26is $1,295,520.\n",
      "The wealth at year27is $1,411,793.\n",
      "The wealth at year28is $1,534,910.\n",
      "\n",
      "Retirement:\n",
      "It will take28 years to retire.\n"
     ]
    },
    {
     "data": {
      "text/plain": [
       "28"
      ]
     },
     "execution_count": 10,
     "metadata": {},
     "output_type": "execute_result"
    }
   ],
   "source": [
    "prior_wealth = 0\n",
    "wealth = 0\n",
    "year = 0\n",
    "print('wealths over time:')\n",
    "while wealth < data.Desired_cash:\n",
    "    year = year + 1\n",
    "    wealth = wealth_at_year(data,year,prior_wealth)\n",
    "    print(f'The wealth at year{year}is ${wealth:,.0f}.')\n",
    "    prior_wealth = wealth\n",
    "print('\\nRetirement:')\n",
    "print(f'It will take{year} years to retire.')\n",
    "year"
   ]
  },
  {
   "cell_type": "code",
   "execution_count": 11,
   "id": "3e31e393",
   "metadata": {},
   "outputs": [],
   "source": [
    "def get_salaries_wealths_df(data):\n",
    "    prior_wealth = 0  \n",
    "    wealth = 0\n",
    "    \n",
    "    year = 0  \n",
    "    \n",
    "    df_data_tups = []\n",
    "    while wealth < data.Desired_cash:\n",
    "        year = year + 1\n",
    "        salary = salary_at_year(data, year)\n",
    "        wealth = wealth_at_year(model_data, year, prior_wealth)\n",
    "\n",
    "        prior_wealth = wealth\n",
    "        \n",
    "        df_data_tups.append((year, salary, wealth))\n",
    "        \n",
    "    df = pd.DataFrame(df_data_tups, columns=['Year', 'Salary', 'Wealth'])\n",
    "    \n",
    "    return df"
   ]
  },
  {
   "cell_type": "code",
   "execution_count": 12,
   "id": "e0d09cca",
   "metadata": {},
   "outputs": [
    {
     "data": {
      "text/html": [
       "<div>\n",
       "<style scoped>\n",
       "    .dataframe tbody tr th:only-of-type {\n",
       "        vertical-align: middle;\n",
       "    }\n",
       "\n",
       "    .dataframe tbody tr th {\n",
       "        vertical-align: top;\n",
       "    }\n",
       "\n",
       "    .dataframe thead th {\n",
       "        text-align: right;\n",
       "    }\n",
       "</style>\n",
       "<table border=\"1\" class=\"dataframe\">\n",
       "  <thead>\n",
       "    <tr style=\"text-align: right;\">\n",
       "      <th></th>\n",
       "      <th>Year</th>\n",
       "      <th>Salary</th>\n",
       "      <th>Wealth</th>\n",
       "    </tr>\n",
       "  </thead>\n",
       "  <tbody>\n",
       "    <tr>\n",
       "      <th>0</th>\n",
       "      <td>1</td>\n",
       "      <td>1.020000e+05</td>\n",
       "      <td>1.530000e+04</td>\n",
       "    </tr>\n",
       "    <tr>\n",
       "      <th>1</th>\n",
       "      <td>2</td>\n",
       "      <td>1.040400e+05</td>\n",
       "      <td>3.167100e+04</td>\n",
       "    </tr>\n",
       "    <tr>\n",
       "      <th>2</th>\n",
       "      <td>3</td>\n",
       "      <td>1.061208e+05</td>\n",
       "      <td>4.917267e+04</td>\n",
       "    </tr>\n",
       "    <tr>\n",
       "      <th>3</th>\n",
       "      <td>4</td>\n",
       "      <td>1.082432e+05</td>\n",
       "      <td>6.786779e+04</td>\n",
       "    </tr>\n",
       "    <tr>\n",
       "      <th>4</th>\n",
       "      <td>5</td>\n",
       "      <td>1.656121e+05</td>\n",
       "      <td>9.030657e+04</td>\n",
       "    </tr>\n",
       "    <tr>\n",
       "      <th>5</th>\n",
       "      <td>6</td>\n",
       "      <td>1.689244e+05</td>\n",
       "      <td>1.142482e+05</td>\n",
       "    </tr>\n",
       "    <tr>\n",
       "      <th>6</th>\n",
       "      <td>7</td>\n",
       "      <td>1.723029e+05</td>\n",
       "      <td>1.397754e+05</td>\n",
       "    </tr>\n",
       "    <tr>\n",
       "      <th>7</th>\n",
       "      <td>8</td>\n",
       "      <td>1.757489e+05</td>\n",
       "      <td>1.669753e+05</td>\n",
       "    </tr>\n",
       "    <tr>\n",
       "      <th>8</th>\n",
       "      <td>9</td>\n",
       "      <td>1.792639e+05</td>\n",
       "      <td>1.959394e+05</td>\n",
       "    </tr>\n",
       "    <tr>\n",
       "      <th>9</th>\n",
       "      <td>10</td>\n",
       "      <td>2.742737e+05</td>\n",
       "      <td>2.299182e+05</td>\n",
       "    </tr>\n",
       "    <tr>\n",
       "      <th>10</th>\n",
       "      <td>11</td>\n",
       "      <td>2.797592e+05</td>\n",
       "      <td>2.660796e+05</td>\n",
       "    </tr>\n",
       "    <tr>\n",
       "      <th>11</th>\n",
       "      <td>12</td>\n",
       "      <td>2.853544e+05</td>\n",
       "      <td>3.045423e+05</td>\n",
       "    </tr>\n",
       "    <tr>\n",
       "      <th>12</th>\n",
       "      <td>13</td>\n",
       "      <td>2.910615e+05</td>\n",
       "      <td>3.454313e+05</td>\n",
       "    </tr>\n",
       "    <tr>\n",
       "      <th>13</th>\n",
       "      <td>14</td>\n",
       "      <td>2.968827e+05</td>\n",
       "      <td>3.888781e+05</td>\n",
       "    </tr>\n",
       "    <tr>\n",
       "      <th>14</th>\n",
       "      <td>15</td>\n",
       "      <td>4.542306e+05</td>\n",
       "      <td>4.390254e+05</td>\n",
       "    </tr>\n",
       "    <tr>\n",
       "      <th>15</th>\n",
       "      <td>16</td>\n",
       "      <td>4.633152e+05</td>\n",
       "      <td>4.922942e+05</td>\n",
       "    </tr>\n",
       "    <tr>\n",
       "      <th>16</th>\n",
       "      <td>17</td>\n",
       "      <td>4.725815e+05</td>\n",
       "      <td>5.488528e+05</td>\n",
       "    </tr>\n",
       "    <tr>\n",
       "      <th>17</th>\n",
       "      <td>18</td>\n",
       "      <td>4.820331e+05</td>\n",
       "      <td>6.088782e+05</td>\n",
       "    </tr>\n",
       "    <tr>\n",
       "      <th>18</th>\n",
       "      <td>19</td>\n",
       "      <td>4.916738e+05</td>\n",
       "      <td>6.725565e+05</td>\n",
       "    </tr>\n",
       "    <tr>\n",
       "      <th>19</th>\n",
       "      <td>20</td>\n",
       "      <td>7.522609e+05</td>\n",
       "      <td>7.451683e+05</td>\n",
       "    </tr>\n",
       "    <tr>\n",
       "      <th>20</th>\n",
       "      <td>21</td>\n",
       "      <td>7.673061e+05</td>\n",
       "      <td>8.221904e+05</td>\n",
       "    </tr>\n",
       "    <tr>\n",
       "      <th>21</th>\n",
       "      <td>22</td>\n",
       "      <td>7.826522e+05</td>\n",
       "      <td>9.038589e+05</td>\n",
       "    </tr>\n",
       "    <tr>\n",
       "      <th>22</th>\n",
       "      <td>23</td>\n",
       "      <td>7.983053e+05</td>\n",
       "      <td>9.904219e+05</td>\n",
       "    </tr>\n",
       "    <tr>\n",
       "      <th>23</th>\n",
       "      <td>24</td>\n",
       "      <td>8.142714e+05</td>\n",
       "      <td>1.082140e+06</td>\n",
       "    </tr>\n",
       "    <tr>\n",
       "      <th>24</th>\n",
       "      <td>25</td>\n",
       "      <td>1.245835e+06</td>\n",
       "      <td>1.185745e+06</td>\n",
       "    </tr>\n",
       "    <tr>\n",
       "      <th>25</th>\n",
       "      <td>26</td>\n",
       "      <td>1.270752e+06</td>\n",
       "      <td>1.295520e+06</td>\n",
       "    </tr>\n",
       "    <tr>\n",
       "      <th>26</th>\n",
       "      <td>27</td>\n",
       "      <td>1.296167e+06</td>\n",
       "      <td>1.411793e+06</td>\n",
       "    </tr>\n",
       "    <tr>\n",
       "      <th>27</th>\n",
       "      <td>28</td>\n",
       "      <td>1.322090e+06</td>\n",
       "      <td>1.534910e+06</td>\n",
       "    </tr>\n",
       "  </tbody>\n",
       "</table>\n",
       "</div>"
      ],
      "text/plain": [
       "    Year        Salary        Wealth\n",
       "0      1  1.020000e+05  1.530000e+04\n",
       "1      2  1.040400e+05  3.167100e+04\n",
       "2      3  1.061208e+05  4.917267e+04\n",
       "3      4  1.082432e+05  6.786779e+04\n",
       "4      5  1.656121e+05  9.030657e+04\n",
       "5      6  1.689244e+05  1.142482e+05\n",
       "6      7  1.723029e+05  1.397754e+05\n",
       "7      8  1.757489e+05  1.669753e+05\n",
       "8      9  1.792639e+05  1.959394e+05\n",
       "9     10  2.742737e+05  2.299182e+05\n",
       "10    11  2.797592e+05  2.660796e+05\n",
       "11    12  2.853544e+05  3.045423e+05\n",
       "12    13  2.910615e+05  3.454313e+05\n",
       "13    14  2.968827e+05  3.888781e+05\n",
       "14    15  4.542306e+05  4.390254e+05\n",
       "15    16  4.633152e+05  4.922942e+05\n",
       "16    17  4.725815e+05  5.488528e+05\n",
       "17    18  4.820331e+05  6.088782e+05\n",
       "18    19  4.916738e+05  6.725565e+05\n",
       "19    20  7.522609e+05  7.451683e+05\n",
       "20    21  7.673061e+05  8.221904e+05\n",
       "21    22  7.826522e+05  9.038589e+05\n",
       "22    23  7.983053e+05  9.904219e+05\n",
       "23    24  8.142714e+05  1.082140e+06\n",
       "24    25  1.245835e+06  1.185745e+06\n",
       "25    26  1.270752e+06  1.295520e+06\n",
       "26    27  1.296167e+06  1.411793e+06\n",
       "27    28  1.322090e+06  1.534910e+06"
      ]
     },
     "execution_count": 12,
     "metadata": {},
     "output_type": "execute_result"
    }
   ],
   "source": [
    "get_salaries_wealths_df(ModelInputs(start_salary=100000,promo_rise=0.5))"
   ]
  },
  {
   "cell_type": "code",
   "execution_count": 13,
   "id": "62817405",
   "metadata": {},
   "outputs": [],
   "source": [
    "def style_salries_wealth(df):\n",
    "    return df.style.format({\n",
    "    'Salary': '${:,.2f}',\n",
    "    'Wealth': '${:,.2f}',\n",
    "})"
   ]
  },
  {
   "cell_type": "code",
   "execution_count": 14,
   "id": "979a753c",
   "metadata": {},
   "outputs": [
    {
     "data": {
      "text/html": [
       "<style type=\"text/css\">\n",
       "</style>\n",
       "<table id=\"T_322f7_\">\n",
       "  <thead>\n",
       "    <tr>\n",
       "      <th class=\"blank level0\" >&nbsp;</th>\n",
       "      <th class=\"col_heading level0 col0\" >Year</th>\n",
       "      <th class=\"col_heading level0 col1\" >Salary</th>\n",
       "      <th class=\"col_heading level0 col2\" >Wealth</th>\n",
       "    </tr>\n",
       "  </thead>\n",
       "  <tbody>\n",
       "    <tr>\n",
       "      <th id=\"T_322f7_level0_row0\" class=\"row_heading level0 row0\" >0</th>\n",
       "      <td id=\"T_322f7_row0_col0\" class=\"data row0 col0\" >1</td>\n",
       "      <td id=\"T_322f7_row0_col1\" class=\"data row0 col1\" >$61,200.00</td>\n",
       "      <td id=\"T_322f7_row0_col2\" class=\"data row0 col2\" >$15,300.00</td>\n",
       "    </tr>\n",
       "    <tr>\n",
       "      <th id=\"T_322f7_level0_row1\" class=\"row_heading level0 row1\" >1</th>\n",
       "      <td id=\"T_322f7_row1_col0\" class=\"data row1 col0\" >2</td>\n",
       "      <td id=\"T_322f7_row1_col1\" class=\"data row1 col1\" >$62,424.00</td>\n",
       "      <td id=\"T_322f7_row1_col2\" class=\"data row1 col2\" >$31,671.00</td>\n",
       "    </tr>\n",
       "    <tr>\n",
       "      <th id=\"T_322f7_level0_row2\" class=\"row_heading level0 row2\" >2</th>\n",
       "      <td id=\"T_322f7_row2_col0\" class=\"data row2 col0\" >3</td>\n",
       "      <td id=\"T_322f7_row2_col1\" class=\"data row2 col1\" >$63,672.48</td>\n",
       "      <td id=\"T_322f7_row2_col2\" class=\"data row2 col2\" >$49,172.67</td>\n",
       "    </tr>\n",
       "    <tr>\n",
       "      <th id=\"T_322f7_level0_row3\" class=\"row_heading level0 row3\" >3</th>\n",
       "      <td id=\"T_322f7_row3_col0\" class=\"data row3 col0\" >4</td>\n",
       "      <td id=\"T_322f7_row3_col1\" class=\"data row3 col1\" >$64,945.93</td>\n",
       "      <td id=\"T_322f7_row3_col2\" class=\"data row3 col2\" >$67,867.79</td>\n",
       "    </tr>\n",
       "    <tr>\n",
       "      <th id=\"T_322f7_level0_row4\" class=\"row_heading level0 row4\" >4</th>\n",
       "      <td id=\"T_322f7_row4_col0\" class=\"data row4 col0\" >5</td>\n",
       "      <td id=\"T_322f7_row4_col1\" class=\"data row4 col1\" >$76,181.58</td>\n",
       "      <td id=\"T_322f7_row4_col2\" class=\"data row4 col2\" >$90,306.57</td>\n",
       "    </tr>\n",
       "    <tr>\n",
       "      <th id=\"T_322f7_level0_row5\" class=\"row_heading level0 row5\" >5</th>\n",
       "      <td id=\"T_322f7_row5_col0\" class=\"data row5 col0\" >6</td>\n",
       "      <td id=\"T_322f7_row5_col1\" class=\"data row5 col1\" >$77,705.21</td>\n",
       "      <td id=\"T_322f7_row5_col2\" class=\"data row5 col2\" >$114,248.20</td>\n",
       "    </tr>\n",
       "    <tr>\n",
       "      <th id=\"T_322f7_level0_row6\" class=\"row_heading level0 row6\" >6</th>\n",
       "      <td id=\"T_322f7_row6_col0\" class=\"data row6 col0\" >7</td>\n",
       "      <td id=\"T_322f7_row6_col1\" class=\"data row6 col1\" >$79,259.31</td>\n",
       "      <td id=\"T_322f7_row6_col2\" class=\"data row6 col2\" >$139,775.44</td>\n",
       "    </tr>\n",
       "    <tr>\n",
       "      <th id=\"T_322f7_level0_row7\" class=\"row_heading level0 row7\" >7</th>\n",
       "      <td id=\"T_322f7_row7_col0\" class=\"data row7 col0\" >8</td>\n",
       "      <td id=\"T_322f7_row7_col1\" class=\"data row7 col1\" >$80,844.50</td>\n",
       "      <td id=\"T_322f7_row7_col2\" class=\"data row7 col2\" >$166,975.33</td>\n",
       "    </tr>\n",
       "    <tr>\n",
       "      <th id=\"T_322f7_level0_row8\" class=\"row_heading level0 row8\" >8</th>\n",
       "      <td id=\"T_322f7_row8_col0\" class=\"data row8 col0\" >9</td>\n",
       "      <td id=\"T_322f7_row8_col1\" class=\"data row8 col1\" >$82,461.39</td>\n",
       "      <td id=\"T_322f7_row8_col2\" class=\"data row8 col2\" >$195,939.45</td>\n",
       "    </tr>\n",
       "    <tr>\n",
       "      <th id=\"T_322f7_level0_row9\" class=\"row_heading level0 row9\" >9</th>\n",
       "      <td id=\"T_322f7_row9_col0\" class=\"data row9 col0\" >10</td>\n",
       "      <td id=\"T_322f7_row9_col1\" class=\"data row9 col1\" >$96,727.21</td>\n",
       "      <td id=\"T_322f7_row9_col2\" class=\"data row9 col2\" >$229,918.22</td>\n",
       "    </tr>\n",
       "    <tr>\n",
       "      <th id=\"T_322f7_level0_row10\" class=\"row_heading level0 row10\" >10</th>\n",
       "      <td id=\"T_322f7_row10_col0\" class=\"data row10 col0\" >11</td>\n",
       "      <td id=\"T_322f7_row10_col1\" class=\"data row10 col1\" >$98,661.75</td>\n",
       "      <td id=\"T_322f7_row10_col2\" class=\"data row10 col2\" >$266,079.57</td>\n",
       "    </tr>\n",
       "    <tr>\n",
       "      <th id=\"T_322f7_level0_row11\" class=\"row_heading level0 row11\" >11</th>\n",
       "      <td id=\"T_322f7_row11_col0\" class=\"data row11 col0\" >12</td>\n",
       "      <td id=\"T_322f7_row11_col1\" class=\"data row11 col1\" >$100,634.99</td>\n",
       "      <td id=\"T_322f7_row11_col2\" class=\"data row11 col2\" >$304,542.29</td>\n",
       "    </tr>\n",
       "    <tr>\n",
       "      <th id=\"T_322f7_level0_row12\" class=\"row_heading level0 row12\" >12</th>\n",
       "      <td id=\"T_322f7_row12_col0\" class=\"data row12 col0\" >13</td>\n",
       "      <td id=\"T_322f7_row12_col1\" class=\"data row12 col1\" >$102,647.69</td>\n",
       "      <td id=\"T_322f7_row12_col2\" class=\"data row12 col2\" >$345,431.33</td>\n",
       "    </tr>\n",
       "    <tr>\n",
       "      <th id=\"T_322f7_level0_row13\" class=\"row_heading level0 row13\" >13</th>\n",
       "      <td id=\"T_322f7_row13_col0\" class=\"data row13 col0\" >14</td>\n",
       "      <td id=\"T_322f7_row13_col1\" class=\"data row13 col1\" >$104,700.64</td>\n",
       "      <td id=\"T_322f7_row13_col2\" class=\"data row13 col2\" >$388,878.06</td>\n",
       "    </tr>\n",
       "    <tr>\n",
       "      <th id=\"T_322f7_level0_row14\" class=\"row_heading level0 row14\" >14</th>\n",
       "      <td id=\"T_322f7_row14_col0\" class=\"data row14 col0\" >15</td>\n",
       "      <td id=\"T_322f7_row14_col1\" class=\"data row14 col1\" >$122,813.85</td>\n",
       "      <td id=\"T_322f7_row14_col2\" class=\"data row14 col2\" >$439,025.42</td>\n",
       "    </tr>\n",
       "    <tr>\n",
       "      <th id=\"T_322f7_level0_row15\" class=\"row_heading level0 row15\" >15</th>\n",
       "      <td id=\"T_322f7_row15_col0\" class=\"data row15 col0\" >16</td>\n",
       "      <td id=\"T_322f7_row15_col1\" class=\"data row15 col1\" >$125,270.13</td>\n",
       "      <td id=\"T_322f7_row15_col2\" class=\"data row15 col2\" >$492,294.23</td>\n",
       "    </tr>\n",
       "    <tr>\n",
       "      <th id=\"T_322f7_level0_row16\" class=\"row_heading level0 row16\" >16</th>\n",
       "      <td id=\"T_322f7_row16_col0\" class=\"data row16 col0\" >17</td>\n",
       "      <td id=\"T_322f7_row16_col1\" class=\"data row16 col1\" >$127,775.53</td>\n",
       "      <td id=\"T_322f7_row16_col2\" class=\"data row16 col2\" >$548,852.82</td>\n",
       "    </tr>\n",
       "    <tr>\n",
       "      <th id=\"T_322f7_level0_row17\" class=\"row_heading level0 row17\" >17</th>\n",
       "      <td id=\"T_322f7_row17_col0\" class=\"data row17 col0\" >18</td>\n",
       "      <td id=\"T_322f7_row17_col1\" class=\"data row17 col1\" >$130,331.04</td>\n",
       "      <td id=\"T_322f7_row17_col2\" class=\"data row17 col2\" >$608,878.22</td>\n",
       "    </tr>\n",
       "    <tr>\n",
       "      <th id=\"T_322f7_level0_row18\" class=\"row_heading level0 row18\" >18</th>\n",
       "      <td id=\"T_322f7_row18_col0\" class=\"data row18 col0\" >19</td>\n",
       "      <td id=\"T_322f7_row18_col1\" class=\"data row18 col1\" >$132,937.66</td>\n",
       "      <td id=\"T_322f7_row18_col2\" class=\"data row18 col2\" >$672,556.55</td>\n",
       "    </tr>\n",
       "    <tr>\n",
       "      <th id=\"T_322f7_level0_row19\" class=\"row_heading level0 row19\" >19</th>\n",
       "      <td id=\"T_322f7_row19_col0\" class=\"data row19 col0\" >20</td>\n",
       "      <td id=\"T_322f7_row19_col1\" class=\"data row19 col1\" >$155,935.88</td>\n",
       "      <td id=\"T_322f7_row19_col2\" class=\"data row19 col2\" >$745,168.34</td>\n",
       "    </tr>\n",
       "    <tr>\n",
       "      <th id=\"T_322f7_level0_row20\" class=\"row_heading level0 row20\" >20</th>\n",
       "      <td id=\"T_322f7_row20_col0\" class=\"data row20 col0\" >21</td>\n",
       "      <td id=\"T_322f7_row20_col1\" class=\"data row20 col1\" >$159,054.59</td>\n",
       "      <td id=\"T_322f7_row20_col2\" class=\"data row20 col2\" >$822,190.41</td>\n",
       "    </tr>\n",
       "    <tr>\n",
       "      <th id=\"T_322f7_level0_row21\" class=\"row_heading level0 row21\" >21</th>\n",
       "      <td id=\"T_322f7_row21_col0\" class=\"data row21 col0\" >22</td>\n",
       "      <td id=\"T_322f7_row21_col1\" class=\"data row21 col1\" >$162,235.69</td>\n",
       "      <td id=\"T_322f7_row21_col2\" class=\"data row21 col2\" >$903,858.85</td>\n",
       "    </tr>\n",
       "    <tr>\n",
       "      <th id=\"T_322f7_level0_row22\" class=\"row_heading level0 row22\" >22</th>\n",
       "      <td id=\"T_322f7_row22_col0\" class=\"data row22 col0\" >23</td>\n",
       "      <td id=\"T_322f7_row22_col1\" class=\"data row22 col1\" >$165,480.40</td>\n",
       "      <td id=\"T_322f7_row22_col2\" class=\"data row22 col2\" >$990,421.89</td>\n",
       "    </tr>\n",
       "    <tr>\n",
       "      <th id=\"T_322f7_level0_row23\" class=\"row_heading level0 row23\" >23</th>\n",
       "      <td id=\"T_322f7_row23_col0\" class=\"data row23 col0\" >24</td>\n",
       "      <td id=\"T_322f7_row23_col1\" class=\"data row23 col1\" >$168,790.01</td>\n",
       "      <td id=\"T_322f7_row23_col2\" class=\"data row23 col2\" >$1,082,140.49</td>\n",
       "    </tr>\n",
       "    <tr>\n",
       "      <th id=\"T_322f7_level0_row24\" class=\"row_heading level0 row24\" >24</th>\n",
       "      <td id=\"T_322f7_row24_col0\" class=\"data row24 col0\" >25</td>\n",
       "      <td id=\"T_322f7_row24_col1\" class=\"data row24 col1\" >$197,990.68</td>\n",
       "      <td id=\"T_322f7_row24_col2\" class=\"data row24 col2\" >$1,185,745.19</td>\n",
       "    </tr>\n",
       "    <tr>\n",
       "      <th id=\"T_322f7_level0_row25\" class=\"row_heading level0 row25\" >25</th>\n",
       "      <td id=\"T_322f7_row25_col0\" class=\"data row25 col0\" >26</td>\n",
       "      <td id=\"T_322f7_row25_col1\" class=\"data row25 col1\" >$201,950.49</td>\n",
       "      <td id=\"T_322f7_row25_col2\" class=\"data row25 col2\" >$1,295,520.07</td>\n",
       "    </tr>\n",
       "    <tr>\n",
       "      <th id=\"T_322f7_level0_row26\" class=\"row_heading level0 row26\" >26</th>\n",
       "      <td id=\"T_322f7_row26_col0\" class=\"data row26 col0\" >27</td>\n",
       "      <td id=\"T_322f7_row26_col1\" class=\"data row26 col1\" >$205,989.50</td>\n",
       "      <td id=\"T_322f7_row26_col2\" class=\"data row26 col2\" >$1,411,793.45</td>\n",
       "    </tr>\n",
       "    <tr>\n",
       "      <th id=\"T_322f7_level0_row27\" class=\"row_heading level0 row27\" >27</th>\n",
       "      <td id=\"T_322f7_row27_col0\" class=\"data row27 col0\" >28</td>\n",
       "      <td id=\"T_322f7_row27_col1\" class=\"data row27 col1\" >$210,109.29</td>\n",
       "      <td id=\"T_322f7_row27_col2\" class=\"data row27 col2\" >$1,534,910.44</td>\n",
       "    </tr>\n",
       "  </tbody>\n",
       "</table>\n"
      ],
      "text/plain": [
       "<pandas.io.formats.style.Styler at 0x19592879ef0>"
      ]
     },
     "execution_count": 14,
     "metadata": {},
     "output_type": "execute_result"
    }
   ],
   "source": [
    "df = get_salaries_wealths_df(model_data)\n",
    "style_salries_wealth(df)"
   ]
  },
  {
   "cell_type": "code",
   "execution_count": 15,
   "id": "8bb5f772",
   "metadata": {},
   "outputs": [
    {
     "data": {
      "text/plain": [
       "<matplotlib.axes._subplots.AxesSubplot at 0x19592acfdd8>"
      ]
     },
     "execution_count": 15,
     "metadata": {},
     "output_type": "execute_result"
    },
    {
     "data": {
      "image/png": "[encoded data removed]",
      "text/plain": [
       "<Figure size 432x288 with 1 Axes>"
      ]
     },
     "metadata": {
      "needs_background": "light"
     },
     "output_type": "display_data"
    }
   ],
   "source": [
    "df.plot.line(x='Year', y='Salary')"
   ]
  },
  {
   "cell_type": "code",
   "execution_count": 16,
   "id": "8fa190a2",
   "metadata": {},
   "outputs": [
    {
     "data": {
      "text/plain": [
       "<matplotlib.axes._subplots.AxesSubplot at 0x19592b82390>"
      ]
     },
     "execution_count": 16,
     "metadata": {},
     "output_type": "execute_result"
    },
    {
     "data": {
      "image/png": "[encoded data removed]",
      "text/plain": [
       "<Figure size 432x288 with 1 Axes>"
      ]
     },
     "metadata": {
      "needs_background": "light"
     },
     "output_type": "display_data"
    }
   ],
   "source": [
    "df.plot.line(x='Year', y='Wealth')"
   ]
  },
  {
   "cell_type": "code",
   "execution_count": 17,
   "id": "c8fe162e",
   "metadata": {},
   "outputs": [
    {
     "data": {
      "text/plain": [
       "<matplotlib.axes._subplots.AxesSubplot at 0x19592bf0400>"
      ]
     },
     "execution_count": 17,
     "metadata": {},
     "output_type": "execute_result"
    },
    {
     "data": {
      "image/png": "[encoded data removed]",
      "text/plain": [
       "<Figure size 432x288 with 1 Axes>"
      ]
     },
     "metadata": {
      "needs_background": "light"
     },
     "output_type": "display_data"
    }
   ],
   "source": [
    "df.plot.bar(x='Year',y='Wealth')"
   ]
  },
  {
   "cell_type": "code",
   "execution_count": 18,
   "id": "13e77f51",
   "metadata": {},
   "outputs": [
    {
     "data": {
      "text/plain": [
       "<matplotlib.axes._subplots.AxesSubplot at 0x19592cceeb8>"
      ]
     },
     "execution_count": 18,
     "metadata": {},
     "output_type": "execute_result"
    },
    {
     "data": {
      "image/png": "[encoded data removed]",
      "text/plain": [
       "<Figure size 432x288 with 1 Axes>"
      ]
     },
     "metadata": {
      "needs_background": "light"
     },
     "output_type": "display_data"
    }
   ],
   "source": [
    "df.plot.area(x='Year',y='Wealth')"
   ]
  },
  {
   "cell_type": "code",
   "execution_count": 19,
   "id": "f5e29017",
   "metadata": {},
   "outputs": [
    {
     "data": {
      "text/html": [
       "<style type=\"text/css\">\n",
       "#T_68ef8_row0_col1, #T_68ef8_row0_col2 {\n",
       "  width: 10em;\n",
       "  height: 80%;\n",
       "}\n",
       "#T_68ef8_row1_col1 {\n",
       "  width: 10em;\n",
       "  height: 80%;\n",
       "  background: linear-gradient(90deg,#d65f5f 0.8%, transparent 0.8%);\n",
       "}\n",
       "#T_68ef8_row1_col2 {\n",
       "  width: 10em;\n",
       "  height: 80%;\n",
       "  background: linear-gradient(90deg,#d65f5f 1.1%, transparent 1.1%);\n",
       "}\n",
       "#T_68ef8_row2_col1 {\n",
       "  width: 10em;\n",
       "  height: 80%;\n",
       "  background: linear-gradient(90deg,#d65f5f 1.7%, transparent 1.7%);\n",
       "}\n",
       "#T_68ef8_row2_col2 {\n",
       "  width: 10em;\n",
       "  height: 80%;\n",
       "  background: linear-gradient(90deg,#d65f5f 2.2%, transparent 2.2%);\n",
       "}\n",
       "#T_68ef8_row3_col1 {\n",
       "  width: 10em;\n",
       "  height: 80%;\n",
       "  background: linear-gradient(90deg,#d65f5f 2.5%, transparent 2.5%);\n",
       "}\n",
       "#T_68ef8_row3_col2 {\n",
       "  width: 10em;\n",
       "  height: 80%;\n",
       "  background: linear-gradient(90deg,#d65f5f 3.5%, transparent 3.5%);\n",
       "}\n",
       "#T_68ef8_row4_col1 {\n",
       "  width: 10em;\n",
       "  height: 80%;\n",
       "  background: linear-gradient(90deg,#d65f5f 10.1%, transparent 10.1%);\n",
       "}\n",
       "#T_68ef8_row4_col2 {\n",
       "  width: 10em;\n",
       "  height: 80%;\n",
       "  background: linear-gradient(90deg,#d65f5f 4.9%, transparent 4.9%);\n",
       "}\n",
       "#T_68ef8_row5_col1 {\n",
       "  width: 10em;\n",
       "  height: 80%;\n",
       "  background: linear-gradient(90deg,#d65f5f 11.1%, transparent 11.1%);\n",
       "}\n",
       "#T_68ef8_row5_col2 {\n",
       "  width: 10em;\n",
       "  height: 80%;\n",
       "  background: linear-gradient(90deg,#d65f5f 6.5%, transparent 6.5%);\n",
       "}\n",
       "#T_68ef8_row6_col1 {\n",
       "  width: 10em;\n",
       "  height: 80%;\n",
       "  background: linear-gradient(90deg,#d65f5f 12.1%, transparent 12.1%);\n",
       "}\n",
       "#T_68ef8_row6_col2 {\n",
       "  width: 10em;\n",
       "  height: 80%;\n",
       "  background: linear-gradient(90deg,#d65f5f 8.2%, transparent 8.2%);\n",
       "}\n",
       "#T_68ef8_row7_col1 {\n",
       "  width: 10em;\n",
       "  height: 80%;\n",
       "  background: linear-gradient(90deg,#d65f5f 13.2%, transparent 13.2%);\n",
       "}\n",
       "#T_68ef8_row7_col2 {\n",
       "  width: 10em;\n",
       "  height: 80%;\n",
       "  background: linear-gradient(90deg,#d65f5f 10.0%, transparent 10.0%);\n",
       "}\n",
       "#T_68ef8_row8_col1 {\n",
       "  width: 10em;\n",
       "  height: 80%;\n",
       "  background: linear-gradient(90deg,#d65f5f 14.3%, transparent 14.3%);\n",
       "}\n",
       "#T_68ef8_row8_col2 {\n",
       "  width: 10em;\n",
       "  height: 80%;\n",
       "  background: linear-gradient(90deg,#d65f5f 11.9%, transparent 11.9%);\n",
       "}\n",
       "#T_68ef8_row9_col1 {\n",
       "  width: 10em;\n",
       "  height: 80%;\n",
       "  background: linear-gradient(90deg,#d65f5f 23.9%, transparent 23.9%);\n",
       "}\n",
       "#T_68ef8_row9_col2 {\n",
       "  width: 10em;\n",
       "  height: 80%;\n",
       "  background: linear-gradient(90deg,#d65f5f 14.1%, transparent 14.1%);\n",
       "}\n",
       "#T_68ef8_row10_col1 {\n",
       "  width: 10em;\n",
       "  height: 80%;\n",
       "  background: linear-gradient(90deg,#d65f5f 25.2%, transparent 25.2%);\n",
       "}\n",
       "#T_68ef8_row10_col2 {\n",
       "  width: 10em;\n",
       "  height: 80%;\n",
       "  background: linear-gradient(90deg,#d65f5f 16.5%, transparent 16.5%);\n",
       "}\n",
       "#T_68ef8_row11_col1 {\n",
       "  width: 10em;\n",
       "  height: 80%;\n",
       "  background: linear-gradient(90deg,#d65f5f 26.5%, transparent 26.5%);\n",
       "}\n",
       "#T_68ef8_row11_col2 {\n",
       "  width: 10em;\n",
       "  height: 80%;\n",
       "  background: linear-gradient(90deg,#d65f5f 19.0%, transparent 19.0%);\n",
       "}\n",
       "#T_68ef8_row12_col1 {\n",
       "  width: 10em;\n",
       "  height: 80%;\n",
       "  background: linear-gradient(90deg,#d65f5f 27.8%, transparent 27.8%);\n",
       "}\n",
       "#T_68ef8_row12_col2 {\n",
       "  width: 10em;\n",
       "  height: 80%;\n",
       "  background: linear-gradient(90deg,#d65f5f 21.7%, transparent 21.7%);\n",
       "}\n",
       "#T_68ef8_row13_col1 {\n",
       "  width: 10em;\n",
       "  height: 80%;\n",
       "  background: linear-gradient(90deg,#d65f5f 29.2%, transparent 29.2%);\n",
       "}\n",
       "#T_68ef8_row13_col2 {\n",
       "  width: 10em;\n",
       "  height: 80%;\n",
       "  background: linear-gradient(90deg,#d65f5f 24.6%, transparent 24.6%);\n",
       "}\n",
       "#T_68ef8_row14_col1 {\n",
       "  width: 10em;\n",
       "  height: 80%;\n",
       "  background: linear-gradient(90deg,#d65f5f 41.4%, transparent 41.4%);\n",
       "}\n",
       "#T_68ef8_row14_col2 {\n",
       "  width: 10em;\n",
       "  height: 80%;\n",
       "  background: linear-gradient(90deg,#d65f5f 27.9%, transparent 27.9%);\n",
       "}\n",
       "#T_68ef8_row15_col1 {\n",
       "  width: 10em;\n",
       "  height: 80%;\n",
       "  background: linear-gradient(90deg,#d65f5f 43.0%, transparent 43.0%);\n",
       "}\n",
       "#T_68ef8_row15_col2 {\n",
       "  width: 10em;\n",
       "  height: 80%;\n",
       "  background: linear-gradient(90deg,#d65f5f 31.4%, transparent 31.4%);\n",
       "}\n",
       "#T_68ef8_row16_col1 {\n",
       "  width: 10em;\n",
       "  height: 80%;\n",
       "  background: linear-gradient(90deg,#d65f5f 44.7%, transparent 44.7%);\n",
       "}\n",
       "#T_68ef8_row16_col2 {\n",
       "  width: 10em;\n",
       "  height: 80%;\n",
       "  background: linear-gradient(90deg,#d65f5f 35.1%, transparent 35.1%);\n",
       "}\n",
       "#T_68ef8_row17_col1 {\n",
       "  width: 10em;\n",
       "  height: 80%;\n",
       "  background: linear-gradient(90deg,#d65f5f 46.4%, transparent 46.4%);\n",
       "}\n",
       "#T_68ef8_row17_col2 {\n",
       "  width: 10em;\n",
       "  height: 80%;\n",
       "  background: linear-gradient(90deg,#d65f5f 39.1%, transparent 39.1%);\n",
       "}\n",
       "#T_68ef8_row18_col1 {\n",
       "  width: 10em;\n",
       "  height: 80%;\n",
       "  background: linear-gradient(90deg,#d65f5f 48.2%, transparent 48.2%);\n",
       "}\n",
       "#T_68ef8_row18_col2 {\n",
       "  width: 10em;\n",
       "  height: 80%;\n",
       "  background: linear-gradient(90deg,#d65f5f 43.3%, transparent 43.3%);\n",
       "}\n",
       "#T_68ef8_row19_col1 {\n",
       "  width: 10em;\n",
       "  height: 80%;\n",
       "  background: linear-gradient(90deg,#d65f5f 63.6%, transparent 63.6%);\n",
       "}\n",
       "#T_68ef8_row19_col2 {\n",
       "  width: 10em;\n",
       "  height: 80%;\n",
       "  background: linear-gradient(90deg,#d65f5f 48.0%, transparent 48.0%);\n",
       "}\n",
       "#T_68ef8_row20_col1 {\n",
       "  width: 10em;\n",
       "  height: 80%;\n",
       "  background: linear-gradient(90deg,#d65f5f 65.7%, transparent 65.7%);\n",
       "}\n",
       "#T_68ef8_row20_col2 {\n",
       "  width: 10em;\n",
       "  height: 80%;\n",
       "  background: linear-gradient(90deg,#d65f5f 53.1%, transparent 53.1%);\n",
       "}\n",
       "#T_68ef8_row21_col1 {\n",
       "  width: 10em;\n",
       "  height: 80%;\n",
       "  background: linear-gradient(90deg,#d65f5f 67.9%, transparent 67.9%);\n",
       "}\n",
       "#T_68ef8_row21_col2 {\n",
       "  width: 10em;\n",
       "  height: 80%;\n",
       "  background: linear-gradient(90deg,#d65f5f 58.5%, transparent 58.5%);\n",
       "}\n",
       "#T_68ef8_row22_col1 {\n",
       "  width: 10em;\n",
       "  height: 80%;\n",
       "  background: linear-gradient(90deg,#d65f5f 70.0%, transparent 70.0%);\n",
       "}\n",
       "#T_68ef8_row22_col2 {\n",
       "  width: 10em;\n",
       "  height: 80%;\n",
       "  background: linear-gradient(90deg,#d65f5f 64.2%, transparent 64.2%);\n",
       "}\n",
       "#T_68ef8_row23_col1 {\n",
       "  width: 10em;\n",
       "  height: 80%;\n",
       "  background: linear-gradient(90deg,#d65f5f 72.3%, transparent 72.3%);\n",
       "}\n",
       "#T_68ef8_row23_col2 {\n",
       "  width: 10em;\n",
       "  height: 80%;\n",
       "  background: linear-gradient(90deg,#d65f5f 70.2%, transparent 70.2%);\n",
       "}\n",
       "#T_68ef8_row24_col1, #T_68ef8_row26_col2 {\n",
       "  width: 10em;\n",
       "  height: 80%;\n",
       "  background: linear-gradient(90deg,#d65f5f 91.9%, transparent 91.9%);\n",
       "}\n",
       "#T_68ef8_row24_col2 {\n",
       "  width: 10em;\n",
       "  height: 80%;\n",
       "  background: linear-gradient(90deg,#d65f5f 77.0%, transparent 77.0%);\n",
       "}\n",
       "#T_68ef8_row25_col1 {\n",
       "  width: 10em;\n",
       "  height: 80%;\n",
       "  background: linear-gradient(90deg,#d65f5f 94.5%, transparent 94.5%);\n",
       "}\n",
       "#T_68ef8_row25_col2 {\n",
       "  width: 10em;\n",
       "  height: 80%;\n",
       "  background: linear-gradient(90deg,#d65f5f 84.2%, transparent 84.2%);\n",
       "}\n",
       "#T_68ef8_row26_col1 {\n",
       "  width: 10em;\n",
       "  height: 80%;\n",
       "  background: linear-gradient(90deg,#d65f5f 97.2%, transparent 97.2%);\n",
       "}\n",
       "#T_68ef8_row27_col1, #T_68ef8_row27_col2 {\n",
       "  width: 10em;\n",
       "  height: 80%;\n",
       "  background: linear-gradient(90deg,#d65f5f 100.0%, transparent 100.0%);\n",
       "}\n",
       "</style>\n",
       "<table id=\"T_68ef8_\">\n",
       "  <thead>\n",
       "    <tr>\n",
       "      <th class=\"blank level0\" >&nbsp;</th>\n",
       "      <th class=\"col_heading level0 col0\" >Year</th>\n",
       "      <th class=\"col_heading level0 col1\" >Salary</th>\n",
       "      <th class=\"col_heading level0 col2\" >Wealth</th>\n",
       "    </tr>\n",
       "  </thead>\n",
       "  <tbody>\n",
       "    <tr>\n",
       "      <th id=\"T_68ef8_level0_row0\" class=\"row_heading level0 row0\" >0</th>\n",
       "      <td id=\"T_68ef8_row0_col0\" class=\"data row0 col0\" >1</td>\n",
       "      <td id=\"T_68ef8_row0_col1\" class=\"data row0 col1\" >$61,200.00</td>\n",
       "      <td id=\"T_68ef8_row0_col2\" class=\"data row0 col2\" >$15,300.00</td>\n",
       "    </tr>\n",
       "    <tr>\n",
       "      <th id=\"T_68ef8_level0_row1\" class=\"row_heading level0 row1\" >1</th>\n",
       "      <td id=\"T_68ef8_row1_col0\" class=\"data row1 col0\" >2</td>\n",
       "      <td id=\"T_68ef8_row1_col1\" class=\"data row1 col1\" >$62,424.00</td>\n",
       "      <td id=\"T_68ef8_row1_col2\" class=\"data row1 col2\" >$31,671.00</td>\n",
       "    </tr>\n",
       "    <tr>\n",
       "      <th id=\"T_68ef8_level0_row2\" class=\"row_heading level0 row2\" >2</th>\n",
       "      <td id=\"T_68ef8_row2_col0\" class=\"data row2 col0\" >3</td>\n",
       "      <td id=\"T_68ef8_row2_col1\" class=\"data row2 col1\" >$63,672.48</td>\n",
       "      <td id=\"T_68ef8_row2_col2\" class=\"data row2 col2\" >$49,172.67</td>\n",
       "    </tr>\n",
       "    <tr>\n",
       "      <th id=\"T_68ef8_level0_row3\" class=\"row_heading level0 row3\" >3</th>\n",
       "      <td id=\"T_68ef8_row3_col0\" class=\"data row3 col0\" >4</td>\n",
       "      <td id=\"T_68ef8_row3_col1\" class=\"data row3 col1\" >$64,945.93</td>\n",
       "      <td id=\"T_68ef8_row3_col2\" class=\"data row3 col2\" >$67,867.79</td>\n",
       "    </tr>\n",
       "    <tr>\n",
       "      <th id=\"T_68ef8_level0_row4\" class=\"row_heading level0 row4\" >4</th>\n",
       "      <td id=\"T_68ef8_row4_col0\" class=\"data row4 col0\" >5</td>\n",
       "      <td id=\"T_68ef8_row4_col1\" class=\"data row4 col1\" >$76,181.58</td>\n",
       "      <td id=\"T_68ef8_row4_col2\" class=\"data row4 col2\" >$90,306.57</td>\n",
       "    </tr>\n",
       "    <tr>\n",
       "      <th id=\"T_68ef8_level0_row5\" class=\"row_heading level0 row5\" >5</th>\n",
       "      <td id=\"T_68ef8_row5_col0\" class=\"data row5 col0\" >6</td>\n",
       "      <td id=\"T_68ef8_row5_col1\" class=\"data row5 col1\" >$77,705.21</td>\n",
       "      <td id=\"T_68ef8_row5_col2\" class=\"data row5 col2\" >$114,248.20</td>\n",
       "    </tr>\n",
       "    <tr>\n",
       "      <th id=\"T_68ef8_level0_row6\" class=\"row_heading level0 row6\" >6</th>\n",
       "      <td id=\"T_68ef8_row6_col0\" class=\"data row6 col0\" >7</td>\n",
       "      <td id=\"T_68ef8_row6_col1\" class=\"data row6 col1\" >$79,259.31</td>\n",
       "      <td id=\"T_68ef8_row6_col2\" class=\"data row6 col2\" >$139,775.44</td>\n",
       "    </tr>\n",
       "    <tr>\n",
       "      <th id=\"T_68ef8_level0_row7\" class=\"row_heading level0 row7\" >7</th>\n",
       "      <td id=\"T_68ef8_row7_col0\" class=\"data row7 col0\" >8</td>\n",
       "      <td id=\"T_68ef8_row7_col1\" class=\"data row7 col1\" >$80,844.50</td>\n",
       "      <td id=\"T_68ef8_row7_col2\" class=\"data row7 col2\" >$166,975.33</td>\n",
       "    </tr>\n",
       "    <tr>\n",
       "      <th id=\"T_68ef8_level0_row8\" class=\"row_heading level0 row8\" >8</th>\n",
       "      <td id=\"T_68ef8_row8_col0\" class=\"data row8 col0\" >9</td>\n",
       "      <td id=\"T_68ef8_row8_col1\" class=\"data row8 col1\" >$82,461.39</td>\n",
       "      <td id=\"T_68ef8_row8_col2\" class=\"data row8 col2\" >$195,939.45</td>\n",
       "    </tr>\n",
       "    <tr>\n",
       "      <th id=\"T_68ef8_level0_row9\" class=\"row_heading level0 row9\" >9</th>\n",
       "      <td id=\"T_68ef8_row9_col0\" class=\"data row9 col0\" >10</td>\n",
       "      <td id=\"T_68ef8_row9_col1\" class=\"data row9 col1\" >$96,727.21</td>\n",
       "      <td id=\"T_68ef8_row9_col2\" class=\"data row9 col2\" >$229,918.22</td>\n",
       "    </tr>\n",
       "    <tr>\n",
       "      <th id=\"T_68ef8_level0_row10\" class=\"row_heading level0 row10\" >10</th>\n",
       "      <td id=\"T_68ef8_row10_col0\" class=\"data row10 col0\" >11</td>\n",
       "      <td id=\"T_68ef8_row10_col1\" class=\"data row10 col1\" >$98,661.75</td>\n",
       "      <td id=\"T_68ef8_row10_col2\" class=\"data row10 col2\" >$266,079.57</td>\n",
       "    </tr>\n",
       "    <tr>\n",
       "      <th id=\"T_68ef8_level0_row11\" class=\"row_heading level0 row11\" >11</th>\n",
       "      <td id=\"T_68ef8_row11_col0\" class=\"data row11 col0\" >12</td>\n",
       "      <td id=\"T_68ef8_row11_col1\" class=\"data row11 col1\" >$100,634.99</td>\n",
       "      <td id=\"T_68ef8_row11_col2\" class=\"data row11 col2\" >$304,542.29</td>\n",
       "    </tr>\n",
       "    <tr>\n",
       "      <th id=\"T_68ef8_level0_row12\" class=\"row_heading level0 row12\" >12</th>\n",
       "      <td id=\"T_68ef8_row12_col0\" class=\"data row12 col0\" >13</td>\n",
       "      <td id=\"T_68ef8_row12_col1\" class=\"data row12 col1\" >$102,647.69</td>\n",
       "      <td id=\"T_68ef8_row12_col2\" class=\"data row12 col2\" >$345,431.33</td>\n",
       "    </tr>\n",
       "    <tr>\n",
       "      <th id=\"T_68ef8_level0_row13\" class=\"row_heading level0 row13\" >13</th>\n",
       "      <td id=\"T_68ef8_row13_col0\" class=\"data row13 col0\" >14</td>\n",
       "      <td id=\"T_68ef8_row13_col1\" class=\"data row13 col1\" >$104,700.64</td>\n",
       "      <td id=\"T_68ef8_row13_col2\" class=\"data row13 col2\" >$388,878.06</td>\n",
       "    </tr>\n",
       "    <tr>\n",
       "      <th id=\"T_68ef8_level0_row14\" class=\"row_heading level0 row14\" >14</th>\n",
       "      <td id=\"T_68ef8_row14_col0\" class=\"data row14 col0\" >15</td>\n",
       "      <td id=\"T_68ef8_row14_col1\" class=\"data row14 col1\" >$122,813.85</td>\n",
       "      <td id=\"T_68ef8_row14_col2\" class=\"data row14 col2\" >$439,025.42</td>\n",
       "    </tr>\n",
       "    <tr>\n",
       "      <th id=\"T_68ef8_level0_row15\" class=\"row_heading level0 row15\" >15</th>\n",
       "      <td id=\"T_68ef8_row15_col0\" class=\"data row15 col0\" >16</td>\n",
       "      <td id=\"T_68ef8_row15_col1\" class=\"data row15 col1\" >$125,270.13</td>\n",
       "      <td id=\"T_68ef8_row15_col2\" class=\"data row15 col2\" >$492,294.23</td>\n",
       "    </tr>\n",
       "    <tr>\n",
       "      <th id=\"T_68ef8_level0_row16\" class=\"row_heading level0 row16\" >16</th>\n",
       "      <td id=\"T_68ef8_row16_col0\" class=\"data row16 col0\" >17</td>\n",
       "      <td id=\"T_68ef8_row16_col1\" class=\"data row16 col1\" >$127,775.53</td>\n",
       "      <td id=\"T_68ef8_row16_col2\" class=\"data row16 col2\" >$548,852.82</td>\n",
       "    </tr>\n",
       "    <tr>\n",
       "      <th id=\"T_68ef8_level0_row17\" class=\"row_heading level0 row17\" >17</th>\n",
       "      <td id=\"T_68ef8_row17_col0\" class=\"data row17 col0\" >18</td>\n",
       "      <td id=\"T_68ef8_row17_col1\" class=\"data row17 col1\" >$130,331.04</td>\n",
       "      <td id=\"T_68ef8_row17_col2\" class=\"data row17 col2\" >$608,878.22</td>\n",
       "    </tr>\n",
       "    <tr>\n",
       "      <th id=\"T_68ef8_level0_row18\" class=\"row_heading level0 row18\" >18</th>\n",
       "      <td id=\"T_68ef8_row18_col0\" class=\"data row18 col0\" >19</td>\n",
       "      <td id=\"T_68ef8_row18_col1\" class=\"data row18 col1\" >$132,937.66</td>\n",
       "      <td id=\"T_68ef8_row18_col2\" class=\"data row18 col2\" >$672,556.55</td>\n",
       "    </tr>\n",
       "    <tr>\n",
       "      <th id=\"T_68ef8_level0_row19\" class=\"row_heading level0 row19\" >19</th>\n",
       "      <td id=\"T_68ef8_row19_col0\" class=\"data row19 col0\" >20</td>\n",
       "      <td id=\"T_68ef8_row19_col1\" class=\"data row19 col1\" >$155,935.88</td>\n",
       "      <td id=\"T_68ef8_row19_col2\" class=\"data row19 col2\" >$745,168.34</td>\n",
       "    </tr>\n",
       "    <tr>\n",
       "      <th id=\"T_68ef8_level0_row20\" class=\"row_heading level0 row20\" >20</th>\n",
       "      <td id=\"T_68ef8_row20_col0\" class=\"data row20 col0\" >21</td>\n",
       "      <td id=\"T_68ef8_row20_col1\" class=\"data row20 col1\" >$159,054.59</td>\n",
       "      <td id=\"T_68ef8_row20_col2\" class=\"data row20 col2\" >$822,190.41</td>\n",
       "    </tr>\n",
       "    <tr>\n",
       "      <th id=\"T_68ef8_level0_row21\" class=\"row_heading level0 row21\" >21</th>\n",
       "      <td id=\"T_68ef8_row21_col0\" class=\"data row21 col0\" >22</td>\n",
       "      <td id=\"T_68ef8_row21_col1\" class=\"data row21 col1\" >$162,235.69</td>\n",
       "      <td id=\"T_68ef8_row21_col2\" class=\"data row21 col2\" >$903,858.85</td>\n",
       "    </tr>\n",
       "    <tr>\n",
       "      <th id=\"T_68ef8_level0_row22\" class=\"row_heading level0 row22\" >22</th>\n",
       "      <td id=\"T_68ef8_row22_col0\" class=\"data row22 col0\" >23</td>\n",
       "      <td id=\"T_68ef8_row22_col1\" class=\"data row22 col1\" >$165,480.40</td>\n",
       "      <td id=\"T_68ef8_row22_col2\" class=\"data row22 col2\" >$990,421.89</td>\n",
       "    </tr>\n",
       "    <tr>\n",
       "      <th id=\"T_68ef8_level0_row23\" class=\"row_heading level0 row23\" >23</th>\n",
       "      <td id=\"T_68ef8_row23_col0\" class=\"data row23 col0\" >24</td>\n",
       "      <td id=\"T_68ef8_row23_col1\" class=\"data row23 col1\" >$168,790.01</td>\n",
       "      <td id=\"T_68ef8_row23_col2\" class=\"data row23 col2\" >$1,082,140.49</td>\n",
       "    </tr>\n",
       "    <tr>\n",
       "      <th id=\"T_68ef8_level0_row24\" class=\"row_heading level0 row24\" >24</th>\n",
       "      <td id=\"T_68ef8_row24_col0\" class=\"data row24 col0\" >25</td>\n",
       "      <td id=\"T_68ef8_row24_col1\" class=\"data row24 col1\" >$197,990.68</td>\n",
       "      <td id=\"T_68ef8_row24_col2\" class=\"data row24 col2\" >$1,185,745.19</td>\n",
       "    </tr>\n",
       "    <tr>\n",
       "      <th id=\"T_68ef8_level0_row25\" class=\"row_heading level0 row25\" >25</th>\n",
       "      <td id=\"T_68ef8_row25_col0\" class=\"data row25 col0\" >26</td>\n",
       "      <td id=\"T_68ef8_row25_col1\" class=\"data row25 col1\" >$201,950.49</td>\n",
       "      <td id=\"T_68ef8_row25_col2\" class=\"data row25 col2\" >$1,295,520.07</td>\n",
       "    </tr>\n",
       "    <tr>\n",
       "      <th id=\"T_68ef8_level0_row26\" class=\"row_heading level0 row26\" >26</th>\n",
       "      <td id=\"T_68ef8_row26_col0\" class=\"data row26 col0\" >27</td>\n",
       "      <td id=\"T_68ef8_row26_col1\" class=\"data row26 col1\" >$205,989.50</td>\n",
       "      <td id=\"T_68ef8_row26_col2\" class=\"data row26 col2\" >$1,411,793.45</td>\n",
       "    </tr>\n",
       "    <tr>\n",
       "      <th id=\"T_68ef8_level0_row27\" class=\"row_heading level0 row27\" >27</th>\n",
       "      <td id=\"T_68ef8_row27_col0\" class=\"data row27 col0\" >28</td>\n",
       "      <td id=\"T_68ef8_row27_col1\" class=\"data row27 col1\" >$210,109.29</td>\n",
       "      <td id=\"T_68ef8_row27_col2\" class=\"data row27 col2\" >$1,534,910.44</td>\n",
       "    </tr>\n",
       "  </tbody>\n",
       "</table>\n"
      ],
      "text/plain": [
       "<pandas.io.formats.style.Styler at 0x19593d16a20>"
      ]
     },
     "execution_count": 19,
     "metadata": {},
     "output_type": "execute_result"
    }
   ],
   "source": [
    "df.style.format({\n",
    "    'Salary': '${:,.2f}',\n",
    "    'Wealth': '${:,.2f}'\n",
    "}).bar(subset=['Salary','Wealth'])"
   ]
  },
  {
   "cell_type": "code",
   "execution_count": 20,
   "id": "0da9680f",
   "metadata": {},
   "outputs": [],
   "source": [
    "#Sensitivity analysis\n",
    "def my_model(x_1,x_2):\n",
    "    '''x'''\n",
    "    return x_1**x_2"
   ]
  },
  {
   "cell_type": "code",
   "execution_count": 21,
   "id": "a2b0a3c8",
   "metadata": {},
   "outputs": [
    {
     "data": {
      "text/plain": [
       "16"
      ]
     },
     "execution_count": 21,
     "metadata": {},
     "output_type": "execute_result"
    }
   ],
   "source": [
    "y=my_model(2,4)\n",
    "y"
   ]
  },
  {
   "cell_type": "code",
   "execution_count": 22,
   "id": "4fd87a59",
   "metadata": {},
   "outputs": [],
   "source": [
    "x1_values = [10,20,30]\n",
    "x2_values=[1,2,3]"
   ]
  },
  {
   "cell_type": "code",
   "execution_count": 23,
   "id": "88242d72",
   "metadata": {},
   "outputs": [
    {
     "name": "stdout",
     "output_type": "stream",
     "text": [
      "10 1\n",
      "10 2\n",
      "10 3\n",
      "20 1\n",
      "20 2\n",
      "20 3\n",
      "30 1\n",
      "30 2\n",
      "30 3\n"
     ]
    }
   ],
   "source": [
    "for x1 in x1_values:\n",
    "    for x2 in x2_values:\n",
    "        print(x1,x2)"
   ]
  },
  {
   "cell_type": "code",
   "execution_count": 24,
   "id": "7516a261",
   "metadata": {},
   "outputs": [
    {
     "name": "stdout",
     "output_type": "stream",
     "text": [
      "10\n",
      "100\n",
      "1000\n",
      "20\n",
      "400\n",
      "8000\n",
      "30\n",
      "900\n",
      "27000\n"
     ]
    }
   ],
   "source": [
    "for x1 in x1_values:\n",
    "    for x2 in x2_values:\n",
    "        y_i = my_model(x1,x2)\n",
    "        print(y_i)"
   ]
  },
  {
   "cell_type": "code",
   "execution_count": 25,
   "id": "3b2f9c99",
   "metadata": {},
   "outputs": [
    {
     "data": {
      "text/plain": [
       "[(10, 1, 10),\n",
       " (10, 2, 100),\n",
       " (10, 3, 1000),\n",
       " (20, 1, 20),\n",
       " (20, 2, 400),\n",
       " (20, 3, 8000),\n",
       " (30, 1, 30),\n",
       " (30, 2, 900),\n",
       " (30, 3, 27000)]"
      ]
     },
     "execution_count": 25,
     "metadata": {},
     "output_type": "execute_result"
    }
   ],
   "source": [
    "outputs = []\n",
    "for x1 in x1_values:\n",
    "    for x2 in x2_values:\n",
    "        y_i = my_model(x1,x2)\n",
    "        outputs.append((x1,x2,y_i))\n",
    "outputs"
   ]
  },
  {
   "cell_type": "code",
   "execution_count": 26,
   "id": "2338c0e0",
   "metadata": {},
   "outputs": [
    {
     "data": {
      "text/html": [
       "<div>\n",
       "<style scoped>\n",
       "    .dataframe tbody tr th:only-of-type {\n",
       "        vertical-align: middle;\n",
       "    }\n",
       "\n",
       "    .dataframe tbody tr th {\n",
       "        vertical-align: top;\n",
       "    }\n",
       "\n",
       "    .dataframe thead th {\n",
       "        text-align: right;\n",
       "    }\n",
       "</style>\n",
       "<table border=\"1\" class=\"dataframe\">\n",
       "  <thead>\n",
       "    <tr style=\"text-align: right;\">\n",
       "      <th></th>\n",
       "      <th>X_1</th>\n",
       "      <th>X_2</th>\n",
       "      <th>y</th>\n",
       "    </tr>\n",
       "  </thead>\n",
       "  <tbody>\n",
       "    <tr>\n",
       "      <th>0</th>\n",
       "      <td>10</td>\n",
       "      <td>1</td>\n",
       "      <td>10</td>\n",
       "    </tr>\n",
       "    <tr>\n",
       "      <th>1</th>\n",
       "      <td>10</td>\n",
       "      <td>2</td>\n",
       "      <td>100</td>\n",
       "    </tr>\n",
       "    <tr>\n",
       "      <th>2</th>\n",
       "      <td>10</td>\n",
       "      <td>3</td>\n",
       "      <td>1000</td>\n",
       "    </tr>\n",
       "    <tr>\n",
       "      <th>3</th>\n",
       "      <td>20</td>\n",
       "      <td>1</td>\n",
       "      <td>20</td>\n",
       "    </tr>\n",
       "    <tr>\n",
       "      <th>4</th>\n",
       "      <td>20</td>\n",
       "      <td>2</td>\n",
       "      <td>400</td>\n",
       "    </tr>\n",
       "    <tr>\n",
       "      <th>5</th>\n",
       "      <td>20</td>\n",
       "      <td>3</td>\n",
       "      <td>8000</td>\n",
       "    </tr>\n",
       "    <tr>\n",
       "      <th>6</th>\n",
       "      <td>30</td>\n",
       "      <td>1</td>\n",
       "      <td>30</td>\n",
       "    </tr>\n",
       "    <tr>\n",
       "      <th>7</th>\n",
       "      <td>30</td>\n",
       "      <td>2</td>\n",
       "      <td>900</td>\n",
       "    </tr>\n",
       "    <tr>\n",
       "      <th>8</th>\n",
       "      <td>30</td>\n",
       "      <td>3</td>\n",
       "      <td>27000</td>\n",
       "    </tr>\n",
       "  </tbody>\n",
       "</table>\n",
       "</div>"
      ],
      "text/plain": [
       "   X_1  X_2      y\n",
       "0   10    1     10\n",
       "1   10    2    100\n",
       "2   10    3   1000\n",
       "3   20    1     20\n",
       "4   20    2    400\n",
       "5   20    3   8000\n",
       "6   30    1     30\n",
       "7   30    2    900\n",
       "8   30    3  27000"
      ]
     },
     "execution_count": 26,
     "metadata": {},
     "output_type": "execute_result"
    }
   ],
   "source": [
    "df=pd.DataFrame(outputs,columns=['X_1','X_2','y'])\n",
    "df"
   ]
  },
  {
   "cell_type": "code",
   "execution_count": 27,
   "id": "3c534426",
   "metadata": {},
   "outputs": [
    {
     "data": {
      "text/html": [
       "<style type=\"text/css\">\n",
       "#T_68c48_row0_col2, #T_68c48_row1_col2, #T_68c48_row3_col2, #T_68c48_row6_col2 {\n",
       "  background-color: #a50026;\n",
       "  color: #f1f1f1;\n",
       "}\n",
       "#T_68c48_row2_col2 {\n",
       "  background-color: #b71126;\n",
       "  color: #f1f1f1;\n",
       "}\n",
       "#T_68c48_row4_col2 {\n",
       "  background-color: #ab0626;\n",
       "  color: #f1f1f1;\n",
       "}\n",
       "#T_68c48_row5_col2 {\n",
       "  background-color: #fcaa5f;\n",
       "  color: #000000;\n",
       "}\n",
       "#T_68c48_row7_col2 {\n",
       "  background-color: #b50f26;\n",
       "  color: #f1f1f1;\n",
       "}\n",
       "#T_68c48_row8_col2 {\n",
       "  background-color: #006837;\n",
       "  color: #f1f1f1;\n",
       "}\n",
       "</style>\n",
       "<table id=\"T_68c48_\">\n",
       "  <thead>\n",
       "    <tr>\n",
       "      <th class=\"blank level0\" >&nbsp;</th>\n",
       "      <th class=\"col_heading level0 col0\" >X_1</th>\n",
       "      <th class=\"col_heading level0 col1\" >X_2</th>\n",
       "      <th class=\"col_heading level0 col2\" >y</th>\n",
       "    </tr>\n",
       "  </thead>\n",
       "  <tbody>\n",
       "    <tr>\n",
       "      <th id=\"T_68c48_level0_row0\" class=\"row_heading level0 row0\" >0</th>\n",
       "      <td id=\"T_68c48_row0_col0\" class=\"data row0 col0\" >10</td>\n",
       "      <td id=\"T_68c48_row0_col1\" class=\"data row0 col1\" >1</td>\n",
       "      <td id=\"T_68c48_row0_col2\" class=\"data row0 col2\" >10</td>\n",
       "    </tr>\n",
       "    <tr>\n",
       "      <th id=\"T_68c48_level0_row1\" class=\"row_heading level0 row1\" >1</th>\n",
       "      <td id=\"T_68c48_row1_col0\" class=\"data row1 col0\" >10</td>\n",
       "      <td id=\"T_68c48_row1_col1\" class=\"data row1 col1\" >2</td>\n",
       "      <td id=\"T_68c48_row1_col2\" class=\"data row1 col2\" >100</td>\n",
       "    </tr>\n",
       "    <tr>\n",
       "      <th id=\"T_68c48_level0_row2\" class=\"row_heading level0 row2\" >2</th>\n",
       "      <td id=\"T_68c48_row2_col0\" class=\"data row2 col0\" >10</td>\n",
       "      <td id=\"T_68c48_row2_col1\" class=\"data row2 col1\" >3</td>\n",
       "      <td id=\"T_68c48_row2_col2\" class=\"data row2 col2\" >1000</td>\n",
       "    </tr>\n",
       "    <tr>\n",
       "      <th id=\"T_68c48_level0_row3\" class=\"row_heading level0 row3\" >3</th>\n",
       "      <td id=\"T_68c48_row3_col0\" class=\"data row3 col0\" >20</td>\n",
       "      <td id=\"T_68c48_row3_col1\" class=\"data row3 col1\" >1</td>\n",
       "      <td id=\"T_68c48_row3_col2\" class=\"data row3 col2\" >20</td>\n",
       "    </tr>\n",
       "    <tr>\n",
       "      <th id=\"T_68c48_level0_row4\" class=\"row_heading level0 row4\" >4</th>\n",
       "      <td id=\"T_68c48_row4_col0\" class=\"data row4 col0\" >20</td>\n",
       "      <td id=\"T_68c48_row4_col1\" class=\"data row4 col1\" >2</td>\n",
       "      <td id=\"T_68c48_row4_col2\" class=\"data row4 col2\" >400</td>\n",
       "    </tr>\n",
       "    <tr>\n",
       "      <th id=\"T_68c48_level0_row5\" class=\"row_heading level0 row5\" >5</th>\n",
       "      <td id=\"T_68c48_row5_col0\" class=\"data row5 col0\" >20</td>\n",
       "      <td id=\"T_68c48_row5_col1\" class=\"data row5 col1\" >3</td>\n",
       "      <td id=\"T_68c48_row5_col2\" class=\"data row5 col2\" >8000</td>\n",
       "    </tr>\n",
       "    <tr>\n",
       "      <th id=\"T_68c48_level0_row6\" class=\"row_heading level0 row6\" >6</th>\n",
       "      <td id=\"T_68c48_row6_col0\" class=\"data row6 col0\" >30</td>\n",
       "      <td id=\"T_68c48_row6_col1\" class=\"data row6 col1\" >1</td>\n",
       "      <td id=\"T_68c48_row6_col2\" class=\"data row6 col2\" >30</td>\n",
       "    </tr>\n",
       "    <tr>\n",
       "      <th id=\"T_68c48_level0_row7\" class=\"row_heading level0 row7\" >7</th>\n",
       "      <td id=\"T_68c48_row7_col0\" class=\"data row7 col0\" >30</td>\n",
       "      <td id=\"T_68c48_row7_col1\" class=\"data row7 col1\" >2</td>\n",
       "      <td id=\"T_68c48_row7_col2\" class=\"data row7 col2\" >900</td>\n",
       "    </tr>\n",
       "    <tr>\n",
       "      <th id=\"T_68c48_level0_row8\" class=\"row_heading level0 row8\" >8</th>\n",
       "      <td id=\"T_68c48_row8_col0\" class=\"data row8 col0\" >30</td>\n",
       "      <td id=\"T_68c48_row8_col1\" class=\"data row8 col1\" >3</td>\n",
       "      <td id=\"T_68c48_row8_col2\" class=\"data row8 col2\" >27000</td>\n",
       "    </tr>\n",
       "  </tbody>\n",
       "</table>\n"
      ],
      "text/plain": [
       "<pandas.io.formats.style.Styler at 0x19593d5a240>"
      ]
     },
     "execution_count": 27,
     "metadata": {},
     "output_type": "execute_result"
    }
   ],
   "source": [
    "df.style.background_gradient(subset='y',cmap='RdYlGn')"
   ]
  },
  {
   "cell_type": "code",
   "execution_count": 28,
   "id": "173e669e",
   "metadata": {},
   "outputs": [
    {
     "data": {
      "text/plain": [
       "<matplotlib.axes._subplots.AxesSubplot at 0x19593d5c978>"
      ]
     },
     "execution_count": 28,
     "metadata": {},
     "output_type": "execute_result"
    },
    {
     "data": {
      "image/png": "[encoded data removed]",
      "text/plain": [
       "<Figure size 432x288 with 2 Axes>"
      ]
     },
     "metadata": {
      "needs_background": "light"
     },
     "output_type": "display_data"
    }
   ],
   "source": [
    "df.plot.hexbin(x='X_1',y='X_2',C='y',gridsize=3,cmap='RdYlGn',sharex=False)"
   ]
  },
  {
   "cell_type": "code",
   "execution_count": 29,
   "id": "d135ddf2",
   "metadata": {},
   "outputs": [],
   "source": [
    "#!python -m pip install sensitivity"
   ]
  },
  {
   "cell_type": "code",
   "execution_count": 30,
   "id": "9d23d4dd",
   "metadata": {},
   "outputs": [
    {
     "name": "stderr",
     "output_type": "stream",
     "text": [
      "100%|███████████████████████████████████████████████████████████████████████████████████| 9/9 [00:00<00:00, 999.09it/s]\n"
     ]
    }
   ],
   "source": [
    "from  sensitivity import SensitivityAnalyzer\n",
    "\n",
    "sensivity_dict ={\n",
    "    'x_1' : [10,20,30],\n",
    "    'x_2' : [1,2,3]\n",
    "}\n",
    "sa = SensitivityAnalyzer(sensivity_dict,my_model)"
   ]
  },
  {
   "cell_type": "code",
   "execution_count": 31,
   "id": "fd828812",
   "metadata": {},
   "outputs": [
    {
     "data": {
      "text/html": [
       "<div>\n",
       "<style scoped>\n",
       "    .dataframe tbody tr th:only-of-type {\n",
       "        vertical-align: middle;\n",
       "    }\n",
       "\n",
       "    .dataframe tbody tr th {\n",
       "        vertical-align: top;\n",
       "    }\n",
       "\n",
       "    .dataframe thead th {\n",
       "        text-align: right;\n",
       "    }\n",
       "</style>\n",
       "<table border=\"1\" class=\"dataframe\">\n",
       "  <thead>\n",
       "    <tr style=\"text-align: right;\">\n",
       "      <th></th>\n",
       "      <th>x_1</th>\n",
       "      <th>x_2</th>\n",
       "      <th>Result</th>\n",
       "    </tr>\n",
       "  </thead>\n",
       "  <tbody>\n",
       "    <tr>\n",
       "      <th>0</th>\n",
       "      <td>10</td>\n",
       "      <td>1</td>\n",
       "      <td>10</td>\n",
       "    </tr>\n",
       "    <tr>\n",
       "      <th>1</th>\n",
       "      <td>10</td>\n",
       "      <td>2</td>\n",
       "      <td>100</td>\n",
       "    </tr>\n",
       "    <tr>\n",
       "      <th>2</th>\n",
       "      <td>10</td>\n",
       "      <td>3</td>\n",
       "      <td>1000</td>\n",
       "    </tr>\n",
       "    <tr>\n",
       "      <th>3</th>\n",
       "      <td>20</td>\n",
       "      <td>1</td>\n",
       "      <td>20</td>\n",
       "    </tr>\n",
       "    <tr>\n",
       "      <th>4</th>\n",
       "      <td>20</td>\n",
       "      <td>2</td>\n",
       "      <td>400</td>\n",
       "    </tr>\n",
       "    <tr>\n",
       "      <th>5</th>\n",
       "      <td>20</td>\n",
       "      <td>3</td>\n",
       "      <td>8000</td>\n",
       "    </tr>\n",
       "    <tr>\n",
       "      <th>6</th>\n",
       "      <td>30</td>\n",
       "      <td>1</td>\n",
       "      <td>30</td>\n",
       "    </tr>\n",
       "    <tr>\n",
       "      <th>7</th>\n",
       "      <td>30</td>\n",
       "      <td>2</td>\n",
       "      <td>900</td>\n",
       "    </tr>\n",
       "    <tr>\n",
       "      <th>8</th>\n",
       "      <td>30</td>\n",
       "      <td>3</td>\n",
       "      <td>27000</td>\n",
       "    </tr>\n",
       "  </tbody>\n",
       "</table>\n",
       "</div>"
      ],
      "text/plain": [
       "   x_1  x_2  Result\n",
       "0   10    1      10\n",
       "1   10    2     100\n",
       "2   10    3    1000\n",
       "3   20    1      20\n",
       "4   20    2     400\n",
       "5   20    3    8000\n",
       "6   30    1      30\n",
       "7   30    2     900\n",
       "8   30    3   27000"
      ]
     },
     "execution_count": 31,
     "metadata": {},
     "output_type": "execute_result"
    }
   ],
   "source": [
    "sa.df"
   ]
  },
  {
   "cell_type": "code",
   "execution_count": 32,
   "id": "690d198d",
   "metadata": {},
   "outputs": [
    {
     "data": {
      "image/png": "[encoded data removed]",
      "text/plain": [
       "<Figure size 1080x288 with 2 Axes>"
      ]
     },
     "metadata": {
      "needs_background": "light"
     },
     "output_type": "display_data"
    }
   ],
   "source": [
    "plot =sa.plot()"
   ]
  },
  {
   "cell_type": "code",
   "execution_count": 33,
   "id": "f3060299",
   "metadata": {},
   "outputs": [
    {
     "data": {
      "text/html": [
       "<h2>Result by x_1 vs. x_2</h2>"
      ],
      "text/plain": [
       "<IPython.core.display.HTML object>"
      ]
     },
     "metadata": {},
     "output_type": "display_data"
    },
    {
     "data": {
      "text/html": [
       "<style type=\"text/css\">\n",
       "#T_165d2_row0_col0, #T_165d2_row0_col1, #T_165d2_row1_col0, #T_165d2_row2_col0 {\n",
       "  background-color: #a50026;\n",
       "  color: #f1f1f1;\n",
       "}\n",
       "#T_165d2_row0_col2 {\n",
       "  background-color: #b71126;\n",
       "  color: #f1f1f1;\n",
       "}\n",
       "#T_165d2_row1_col1 {\n",
       "  background-color: #ab0626;\n",
       "  color: #f1f1f1;\n",
       "}\n",
       "#T_165d2_row1_col2 {\n",
       "  background-color: #fcaa5f;\n",
       "  color: #000000;\n",
       "}\n",
       "#T_165d2_row2_col1 {\n",
       "  background-color: #b50f26;\n",
       "  color: #f1f1f1;\n",
       "}\n",
       "#T_165d2_row2_col2 {\n",
       "  background-color: #006837;\n",
       "  color: #f1f1f1;\n",
       "}\n",
       "</style>\n",
       "<table id=\"T_165d2_\">\n",
       "  <caption>Result - x_1 vs. x_2</caption>\n",
       "  <thead>\n",
       "    <tr>\n",
       "      <th class=\"blank level0\" >&nbsp;</th>\n",
       "      <th class=\"col_heading level0 col0\" >1</th>\n",
       "      <th class=\"col_heading level0 col1\" >2</th>\n",
       "      <th class=\"col_heading level0 col2\" >3</th>\n",
       "    </tr>\n",
       "    <tr>\n",
       "      <th class=\"index_name level0\" >x_1</th>\n",
       "      <th class=\"blank col0\" >&nbsp;</th>\n",
       "      <th class=\"blank col1\" >&nbsp;</th>\n",
       "      <th class=\"blank col2\" >&nbsp;</th>\n",
       "    </tr>\n",
       "  </thead>\n",
       "  <tbody>\n",
       "    <tr>\n",
       "      <th id=\"T_165d2_level0_row0\" class=\"row_heading level0 row0\" >10</th>\n",
       "      <td id=\"T_165d2_row0_col0\" class=\"data row0 col0\" >10.000000</td>\n",
       "      <td id=\"T_165d2_row0_col1\" class=\"data row0 col1\" >100.000000</td>\n",
       "      <td id=\"T_165d2_row0_col2\" class=\"data row0 col2\" >1000.000000</td>\n",
       "    </tr>\n",
       "    <tr>\n",
       "      <th id=\"T_165d2_level0_row1\" class=\"row_heading level0 row1\" >20</th>\n",
       "      <td id=\"T_165d2_row1_col0\" class=\"data row1 col0\" >20.000000</td>\n",
       "      <td id=\"T_165d2_row1_col1\" class=\"data row1 col1\" >400.000000</td>\n",
       "      <td id=\"T_165d2_row1_col2\" class=\"data row1 col2\" >8000.000000</td>\n",
       "    </tr>\n",
       "    <tr>\n",
       "      <th id=\"T_165d2_level0_row2\" class=\"row_heading level0 row2\" >30</th>\n",
       "      <td id=\"T_165d2_row2_col0\" class=\"data row2 col0\" >30.000000</td>\n",
       "      <td id=\"T_165d2_row2_col1\" class=\"data row2 col1\" >900.000000</td>\n",
       "      <td id=\"T_165d2_row2_col2\" class=\"data row2 col2\" >27000.000000</td>\n",
       "    </tr>\n",
       "  </tbody>\n",
       "</table>\n"
      ],
      "text/plain": [
       "<IPython.core.display.HTML object>"
      ]
     },
     "metadata": {},
     "output_type": "display_data"
    }
   ],
   "source": [
    "styled = sa.styled_dfs()"
   ]
  },
  {
   "cell_type": "code",
   "execution_count": 34,
   "id": "63487800",
   "metadata": {},
   "outputs": [
    {
     "name": "stderr",
     "output_type": "stream",
     "text": [
      "100%|███████████████████████████████████████████████████████████████████████████████████| 9/9 [00:00<00:00, 817.20it/s]\n"
     ]
    },
    {
     "data": {
      "image/png": "[encoded data removed]",
      "text/plain": [
       "<Figure size 1080x288 with 2 Axes>"
      ]
     },
     "metadata": {
      "needs_background": "light"
     },
     "output_type": "display_data"
    }
   ],
   "source": [
    "from  sensitivity import SensitivityAnalyzer\n",
    "\n",
    "labels ={\n",
    "    'x_1' : 'First Input',\n",
    "    'x_2' : 'Second Input'\n",
    "}\n",
    "sa = SensitivityAnalyzer(\n",
    "    sensivity_dict,my_model,grid_size=3,reverse_colors=True,color_map='coolwarm',labels=labels\n",
    ")\n",
    "plot=sa.plot()\n"
   ]
  },
  {
   "cell_type": "code",
   "execution_count": 35,
   "id": "b4d5a621",
   "metadata": {},
   "outputs": [
    {
     "data": {
      "text/html": [
       "<h2>Result by First Input vs. Second Input</h2>"
      ],
      "text/plain": [
       "<IPython.core.display.HTML object>"
      ]
     },
     "metadata": {},
     "output_type": "display_data"
    },
    {
     "data": {
      "text/html": [
       "<style type=\"text/css\">\n",
       "#T_e197c_row0_col0, #T_e197c_row0_col1, #T_e197c_row1_col0, #T_e197c_row2_col0 {\n",
       "  background-color: #b40426;\n",
       "  color: #f1f1f1;\n",
       "}\n",
       "#T_e197c_row0_col2 {\n",
       "  background-color: #c12b30;\n",
       "  color: #f1f1f1;\n",
       "}\n",
       "#T_e197c_row1_col1 {\n",
       "  background-color: #b8122a;\n",
       "  color: #f1f1f1;\n",
       "}\n",
       "#T_e197c_row1_col2 {\n",
       "  background-color: #f7aa8c;\n",
       "  color: #000000;\n",
       "}\n",
       "#T_e197c_row2_col1 {\n",
       "  background-color: #c0282f;\n",
       "  color: #f1f1f1;\n",
       "}\n",
       "#T_e197c_row2_col2 {\n",
       "  background-color: #3b4cc0;\n",
       "  color: #f1f1f1;\n",
       "}\n",
       "</style>\n",
       "<table id=\"T_e197c_\">\n",
       "  <caption>Result - First Input vs. Second Input</caption>\n",
       "  <thead>\n",
       "    <tr>\n",
       "      <th class=\"blank level0\" >&nbsp;</th>\n",
       "      <th class=\"col_heading level0 col0\" >1</th>\n",
       "      <th class=\"col_heading level0 col1\" >2</th>\n",
       "      <th class=\"col_heading level0 col2\" >3</th>\n",
       "    </tr>\n",
       "    <tr>\n",
       "      <th class=\"index_name level0\" >First Input</th>\n",
       "      <th class=\"blank col0\" >&nbsp;</th>\n",
       "      <th class=\"blank col1\" >&nbsp;</th>\n",
       "      <th class=\"blank col2\" >&nbsp;</th>\n",
       "    </tr>\n",
       "  </thead>\n",
       "  <tbody>\n",
       "    <tr>\n",
       "      <th id=\"T_e197c_level0_row0\" class=\"row_heading level0 row0\" >10</th>\n",
       "      <td id=\"T_e197c_row0_col0\" class=\"data row0 col0\" >10.000000</td>\n",
       "      <td id=\"T_e197c_row0_col1\" class=\"data row0 col1\" >100.000000</td>\n",
       "      <td id=\"T_e197c_row0_col2\" class=\"data row0 col2\" >1000.000000</td>\n",
       "    </tr>\n",
       "    <tr>\n",
       "      <th id=\"T_e197c_level0_row1\" class=\"row_heading level0 row1\" >20</th>\n",
       "      <td id=\"T_e197c_row1_col0\" class=\"data row1 col0\" >20.000000</td>\n",
       "      <td id=\"T_e197c_row1_col1\" class=\"data row1 col1\" >400.000000</td>\n",
       "      <td id=\"T_e197c_row1_col2\" class=\"data row1 col2\" >8000.000000</td>\n",
       "    </tr>\n",
       "    <tr>\n",
       "      <th id=\"T_e197c_level0_row2\" class=\"row_heading level0 row2\" >30</th>\n",
       "      <td id=\"T_e197c_row2_col0\" class=\"data row2 col0\" >30.000000</td>\n",
       "      <td id=\"T_e197c_row2_col1\" class=\"data row2 col1\" >900.000000</td>\n",
       "      <td id=\"T_e197c_row2_col2\" class=\"data row2 col2\" >27000.000000</td>\n",
       "    </tr>\n",
       "  </tbody>\n",
       "</table>\n"
      ],
      "text/plain": [
       "<IPython.core.display.HTML object>"
      ]
     },
     "metadata": {},
     "output_type": "display_data"
    }
   ],
   "source": [
    "styled =sa.styled_dfs()"
   ]
  },
  {
   "cell_type": "code",
   "execution_count": 36,
   "id": "895409e0",
   "metadata": {},
   "outputs": [
    {
     "name": "stderr",
     "output_type": "stream",
     "text": [
      "100%|█████████████████████████████████████████████████████████████████████████████████| 27/27 [00:00<00:00, 930.14it/s]\n"
     ]
    }
   ],
   "source": [
    "def my_model_2(x_1,x_2,x_3):\n",
    "    return x_1*x_2**x_3\n",
    "senitivity_dict ={\n",
    "    'x_1':[1,2,3],\n",
    "    'x_2':[4,5,6],\n",
    "    'x_3':[7,8,9]\n",
    "}\n",
    "sa = SensitivityAnalyzer(senitivity_dict,my_model_2,grid_size=3)"
   ]
  },
  {
   "cell_type": "code",
   "execution_count": 37,
   "id": "3bdf8d62",
   "metadata": {},
   "outputs": [
    {
     "data": {
      "image/png": "[encoded data removed]",
      "text/plain": [
       "<Figure size 1080x288 with 6 Axes>"
      ]
     },
     "metadata": {
      "needs_background": "light"
     },
     "output_type": "display_data"
    }
   ],
   "source": [
    "plot=sa.plot()"
   ]
  },
  {
   "cell_type": "code",
   "execution_count": 38,
   "id": "3cc033f6",
   "metadata": {
    "scrolled": true
   },
   "outputs": [
    {
     "data": {
      "text/html": [
       "<h2>Result by x_1 vs. x_2</h2>"
      ],
      "text/plain": [
       "<IPython.core.display.HTML object>"
      ]
     },
     "metadata": {},
     "output_type": "display_data"
    },
    {
     "data": {
      "text/html": [
       "<style type=\"text/css\">\n",
       "#T_1c801_row0_col0 {\n",
       "  background-color: #a50026;\n",
       "  color: #f1f1f1;\n",
       "}\n",
       "#T_1c801_row0_col1 {\n",
       "  background-color: #c01a27;\n",
       "  color: #f1f1f1;\n",
       "}\n",
       "#T_1c801_row0_col2 {\n",
       "  background-color: #fdbb6c;\n",
       "  color: #000000;\n",
       "}\n",
       "#T_1c801_row1_col0 {\n",
       "  background-color: #a90426;\n",
       "  color: #f1f1f1;\n",
       "}\n",
       "#T_1c801_row1_col1 {\n",
       "  background-color: #de402e;\n",
       "  color: #f1f1f1;\n",
       "}\n",
       "#T_1c801_row1_col2 {\n",
       "  background-color: #b9e176;\n",
       "  color: #000000;\n",
       "}\n",
       "#T_1c801_row2_col0 {\n",
       "  background-color: #ad0826;\n",
       "  color: #f1f1f1;\n",
       "}\n",
       "#T_1c801_row2_col1 {\n",
       "  background-color: #f26841;\n",
       "  color: #f1f1f1;\n",
       "}\n",
       "#T_1c801_row2_col2 {\n",
       "  background-color: #006837;\n",
       "  color: #f1f1f1;\n",
       "}\n",
       "</style>\n",
       "<table id=\"T_1c801_\">\n",
       "  <caption>Result - x_1 vs. x_2</caption>\n",
       "  <thead>\n",
       "    <tr>\n",
       "      <th class=\"blank level0\" >&nbsp;</th>\n",
       "      <th class=\"col_heading level0 col0\" >4</th>\n",
       "      <th class=\"col_heading level0 col1\" >5</th>\n",
       "      <th class=\"col_heading level0 col2\" >6</th>\n",
       "    </tr>\n",
       "    <tr>\n",
       "      <th class=\"index_name level0\" >x_1</th>\n",
       "      <th class=\"blank col0\" >&nbsp;</th>\n",
       "      <th class=\"blank col1\" >&nbsp;</th>\n",
       "      <th class=\"blank col2\" >&nbsp;</th>\n",
       "    </tr>\n",
       "  </thead>\n",
       "  <tbody>\n",
       "    <tr>\n",
       "      <th id=\"T_1c801_level0_row0\" class=\"row_heading level0 row0\" >1</th>\n",
       "      <td id=\"T_1c801_row0_col0\" class=\"data row0 col0\" >114688.000000</td>\n",
       "      <td id=\"T_1c801_row0_col1\" class=\"data row0 col1\" >807291.666667</td>\n",
       "      <td id=\"T_1c801_row0_col2\" class=\"data row0 col2\" >4012416.000000</td>\n",
       "    </tr>\n",
       "    <tr>\n",
       "      <th id=\"T_1c801_level0_row1\" class=\"row_heading level0 row1\" >2</th>\n",
       "      <td id=\"T_1c801_row1_col0\" class=\"data row1 col0\" >229376.000000</td>\n",
       "      <td id=\"T_1c801_row1_col1\" class=\"data row1 col1\" >1614583.333333</td>\n",
       "      <td id=\"T_1c801_row1_col2\" class=\"data row1 col2\" >8024832.000000</td>\n",
       "    </tr>\n",
       "    <tr>\n",
       "      <th id=\"T_1c801_level0_row2\" class=\"row_heading level0 row2\" >3</th>\n",
       "      <td id=\"T_1c801_row2_col0\" class=\"data row2 col0\" >344064.000000</td>\n",
       "      <td id=\"T_1c801_row2_col1\" class=\"data row2 col1\" >2421875.000000</td>\n",
       "      <td id=\"T_1c801_row2_col2\" class=\"data row2 col2\" >12037248.000000</td>\n",
       "    </tr>\n",
       "  </tbody>\n",
       "</table>\n"
      ],
      "text/plain": [
       "<IPython.core.display.HTML object>"
      ]
     },
     "metadata": {},
     "output_type": "display_data"
    },
    {
     "data": {
      "text/html": [
       "<h2>Result by x_1 vs. x_3</h2>"
      ],
      "text/plain": [
       "<IPython.core.display.HTML object>"
      ]
     },
     "metadata": {},
     "output_type": "display_data"
    },
    {
     "data": {
      "text/html": [
       "<style type=\"text/css\">\n",
       "#T_3c637_row0_col0 {\n",
       "  background-color: #a50026;\n",
       "  color: #f1f1f1;\n",
       "}\n",
       "#T_3c637_row0_col1 {\n",
       "  background-color: #bd1726;\n",
       "  color: #f1f1f1;\n",
       "}\n",
       "#T_3c637_row0_col2 {\n",
       "  background-color: #fdbb6c;\n",
       "  color: #000000;\n",
       "}\n",
       "#T_3c637_row1_col0 {\n",
       "  background-color: #a90426;\n",
       "  color: #f1f1f1;\n",
       "}\n",
       "#T_3c637_row1_col1 {\n",
       "  background-color: #d93429;\n",
       "  color: #f1f1f1;\n",
       "}\n",
       "#T_3c637_row1_col2 {\n",
       "  background-color: #b9e176;\n",
       "  color: #000000;\n",
       "}\n",
       "#T_3c637_row2_col0 {\n",
       "  background-color: #af0926;\n",
       "  color: #f1f1f1;\n",
       "}\n",
       "#T_3c637_row2_col1 {\n",
       "  background-color: #ea5739;\n",
       "  color: #f1f1f1;\n",
       "}\n",
       "#T_3c637_row2_col2 {\n",
       "  background-color: #006837;\n",
       "  color: #f1f1f1;\n",
       "}\n",
       "</style>\n",
       "<table id=\"T_3c637_\">\n",
       "  <caption>Result - x_1 vs. x_3</caption>\n",
       "  <thead>\n",
       "    <tr>\n",
       "      <th class=\"blank level0\" >&nbsp;</th>\n",
       "      <th class=\"col_heading level0 col0\" >7</th>\n",
       "      <th class=\"col_heading level0 col1\" >8</th>\n",
       "      <th class=\"col_heading level0 col2\" >9</th>\n",
       "    </tr>\n",
       "    <tr>\n",
       "      <th class=\"index_name level0\" >x_1</th>\n",
       "      <th class=\"blank col0\" >&nbsp;</th>\n",
       "      <th class=\"blank col1\" >&nbsp;</th>\n",
       "      <th class=\"blank col2\" >&nbsp;</th>\n",
       "    </tr>\n",
       "  </thead>\n",
       "  <tbody>\n",
       "    <tr>\n",
       "      <th id=\"T_3c637_level0_row0\" class=\"row_heading level0 row0\" >1</th>\n",
       "      <td id=\"T_3c637_row0_col0\" class=\"data row0 col0\" >124815.000000</td>\n",
       "      <td id=\"T_3c637_row0_col1\" class=\"data row0 col1\" >711925.666667</td>\n",
       "      <td id=\"T_3c637_row0_col2\" class=\"data row0 col2\" >4097655.000000</td>\n",
       "    </tr>\n",
       "    <tr>\n",
       "      <th id=\"T_3c637_level0_row1\" class=\"row_heading level0 row1\" >2</th>\n",
       "      <td id=\"T_3c637_row1_col0\" class=\"data row1 col0\" >249630.000000</td>\n",
       "      <td id=\"T_3c637_row1_col1\" class=\"data row1 col1\" >1423851.333333</td>\n",
       "      <td id=\"T_3c637_row1_col2\" class=\"data row1 col2\" >8195310.000000</td>\n",
       "    </tr>\n",
       "    <tr>\n",
       "      <th id=\"T_3c637_level0_row2\" class=\"row_heading level0 row2\" >3</th>\n",
       "      <td id=\"T_3c637_row2_col0\" class=\"data row2 col0\" >374445.000000</td>\n",
       "      <td id=\"T_3c637_row2_col1\" class=\"data row2 col1\" >2135777.000000</td>\n",
       "      <td id=\"T_3c637_row2_col2\" class=\"data row2 col2\" >12292965.000000</td>\n",
       "    </tr>\n",
       "  </tbody>\n",
       "</table>\n"
      ],
      "text/plain": [
       "<IPython.core.display.HTML object>"
      ]
     },
     "metadata": {},
     "output_type": "display_data"
    },
    {
     "data": {
      "text/html": [
       "<h2>Result by x_2 vs. x_3</h2>"
      ],
      "text/plain": [
       "<IPython.core.display.HTML object>"
      ]
     },
     "metadata": {},
     "output_type": "display_data"
    },
    {
     "data": {
      "text/html": [
       "<style type=\"text/css\">\n",
       "#T_644f8_row0_col0 {\n",
       "  background-color: #a50026;\n",
       "  color: #f1f1f1;\n",
       "}\n",
       "#T_644f8_row0_col1, #T_644f8_row1_col0 {\n",
       "  background-color: #a70226;\n",
       "  color: #f1f1f1;\n",
       "}\n",
       "#T_644f8_row0_col2, #T_644f8_row2_col0 {\n",
       "  background-color: #b10b26;\n",
       "  color: #f1f1f1;\n",
       "}\n",
       "#T_644f8_row1_col1 {\n",
       "  background-color: #b71126;\n",
       "  color: #f1f1f1;\n",
       "}\n",
       "#T_644f8_row1_col2 {\n",
       "  background-color: #f26841;\n",
       "  color: #f1f1f1;\n",
       "}\n",
       "#T_644f8_row2_col1 {\n",
       "  background-color: #ea5739;\n",
       "  color: #f1f1f1;\n",
       "}\n",
       "#T_644f8_row2_col2 {\n",
       "  background-color: #006837;\n",
       "  color: #f1f1f1;\n",
       "}\n",
       "</style>\n",
       "<table id=\"T_644f8_\">\n",
       "  <caption>Result - x_2 vs. x_3</caption>\n",
       "  <thead>\n",
       "    <tr>\n",
       "      <th class=\"blank level0\" >&nbsp;</th>\n",
       "      <th class=\"col_heading level0 col0\" >7</th>\n",
       "      <th class=\"col_heading level0 col1\" >8</th>\n",
       "      <th class=\"col_heading level0 col2\" >9</th>\n",
       "    </tr>\n",
       "    <tr>\n",
       "      <th class=\"index_name level0\" >x_2</th>\n",
       "      <th class=\"blank col0\" >&nbsp;</th>\n",
       "      <th class=\"blank col1\" >&nbsp;</th>\n",
       "      <th class=\"blank col2\" >&nbsp;</th>\n",
       "    </tr>\n",
       "  </thead>\n",
       "  <tbody>\n",
       "    <tr>\n",
       "      <th id=\"T_644f8_level0_row0\" class=\"row_heading level0 row0\" >4</th>\n",
       "      <td id=\"T_644f8_row0_col0\" class=\"data row0 col0\" >32768.000000</td>\n",
       "      <td id=\"T_644f8_row0_col1\" class=\"data row0 col1\" >131072.000000</td>\n",
       "      <td id=\"T_644f8_row0_col2\" class=\"data row0 col2\" >524288.000000</td>\n",
       "    </tr>\n",
       "    <tr>\n",
       "      <th id=\"T_644f8_level0_row1\" class=\"row_heading level0 row1\" >5</th>\n",
       "      <td id=\"T_644f8_row1_col0\" class=\"data row1 col0\" >156250.000000</td>\n",
       "      <td id=\"T_644f8_row1_col1\" class=\"data row1 col1\" >781250.000000</td>\n",
       "      <td id=\"T_644f8_row1_col2\" class=\"data row1 col2\" >3906250.000000</td>\n",
       "    </tr>\n",
       "    <tr>\n",
       "      <th id=\"T_644f8_level0_row2\" class=\"row_heading level0 row2\" >6</th>\n",
       "      <td id=\"T_644f8_row2_col0\" class=\"data row2 col0\" >559872.000000</td>\n",
       "      <td id=\"T_644f8_row2_col1\" class=\"data row2 col1\" >3359232.000000</td>\n",
       "      <td id=\"T_644f8_row2_col2\" class=\"data row2 col2\" >20155392.000000</td>\n",
       "    </tr>\n",
       "  </tbody>\n",
       "</table>\n"
      ],
      "text/plain": [
       "<IPython.core.display.HTML object>"
      ]
     },
     "metadata": {},
     "output_type": "display_data"
    }
   ],
   "source": [
    "syled_dic = sa.styled_dfs()"
   ]
  },
  {
   "cell_type": "code",
   "execution_count": 39,
   "id": "01369fbd",
   "metadata": {},
   "outputs": [
    {
     "data": {
      "text/html": [
       "<style type=\"text/css\">\n",
       "#T_1c801_row0_col0 {\n",
       "  background-color: #a50026;\n",
       "  color: #f1f1f1;\n",
       "}\n",
       "#T_1c801_row0_col1 {\n",
       "  background-color: #c01a27;\n",
       "  color: #f1f1f1;\n",
       "}\n",
       "#T_1c801_row0_col2 {\n",
       "  background-color: #fdbb6c;\n",
       "  color: #000000;\n",
       "}\n",
       "#T_1c801_row1_col0 {\n",
       "  background-color: #a90426;\n",
       "  color: #f1f1f1;\n",
       "}\n",
       "#T_1c801_row1_col1 {\n",
       "  background-color: #de402e;\n",
       "  color: #f1f1f1;\n",
       "}\n",
       "#T_1c801_row1_col2 {\n",
       "  background-color: #b9e176;\n",
       "  color: #000000;\n",
       "}\n",
       "#T_1c801_row2_col0 {\n",
       "  background-color: #ad0826;\n",
       "  color: #f1f1f1;\n",
       "}\n",
       "#T_1c801_row2_col1 {\n",
       "  background-color: #f26841;\n",
       "  color: #f1f1f1;\n",
       "}\n",
       "#T_1c801_row2_col2 {\n",
       "  background-color: #006837;\n",
       "  color: #f1f1f1;\n",
       "}\n",
       "</style>\n",
       "<table id=\"T_1c801_\">\n",
       "  <caption>Result - x_1 vs. x_2</caption>\n",
       "  <thead>\n",
       "    <tr>\n",
       "      <th class=\"blank level0\" >&nbsp;</th>\n",
       "      <th class=\"col_heading level0 col0\" >4</th>\n",
       "      <th class=\"col_heading level0 col1\" >5</th>\n",
       "      <th class=\"col_heading level0 col2\" >6</th>\n",
       "    </tr>\n",
       "    <tr>\n",
       "      <th class=\"index_name level0\" >x_1</th>\n",
       "      <th class=\"blank col0\" >&nbsp;</th>\n",
       "      <th class=\"blank col1\" >&nbsp;</th>\n",
       "      <th class=\"blank col2\" >&nbsp;</th>\n",
       "    </tr>\n",
       "  </thead>\n",
       "  <tbody>\n",
       "    <tr>\n",
       "      <th id=\"T_1c801_level0_row0\" class=\"row_heading level0 row0\" >1</th>\n",
       "      <td id=\"T_1c801_row0_col0\" class=\"data row0 col0\" >114688.000000</td>\n",
       "      <td id=\"T_1c801_row0_col1\" class=\"data row0 col1\" >807291.666667</td>\n",
       "      <td id=\"T_1c801_row0_col2\" class=\"data row0 col2\" >4012416.000000</td>\n",
       "    </tr>\n",
       "    <tr>\n",
       "      <th id=\"T_1c801_level0_row1\" class=\"row_heading level0 row1\" >2</th>\n",
       "      <td id=\"T_1c801_row1_col0\" class=\"data row1 col0\" >229376.000000</td>\n",
       "      <td id=\"T_1c801_row1_col1\" class=\"data row1 col1\" >1614583.333333</td>\n",
       "      <td id=\"T_1c801_row1_col2\" class=\"data row1 col2\" >8024832.000000</td>\n",
       "    </tr>\n",
       "    <tr>\n",
       "      <th id=\"T_1c801_level0_row2\" class=\"row_heading level0 row2\" >3</th>\n",
       "      <td id=\"T_1c801_row2_col0\" class=\"data row2 col0\" >344064.000000</td>\n",
       "      <td id=\"T_1c801_row2_col1\" class=\"data row2 col1\" >2421875.000000</td>\n",
       "      <td id=\"T_1c801_row2_col2\" class=\"data row2 col2\" >12037248.000000</td>\n",
       "    </tr>\n",
       "  </tbody>\n",
       "</table>\n"
      ],
      "text/plain": [
       "<pandas.io.formats.style.Styler at 0x19593f499b0>"
      ]
     },
     "execution_count": 39,
     "metadata": {},
     "output_type": "execute_result"
    }
   ],
   "source": [
    "syled_dic[('x_1','x_2')]"
   ]
  },
  {
   "cell_type": "code",
   "execution_count": 40,
   "id": "d6bc3d2f",
   "metadata": {},
   "outputs": [
    {
     "data": {
      "text/html": [
       "<h2>Result by x_1 vs. x_2</h2>"
      ],
      "text/plain": [
       "<IPython.core.display.HTML object>"
      ]
     },
     "metadata": {},
     "output_type": "display_data"
    },
    {
     "data": {
      "text/html": [
       "<style type=\"text/css\">\n",
       "#T_fdae9_row0_col0 {\n",
       "  background-color: #a50026;\n",
       "  color: #f1f1f1;\n",
       "}\n",
       "#T_fdae9_row0_col1 {\n",
       "  background-color: #c01a27;\n",
       "  color: #f1f1f1;\n",
       "}\n",
       "#T_fdae9_row0_col2 {\n",
       "  background-color: #fdbb6c;\n",
       "  color: #000000;\n",
       "}\n",
       "#T_fdae9_row1_col0 {\n",
       "  background-color: #a90426;\n",
       "  color: #f1f1f1;\n",
       "}\n",
       "#T_fdae9_row1_col1 {\n",
       "  background-color: #de402e;\n",
       "  color: #f1f1f1;\n",
       "}\n",
       "#T_fdae9_row1_col2 {\n",
       "  background-color: #b9e176;\n",
       "  color: #000000;\n",
       "}\n",
       "#T_fdae9_row2_col0 {\n",
       "  background-color: #ad0826;\n",
       "  color: #f1f1f1;\n",
       "}\n",
       "#T_fdae9_row2_col1 {\n",
       "  background-color: #f26841;\n",
       "  color: #f1f1f1;\n",
       "}\n",
       "#T_fdae9_row2_col2 {\n",
       "  background-color: #006837;\n",
       "  color: #f1f1f1;\n",
       "}\n",
       "</style>\n",
       "<table id=\"T_fdae9_\">\n",
       "  <caption>Result - x_1 vs. x_2</caption>\n",
       "  <thead>\n",
       "    <tr>\n",
       "      <th class=\"blank level0\" >&nbsp;</th>\n",
       "      <th class=\"col_heading level0 col0\" >4</th>\n",
       "      <th class=\"col_heading level0 col1\" >5</th>\n",
       "      <th class=\"col_heading level0 col2\" >6</th>\n",
       "    </tr>\n",
       "    <tr>\n",
       "      <th class=\"index_name level0\" >x_1</th>\n",
       "      <th class=\"blank col0\" >&nbsp;</th>\n",
       "      <th class=\"blank col1\" >&nbsp;</th>\n",
       "      <th class=\"blank col2\" >&nbsp;</th>\n",
       "    </tr>\n",
       "  </thead>\n",
       "  <tbody>\n",
       "    <tr>\n",
       "      <th id=\"T_fdae9_level0_row0\" class=\"row_heading level0 row0\" >1</th>\n",
       "      <td id=\"T_fdae9_row0_col0\" class=\"data row0 col0\" >$114,688</td>\n",
       "      <td id=\"T_fdae9_row0_col1\" class=\"data row0 col1\" >$807,292</td>\n",
       "      <td id=\"T_fdae9_row0_col2\" class=\"data row0 col2\" >$4,012,416</td>\n",
       "    </tr>\n",
       "    <tr>\n",
       "      <th id=\"T_fdae9_level0_row1\" class=\"row_heading level0 row1\" >2</th>\n",
       "      <td id=\"T_fdae9_row1_col0\" class=\"data row1 col0\" >$229,376</td>\n",
       "      <td id=\"T_fdae9_row1_col1\" class=\"data row1 col1\" >$1,614,583</td>\n",
       "      <td id=\"T_fdae9_row1_col2\" class=\"data row1 col2\" >$8,024,832</td>\n",
       "    </tr>\n",
       "    <tr>\n",
       "      <th id=\"T_fdae9_level0_row2\" class=\"row_heading level0 row2\" >3</th>\n",
       "      <td id=\"T_fdae9_row2_col0\" class=\"data row2 col0\" >$344,064</td>\n",
       "      <td id=\"T_fdae9_row2_col1\" class=\"data row2 col1\" >$2,421,875</td>\n",
       "      <td id=\"T_fdae9_row2_col2\" class=\"data row2 col2\" >$12,037,248</td>\n",
       "    </tr>\n",
       "  </tbody>\n",
       "</table>\n"
      ],
      "text/plain": [
       "<IPython.core.display.HTML object>"
      ]
     },
     "metadata": {},
     "output_type": "display_data"
    },
    {
     "data": {
      "text/html": [
       "<h2>Result by x_1 vs. x_3</h2>"
      ],
      "text/plain": [
       "<IPython.core.display.HTML object>"
      ]
     },
     "metadata": {},
     "output_type": "display_data"
    },
    {
     "data": {
      "text/html": [
       "<style type=\"text/css\">\n",
       "#T_e8c66_row0_col0 {\n",
       "  background-color: #a50026;\n",
       "  color: #f1f1f1;\n",
       "}\n",
       "#T_e8c66_row0_col1 {\n",
       "  background-color: #bd1726;\n",
       "  color: #f1f1f1;\n",
       "}\n",
       "#T_e8c66_row0_col2 {\n",
       "  background-color: #fdbb6c;\n",
       "  color: #000000;\n",
       "}\n",
       "#T_e8c66_row1_col0 {\n",
       "  background-color: #a90426;\n",
       "  color: #f1f1f1;\n",
       "}\n",
       "#T_e8c66_row1_col1 {\n",
       "  background-color: #d93429;\n",
       "  color: #f1f1f1;\n",
       "}\n",
       "#T_e8c66_row1_col2 {\n",
       "  background-color: #b9e176;\n",
       "  color: #000000;\n",
       "}\n",
       "#T_e8c66_row2_col0 {\n",
       "  background-color: #af0926;\n",
       "  color: #f1f1f1;\n",
       "}\n",
       "#T_e8c66_row2_col1 {\n",
       "  background-color: #ea5739;\n",
       "  color: #f1f1f1;\n",
       "}\n",
       "#T_e8c66_row2_col2 {\n",
       "  background-color: #006837;\n",
       "  color: #f1f1f1;\n",
       "}\n",
       "</style>\n",
       "<table id=\"T_e8c66_\">\n",
       "  <caption>Result - x_1 vs. x_3</caption>\n",
       "  <thead>\n",
       "    <tr>\n",
       "      <th class=\"blank level0\" >&nbsp;</th>\n",
       "      <th class=\"col_heading level0 col0\" >7</th>\n",
       "      <th class=\"col_heading level0 col1\" >8</th>\n",
       "      <th class=\"col_heading level0 col2\" >9</th>\n",
       "    </tr>\n",
       "    <tr>\n",
       "      <th class=\"index_name level0\" >x_1</th>\n",
       "      <th class=\"blank col0\" >&nbsp;</th>\n",
       "      <th class=\"blank col1\" >&nbsp;</th>\n",
       "      <th class=\"blank col2\" >&nbsp;</th>\n",
       "    </tr>\n",
       "  </thead>\n",
       "  <tbody>\n",
       "    <tr>\n",
       "      <th id=\"T_e8c66_level0_row0\" class=\"row_heading level0 row0\" >1</th>\n",
       "      <td id=\"T_e8c66_row0_col0\" class=\"data row0 col0\" >$124,815</td>\n",
       "      <td id=\"T_e8c66_row0_col1\" class=\"data row0 col1\" >$711,926</td>\n",
       "      <td id=\"T_e8c66_row0_col2\" class=\"data row0 col2\" >$4,097,655</td>\n",
       "    </tr>\n",
       "    <tr>\n",
       "      <th id=\"T_e8c66_level0_row1\" class=\"row_heading level0 row1\" >2</th>\n",
       "      <td id=\"T_e8c66_row1_col0\" class=\"data row1 col0\" >$249,630</td>\n",
       "      <td id=\"T_e8c66_row1_col1\" class=\"data row1 col1\" >$1,423,851</td>\n",
       "      <td id=\"T_e8c66_row1_col2\" class=\"data row1 col2\" >$8,195,310</td>\n",
       "    </tr>\n",
       "    <tr>\n",
       "      <th id=\"T_e8c66_level0_row2\" class=\"row_heading level0 row2\" >3</th>\n",
       "      <td id=\"T_e8c66_row2_col0\" class=\"data row2 col0\" >$374,445</td>\n",
       "      <td id=\"T_e8c66_row2_col1\" class=\"data row2 col1\" >$2,135,777</td>\n",
       "      <td id=\"T_e8c66_row2_col2\" class=\"data row2 col2\" >$12,292,965</td>\n",
       "    </tr>\n",
       "  </tbody>\n",
       "</table>\n"
      ],
      "text/plain": [
       "<IPython.core.display.HTML object>"
      ]
     },
     "metadata": {},
     "output_type": "display_data"
    },
    {
     "data": {
      "text/html": [
       "<h2>Result by x_2 vs. x_3</h2>"
      ],
      "text/plain": [
       "<IPython.core.display.HTML object>"
      ]
     },
     "metadata": {},
     "output_type": "display_data"
    },
    {
     "data": {
      "text/html": [
       "<style type=\"text/css\">\n",
       "#T_14e61_row0_col0 {\n",
       "  background-color: #a50026;\n",
       "  color: #f1f1f1;\n",
       "}\n",
       "#T_14e61_row0_col1, #T_14e61_row1_col0 {\n",
       "  background-color: #a70226;\n",
       "  color: #f1f1f1;\n",
       "}\n",
       "#T_14e61_row0_col2, #T_14e61_row2_col0 {\n",
       "  background-color: #b10b26;\n",
       "  color: #f1f1f1;\n",
       "}\n",
       "#T_14e61_row1_col1 {\n",
       "  background-color: #b71126;\n",
       "  color: #f1f1f1;\n",
       "}\n",
       "#T_14e61_row1_col2 {\n",
       "  background-color: #f26841;\n",
       "  color: #f1f1f1;\n",
       "}\n",
       "#T_14e61_row2_col1 {\n",
       "  background-color: #ea5739;\n",
       "  color: #f1f1f1;\n",
       "}\n",
       "#T_14e61_row2_col2 {\n",
       "  background-color: #006837;\n",
       "  color: #f1f1f1;\n",
       "}\n",
       "</style>\n",
       "<table id=\"T_14e61_\">\n",
       "  <caption>Result - x_2 vs. x_3</caption>\n",
       "  <thead>\n",
       "    <tr>\n",
       "      <th class=\"blank level0\" >&nbsp;</th>\n",
       "      <th class=\"col_heading level0 col0\" >7</th>\n",
       "      <th class=\"col_heading level0 col1\" >8</th>\n",
       "      <th class=\"col_heading level0 col2\" >9</th>\n",
       "    </tr>\n",
       "    <tr>\n",
       "      <th class=\"index_name level0\" >x_2</th>\n",
       "      <th class=\"blank col0\" >&nbsp;</th>\n",
       "      <th class=\"blank col1\" >&nbsp;</th>\n",
       "      <th class=\"blank col2\" >&nbsp;</th>\n",
       "    </tr>\n",
       "  </thead>\n",
       "  <tbody>\n",
       "    <tr>\n",
       "      <th id=\"T_14e61_level0_row0\" class=\"row_heading level0 row0\" >4</th>\n",
       "      <td id=\"T_14e61_row0_col0\" class=\"data row0 col0\" >$32,768</td>\n",
       "      <td id=\"T_14e61_row0_col1\" class=\"data row0 col1\" >$131,072</td>\n",
       "      <td id=\"T_14e61_row0_col2\" class=\"data row0 col2\" >$524,288</td>\n",
       "    </tr>\n",
       "    <tr>\n",
       "      <th id=\"T_14e61_level0_row1\" class=\"row_heading level0 row1\" >5</th>\n",
       "      <td id=\"T_14e61_row1_col0\" class=\"data row1 col0\" >$156,250</td>\n",
       "      <td id=\"T_14e61_row1_col1\" class=\"data row1 col1\" >$781,250</td>\n",
       "      <td id=\"T_14e61_row1_col2\" class=\"data row1 col2\" >$3,906,250</td>\n",
       "    </tr>\n",
       "    <tr>\n",
       "      <th id=\"T_14e61_level0_row2\" class=\"row_heading level0 row2\" >6</th>\n",
       "      <td id=\"T_14e61_row2_col0\" class=\"data row2 col0\" >$559,872</td>\n",
       "      <td id=\"T_14e61_row2_col1\" class=\"data row2 col1\" >$3,359,232</td>\n",
       "      <td id=\"T_14e61_row2_col2\" class=\"data row2 col2\" >$20,155,392</td>\n",
       "    </tr>\n",
       "  </tbody>\n",
       "</table>\n"
      ],
      "text/plain": [
       "<IPython.core.display.HTML object>"
      ]
     },
     "metadata": {},
     "output_type": "display_data"
    }
   ],
   "source": [
    "syled_dict=sa.styled_dfs(num_fmt='${:,.0f}')"
   ]
  },
  {
   "cell_type": "code",
   "execution_count": 41,
   "id": "b844811c",
   "metadata": {},
   "outputs": [],
   "source": [
    "def years_to_retirement(data:ModelInputs,print_output=False):\n",
    "    \n",
    "    prior_wealth = 0  \n",
    "    wealth = 0\n",
    "    \n",
    "    year = 0\n",
    "    \n",
    "    if print_output:\n",
    "        print('Wealths over time:')\n",
    "    while wealth < data.Desired_cash:\n",
    "        year = year + 1\n",
    "        wealth = wealth_at_year(data, year, prior_wealth)\n",
    "        if print_output:\n",
    "            print(f'The wealth at year {year} is ${wealth:,.0f}.')\n",
    "\n",
    "        prior_wealth = wealth\n",
    "    if print_output:\n",
    "        print(f'\\nRetirement:\\nIt will take {year} years to retire.')  \n",
    "    return year"
   ]
  },
  {
   "cell_type": "code",
   "execution_count": 42,
   "id": "b0eacd91",
   "metadata": {},
   "outputs": [
    {
     "name": "stdout",
     "output_type": "stream",
     "text": [
      "Wealths over time:\n",
      "The wealth at year 1 is $15,300.\n",
      "The wealth at year 2 is $31,671.\n",
      "The wealth at year 3 is $49,173.\n",
      "The wealth at year 4 is $67,868.\n",
      "The wealth at year 5 is $90,307.\n",
      "The wealth at year 6 is $114,248.\n",
      "The wealth at year 7 is $139,775.\n",
      "The wealth at year 8 is $166,975.\n",
      "The wealth at year 9 is $195,939.\n",
      "The wealth at year 10 is $229,918.\n",
      "The wealth at year 11 is $266,080.\n",
      "The wealth at year 12 is $304,542.\n",
      "The wealth at year 13 is $345,431.\n",
      "The wealth at year 14 is $388,878.\n",
      "The wealth at year 15 is $439,025.\n",
      "The wealth at year 16 is $492,294.\n",
      "The wealth at year 17 is $548,853.\n",
      "The wealth at year 18 is $608,878.\n",
      "The wealth at year 19 is $672,557.\n",
      "The wealth at year 20 is $745,168.\n",
      "The wealth at year 21 is $822,190.\n",
      "The wealth at year 22 is $903,859.\n",
      "The wealth at year 23 is $990,422.\n",
      "The wealth at year 24 is $1,082,140.\n",
      "The wealth at year 25 is $1,185,745.\n",
      "The wealth at year 26 is $1,295,520.\n",
      "The wealth at year 27 is $1,411,793.\n",
      "The wealth at year 28 is $1,534,910.\n",
      "\n",
      "Retirement:\n",
      "It will take 28 years to retire.\n"
     ]
    }
   ],
   "source": [
    "years = years_to_retirement(model_data,print_output=True)"
   ]
  },
  {
   "cell_type": "code",
   "execution_count": 43,
   "id": "b8c524b3",
   "metadata": {},
   "outputs": [
    {
     "data": {
      "text/plain": [
       "28"
      ]
     },
     "execution_count": 43,
     "metadata": {},
     "output_type": "execute_result"
    }
   ],
   "source": [
    "years = years_to_retirement(model_data,print_output=False)\n",
    "years"
   ]
  },
  {
   "cell_type": "code",
   "execution_count": 44,
   "id": "eab195bc",
   "metadata": {},
   "outputs": [
    {
     "data": {
      "text/plain": [
       "5"
      ]
     },
     "execution_count": 44,
     "metadata": {},
     "output_type": "execute_result"
    }
   ],
   "source": [
    "#Sensivity Analysis\n",
    "def years_to_retirement_separate_args(**kwargs):\n",
    "    data=ModelInputs(**kwargs)\n",
    "    return years_to_retirement(data)\n",
    "years_to_retirement_separate_args(start_salary=1000000,promo_rise=0.7)"
   ]
  },
  {
   "cell_type": "code",
   "execution_count": 45,
   "id": "a351db9d",
   "metadata": {},
   "outputs": [
    {
     "data": {
      "text/plain": [
       "28"
      ]
     },
     "execution_count": 45,
     "metadata": {},
     "output_type": "execute_result"
    }
   ],
   "source": [
    "years_to_retirement_separate_args()"
   ]
  },
  {
   "cell_type": "code",
   "execution_count": 46,
   "id": "78a4f781",
   "metadata": {},
   "outputs": [
    {
     "data": {
      "text/plain": [
       "[40000, 50000, 60000, 70000]"
      ]
     },
     "execution_count": 46,
     "metadata": {},
     "output_type": "execute_result"
    }
   ],
   "source": [
    "[i*10000 for i in range(4,8)]"
   ]
  },
  {
   "cell_type": "code",
   "execution_count": 47,
   "id": "a79fb355",
   "metadata": {},
   "outputs": [
    {
     "name": "stderr",
     "output_type": "stream",
     "text": [
      "100%|█████████████████████████████████████████████████████████████████████████████| 2592/2592 [00:02<00:00, 894.63it/s]\n"
     ]
    }
   ],
   "source": [
    "sensivity_values = {\n",
    "    'start_salary': [i*10000 for i in range(4,8)],\n",
    "    'interest_rate': [i/100 for i in range(4,8)],\n",
    "    'promos_every_n_year':[i for i in range(1,4)],\n",
    "    'cost_o_living_raise':[i/100 for i in range(1,4)],\n",
    "    'promo_rise':[i/100 for i in range(10,40,10)],\n",
    "    'savings_rate':[i/100 for i in range(10,40,10)],\n",
    "    'Desired_cash': [i*100000 for i in range(10,26,10)]\n",
    "\n",
    "}\n",
    "labels ={\n",
    "    \"start_salary\":\"Starting Salary\",\n",
    "    \"interest_rate\":\"Interest Rate\",\n",
    "    \"promos_every_n_year\":\"Promotion\",\n",
    "    \"cost_o_living_raise\" :\"Cost of living\",\n",
    "    \"interest_rate\":\"Interest Rate\",\n",
    "}\n",
    "sa = SensitivityAnalyzer(sensivity_values,years_to_retirement_separate_args,result_name='Years to retirement',reverse_colors=True,labels=labels,num_fmt='{:.0f}')"
   ]
  },
  {
   "cell_type": "code",
   "execution_count": 48,
   "id": "57c53dde",
   "metadata": {},
   "outputs": [
    {
     "data": {
      "text/html": [
       "<div>\n",
       "<style scoped>\n",
       "    .dataframe tbody tr th:only-of-type {\n",
       "        vertical-align: middle;\n",
       "    }\n",
       "\n",
       "    .dataframe tbody tr th {\n",
       "        vertical-align: top;\n",
       "    }\n",
       "\n",
       "    .dataframe thead th {\n",
       "        text-align: right;\n",
       "    }\n",
       "</style>\n",
       "<table border=\"1\" class=\"dataframe\">\n",
       "  <thead>\n",
       "    <tr style=\"text-align: right;\">\n",
       "      <th></th>\n",
       "      <th>Starting Salary</th>\n",
       "      <th>Interest Rate</th>\n",
       "      <th>Promotion</th>\n",
       "      <th>Cost of living</th>\n",
       "      <th>promo_rise</th>\n",
       "      <th>savings_rate</th>\n",
       "      <th>Desired_cash</th>\n",
       "      <th>Years to retirement</th>\n",
       "    </tr>\n",
       "  </thead>\n",
       "  <tbody>\n",
       "    <tr>\n",
       "      <th>0</th>\n",
       "      <td>40000</td>\n",
       "      <td>0.04</td>\n",
       "      <td>1</td>\n",
       "      <td>0.01</td>\n",
       "      <td>0.1</td>\n",
       "      <td>0.1</td>\n",
       "      <td>1000000</td>\n",
       "      <td>28</td>\n",
       "    </tr>\n",
       "    <tr>\n",
       "      <th>1</th>\n",
       "      <td>40000</td>\n",
       "      <td>0.04</td>\n",
       "      <td>1</td>\n",
       "      <td>0.01</td>\n",
       "      <td>0.1</td>\n",
       "      <td>0.1</td>\n",
       "      <td>2000000</td>\n",
       "      <td>34</td>\n",
       "    </tr>\n",
       "    <tr>\n",
       "      <th>2</th>\n",
       "      <td>40000</td>\n",
       "      <td>0.04</td>\n",
       "      <td>1</td>\n",
       "      <td>0.01</td>\n",
       "      <td>0.1</td>\n",
       "      <td>0.2</td>\n",
       "      <td>1000000</td>\n",
       "      <td>23</td>\n",
       "    </tr>\n",
       "    <tr>\n",
       "      <th>3</th>\n",
       "      <td>40000</td>\n",
       "      <td>0.04</td>\n",
       "      <td>1</td>\n",
       "      <td>0.01</td>\n",
       "      <td>0.1</td>\n",
       "      <td>0.2</td>\n",
       "      <td>2000000</td>\n",
       "      <td>28</td>\n",
       "    </tr>\n",
       "    <tr>\n",
       "      <th>4</th>\n",
       "      <td>40000</td>\n",
       "      <td>0.04</td>\n",
       "      <td>1</td>\n",
       "      <td>0.01</td>\n",
       "      <td>0.1</td>\n",
       "      <td>0.3</td>\n",
       "      <td>1000000</td>\n",
       "      <td>20</td>\n",
       "    </tr>\n",
       "    <tr>\n",
       "      <th>...</th>\n",
       "      <td>...</td>\n",
       "      <td>...</td>\n",
       "      <td>...</td>\n",
       "      <td>...</td>\n",
       "      <td>...</td>\n",
       "      <td>...</td>\n",
       "      <td>...</td>\n",
       "      <td>...</td>\n",
       "    </tr>\n",
       "    <tr>\n",
       "      <th>2587</th>\n",
       "      <td>70000</td>\n",
       "      <td>0.07</td>\n",
       "      <td>3</td>\n",
       "      <td>0.03</td>\n",
       "      <td>0.3</td>\n",
       "      <td>0.1</td>\n",
       "      <td>2000000</td>\n",
       "      <td>26</td>\n",
       "    </tr>\n",
       "    <tr>\n",
       "      <th>2588</th>\n",
       "      <td>70000</td>\n",
       "      <td>0.07</td>\n",
       "      <td>3</td>\n",
       "      <td>0.03</td>\n",
       "      <td>0.3</td>\n",
       "      <td>0.2</td>\n",
       "      <td>1000000</td>\n",
       "      <td>17</td>\n",
       "    </tr>\n",
       "    <tr>\n",
       "      <th>2589</th>\n",
       "      <td>70000</td>\n",
       "      <td>0.07</td>\n",
       "      <td>3</td>\n",
       "      <td>0.03</td>\n",
       "      <td>0.3</td>\n",
       "      <td>0.2</td>\n",
       "      <td>2000000</td>\n",
       "      <td>21</td>\n",
       "    </tr>\n",
       "    <tr>\n",
       "      <th>2590</th>\n",
       "      <td>70000</td>\n",
       "      <td>0.07</td>\n",
       "      <td>3</td>\n",
       "      <td>0.03</td>\n",
       "      <td>0.3</td>\n",
       "      <td>0.3</td>\n",
       "      <td>1000000</td>\n",
       "      <td>14</td>\n",
       "    </tr>\n",
       "    <tr>\n",
       "      <th>2591</th>\n",
       "      <td>70000</td>\n",
       "      <td>0.07</td>\n",
       "      <td>3</td>\n",
       "      <td>0.03</td>\n",
       "      <td>0.3</td>\n",
       "      <td>0.3</td>\n",
       "      <td>2000000</td>\n",
       "      <td>19</td>\n",
       "    </tr>\n",
       "  </tbody>\n",
       "</table>\n",
       "<p>2592 rows × 8 columns</p>\n",
       "</div>"
      ],
      "text/plain": [
       "      Starting Salary  Interest Rate  Promotion  Cost of living  promo_rise  \\\n",
       "0               40000           0.04          1            0.01         0.1   \n",
       "1               40000           0.04          1            0.01         0.1   \n",
       "2               40000           0.04          1            0.01         0.1   \n",
       "3               40000           0.04          1            0.01         0.1   \n",
       "4               40000           0.04          1            0.01         0.1   \n",
       "...               ...            ...        ...             ...         ...   \n",
       "2587            70000           0.07          3            0.03         0.3   \n",
       "2588            70000           0.07          3            0.03         0.3   \n",
       "2589            70000           0.07          3            0.03         0.3   \n",
       "2590            70000           0.07          3            0.03         0.3   \n",
       "2591            70000           0.07          3            0.03         0.3   \n",
       "\n",
       "      savings_rate  Desired_cash  Years to retirement  \n",
       "0              0.1       1000000                   28  \n",
       "1              0.1       2000000                   34  \n",
       "2              0.2       1000000                   23  \n",
       "3              0.2       2000000                   28  \n",
       "4              0.3       1000000                   20  \n",
       "...            ...           ...                  ...  \n",
       "2587           0.1       2000000                   26  \n",
       "2588           0.2       1000000                   17  \n",
       "2589           0.2       2000000                   21  \n",
       "2590           0.3       1000000                   14  \n",
       "2591           0.3       2000000                   19  \n",
       "\n",
       "[2592 rows x 8 columns]"
      ]
     },
     "execution_count": 48,
     "metadata": {},
     "output_type": "execute_result"
    }
   ],
   "source": [
    "sa.df"
   ]
  },
  {
   "cell_type": "code",
   "execution_count": 49,
   "id": "90efc3e4",
   "metadata": {},
   "outputs": [
    {
     "data": {
      "text/html": [
       "<h2>Years to retirement by Starting Salary vs. Interest Rate</h2>"
      ],
      "text/plain": [
       "<IPython.core.display.HTML object>"
      ]
     },
     "metadata": {},
     "output_type": "display_data"
    },
    {
     "data": {
      "text/html": [
       "<style type=\"text/css\">\n",
       "#T_e879a_row0_col0 {\n",
       "  background-color: #a50026;\n",
       "  color: #f1f1f1;\n",
       "}\n",
       "#T_e879a_row0_col1 {\n",
       "  background-color: #e0422f;\n",
       "  color: #f1f1f1;\n",
       "}\n",
       "#T_e879a_row0_col2 {\n",
       "  background-color: #fa9656;\n",
       "  color: #000000;\n",
       "}\n",
       "#T_e879a_row0_col3 {\n",
       "  background-color: #fed481;\n",
       "  color: #000000;\n",
       "}\n",
       "#T_e879a_row1_col0 {\n",
       "  background-color: #fca55d;\n",
       "  color: #000000;\n",
       "}\n",
       "#T_e879a_row1_col1 {\n",
       "  background-color: #fee18d;\n",
       "  color: #000000;\n",
       "}\n",
       "#T_e879a_row1_col2 {\n",
       "  background-color: #f8fcb6;\n",
       "  color: #000000;\n",
       "}\n",
       "#T_e879a_row1_col3 {\n",
       "  background-color: #c7e77f;\n",
       "  color: #000000;\n",
       "}\n",
       "#T_e879a_row2_col0 {\n",
       "  background-color: #fafdb8;\n",
       "  color: #000000;\n",
       "}\n",
       "#T_e879a_row2_col1 {\n",
       "  background-color: #cbe982;\n",
       "  color: #000000;\n",
       "}\n",
       "#T_e879a_row2_col2 {\n",
       "  background-color: #91d068;\n",
       "  color: #000000;\n",
       "}\n",
       "#T_e879a_row2_col3 {\n",
       "  background-color: #51b35e;\n",
       "  color: #f1f1f1;\n",
       "}\n",
       "#T_e879a_row3_col0 {\n",
       "  background-color: #a5d86a;\n",
       "  color: #000000;\n",
       "}\n",
       "#T_e879a_row3_col1 {\n",
       "  background-color: #63bc62;\n",
       "  color: #f1f1f1;\n",
       "}\n",
       "#T_e879a_row3_col2 {\n",
       "  background-color: #18954f;\n",
       "  color: #f1f1f1;\n",
       "}\n",
       "#T_e879a_row3_col3 {\n",
       "  background-color: #006837;\n",
       "  color: #f1f1f1;\n",
       "}\n",
       "</style>\n",
       "<table id=\"T_e879a_\">\n",
       "  <caption>Years to retirement - Starting Salary vs. Interest Rate</caption>\n",
       "  <thead>\n",
       "    <tr>\n",
       "      <th class=\"blank level0\" >&nbsp;</th>\n",
       "      <th class=\"col_heading level0 col0\" >0.04</th>\n",
       "      <th class=\"col_heading level0 col1\" >0.05</th>\n",
       "      <th class=\"col_heading level0 col2\" >0.06</th>\n",
       "      <th class=\"col_heading level0 col3\" >0.07</th>\n",
       "    </tr>\n",
       "    <tr>\n",
       "      <th class=\"index_name level0\" >Starting Salary</th>\n",
       "      <th class=\"blank col0\" >&nbsp;</th>\n",
       "      <th class=\"blank col1\" >&nbsp;</th>\n",
       "      <th class=\"blank col2\" >&nbsp;</th>\n",
       "      <th class=\"blank col3\" >&nbsp;</th>\n",
       "    </tr>\n",
       "  </thead>\n",
       "  <tbody>\n",
       "    <tr>\n",
       "      <th id=\"T_e879a_level0_row0\" class=\"row_heading level0 row0\" >40000</th>\n",
       "      <td id=\"T_e879a_row0_col0\" class=\"data row0 col0\" >26</td>\n",
       "      <td id=\"T_e879a_row0_col1\" class=\"data row0 col1\" >25</td>\n",
       "      <td id=\"T_e879a_row0_col2\" class=\"data row0 col2\" >24</td>\n",
       "      <td id=\"T_e879a_row0_col3\" class=\"data row0 col3\" >24</td>\n",
       "    </tr>\n",
       "    <tr>\n",
       "      <th id=\"T_e879a_level0_row1\" class=\"row_heading level0 row1\" >50000</th>\n",
       "      <td id=\"T_e879a_row1_col0\" class=\"data row1 col0\" >24</td>\n",
       "      <td id=\"T_e879a_row1_col1\" class=\"data row1 col1\" >23</td>\n",
       "      <td id=\"T_e879a_row1_col2\" class=\"data row1 col2\" >23</td>\n",
       "      <td id=\"T_e879a_row1_col3\" class=\"data row1 col3\" >22</td>\n",
       "    </tr>\n",
       "    <tr>\n",
       "      <th id=\"T_e879a_level0_row2\" class=\"row_heading level0 row2\" >60000</th>\n",
       "      <td id=\"T_e879a_row2_col0\" class=\"data row2 col0\" >23</td>\n",
       "      <td id=\"T_e879a_row2_col1\" class=\"data row2 col1\" >22</td>\n",
       "      <td id=\"T_e879a_row2_col2\" class=\"data row2 col2\" >21</td>\n",
       "      <td id=\"T_e879a_row2_col3\" class=\"data row2 col3\" >21</td>\n",
       "    </tr>\n",
       "    <tr>\n",
       "      <th id=\"T_e879a_level0_row3\" class=\"row_heading level0 row3\" >70000</th>\n",
       "      <td id=\"T_e879a_row3_col0\" class=\"data row3 col0\" >22</td>\n",
       "      <td id=\"T_e879a_row3_col1\" class=\"data row3 col1\" >21</td>\n",
       "      <td id=\"T_e879a_row3_col2\" class=\"data row3 col2\" >20</td>\n",
       "      <td id=\"T_e879a_row3_col3\" class=\"data row3 col3\" >20</td>\n",
       "    </tr>\n",
       "  </tbody>\n",
       "</table>\n"
      ],
      "text/plain": [
       "<IPython.core.display.HTML object>"
      ]
     },
     "metadata": {},
     "output_type": "display_data"
    },
    {
     "data": {
      "text/html": [
       "<h2>Years to retirement by Starting Salary vs. Promotion</h2>"
      ],
      "text/plain": [
       "<IPython.core.display.HTML object>"
      ]
     },
     "metadata": {},
     "output_type": "display_data"
    },
    {
     "data": {
      "text/html": [
       "<style type=\"text/css\">\n",
       "#T_51e4b_row0_col0 {\n",
       "  background-color: #60ba62;\n",
       "  color: #f1f1f1;\n",
       "}\n",
       "#T_51e4b_row0_col1 {\n",
       "  background-color: #fca55d;\n",
       "  color: #000000;\n",
       "}\n",
       "#T_51e4b_row0_col2 {\n",
       "  background-color: #a50026;\n",
       "  color: #f1f1f1;\n",
       "}\n",
       "#T_51e4b_row1_col0 {\n",
       "  background-color: #249d53;\n",
       "  color: #f1f1f1;\n",
       "}\n",
       "#T_51e4b_row1_col1 {\n",
       "  background-color: #fee491;\n",
       "  color: #000000;\n",
       "}\n",
       "#T_51e4b_row1_col2 {\n",
       "  background-color: #e54e35;\n",
       "  color: #f1f1f1;\n",
       "}\n",
       "#T_51e4b_row2_col0 {\n",
       "  background-color: #0d8044;\n",
       "  color: #f1f1f1;\n",
       "}\n",
       "#T_51e4b_row2_col1 {\n",
       "  background-color: #fbfdba;\n",
       "  color: #000000;\n",
       "}\n",
       "#T_51e4b_row2_col2 {\n",
       "  background-color: #fa9b58;\n",
       "  color: #000000;\n",
       "}\n",
       "#T_51e4b_row3_col0 {\n",
       "  background-color: #006837;\n",
       "  color: #f1f1f1;\n",
       "}\n",
       "#T_51e4b_row3_col1 {\n",
       "  background-color: #dcf08f;\n",
       "  color: #000000;\n",
       "}\n",
       "#T_51e4b_row3_col2 {\n",
       "  background-color: #fed27f;\n",
       "  color: #000000;\n",
       "}\n",
       "</style>\n",
       "<table id=\"T_51e4b_\">\n",
       "  <caption>Years to retirement - Starting Salary vs. Promotion</caption>\n",
       "  <thead>\n",
       "    <tr>\n",
       "      <th class=\"blank level0\" >&nbsp;</th>\n",
       "      <th class=\"col_heading level0 col0\" >1</th>\n",
       "      <th class=\"col_heading level0 col1\" >2</th>\n",
       "      <th class=\"col_heading level0 col2\" >3</th>\n",
       "    </tr>\n",
       "    <tr>\n",
       "      <th class=\"index_name level0\" >Starting Salary</th>\n",
       "      <th class=\"blank col0\" >&nbsp;</th>\n",
       "      <th class=\"blank col1\" >&nbsp;</th>\n",
       "      <th class=\"blank col2\" >&nbsp;</th>\n",
       "    </tr>\n",
       "  </thead>\n",
       "  <tbody>\n",
       "    <tr>\n",
       "      <th id=\"T_51e4b_level0_row0\" class=\"row_heading level0 row0\" >40000</th>\n",
       "      <td id=\"T_51e4b_row0_col0\" class=\"data row0 col0\" >18</td>\n",
       "      <td id=\"T_51e4b_row0_col1\" class=\"data row0 col1\" >26</td>\n",
       "      <td id=\"T_51e4b_row0_col2\" class=\"data row0 col2\" >30</td>\n",
       "    </tr>\n",
       "    <tr>\n",
       "      <th id=\"T_51e4b_level0_row1\" class=\"row_heading level0 row1\" >50000</th>\n",
       "      <td id=\"T_51e4b_row1_col0\" class=\"data row1 col0\" >17</td>\n",
       "      <td id=\"T_51e4b_row1_col1\" class=\"data row1 col1\" >24</td>\n",
       "      <td id=\"T_51e4b_row1_col2\" class=\"data row1 col2\" >28</td>\n",
       "    </tr>\n",
       "    <tr>\n",
       "      <th id=\"T_51e4b_level0_row2\" class=\"row_heading level0 row2\" >60000</th>\n",
       "      <td id=\"T_51e4b_row2_col0\" class=\"data row2 col0\" >16</td>\n",
       "      <td id=\"T_51e4b_row2_col1\" class=\"data row2 col1\" >23</td>\n",
       "      <td id=\"T_51e4b_row2_col2\" class=\"data row2 col2\" >26</td>\n",
       "    </tr>\n",
       "    <tr>\n",
       "      <th id=\"T_51e4b_level0_row3\" class=\"row_heading level0 row3\" >70000</th>\n",
       "      <td id=\"T_51e4b_row3_col0\" class=\"data row3 col0\" >16</td>\n",
       "      <td id=\"T_51e4b_row3_col1\" class=\"data row3 col1\" >22</td>\n",
       "      <td id=\"T_51e4b_row3_col2\" class=\"data row3 col2\" >25</td>\n",
       "    </tr>\n",
       "  </tbody>\n",
       "</table>\n"
      ],
      "text/plain": [
       "<IPython.core.display.HTML object>"
      ]
     },
     "metadata": {},
     "output_type": "display_data"
    },
    {
     "data": {
      "text/html": [
       "<h2>Years to retirement by Starting Salary vs. Cost of living</h2>"
      ],
      "text/plain": [
       "<IPython.core.display.HTML object>"
      ]
     },
     "metadata": {},
     "output_type": "display_data"
    },
    {
     "data": {
      "text/html": [
       "<style type=\"text/css\">\n",
       "#T_22eeb_row0_col0 {\n",
       "  background-color: #a50026;\n",
       "  color: #f1f1f1;\n",
       "}\n",
       "#T_22eeb_row0_col1 {\n",
       "  background-color: #f47044;\n",
       "  color: #f1f1f1;\n",
       "}\n",
       "#T_22eeb_row0_col2 {\n",
       "  background-color: #fed683;\n",
       "  color: #000000;\n",
       "}\n",
       "#T_22eeb_row1_col0 {\n",
       "  background-color: #fba35c;\n",
       "  color: #000000;\n",
       "}\n",
       "#T_22eeb_row1_col1 {\n",
       "  background-color: #fff7b2;\n",
       "  color: #000000;\n",
       "}\n",
       "#T_22eeb_row1_col2 {\n",
       "  background-color: #c9e881;\n",
       "  color: #000000;\n",
       "}\n",
       "#T_22eeb_row2_col0 {\n",
       "  background-color: #f7fcb4;\n",
       "  color: #000000;\n",
       "}\n",
       "#T_22eeb_row2_col1 {\n",
       "  background-color: #afdd70;\n",
       "  color: #000000;\n",
       "}\n",
       "#T_22eeb_row2_col2 {\n",
       "  background-color: #51b35e;\n",
       "  color: #f1f1f1;\n",
       "}\n",
       "#T_22eeb_row3_col0 {\n",
       "  background-color: #a5d86a;\n",
       "  color: #000000;\n",
       "}\n",
       "#T_22eeb_row3_col1 {\n",
       "  background-color: #36a657;\n",
       "  color: #f1f1f1;\n",
       "}\n",
       "#T_22eeb_row3_col2 {\n",
       "  background-color: #006837;\n",
       "  color: #f1f1f1;\n",
       "}\n",
       "</style>\n",
       "<table id=\"T_22eeb_\">\n",
       "  <caption>Years to retirement - Starting Salary vs. Cost of living</caption>\n",
       "  <thead>\n",
       "    <tr>\n",
       "      <th class=\"blank level0\" >&nbsp;</th>\n",
       "      <th class=\"col_heading level0 col0\" >0.01</th>\n",
       "      <th class=\"col_heading level0 col1\" >0.02</th>\n",
       "      <th class=\"col_heading level0 col2\" >0.03</th>\n",
       "    </tr>\n",
       "    <tr>\n",
       "      <th class=\"index_name level0\" >Starting Salary</th>\n",
       "      <th class=\"blank col0\" >&nbsp;</th>\n",
       "      <th class=\"blank col1\" >&nbsp;</th>\n",
       "      <th class=\"blank col2\" >&nbsp;</th>\n",
       "    </tr>\n",
       "  </thead>\n",
       "  <tbody>\n",
       "    <tr>\n",
       "      <th id=\"T_22eeb_level0_row0\" class=\"row_heading level0 row0\" >40000</th>\n",
       "      <td id=\"T_22eeb_row0_col0\" class=\"data row0 col0\" >26</td>\n",
       "      <td id=\"T_22eeb_row0_col1\" class=\"data row0 col1\" >25</td>\n",
       "      <td id=\"T_22eeb_row0_col2\" class=\"data row0 col2\" >24</td>\n",
       "    </tr>\n",
       "    <tr>\n",
       "      <th id=\"T_22eeb_level0_row1\" class=\"row_heading level0 row1\" >50000</th>\n",
       "      <td id=\"T_22eeb_row1_col0\" class=\"data row1 col0\" >24</td>\n",
       "      <td id=\"T_22eeb_row1_col1\" class=\"data row1 col1\" >23</td>\n",
       "      <td id=\"T_22eeb_row1_col2\" class=\"data row1 col2\" >22</td>\n",
       "    </tr>\n",
       "    <tr>\n",
       "      <th id=\"T_22eeb_level0_row2\" class=\"row_heading level0 row2\" >60000</th>\n",
       "      <td id=\"T_22eeb_row2_col0\" class=\"data row2 col0\" >23</td>\n",
       "      <td id=\"T_22eeb_row2_col1\" class=\"data row2 col1\" >22</td>\n",
       "      <td id=\"T_22eeb_row2_col2\" class=\"data row2 col2\" >21</td>\n",
       "    </tr>\n",
       "    <tr>\n",
       "      <th id=\"T_22eeb_level0_row3\" class=\"row_heading level0 row3\" >70000</th>\n",
       "      <td id=\"T_22eeb_row3_col0\" class=\"data row3 col0\" >22</td>\n",
       "      <td id=\"T_22eeb_row3_col1\" class=\"data row3 col1\" >21</td>\n",
       "      <td id=\"T_22eeb_row3_col2\" class=\"data row3 col2\" >20</td>\n",
       "    </tr>\n",
       "  </tbody>\n",
       "</table>\n"
      ],
      "text/plain": [
       "<IPython.core.display.HTML object>"
      ]
     },
     "metadata": {},
     "output_type": "display_data"
    },
    {
     "data": {
      "text/html": [
       "<h2>Years to retirement by Starting Salary vs. promo_rise</h2>"
      ],
      "text/plain": [
       "<IPython.core.display.HTML object>"
      ]
     },
     "metadata": {},
     "output_type": "display_data"
    },
    {
     "data": {
      "text/html": [
       "<style type=\"text/css\">\n",
       "#T_04ec4_row0_col0 {\n",
       "  background-color: #a50026;\n",
       "  color: #f1f1f1;\n",
       "}\n",
       "#T_04ec4_row0_col1 {\n",
       "  background-color: #fff7b2;\n",
       "  color: #000000;\n",
       "}\n",
       "#T_04ec4_row0_col2 {\n",
       "  background-color: #7fc866;\n",
       "  color: #000000;\n",
       "}\n",
       "#T_04ec4_row1_col0 {\n",
       "  background-color: #eb5a3a;\n",
       "  color: #f1f1f1;\n",
       "}\n",
       "#T_04ec4_row1_col1 {\n",
       "  background-color: #daf08d;\n",
       "  color: #000000;\n",
       "}\n",
       "#T_04ec4_row1_col2 {\n",
       "  background-color: #39a758;\n",
       "  color: #f1f1f1;\n",
       "}\n",
       "#T_04ec4_row2_col0 {\n",
       "  background-color: #fdaf62;\n",
       "  color: #000000;\n",
       "}\n",
       "#T_04ec4_row2_col1 {\n",
       "  background-color: #a7d96b;\n",
       "  color: #000000;\n",
       "}\n",
       "#T_04ec4_row2_col2 {\n",
       "  background-color: #118848;\n",
       "  color: #f1f1f1;\n",
       "}\n",
       "#T_04ec4_row3_col0 {\n",
       "  background-color: #fee593;\n",
       "  color: #000000;\n",
       "}\n",
       "#T_04ec4_row3_col1 {\n",
       "  background-color: #73c264;\n",
       "  color: #000000;\n",
       "}\n",
       "#T_04ec4_row3_col2 {\n",
       "  background-color: #006837;\n",
       "  color: #f1f1f1;\n",
       "}\n",
       "</style>\n",
       "<table id=\"T_04ec4_\">\n",
       "  <caption>Years to retirement - Starting Salary vs. promo_rise</caption>\n",
       "  <thead>\n",
       "    <tr>\n",
       "      <th class=\"blank level0\" >&nbsp;</th>\n",
       "      <th class=\"col_heading level0 col0\" >0.1</th>\n",
       "      <th class=\"col_heading level0 col1\" >0.2</th>\n",
       "      <th class=\"col_heading level0 col2\" >0.3</th>\n",
       "    </tr>\n",
       "    <tr>\n",
       "      <th class=\"index_name level0\" >Starting Salary</th>\n",
       "      <th class=\"blank col0\" >&nbsp;</th>\n",
       "      <th class=\"blank col1\" >&nbsp;</th>\n",
       "      <th class=\"blank col2\" >&nbsp;</th>\n",
       "    </tr>\n",
       "  </thead>\n",
       "  <tbody>\n",
       "    <tr>\n",
       "      <th id=\"T_04ec4_level0_row0\" class=\"row_heading level0 row0\" >40000</th>\n",
       "      <td id=\"T_04ec4_row0_col0\" class=\"data row0 col0\" >30</td>\n",
       "      <td id=\"T_04ec4_row0_col1\" class=\"data row0 col1\" >24</td>\n",
       "      <td id=\"T_04ec4_row0_col2\" class=\"data row0 col2\" >20</td>\n",
       "    </tr>\n",
       "    <tr>\n",
       "      <th id=\"T_04ec4_level0_row1\" class=\"row_heading level0 row1\" >50000</th>\n",
       "      <td id=\"T_04ec4_row1_col0\" class=\"data row1 col0\" >28</td>\n",
       "      <td id=\"T_04ec4_row1_col1\" class=\"data row1 col1\" >22</td>\n",
       "      <td id=\"T_04ec4_row1_col2\" class=\"data row1 col2\" >19</td>\n",
       "    </tr>\n",
       "    <tr>\n",
       "      <th id=\"T_04ec4_level0_row2\" class=\"row_heading level0 row2\" >60000</th>\n",
       "      <td id=\"T_04ec4_row2_col0\" class=\"data row2 col0\" >26</td>\n",
       "      <td id=\"T_04ec4_row2_col1\" class=\"data row2 col1\" >21</td>\n",
       "      <td id=\"T_04ec4_row2_col2\" class=\"data row2 col2\" >18</td>\n",
       "    </tr>\n",
       "    <tr>\n",
       "      <th id=\"T_04ec4_level0_row3\" class=\"row_heading level0 row3\" >70000</th>\n",
       "      <td id=\"T_04ec4_row3_col0\" class=\"data row3 col0\" >25</td>\n",
       "      <td id=\"T_04ec4_row3_col1\" class=\"data row3 col1\" >20</td>\n",
       "      <td id=\"T_04ec4_row3_col2\" class=\"data row3 col2\" >17</td>\n",
       "    </tr>\n",
       "  </tbody>\n",
       "</table>\n"
      ],
      "text/plain": [
       "<IPython.core.display.HTML object>"
      ]
     },
     "metadata": {},
     "output_type": "display_data"
    },
    {
     "data": {
      "text/html": [
       "<h2>Years to retirement by Starting Salary vs. savings_rate</h2>"
      ],
      "text/plain": [
       "<IPython.core.display.HTML object>"
      ]
     },
     "metadata": {},
     "output_type": "display_data"
    },
    {
     "data": {
      "text/html": [
       "<style type=\"text/css\">\n",
       "#T_1cec3_row0_col0 {\n",
       "  background-color: #a50026;\n",
       "  color: #f1f1f1;\n",
       "}\n",
       "#T_1cec3_row0_col1 {\n",
       "  background-color: #feec9f;\n",
       "  color: #000000;\n",
       "}\n",
       "#T_1cec3_row0_col2, #T_1cec3_row2_col1 {\n",
       "  background-color: #afdd70;\n",
       "  color: #000000;\n",
       "}\n",
       "#T_1cec3_row1_col0 {\n",
       "  background-color: #e34933;\n",
       "  color: #f1f1f1;\n",
       "}\n",
       "#T_1cec3_row1_col1 {\n",
       "  background-color: #e3f399;\n",
       "  color: #000000;\n",
       "}\n",
       "#T_1cec3_row1_col2 {\n",
       "  background-color: #5db961;\n",
       "  color: #f1f1f1;\n",
       "}\n",
       "#T_1cec3_row2_col0 {\n",
       "  background-color: #f99355;\n",
       "  color: #000000;\n",
       "}\n",
       "#T_1cec3_row2_col2 {\n",
       "  background-color: #16914d;\n",
       "  color: #f1f1f1;\n",
       "}\n",
       "#T_1cec3_row3_col0 {\n",
       "  background-color: #feca79;\n",
       "  color: #000000;\n",
       "}\n",
       "#T_1cec3_row3_col1 {\n",
       "  background-color: #78c565;\n",
       "  color: #000000;\n",
       "}\n",
       "#T_1cec3_row3_col2 {\n",
       "  background-color: #006837;\n",
       "  color: #f1f1f1;\n",
       "}\n",
       "</style>\n",
       "<table id=\"T_1cec3_\">\n",
       "  <caption>Years to retirement - Starting Salary vs. savings_rate</caption>\n",
       "  <thead>\n",
       "    <tr>\n",
       "      <th class=\"blank level0\" >&nbsp;</th>\n",
       "      <th class=\"col_heading level0 col0\" >0.1</th>\n",
       "      <th class=\"col_heading level0 col1\" >0.2</th>\n",
       "      <th class=\"col_heading level0 col2\" >0.3</th>\n",
       "    </tr>\n",
       "    <tr>\n",
       "      <th class=\"index_name level0\" >Starting Salary</th>\n",
       "      <th class=\"blank col0\" >&nbsp;</th>\n",
       "      <th class=\"blank col1\" >&nbsp;</th>\n",
       "      <th class=\"blank col2\" >&nbsp;</th>\n",
       "    </tr>\n",
       "  </thead>\n",
       "  <tbody>\n",
       "    <tr>\n",
       "      <th id=\"T_1cec3_level0_row0\" class=\"row_heading level0 row0\" >40000</th>\n",
       "      <td id=\"T_1cec3_row0_col0\" class=\"data row0 col0\" >30</td>\n",
       "      <td id=\"T_1cec3_row0_col1\" class=\"data row0 col1\" >24</td>\n",
       "      <td id=\"T_1cec3_row0_col2\" class=\"data row0 col2\" >21</td>\n",
       "    </tr>\n",
       "    <tr>\n",
       "      <th id=\"T_1cec3_level0_row1\" class=\"row_heading level0 row1\" >50000</th>\n",
       "      <td id=\"T_1cec3_row1_col0\" class=\"data row1 col0\" >28</td>\n",
       "      <td id=\"T_1cec3_row1_col1\" class=\"data row1 col1\" >22</td>\n",
       "      <td id=\"T_1cec3_row1_col2\" class=\"data row1 col2\" >19</td>\n",
       "    </tr>\n",
       "    <tr>\n",
       "      <th id=\"T_1cec3_level0_row2\" class=\"row_heading level0 row2\" >60000</th>\n",
       "      <td id=\"T_1cec3_row2_col0\" class=\"data row2 col0\" >26</td>\n",
       "      <td id=\"T_1cec3_row2_col1\" class=\"data row2 col1\" >21</td>\n",
       "      <td id=\"T_1cec3_row2_col2\" class=\"data row2 col2\" >18</td>\n",
       "    </tr>\n",
       "    <tr>\n",
       "      <th id=\"T_1cec3_level0_row3\" class=\"row_heading level0 row3\" >70000</th>\n",
       "      <td id=\"T_1cec3_row3_col0\" class=\"data row3 col0\" >25</td>\n",
       "      <td id=\"T_1cec3_row3_col1\" class=\"data row3 col1\" >20</td>\n",
       "      <td id=\"T_1cec3_row3_col2\" class=\"data row3 col2\" >17</td>\n",
       "    </tr>\n",
       "  </tbody>\n",
       "</table>\n"
      ],
      "text/plain": [
       "<IPython.core.display.HTML object>"
      ]
     },
     "metadata": {},
     "output_type": "display_data"
    },
    {
     "data": {
      "text/html": [
       "<h2>Years to retirement by Starting Salary vs. Desired_cash</h2>"
      ],
      "text/plain": [
       "<IPython.core.display.HTML object>"
      ]
     },
     "metadata": {},
     "output_type": "display_data"
    },
    {
     "data": {
      "text/html": [
       "<style type=\"text/css\">\n",
       "#T_1bea7_row0_col0 {\n",
       "  background-color: #e3f399;\n",
       "  color: #000000;\n",
       "}\n",
       "#T_1bea7_row0_col1 {\n",
       "  background-color: #a50026;\n",
       "  color: #f1f1f1;\n",
       "}\n",
       "#T_1bea7_row1_col0 {\n",
       "  background-color: #89cc67;\n",
       "  color: #000000;\n",
       "}\n",
       "#T_1bea7_row1_col1 {\n",
       "  background-color: #f16640;\n",
       "  color: #f1f1f1;\n",
       "}\n",
       "#T_1bea7_row2_col0 {\n",
       "  background-color: #249d53;\n",
       "  color: #f1f1f1;\n",
       "}\n",
       "#T_1bea7_row2_col1 {\n",
       "  background-color: #fdc171;\n",
       "  color: #000000;\n",
       "}\n",
       "#T_1bea7_row3_col0 {\n",
       "  background-color: #006837;\n",
       "  color: #f1f1f1;\n",
       "}\n",
       "#T_1bea7_row3_col1 {\n",
       "  background-color: #fff5ae;\n",
       "  color: #000000;\n",
       "}\n",
       "</style>\n",
       "<table id=\"T_1bea7_\">\n",
       "  <caption>Years to retirement - Starting Salary vs. Desired_cash</caption>\n",
       "  <thead>\n",
       "    <tr>\n",
       "      <th class=\"blank level0\" >&nbsp;</th>\n",
       "      <th class=\"col_heading level0 col0\" >1000000</th>\n",
       "      <th class=\"col_heading level0 col1\" >2000000</th>\n",
       "    </tr>\n",
       "    <tr>\n",
       "      <th class=\"index_name level0\" >Starting Salary</th>\n",
       "      <th class=\"blank col0\" >&nbsp;</th>\n",
       "      <th class=\"blank col1\" >&nbsp;</th>\n",
       "    </tr>\n",
       "  </thead>\n",
       "  <tbody>\n",
       "    <tr>\n",
       "      <th id=\"T_1bea7_level0_row0\" class=\"row_heading level0 row0\" >40000</th>\n",
       "      <td id=\"T_1bea7_row0_col0\" class=\"data row0 col0\" >22</td>\n",
       "      <td id=\"T_1bea7_row0_col1\" class=\"data row0 col1\" >28</td>\n",
       "    </tr>\n",
       "    <tr>\n",
       "      <th id=\"T_1bea7_level0_row1\" class=\"row_heading level0 row1\" >50000</th>\n",
       "      <td id=\"T_1bea7_row1_col0\" class=\"data row1 col0\" >20</td>\n",
       "      <td id=\"T_1bea7_row1_col1\" class=\"data row1 col1\" >26</td>\n",
       "    </tr>\n",
       "    <tr>\n",
       "      <th id=\"T_1bea7_level0_row2\" class=\"row_heading level0 row2\" >60000</th>\n",
       "      <td id=\"T_1bea7_row2_col0\" class=\"data row2 col0\" >19</td>\n",
       "      <td id=\"T_1bea7_row2_col1\" class=\"data row2 col1\" >24</td>\n",
       "    </tr>\n",
       "    <tr>\n",
       "      <th id=\"T_1bea7_level0_row3\" class=\"row_heading level0 row3\" >70000</th>\n",
       "      <td id=\"T_1bea7_row3_col0\" class=\"data row3 col0\" >18</td>\n",
       "      <td id=\"T_1bea7_row3_col1\" class=\"data row3 col1\" >23</td>\n",
       "    </tr>\n",
       "  </tbody>\n",
       "</table>\n"
      ],
      "text/plain": [
       "<IPython.core.display.HTML object>"
      ]
     },
     "metadata": {},
     "output_type": "display_data"
    },
    {
     "data": {
      "text/html": [
       "<h2>Years to retirement by Interest Rate vs. Promotion</h2>"
      ],
      "text/plain": [
       "<IPython.core.display.HTML object>"
      ]
     },
     "metadata": {},
     "output_type": "display_data"
    },
    {
     "data": {
      "text/html": [
       "<style type=\"text/css\">\n",
       "#T_9a92c_row0_col0 {\n",
       "  background-color: #128a49;\n",
       "  color: #f1f1f1;\n",
       "}\n",
       "#T_9a92c_row0_col1 {\n",
       "  background-color: #fdbf6f;\n",
       "  color: #000000;\n",
       "}\n",
       "#T_9a92c_row0_col2 {\n",
       "  background-color: #a50026;\n",
       "  color: #f1f1f1;\n",
       "}\n",
       "#T_9a92c_row1_col0 {\n",
       "  background-color: #0b7d42;\n",
       "  color: #f1f1f1;\n",
       "}\n",
       "#T_9a92c_row1_col1 {\n",
       "  background-color: #fee08b;\n",
       "  color: #000000;\n",
       "}\n",
       "#T_9a92c_row1_col2 {\n",
       "  background-color: #d22b27;\n",
       "  color: #f1f1f1;\n",
       "}\n",
       "#T_9a92c_row2_col0 {\n",
       "  background-color: #07753e;\n",
       "  color: #f1f1f1;\n",
       "}\n",
       "#T_9a92c_row2_col1 {\n",
       "  background-color: #fff3ac;\n",
       "  color: #000000;\n",
       "}\n",
       "#T_9a92c_row2_col2 {\n",
       "  background-color: #ee613e;\n",
       "  color: #f1f1f1;\n",
       "}\n",
       "#T_9a92c_row3_col0 {\n",
       "  background-color: #006837;\n",
       "  color: #f1f1f1;\n",
       "}\n",
       "#T_9a92c_row3_col1 {\n",
       "  background-color: #f8fcb6;\n",
       "  color: #000000;\n",
       "}\n",
       "#T_9a92c_row3_col2 {\n",
       "  background-color: #fa9656;\n",
       "  color: #000000;\n",
       "}\n",
       "</style>\n",
       "<table id=\"T_9a92c_\">\n",
       "  <caption>Years to retirement - Interest Rate vs. Promotion</caption>\n",
       "  <thead>\n",
       "    <tr>\n",
       "      <th class=\"blank level0\" >&nbsp;</th>\n",
       "      <th class=\"col_heading level0 col0\" >1</th>\n",
       "      <th class=\"col_heading level0 col1\" >2</th>\n",
       "      <th class=\"col_heading level0 col2\" >3</th>\n",
       "    </tr>\n",
       "    <tr>\n",
       "      <th class=\"index_name level0\" >Interest Rate</th>\n",
       "      <th class=\"blank col0\" >&nbsp;</th>\n",
       "      <th class=\"blank col1\" >&nbsp;</th>\n",
       "      <th class=\"blank col2\" >&nbsp;</th>\n",
       "    </tr>\n",
       "  </thead>\n",
       "  <tbody>\n",
       "    <tr>\n",
       "      <th id=\"T_9a92c_level0_row0\" class=\"row_heading level0 row0\" >0.04</th>\n",
       "      <td id=\"T_9a92c_row0_col0\" class=\"data row0 col0\" >17</td>\n",
       "      <td id=\"T_9a92c_row0_col1\" class=\"data row0 col1\" >25</td>\n",
       "      <td id=\"T_9a92c_row0_col2\" class=\"data row0 col2\" >29</td>\n",
       "    </tr>\n",
       "    <tr>\n",
       "      <th id=\"T_9a92c_level0_row1\" class=\"row_heading level0 row1\" >0.05</th>\n",
       "      <td id=\"T_9a92c_row1_col0\" class=\"data row1 col0\" >17</td>\n",
       "      <td id=\"T_9a92c_row1_col1\" class=\"data row1 col1\" >24</td>\n",
       "      <td id=\"T_9a92c_row1_col2\" class=\"data row1 col2\" >28</td>\n",
       "    </tr>\n",
       "    <tr>\n",
       "      <th id=\"T_9a92c_level0_row2\" class=\"row_heading level0 row2\" >0.06</th>\n",
       "      <td id=\"T_9a92c_row2_col0\" class=\"data row2 col0\" >17</td>\n",
       "      <td id=\"T_9a92c_row2_col1\" class=\"data row2 col1\" >23</td>\n",
       "      <td id=\"T_9a92c_row2_col2\" class=\"data row2 col2\" >27</td>\n",
       "    </tr>\n",
       "    <tr>\n",
       "      <th id=\"T_9a92c_level0_row3\" class=\"row_heading level0 row3\" >0.07</th>\n",
       "      <td id=\"T_9a92c_row3_col0\" class=\"data row3 col0\" >16</td>\n",
       "      <td id=\"T_9a92c_row3_col1\" class=\"data row3 col1\" >22</td>\n",
       "      <td id=\"T_9a92c_row3_col2\" class=\"data row3 col2\" >26</td>\n",
       "    </tr>\n",
       "  </tbody>\n",
       "</table>\n"
      ],
      "text/plain": [
       "<IPython.core.display.HTML object>"
      ]
     },
     "metadata": {},
     "output_type": "display_data"
    },
    {
     "data": {
      "text/html": [
       "<h2>Years to retirement by Interest Rate vs. Cost of living</h2>"
      ],
      "text/plain": [
       "<IPython.core.display.HTML object>"
      ]
     },
     "metadata": {},
     "output_type": "display_data"
    },
    {
     "data": {
      "text/html": [
       "<style type=\"text/css\">\n",
       "#T_f5532_row0_col0 {\n",
       "  background-color: #a50026;\n",
       "  color: #f1f1f1;\n",
       "}\n",
       "#T_f5532_row0_col1 {\n",
       "  background-color: #fdb567;\n",
       "  color: #000000;\n",
       "}\n",
       "#T_f5532_row0_col2 {\n",
       "  background-color: #dff293;\n",
       "  color: #000000;\n",
       "}\n",
       "#T_f5532_row1_col0 {\n",
       "  background-color: #f57547;\n",
       "  color: #f1f1f1;\n",
       "}\n",
       "#T_f5532_row1_col1 {\n",
       "  background-color: #fffcba;\n",
       "  color: #000000;\n",
       "}\n",
       "#T_f5532_row1_col2 {\n",
       "  background-color: #98d368;\n",
       "  color: #000000;\n",
       "}\n",
       "#T_f5532_row2_col0 {\n",
       "  background-color: #fede89;\n",
       "  color: #000000;\n",
       "}\n",
       "#T_f5532_row2_col1 {\n",
       "  background-color: #bfe47a;\n",
       "  color: #000000;\n",
       "}\n",
       "#T_f5532_row2_col2 {\n",
       "  background-color: #2aa054;\n",
       "  color: #f1f1f1;\n",
       "}\n",
       "#T_f5532_row3_col0 {\n",
       "  background-color: #ddf191;\n",
       "  color: #000000;\n",
       "}\n",
       "#T_f5532_row3_col1 {\n",
       "  background-color: #60ba62;\n",
       "  color: #f1f1f1;\n",
       "}\n",
       "#T_f5532_row3_col2 {\n",
       "  background-color: #006837;\n",
       "  color: #f1f1f1;\n",
       "}\n",
       "</style>\n",
       "<table id=\"T_f5532_\">\n",
       "  <caption>Years to retirement - Interest Rate vs. Cost of living</caption>\n",
       "  <thead>\n",
       "    <tr>\n",
       "      <th class=\"blank level0\" >&nbsp;</th>\n",
       "      <th class=\"col_heading level0 col0\" >0.01</th>\n",
       "      <th class=\"col_heading level0 col1\" >0.02</th>\n",
       "      <th class=\"col_heading level0 col2\" >0.03</th>\n",
       "    </tr>\n",
       "    <tr>\n",
       "      <th class=\"index_name level0\" >Interest Rate</th>\n",
       "      <th class=\"blank col0\" >&nbsp;</th>\n",
       "      <th class=\"blank col1\" >&nbsp;</th>\n",
       "      <th class=\"blank col2\" >&nbsp;</th>\n",
       "    </tr>\n",
       "  </thead>\n",
       "  <tbody>\n",
       "    <tr>\n",
       "      <th id=\"T_f5532_level0_row0\" class=\"row_heading level0 row0\" >0.04</th>\n",
       "      <td id=\"T_f5532_row0_col0\" class=\"data row0 col0\" >25</td>\n",
       "      <td id=\"T_f5532_row0_col1\" class=\"data row0 col1\" >24</td>\n",
       "      <td id=\"T_f5532_row0_col2\" class=\"data row0 col2\" >22</td>\n",
       "    </tr>\n",
       "    <tr>\n",
       "      <th id=\"T_f5532_level0_row1\" class=\"row_heading level0 row1\" >0.05</th>\n",
       "      <td id=\"T_f5532_row1_col0\" class=\"data row1 col0\" >24</td>\n",
       "      <td id=\"T_f5532_row1_col1\" class=\"data row1 col1\" >23</td>\n",
       "      <td id=\"T_f5532_row1_col2\" class=\"data row1 col2\" >22</td>\n",
       "    </tr>\n",
       "    <tr>\n",
       "      <th id=\"T_f5532_level0_row2\" class=\"row_heading level0 row2\" >0.06</th>\n",
       "      <td id=\"T_f5532_row2_col0\" class=\"data row2 col0\" >23</td>\n",
       "      <td id=\"T_f5532_row2_col1\" class=\"data row2 col1\" >22</td>\n",
       "      <td id=\"T_f5532_row2_col2\" class=\"data row2 col2\" >21</td>\n",
       "    </tr>\n",
       "    <tr>\n",
       "      <th id=\"T_f5532_level0_row3\" class=\"row_heading level0 row3\" >0.07</th>\n",
       "      <td id=\"T_f5532_row3_col0\" class=\"data row3 col0\" >22</td>\n",
       "      <td id=\"T_f5532_row3_col1\" class=\"data row3 col1\" >21</td>\n",
       "      <td id=\"T_f5532_row3_col2\" class=\"data row3 col2\" >21</td>\n",
       "    </tr>\n",
       "  </tbody>\n",
       "</table>\n"
      ],
      "text/plain": [
       "<IPython.core.display.HTML object>"
      ]
     },
     "metadata": {},
     "output_type": "display_data"
    },
    {
     "data": {
      "text/html": [
       "<h2>Years to retirement by Interest Rate vs. promo_rise</h2>"
      ],
      "text/plain": [
       "<IPython.core.display.HTML object>"
      ]
     },
     "metadata": {},
     "output_type": "display_data"
    },
    {
     "data": {
      "text/html": [
       "<style type=\"text/css\">\n",
       "#T_9b3e0_row0_col0 {\n",
       "  background-color: #a50026;\n",
       "  color: #f1f1f1;\n",
       "}\n",
       "#T_9b3e0_row0_col1 {\n",
       "  background-color: #e3f399;\n",
       "  color: #000000;\n",
       "}\n",
       "#T_9b3e0_row0_col2 {\n",
       "  background-color: #18954f;\n",
       "  color: #f1f1f1;\n",
       "}\n",
       "#T_9b3e0_row1_col0 {\n",
       "  background-color: #db382b;\n",
       "  color: #f1f1f1;\n",
       "}\n",
       "#T_9b3e0_row1_col1 {\n",
       "  background-color: #c9e881;\n",
       "  color: #000000;\n",
       "}\n",
       "#T_9b3e0_row1_col2 {\n",
       "  background-color: #118848;\n",
       "  color: #f1f1f1;\n",
       "}\n",
       "#T_9b3e0_row2_col0 {\n",
       "  background-color: #f57748;\n",
       "  color: #f1f1f1;\n",
       "}\n",
       "#T_9b3e0_row2_col1 {\n",
       "  background-color: #addc6f;\n",
       "  color: #000000;\n",
       "}\n",
       "#T_9b3e0_row2_col2 {\n",
       "  background-color: #07753e;\n",
       "  color: #f1f1f1;\n",
       "}\n",
       "#T_9b3e0_row3_col0 {\n",
       "  background-color: #fdb96a;\n",
       "  color: #000000;\n",
       "}\n",
       "#T_9b3e0_row3_col1 {\n",
       "  background-color: #91d068;\n",
       "  color: #000000;\n",
       "}\n",
       "#T_9b3e0_row3_col2 {\n",
       "  background-color: #006837;\n",
       "  color: #f1f1f1;\n",
       "}\n",
       "</style>\n",
       "<table id=\"T_9b3e0_\">\n",
       "  <caption>Years to retirement - Interest Rate vs. promo_rise</caption>\n",
       "  <thead>\n",
       "    <tr>\n",
       "      <th class=\"blank level0\" >&nbsp;</th>\n",
       "      <th class=\"col_heading level0 col0\" >0.1</th>\n",
       "      <th class=\"col_heading level0 col1\" >0.2</th>\n",
       "      <th class=\"col_heading level0 col2\" >0.3</th>\n",
       "    </tr>\n",
       "    <tr>\n",
       "      <th class=\"index_name level0\" >Interest Rate</th>\n",
       "      <th class=\"blank col0\" >&nbsp;</th>\n",
       "      <th class=\"blank col1\" >&nbsp;</th>\n",
       "      <th class=\"blank col2\" >&nbsp;</th>\n",
       "    </tr>\n",
       "  </thead>\n",
       "  <tbody>\n",
       "    <tr>\n",
       "      <th id=\"T_9b3e0_level0_row0\" class=\"row_heading level0 row0\" >0.04</th>\n",
       "      <td id=\"T_9b3e0_row0_col0\" class=\"data row0 col0\" >29</td>\n",
       "      <td id=\"T_9b3e0_row0_col1\" class=\"data row0 col1\" >23</td>\n",
       "      <td id=\"T_9b3e0_row0_col2\" class=\"data row0 col2\" >19</td>\n",
       "    </tr>\n",
       "    <tr>\n",
       "      <th id=\"T_9b3e0_level0_row1\" class=\"row_heading level0 row1\" >0.05</th>\n",
       "      <td id=\"T_9b3e0_row1_col0\" class=\"data row1 col0\" >28</td>\n",
       "      <td id=\"T_9b3e0_row1_col1\" class=\"data row1 col1\" >22</td>\n",
       "      <td id=\"T_9b3e0_row1_col2\" class=\"data row1 col2\" >19</td>\n",
       "    </tr>\n",
       "    <tr>\n",
       "      <th id=\"T_9b3e0_level0_row2\" class=\"row_heading level0 row2\" >0.06</th>\n",
       "      <td id=\"T_9b3e0_row2_col0\" class=\"data row2 col0\" >27</td>\n",
       "      <td id=\"T_9b3e0_row2_col1\" class=\"data row2 col1\" >22</td>\n",
       "      <td id=\"T_9b3e0_row2_col2\" class=\"data row2 col2\" >18</td>\n",
       "    </tr>\n",
       "    <tr>\n",
       "      <th id=\"T_9b3e0_level0_row3\" class=\"row_heading level0 row3\" >0.07</th>\n",
       "      <td id=\"T_9b3e0_row3_col0\" class=\"data row3 col0\" >26</td>\n",
       "      <td id=\"T_9b3e0_row3_col1\" class=\"data row3 col1\" >21</td>\n",
       "      <td id=\"T_9b3e0_row3_col2\" class=\"data row3 col2\" >18</td>\n",
       "    </tr>\n",
       "  </tbody>\n",
       "</table>\n"
      ],
      "text/plain": [
       "<IPython.core.display.HTML object>"
      ]
     },
     "metadata": {},
     "output_type": "display_data"
    },
    {
     "data": {
      "text/html": [
       "<h2>Years to retirement by Interest Rate vs. savings_rate</h2>"
      ],
      "text/plain": [
       "<IPython.core.display.HTML object>"
      ]
     },
     "metadata": {},
     "output_type": "display_data"
    },
    {
     "data": {
      "text/html": [
       "<style type=\"text/css\">\n",
       "#T_b6ba8_row0_col0 {\n",
       "  background-color: #a50026;\n",
       "  color: #f1f1f1;\n",
       "}\n",
       "#T_b6ba8_row0_col1 {\n",
       "  background-color: #eff8aa;\n",
       "  color: #000000;\n",
       "}\n",
       "#T_b6ba8_row0_col2 {\n",
       "  background-color: #45ad5b;\n",
       "  color: #f1f1f1;\n",
       "}\n",
       "#T_b6ba8_row1_col0 {\n",
       "  background-color: #d02927;\n",
       "  color: #f1f1f1;\n",
       "}\n",
       "#T_b6ba8_row1_col1 {\n",
       "  background-color: #d5ed88;\n",
       "  color: #000000;\n",
       "}\n",
       "#T_b6ba8_row1_col2 {\n",
       "  background-color: #199750;\n",
       "  color: #f1f1f1;\n",
       "}\n",
       "#T_b6ba8_row2_col0 {\n",
       "  background-color: #ed5f3c;\n",
       "  color: #f1f1f1;\n",
       "}\n",
       "#T_b6ba8_row2_col1 {\n",
       "  background-color: #b3df72;\n",
       "  color: #000000;\n",
       "}\n",
       "#T_b6ba8_row2_col2 {\n",
       "  background-color: #0c7f43;\n",
       "  color: #f1f1f1;\n",
       "}\n",
       "#T_b6ba8_row3_col0 {\n",
       "  background-color: #f99153;\n",
       "  color: #000000;\n",
       "}\n",
       "#T_b6ba8_row3_col1 {\n",
       "  background-color: #8ecf67;\n",
       "  color: #000000;\n",
       "}\n",
       "#T_b6ba8_row3_col2 {\n",
       "  background-color: #006837;\n",
       "  color: #f1f1f1;\n",
       "}\n",
       "</style>\n",
       "<table id=\"T_b6ba8_\">\n",
       "  <caption>Years to retirement - Interest Rate vs. savings_rate</caption>\n",
       "  <thead>\n",
       "    <tr>\n",
       "      <th class=\"blank level0\" >&nbsp;</th>\n",
       "      <th class=\"col_heading level0 col0\" >0.1</th>\n",
       "      <th class=\"col_heading level0 col1\" >0.2</th>\n",
       "      <th class=\"col_heading level0 col2\" >0.3</th>\n",
       "    </tr>\n",
       "    <tr>\n",
       "      <th class=\"index_name level0\" >Interest Rate</th>\n",
       "      <th class=\"blank col0\" >&nbsp;</th>\n",
       "      <th class=\"blank col1\" >&nbsp;</th>\n",
       "      <th class=\"blank col2\" >&nbsp;</th>\n",
       "    </tr>\n",
       "  </thead>\n",
       "  <tbody>\n",
       "    <tr>\n",
       "      <th id=\"T_b6ba8_level0_row0\" class=\"row_heading level0 row0\" >0.04</th>\n",
       "      <td id=\"T_b6ba8_row0_col0\" class=\"data row0 col0\" >28</td>\n",
       "      <td id=\"T_b6ba8_row0_col1\" class=\"data row0 col1\" >23</td>\n",
       "      <td id=\"T_b6ba8_row0_col2\" class=\"data row0 col2\" >20</td>\n",
       "    </tr>\n",
       "    <tr>\n",
       "      <th id=\"T_b6ba8_level0_row1\" class=\"row_heading level0 row1\" >0.05</th>\n",
       "      <td id=\"T_b6ba8_row1_col0\" class=\"data row1 col0\" >28</td>\n",
       "      <td id=\"T_b6ba8_row1_col1\" class=\"data row1 col1\" >22</td>\n",
       "      <td id=\"T_b6ba8_row1_col2\" class=\"data row1 col2\" >19</td>\n",
       "    </tr>\n",
       "    <tr>\n",
       "      <th id=\"T_b6ba8_level0_row2\" class=\"row_heading level0 row2\" >0.06</th>\n",
       "      <td id=\"T_b6ba8_row2_col0\" class=\"data row2 col0\" >27</td>\n",
       "      <td id=\"T_b6ba8_row2_col1\" class=\"data row2 col1\" >21</td>\n",
       "      <td id=\"T_b6ba8_row2_col2\" class=\"data row2 col2\" >19</td>\n",
       "    </tr>\n",
       "    <tr>\n",
       "      <th id=\"T_b6ba8_level0_row3\" class=\"row_heading level0 row3\" >0.07</th>\n",
       "      <td id=\"T_b6ba8_row3_col0\" class=\"data row3 col0\" >26</td>\n",
       "      <td id=\"T_b6ba8_row3_col1\" class=\"data row3 col1\" >21</td>\n",
       "      <td id=\"T_b6ba8_row3_col2\" class=\"data row3 col2\" >18</td>\n",
       "    </tr>\n",
       "  </tbody>\n",
       "</table>\n"
      ],
      "text/plain": [
       "<IPython.core.display.HTML object>"
      ]
     },
     "metadata": {},
     "output_type": "display_data"
    },
    {
     "data": {
      "text/html": [
       "<h2>Years to retirement by Interest Rate vs. Desired_cash</h2>"
      ],
      "text/plain": [
       "<IPython.core.display.HTML object>"
      ]
     },
     "metadata": {},
     "output_type": "display_data"
    },
    {
     "data": {
      "text/html": [
       "<style type=\"text/css\">\n",
       "#T_df6bb_row0_col0 {\n",
       "  background-color: #87cb67;\n",
       "  color: #000000;\n",
       "}\n",
       "#T_df6bb_row0_col1 {\n",
       "  background-color: #a50026;\n",
       "  color: #f1f1f1;\n",
       "}\n",
       "#T_df6bb_row1_col0 {\n",
       "  background-color: #48ae5c;\n",
       "  color: #f1f1f1;\n",
       "}\n",
       "#T_df6bb_row1_col1 {\n",
       "  background-color: #db382b;\n",
       "  color: #f1f1f1;\n",
       "}\n",
       "#T_df6bb_row2_col0 {\n",
       "  background-color: #148e4b;\n",
       "  color: #f1f1f1;\n",
       "}\n",
       "#T_df6bb_row2_col1 {\n",
       "  background-color: #f67f4b;\n",
       "  color: #f1f1f1;\n",
       "}\n",
       "#T_df6bb_row3_col0 {\n",
       "  background-color: #006837;\n",
       "  color: #f1f1f1;\n",
       "}\n",
       "#T_df6bb_row3_col1 {\n",
       "  background-color: #fdbd6d;\n",
       "  color: #000000;\n",
       "}\n",
       "</style>\n",
       "<table id=\"T_df6bb_\">\n",
       "  <caption>Years to retirement - Interest Rate vs. Desired_cash</caption>\n",
       "  <thead>\n",
       "    <tr>\n",
       "      <th class=\"blank level0\" >&nbsp;</th>\n",
       "      <th class=\"col_heading level0 col0\" >1000000</th>\n",
       "      <th class=\"col_heading level0 col1\" >2000000</th>\n",
       "    </tr>\n",
       "    <tr>\n",
       "      <th class=\"index_name level0\" >Interest Rate</th>\n",
       "      <th class=\"blank col0\" >&nbsp;</th>\n",
       "      <th class=\"blank col1\" >&nbsp;</th>\n",
       "    </tr>\n",
       "  </thead>\n",
       "  <tbody>\n",
       "    <tr>\n",
       "      <th id=\"T_df6bb_level0_row0\" class=\"row_heading level0 row0\" >0.04</th>\n",
       "      <td id=\"T_df6bb_row0_col0\" class=\"data row0 col0\" >21</td>\n",
       "      <td id=\"T_df6bb_row0_col1\" class=\"data row0 col1\" >26</td>\n",
       "    </tr>\n",
       "    <tr>\n",
       "      <th id=\"T_df6bb_level0_row1\" class=\"row_heading level0 row1\" >0.05</th>\n",
       "      <td id=\"T_df6bb_row1_col0\" class=\"data row1 col0\" >20</td>\n",
       "      <td id=\"T_df6bb_row1_col1\" class=\"data row1 col1\" >26</td>\n",
       "    </tr>\n",
       "    <tr>\n",
       "      <th id=\"T_df6bb_level0_row2\" class=\"row_heading level0 row2\" >0.06</th>\n",
       "      <td id=\"T_df6bb_row2_col0\" class=\"data row2 col0\" >20</td>\n",
       "      <td id=\"T_df6bb_row2_col1\" class=\"data row2 col1\" >25</td>\n",
       "    </tr>\n",
       "    <tr>\n",
       "      <th id=\"T_df6bb_level0_row3\" class=\"row_heading level0 row3\" >0.07</th>\n",
       "      <td id=\"T_df6bb_row3_col0\" class=\"data row3 col0\" >19</td>\n",
       "      <td id=\"T_df6bb_row3_col1\" class=\"data row3 col1\" >24</td>\n",
       "    </tr>\n",
       "  </tbody>\n",
       "</table>\n"
      ],
      "text/plain": [
       "<IPython.core.display.HTML object>"
      ]
     },
     "metadata": {},
     "output_type": "display_data"
    },
    {
     "data": {
      "text/html": [
       "<h2>Years to retirement by Promotion vs. Cost of living</h2>"
      ],
      "text/plain": [
       "<IPython.core.display.HTML object>"
      ]
     },
     "metadata": {},
     "output_type": "display_data"
    },
    {
     "data": {
      "text/html": [
       "<style type=\"text/css\">\n",
       "#T_a8441_row0_col0 {\n",
       "  background-color: #18954f;\n",
       "  color: #f1f1f1;\n",
       "}\n",
       "#T_a8441_row0_col1 {\n",
       "  background-color: #0b7d42;\n",
       "  color: #f1f1f1;\n",
       "}\n",
       "#T_a8441_row0_col2 {\n",
       "  background-color: #006837;\n",
       "  color: #f1f1f1;\n",
       "}\n",
       "#T_a8441_row1_col0 {\n",
       "  background-color: #fdb96a;\n",
       "  color: #000000;\n",
       "}\n",
       "#T_a8441_row1_col1 {\n",
       "  background-color: #fee695;\n",
       "  color: #000000;\n",
       "}\n",
       "#T_a8441_row1_col2 {\n",
       "  background-color: #fdfebc;\n",
       "  color: #000000;\n",
       "}\n",
       "#T_a8441_row2_col0 {\n",
       "  background-color: #a50026;\n",
       "  color: #f1f1f1;\n",
       "}\n",
       "#T_a8441_row2_col1 {\n",
       "  background-color: #de402e;\n",
       "  color: #f1f1f1;\n",
       "}\n",
       "#T_a8441_row2_col2 {\n",
       "  background-color: #f7844e;\n",
       "  color: #f1f1f1;\n",
       "}\n",
       "</style>\n",
       "<table id=\"T_a8441_\">\n",
       "  <caption>Years to retirement - Promotion vs. Cost of living</caption>\n",
       "  <thead>\n",
       "    <tr>\n",
       "      <th class=\"blank level0\" >&nbsp;</th>\n",
       "      <th class=\"col_heading level0 col0\" >0.01</th>\n",
       "      <th class=\"col_heading level0 col1\" >0.02</th>\n",
       "      <th class=\"col_heading level0 col2\" >0.03</th>\n",
       "    </tr>\n",
       "    <tr>\n",
       "      <th class=\"index_name level0\" >Promotion</th>\n",
       "      <th class=\"blank col0\" >&nbsp;</th>\n",
       "      <th class=\"blank col1\" >&nbsp;</th>\n",
       "      <th class=\"blank col2\" >&nbsp;</th>\n",
       "    </tr>\n",
       "  </thead>\n",
       "  <tbody>\n",
       "    <tr>\n",
       "      <th id=\"T_a8441_level0_row0\" class=\"row_heading level0 row0\" >1</th>\n",
       "      <td id=\"T_a8441_row0_col0\" class=\"data row0 col0\" >18</td>\n",
       "      <td id=\"T_a8441_row0_col1\" class=\"data row0 col1\" >17</td>\n",
       "      <td id=\"T_a8441_row0_col2\" class=\"data row0 col2\" >16</td>\n",
       "    </tr>\n",
       "    <tr>\n",
       "      <th id=\"T_a8441_level0_row1\" class=\"row_heading level0 row1\" >2</th>\n",
       "      <td id=\"T_a8441_row1_col0\" class=\"data row1 col0\" >25</td>\n",
       "      <td id=\"T_a8441_row1_col1\" class=\"data row1 col1\" >24</td>\n",
       "      <td id=\"T_a8441_row1_col2\" class=\"data row1 col2\" >22</td>\n",
       "    </tr>\n",
       "    <tr>\n",
       "      <th id=\"T_a8441_level0_row2\" class=\"row_heading level0 row2\" >3</th>\n",
       "      <td id=\"T_a8441_row2_col0\" class=\"data row2 col0\" >29</td>\n",
       "      <td id=\"T_a8441_row2_col1\" class=\"data row2 col1\" >27</td>\n",
       "      <td id=\"T_a8441_row2_col2\" class=\"data row2 col2\" >26</td>\n",
       "    </tr>\n",
       "  </tbody>\n",
       "</table>\n"
      ],
      "text/plain": [
       "<IPython.core.display.HTML object>"
      ]
     },
     "metadata": {},
     "output_type": "display_data"
    },
    {
     "data": {
      "text/html": [
       "<h2>Years to retirement by Promotion vs. promo_rise</h2>"
      ],
      "text/plain": [
       "<IPython.core.display.HTML object>"
      ]
     },
     "metadata": {},
     "output_type": "display_data"
    },
    {
     "data": {
      "text/html": [
       "<style type=\"text/css\">\n",
       "#T_71713_row0_col0 {\n",
       "  background-color: #fffdbc;\n",
       "  color: #000000;\n",
       "}\n",
       "#T_71713_row0_col1 {\n",
       "  background-color: #4eb15d;\n",
       "  color: #f1f1f1;\n",
       "}\n",
       "#T_71713_row0_col2 {\n",
       "  background-color: #006837;\n",
       "  color: #f1f1f1;\n",
       "}\n",
       "#T_71713_row1_col0 {\n",
       "  background-color: #e65036;\n",
       "  color: #f1f1f1;\n",
       "}\n",
       "#T_71713_row1_col1 {\n",
       "  background-color: #fff1a8;\n",
       "  color: #000000;\n",
       "}\n",
       "#T_71713_row1_col2 {\n",
       "  background-color: #c3e67d;\n",
       "  color: #000000;\n",
       "}\n",
       "#T_71713_row2_col0 {\n",
       "  background-color: #a50026;\n",
       "  color: #f1f1f1;\n",
       "}\n",
       "#T_71713_row2_col1 {\n",
       "  background-color: #f88950;\n",
       "  color: #f1f1f1;\n",
       "}\n",
       "#T_71713_row2_col2 {\n",
       "  background-color: #fee593;\n",
       "  color: #000000;\n",
       "}\n",
       "</style>\n",
       "<table id=\"T_71713_\">\n",
       "  <caption>Years to retirement - Promotion vs. promo_rise</caption>\n",
       "  <thead>\n",
       "    <tr>\n",
       "      <th class=\"blank level0\" >&nbsp;</th>\n",
       "      <th class=\"col_heading level0 col0\" >0.1</th>\n",
       "      <th class=\"col_heading level0 col1\" >0.2</th>\n",
       "      <th class=\"col_heading level0 col2\" >0.3</th>\n",
       "    </tr>\n",
       "    <tr>\n",
       "      <th class=\"index_name level0\" >Promotion</th>\n",
       "      <th class=\"blank col0\" >&nbsp;</th>\n",
       "      <th class=\"blank col1\" >&nbsp;</th>\n",
       "      <th class=\"blank col2\" >&nbsp;</th>\n",
       "    </tr>\n",
       "  </thead>\n",
       "  <tbody>\n",
       "    <tr>\n",
       "      <th id=\"T_71713_level0_row0\" class=\"row_heading level0 row0\" >1</th>\n",
       "      <td id=\"T_71713_row0_col0\" class=\"data row0 col0\" >22</td>\n",
       "      <td id=\"T_71713_row0_col1\" class=\"data row0 col1\" >16</td>\n",
       "      <td id=\"T_71713_row0_col2\" class=\"data row0 col2\" >13</td>\n",
       "    </tr>\n",
       "    <tr>\n",
       "      <th id=\"T_71713_level0_row1\" class=\"row_heading level0 row1\" >2</th>\n",
       "      <td id=\"T_71713_row1_col0\" class=\"data row1 col0\" >28</td>\n",
       "      <td id=\"T_71713_row1_col1\" class=\"data row1 col1\" >23</td>\n",
       "      <td id=\"T_71713_row1_col2\" class=\"data row1 col2\" >19</td>\n",
       "    </tr>\n",
       "    <tr>\n",
       "      <th id=\"T_71713_level0_row2\" class=\"row_heading level0 row2\" >3</th>\n",
       "      <td id=\"T_71713_row2_col0\" class=\"data row2 col0\" >31</td>\n",
       "      <td id=\"T_71713_row2_col1\" class=\"data row2 col1\" >27</td>\n",
       "      <td id=\"T_71713_row2_col2\" class=\"data row2 col2\" >24</td>\n",
       "    </tr>\n",
       "  </tbody>\n",
       "</table>\n"
      ],
      "text/plain": [
       "<IPython.core.display.HTML object>"
      ]
     },
     "metadata": {},
     "output_type": "display_data"
    },
    {
     "data": {
      "text/html": [
       "<h2>Years to retirement by Promotion vs. savings_rate</h2>"
      ],
      "text/plain": [
       "<IPython.core.display.HTML object>"
      ]
     },
     "metadata": {},
     "output_type": "display_data"
    },
    {
     "data": {
      "text/html": [
       "<style type=\"text/css\">\n",
       "#T_86172_row0_col0 {\n",
       "  background-color: #a5d86a;\n",
       "  color: #000000;\n",
       "}\n",
       "#T_86172_row0_col1 {\n",
       "  background-color: #1e9a51;\n",
       "  color: #f1f1f1;\n",
       "}\n",
       "#T_86172_row0_col2 {\n",
       "  background-color: #006837;\n",
       "  color: #f1f1f1;\n",
       "}\n",
       "#T_86172_row1_col0 {\n",
       "  background-color: #f98e52;\n",
       "  color: #f1f1f1;\n",
       "}\n",
       "#T_86172_row1_col1 {\n",
       "  background-color: #ebf7a3;\n",
       "  color: #000000;\n",
       "}\n",
       "#T_86172_row1_col2 {\n",
       "  background-color: #9bd469;\n",
       "  color: #000000;\n",
       "}\n",
       "#T_86172_row2_col0 {\n",
       "  background-color: #a50026;\n",
       "  color: #f1f1f1;\n",
       "}\n",
       "#T_86172_row2_col1 {\n",
       "  background-color: #fece7c;\n",
       "  color: #000000;\n",
       "}\n",
       "#T_86172_row2_col2 {\n",
       "  background-color: #e5f49b;\n",
       "  color: #000000;\n",
       "}\n",
       "</style>\n",
       "<table id=\"T_86172_\">\n",
       "  <caption>Years to retirement - Promotion vs. savings_rate</caption>\n",
       "  <thead>\n",
       "    <tr>\n",
       "      <th class=\"blank level0\" >&nbsp;</th>\n",
       "      <th class=\"col_heading level0 col0\" >0.1</th>\n",
       "      <th class=\"col_heading level0 col1\" >0.2</th>\n",
       "      <th class=\"col_heading level0 col2\" >0.3</th>\n",
       "    </tr>\n",
       "    <tr>\n",
       "      <th class=\"index_name level0\" >Promotion</th>\n",
       "      <th class=\"blank col0\" >&nbsp;</th>\n",
       "      <th class=\"blank col1\" >&nbsp;</th>\n",
       "      <th class=\"blank col2\" >&nbsp;</th>\n",
       "    </tr>\n",
       "  </thead>\n",
       "  <tbody>\n",
       "    <tr>\n",
       "      <th id=\"T_86172_level0_row0\" class=\"row_heading level0 row0\" >1</th>\n",
       "      <td id=\"T_86172_row0_col0\" class=\"data row0 col0\" >20</td>\n",
       "      <td id=\"T_86172_row0_col1\" class=\"data row0 col1\" >16</td>\n",
       "      <td id=\"T_86172_row0_col2\" class=\"data row0 col2\" >14</td>\n",
       "    </tr>\n",
       "    <tr>\n",
       "      <th id=\"T_86172_level0_row1\" class=\"row_heading level0 row1\" >2</th>\n",
       "      <td id=\"T_86172_row1_col0\" class=\"data row1 col0\" >28</td>\n",
       "      <td id=\"T_86172_row1_col1\" class=\"data row1 col1\" >23</td>\n",
       "      <td id=\"T_86172_row1_col2\" class=\"data row1 col2\" >20</td>\n",
       "    </tr>\n",
       "    <tr>\n",
       "      <th id=\"T_86172_level0_row2\" class=\"row_heading level0 row2\" >3</th>\n",
       "      <td id=\"T_86172_row2_col0\" class=\"data row2 col0\" >33</td>\n",
       "      <td id=\"T_86172_row2_col1\" class=\"data row2 col1\" >26</td>\n",
       "      <td id=\"T_86172_row2_col2\" class=\"data row2 col2\" >22</td>\n",
       "    </tr>\n",
       "  </tbody>\n",
       "</table>\n"
      ],
      "text/plain": [
       "<IPython.core.display.HTML object>"
      ]
     },
     "metadata": {},
     "output_type": "display_data"
    },
    {
     "data": {
      "text/html": [
       "<h2>Years to retirement by Promotion vs. Desired_cash</h2>"
      ],
      "text/plain": [
       "<IPython.core.display.HTML object>"
      ]
     },
     "metadata": {},
     "output_type": "display_data"
    },
    {
     "data": {
      "text/html": [
       "<style type=\"text/css\">\n",
       "#T_7c9fa_row0_col0 {\n",
       "  background-color: #006837;\n",
       "  color: #f1f1f1;\n",
       "}\n",
       "#T_7c9fa_row0_col1 {\n",
       "  background-color: #78c565;\n",
       "  color: #000000;\n",
       "}\n",
       "#T_7c9fa_row1_col0 {\n",
       "  background-color: #c9e881;\n",
       "  color: #000000;\n",
       "}\n",
       "#T_7c9fa_row1_col1 {\n",
       "  background-color: #fb9d59;\n",
       "  color: #000000;\n",
       "}\n",
       "#T_7c9fa_row2_col0 {\n",
       "  background-color: #feea9b;\n",
       "  color: #000000;\n",
       "}\n",
       "#T_7c9fa_row2_col1 {\n",
       "  background-color: #a50026;\n",
       "  color: #f1f1f1;\n",
       "}\n",
       "</style>\n",
       "<table id=\"T_7c9fa_\">\n",
       "  <caption>Years to retirement - Promotion vs. Desired_cash</caption>\n",
       "  <thead>\n",
       "    <tr>\n",
       "      <th class=\"blank level0\" >&nbsp;</th>\n",
       "      <th class=\"col_heading level0 col0\" >1000000</th>\n",
       "      <th class=\"col_heading level0 col1\" >2000000</th>\n",
       "    </tr>\n",
       "    <tr>\n",
       "      <th class=\"index_name level0\" >Promotion</th>\n",
       "      <th class=\"blank col0\" >&nbsp;</th>\n",
       "      <th class=\"blank col1\" >&nbsp;</th>\n",
       "    </tr>\n",
       "  </thead>\n",
       "  <tbody>\n",
       "    <tr>\n",
       "      <th id=\"T_7c9fa_level0_row0\" class=\"row_heading level0 row0\" >1</th>\n",
       "      <td id=\"T_7c9fa_row0_col0\" class=\"data row0 col0\" >15</td>\n",
       "      <td id=\"T_7c9fa_row0_col1\" class=\"data row0 col1\" >19</td>\n",
       "    </tr>\n",
       "    <tr>\n",
       "      <th id=\"T_7c9fa_level0_row1\" class=\"row_heading level0 row1\" >2</th>\n",
       "      <td id=\"T_7c9fa_row1_col0\" class=\"data row1 col0\" >21</td>\n",
       "      <td id=\"T_7c9fa_row1_col1\" class=\"data row1 col1\" >26</td>\n",
       "    </tr>\n",
       "    <tr>\n",
       "      <th id=\"T_7c9fa_level0_row2\" class=\"row_heading level0 row2\" >3</th>\n",
       "      <td id=\"T_7c9fa_row2_col0\" class=\"data row2 col0\" >24</td>\n",
       "      <td id=\"T_7c9fa_row2_col1\" class=\"data row2 col1\" >31</td>\n",
       "    </tr>\n",
       "  </tbody>\n",
       "</table>\n"
      ],
      "text/plain": [
       "<IPython.core.display.HTML object>"
      ]
     },
     "metadata": {},
     "output_type": "display_data"
    },
    {
     "data": {
      "text/html": [
       "<h2>Years to retirement by Cost of living vs. promo_rise</h2>"
      ],
      "text/plain": [
       "<IPython.core.display.HTML object>"
      ]
     },
     "metadata": {},
     "output_type": "display_data"
    },
    {
     "data": {
      "text/html": [
       "<style type=\"text/css\">\n",
       "#T_1f8af_row0_col0 {\n",
       "  background-color: #a50026;\n",
       "  color: #f1f1f1;\n",
       "}\n",
       "#T_1f8af_row0_col1 {\n",
       "  background-color: #eff8aa;\n",
       "  color: #000000;\n",
       "}\n",
       "#T_1f8af_row0_col2 {\n",
       "  background-color: #30a356;\n",
       "  color: #f1f1f1;\n",
       "}\n",
       "#T_1f8af_row1_col0 {\n",
       "  background-color: #e34933;\n",
       "  color: #f1f1f1;\n",
       "}\n",
       "#T_1f8af_row1_col1 {\n",
       "  background-color: #c3e67d;\n",
       "  color: #000000;\n",
       "}\n",
       "#T_1f8af_row1_col2 {\n",
       "  background-color: #108647;\n",
       "  color: #f1f1f1;\n",
       "}\n",
       "#T_1f8af_row2_col0 {\n",
       "  background-color: #fa9b58;\n",
       "  color: #000000;\n",
       "}\n",
       "#T_1f8af_row2_col1 {\n",
       "  background-color: #98d368;\n",
       "  color: #000000;\n",
       "}\n",
       "#T_1f8af_row2_col2 {\n",
       "  background-color: #006837;\n",
       "  color: #f1f1f1;\n",
       "}\n",
       "</style>\n",
       "<table id=\"T_1f8af_\">\n",
       "  <caption>Years to retirement - Cost of living vs. promo_rise</caption>\n",
       "  <thead>\n",
       "    <tr>\n",
       "      <th class=\"blank level0\" >&nbsp;</th>\n",
       "      <th class=\"col_heading level0 col0\" >0.1</th>\n",
       "      <th class=\"col_heading level0 col1\" >0.2</th>\n",
       "      <th class=\"col_heading level0 col2\" >0.3</th>\n",
       "    </tr>\n",
       "    <tr>\n",
       "      <th class=\"index_name level0\" >Cost of living</th>\n",
       "      <th class=\"blank col0\" >&nbsp;</th>\n",
       "      <th class=\"blank col1\" >&nbsp;</th>\n",
       "      <th class=\"blank col2\" >&nbsp;</th>\n",
       "    </tr>\n",
       "  </thead>\n",
       "  <tbody>\n",
       "    <tr>\n",
       "      <th id=\"T_1f8af_level0_row0\" class=\"row_heading level0 row0\" >0.01</th>\n",
       "      <td id=\"T_1f8af_row0_col0\" class=\"data row0 col0\" >29</td>\n",
       "      <td id=\"T_1f8af_row0_col1\" class=\"data row0 col1\" >23</td>\n",
       "      <td id=\"T_1f8af_row0_col2\" class=\"data row0 col2\" >19</td>\n",
       "    </tr>\n",
       "    <tr>\n",
       "      <th id=\"T_1f8af_level0_row1\" class=\"row_heading level0 row1\" >0.02</th>\n",
       "      <td id=\"T_1f8af_row1_col0\" class=\"data row1 col0\" >27</td>\n",
       "      <td id=\"T_1f8af_row1_col1\" class=\"data row1 col1\" >22</td>\n",
       "      <td id=\"T_1f8af_row1_col2\" class=\"data row1 col2\" >19</td>\n",
       "    </tr>\n",
       "    <tr>\n",
       "      <th id=\"T_1f8af_level0_row2\" class=\"row_heading level0 row2\" >0.03</th>\n",
       "      <td id=\"T_1f8af_row2_col0\" class=\"data row2 col0\" >26</td>\n",
       "      <td id=\"T_1f8af_row2_col1\" class=\"data row2 col1\" >21</td>\n",
       "      <td id=\"T_1f8af_row2_col2\" class=\"data row2 col2\" >18</td>\n",
       "    </tr>\n",
       "  </tbody>\n",
       "</table>\n"
      ],
      "text/plain": [
       "<IPython.core.display.HTML object>"
      ]
     },
     "metadata": {},
     "output_type": "display_data"
    },
    {
     "data": {
      "text/html": [
       "<h2>Years to retirement by Cost of living vs. savings_rate</h2>"
      ],
      "text/plain": [
       "<IPython.core.display.HTML object>"
      ]
     },
     "metadata": {},
     "output_type": "display_data"
    },
    {
     "data": {
      "text/html": [
       "<style type=\"text/css\">\n",
       "#T_2d009_row0_col0 {\n",
       "  background-color: #a50026;\n",
       "  color: #f1f1f1;\n",
       "}\n",
       "#T_2d009_row0_col1 {\n",
       "  background-color: #eef8a8;\n",
       "  color: #000000;\n",
       "}\n",
       "#T_2d009_row0_col2 {\n",
       "  background-color: #42ac5a;\n",
       "  color: #f1f1f1;\n",
       "}\n",
       "#T_2d009_row1_col0 {\n",
       "  background-color: #e24731;\n",
       "  color: #f1f1f1;\n",
       "}\n",
       "#T_2d009_row1_col1 {\n",
       "  background-color: #c1e57b;\n",
       "  color: #000000;\n",
       "}\n",
       "#T_2d009_row1_col2 {\n",
       "  background-color: #118848;\n",
       "  color: #f1f1f1;\n",
       "}\n",
       "#T_2d009_row2_col0 {\n",
       "  background-color: #fa9656;\n",
       "  color: #000000;\n",
       "}\n",
       "#T_2d009_row2_col1 {\n",
       "  background-color: #8ecf67;\n",
       "  color: #000000;\n",
       "}\n",
       "#T_2d009_row2_col2 {\n",
       "  background-color: #006837;\n",
       "  color: #f1f1f1;\n",
       "}\n",
       "</style>\n",
       "<table id=\"T_2d009_\">\n",
       "  <caption>Years to retirement - Cost of living vs. savings_rate</caption>\n",
       "  <thead>\n",
       "    <tr>\n",
       "      <th class=\"blank level0\" >&nbsp;</th>\n",
       "      <th class=\"col_heading level0 col0\" >0.1</th>\n",
       "      <th class=\"col_heading level0 col1\" >0.2</th>\n",
       "      <th class=\"col_heading level0 col2\" >0.3</th>\n",
       "    </tr>\n",
       "    <tr>\n",
       "      <th class=\"index_name level0\" >Cost of living</th>\n",
       "      <th class=\"blank col0\" >&nbsp;</th>\n",
       "      <th class=\"blank col1\" >&nbsp;</th>\n",
       "      <th class=\"blank col2\" >&nbsp;</th>\n",
       "    </tr>\n",
       "  </thead>\n",
       "  <tbody>\n",
       "    <tr>\n",
       "      <th id=\"T_2d009_level0_row0\" class=\"row_heading level0 row0\" >0.01</th>\n",
       "      <td id=\"T_2d009_row0_col0\" class=\"data row0 col0\" >29</td>\n",
       "      <td id=\"T_2d009_row0_col1\" class=\"data row0 col1\" >23</td>\n",
       "      <td id=\"T_2d009_row0_col2\" class=\"data row0 col2\" >20</td>\n",
       "    </tr>\n",
       "    <tr>\n",
       "      <th id=\"T_2d009_level0_row1\" class=\"row_heading level0 row1\" >0.02</th>\n",
       "      <td id=\"T_2d009_row1_col0\" class=\"data row1 col0\" >27</td>\n",
       "      <td id=\"T_2d009_row1_col1\" class=\"data row1 col1\" >22</td>\n",
       "      <td id=\"T_2d009_row1_col2\" class=\"data row1 col2\" >19</td>\n",
       "    </tr>\n",
       "    <tr>\n",
       "      <th id=\"T_2d009_level0_row2\" class=\"row_heading level0 row2\" >0.03</th>\n",
       "      <td id=\"T_2d009_row2_col0\" class=\"data row2 col0\" >26</td>\n",
       "      <td id=\"T_2d009_row2_col1\" class=\"data row2 col1\" >21</td>\n",
       "      <td id=\"T_2d009_row2_col2\" class=\"data row2 col2\" >18</td>\n",
       "    </tr>\n",
       "  </tbody>\n",
       "</table>\n"
      ],
      "text/plain": [
       "<IPython.core.display.HTML object>"
      ]
     },
     "metadata": {},
     "output_type": "display_data"
    },
    {
     "data": {
      "text/html": [
       "<h2>Years to retirement by Cost of living vs. Desired_cash</h2>"
      ],
      "text/plain": [
       "<IPython.core.display.HTML object>"
      ]
     },
     "metadata": {},
     "output_type": "display_data"
    },
    {
     "data": {
      "text/html": [
       "<style type=\"text/css\">\n",
       "#T_0bd03_row0_col0 {\n",
       "  background-color: #7fc866;\n",
       "  color: #000000;\n",
       "}\n",
       "#T_0bd03_row0_col1 {\n",
       "  background-color: #a50026;\n",
       "  color: #f1f1f1;\n",
       "}\n",
       "#T_0bd03_row1_col0 {\n",
       "  background-color: #219c52;\n",
       "  color: #f1f1f1;\n",
       "}\n",
       "#T_0bd03_row1_col1 {\n",
       "  background-color: #ee613e;\n",
       "  color: #f1f1f1;\n",
       "}\n",
       "#T_0bd03_row2_col0 {\n",
       "  background-color: #006837;\n",
       "  color: #f1f1f1;\n",
       "}\n",
       "#T_0bd03_row2_col1 {\n",
       "  background-color: #fdc171;\n",
       "  color: #000000;\n",
       "}\n",
       "</style>\n",
       "<table id=\"T_0bd03_\">\n",
       "  <caption>Years to retirement - Cost of living vs. Desired_cash</caption>\n",
       "  <thead>\n",
       "    <tr>\n",
       "      <th class=\"blank level0\" >&nbsp;</th>\n",
       "      <th class=\"col_heading level0 col0\" >1000000</th>\n",
       "      <th class=\"col_heading level0 col1\" >2000000</th>\n",
       "    </tr>\n",
       "    <tr>\n",
       "      <th class=\"index_name level0\" >Cost of living</th>\n",
       "      <th class=\"blank col0\" >&nbsp;</th>\n",
       "      <th class=\"blank col1\" >&nbsp;</th>\n",
       "    </tr>\n",
       "  </thead>\n",
       "  <tbody>\n",
       "    <tr>\n",
       "      <th id=\"T_0bd03_level0_row0\" class=\"row_heading level0 row0\" >0.01</th>\n",
       "      <td id=\"T_0bd03_row0_col0\" class=\"data row0 col0\" >21</td>\n",
       "      <td id=\"T_0bd03_row0_col1\" class=\"data row0 col1\" >26</td>\n",
       "    </tr>\n",
       "    <tr>\n",
       "      <th id=\"T_0bd03_level0_row1\" class=\"row_heading level0 row1\" >0.02</th>\n",
       "      <td id=\"T_0bd03_row1_col0\" class=\"data row1 col0\" >20</td>\n",
       "      <td id=\"T_0bd03_row1_col1\" class=\"data row1 col1\" >25</td>\n",
       "    </tr>\n",
       "    <tr>\n",
       "      <th id=\"T_0bd03_level0_row2\" class=\"row_heading level0 row2\" >0.03</th>\n",
       "      <td id=\"T_0bd03_row2_col0\" class=\"data row2 col0\" >19</td>\n",
       "      <td id=\"T_0bd03_row2_col1\" class=\"data row2 col1\" >24</td>\n",
       "    </tr>\n",
       "  </tbody>\n",
       "</table>\n"
      ],
      "text/plain": [
       "<IPython.core.display.HTML object>"
      ]
     },
     "metadata": {},
     "output_type": "display_data"
    },
    {
     "data": {
      "text/html": [
       "<h2>Years to retirement by promo_rise vs. savings_rate</h2>"
      ],
      "text/plain": [
       "<IPython.core.display.HTML object>"
      ]
     },
     "metadata": {},
     "output_type": "display_data"
    },
    {
     "data": {
      "text/html": [
       "<style type=\"text/css\">\n",
       "#T_11fb4_row0_col0 {\n",
       "  background-color: #a50026;\n",
       "  color: #f1f1f1;\n",
       "}\n",
       "#T_11fb4_row0_col1 {\n",
       "  background-color: #fee08b;\n",
       "  color: #000000;\n",
       "}\n",
       "#T_11fb4_row0_col2 {\n",
       "  background-color: #cfeb85;\n",
       "  color: #000000;\n",
       "}\n",
       "#T_11fb4_row1_col0 {\n",
       "  background-color: #fee18d;\n",
       "  color: #000000;\n",
       "}\n",
       "#T_11fb4_row1_col1 {\n",
       "  background-color: #a9da6c;\n",
       "  color: #000000;\n",
       "}\n",
       "#T_11fb4_row1_col2 {\n",
       "  background-color: #3ca959;\n",
       "  color: #f1f1f1;\n",
       "}\n",
       "#T_11fb4_row2_col0 {\n",
       "  background-color: #c3e67d;\n",
       "  color: #000000;\n",
       "}\n",
       "#T_11fb4_row2_col1 {\n",
       "  background-color: #2da155;\n",
       "  color: #f1f1f1;\n",
       "}\n",
       "#T_11fb4_row2_col2 {\n",
       "  background-color: #006837;\n",
       "  color: #f1f1f1;\n",
       "}\n",
       "</style>\n",
       "<table id=\"T_11fb4_\">\n",
       "  <caption>Years to retirement - promo_rise vs. savings_rate</caption>\n",
       "  <thead>\n",
       "    <tr>\n",
       "      <th class=\"blank level0\" >&nbsp;</th>\n",
       "      <th class=\"col_heading level0 col0\" >0.1</th>\n",
       "      <th class=\"col_heading level0 col1\" >0.2</th>\n",
       "      <th class=\"col_heading level0 col2\" >0.3</th>\n",
       "    </tr>\n",
       "    <tr>\n",
       "      <th class=\"index_name level0\" >promo_rise</th>\n",
       "      <th class=\"blank col0\" >&nbsp;</th>\n",
       "      <th class=\"blank col1\" >&nbsp;</th>\n",
       "      <th class=\"blank col2\" >&nbsp;</th>\n",
       "    </tr>\n",
       "  </thead>\n",
       "  <tbody>\n",
       "    <tr>\n",
       "      <th id=\"T_11fb4_level0_row0\" class=\"row_heading level0 row0\" >0.1</th>\n",
       "      <td id=\"T_11fb4_row0_col0\" class=\"data row0 col0\" >33</td>\n",
       "      <td id=\"T_11fb4_row0_col1\" class=\"data row0 col1\" >26</td>\n",
       "      <td id=\"T_11fb4_row0_col2\" class=\"data row0 col2\" >22</td>\n",
       "    </tr>\n",
       "    <tr>\n",
       "      <th id=\"T_11fb4_level0_row1\" class=\"row_heading level0 row1\" >0.2</th>\n",
       "      <td id=\"T_11fb4_row1_col0\" class=\"data row1 col0\" >26</td>\n",
       "      <td id=\"T_11fb4_row1_col1\" class=\"data row1 col1\" >21</td>\n",
       "      <td id=\"T_11fb4_row1_col2\" class=\"data row1 col2\" >18</td>\n",
       "    </tr>\n",
       "    <tr>\n",
       "      <th id=\"T_11fb4_level0_row2\" class=\"row_heading level0 row2\" >0.3</th>\n",
       "      <td id=\"T_11fb4_row2_col0\" class=\"data row2 col0\" >22</td>\n",
       "      <td id=\"T_11fb4_row2_col1\" class=\"data row2 col1\" >18</td>\n",
       "      <td id=\"T_11fb4_row2_col2\" class=\"data row2 col2\" >16</td>\n",
       "    </tr>\n",
       "  </tbody>\n",
       "</table>\n"
      ],
      "text/plain": [
       "<IPython.core.display.HTML object>"
      ]
     },
     "metadata": {},
     "output_type": "display_data"
    },
    {
     "data": {
      "text/html": [
       "<h2>Years to retirement by promo_rise vs. Desired_cash</h2>"
      ],
      "text/plain": [
       "<IPython.core.display.HTML object>"
      ]
     },
     "metadata": {},
     "output_type": "display_data"
    },
    {
     "data": {
      "text/html": [
       "<style type=\"text/css\">\n",
       "#T_6dbdc_row0_col0 {\n",
       "  background-color: #fffab6;\n",
       "  color: #000000;\n",
       "}\n",
       "#T_6dbdc_row0_col1 {\n",
       "  background-color: #a50026;\n",
       "  color: #f1f1f1;\n",
       "}\n",
       "#T_6dbdc_row1_col0 {\n",
       "  background-color: #63bc62;\n",
       "  color: #f1f1f1;\n",
       "}\n",
       "#T_6dbdc_row1_col1 {\n",
       "  background-color: #fff0a6;\n",
       "  color: #000000;\n",
       "}\n",
       "#T_6dbdc_row2_col0 {\n",
       "  background-color: #006837;\n",
       "  color: #f1f1f1;\n",
       "}\n",
       "#T_6dbdc_row2_col1 {\n",
       "  background-color: #98d368;\n",
       "  color: #000000;\n",
       "}\n",
       "</style>\n",
       "<table id=\"T_6dbdc_\">\n",
       "  <caption>Years to retirement - promo_rise vs. Desired_cash</caption>\n",
       "  <thead>\n",
       "    <tr>\n",
       "      <th class=\"blank level0\" >&nbsp;</th>\n",
       "      <th class=\"col_heading level0 col0\" >1000000</th>\n",
       "      <th class=\"col_heading level0 col1\" >2000000</th>\n",
       "    </tr>\n",
       "    <tr>\n",
       "      <th class=\"index_name level0\" >promo_rise</th>\n",
       "      <th class=\"blank col0\" >&nbsp;</th>\n",
       "      <th class=\"blank col1\" >&nbsp;</th>\n",
       "    </tr>\n",
       "  </thead>\n",
       "  <tbody>\n",
       "    <tr>\n",
       "      <th id=\"T_6dbdc_level0_row0\" class=\"row_heading level0 row0\" >0.1</th>\n",
       "      <td id=\"T_6dbdc_row0_col0\" class=\"data row0 col0\" >24</td>\n",
       "      <td id=\"T_6dbdc_row0_col1\" class=\"data row0 col1\" >31</td>\n",
       "    </tr>\n",
       "    <tr>\n",
       "      <th id=\"T_6dbdc_level0_row1\" class=\"row_heading level0 row1\" >0.2</th>\n",
       "      <td id=\"T_6dbdc_row1_col0\" class=\"data row1 col0\" >19</td>\n",
       "      <td id=\"T_6dbdc_row1_col1\" class=\"data row1 col1\" >24</td>\n",
       "    </tr>\n",
       "    <tr>\n",
       "      <th id=\"T_6dbdc_level0_row2\" class=\"row_heading level0 row2\" >0.3</th>\n",
       "      <td id=\"T_6dbdc_row2_col0\" class=\"data row2 col0\" >17</td>\n",
       "      <td id=\"T_6dbdc_row2_col1\" class=\"data row2 col1\" >21</td>\n",
       "    </tr>\n",
       "  </tbody>\n",
       "</table>\n"
      ],
      "text/plain": [
       "<IPython.core.display.HTML object>"
      ]
     },
     "metadata": {},
     "output_type": "display_data"
    },
    {
     "data": {
      "text/html": [
       "<h2>Years to retirement by savings_rate vs. Desired_cash</h2>"
      ],
      "text/plain": [
       "<IPython.core.display.HTML object>"
      ]
     },
     "metadata": {},
     "output_type": "display_data"
    },
    {
     "data": {
      "text/html": [
       "<style type=\"text/css\">\n",
       "#T_2ce7a_row0_col0, #T_2ce7a_row1_col1 {\n",
       "  background-color: #fee28f;\n",
       "  color: #000000;\n",
       "}\n",
       "#T_2ce7a_row0_col1 {\n",
       "  background-color: #a50026;\n",
       "  color: #f1f1f1;\n",
       "}\n",
       "#T_2ce7a_row1_col0 {\n",
       "  background-color: #6bbf64;\n",
       "  color: #000000;\n",
       "}\n",
       "#T_2ce7a_row2_col0 {\n",
       "  background-color: #006837;\n",
       "  color: #f1f1f1;\n",
       "}\n",
       "#T_2ce7a_row2_col1 {\n",
       "  background-color: #c7e77f;\n",
       "  color: #000000;\n",
       "}\n",
       "</style>\n",
       "<table id=\"T_2ce7a_\">\n",
       "  <caption>Years to retirement - savings_rate vs. Desired_cash</caption>\n",
       "  <thead>\n",
       "    <tr>\n",
       "      <th class=\"blank level0\" >&nbsp;</th>\n",
       "      <th class=\"col_heading level0 col0\" >1000000</th>\n",
       "      <th class=\"col_heading level0 col1\" >2000000</th>\n",
       "    </tr>\n",
       "    <tr>\n",
       "      <th class=\"index_name level0\" >savings_rate</th>\n",
       "      <th class=\"blank col0\" >&nbsp;</th>\n",
       "      <th class=\"blank col1\" >&nbsp;</th>\n",
       "    </tr>\n",
       "  </thead>\n",
       "  <tbody>\n",
       "    <tr>\n",
       "      <th id=\"T_2ce7a_level0_row0\" class=\"row_heading level0 row0\" >0.1</th>\n",
       "      <td id=\"T_2ce7a_row0_col0\" class=\"data row0 col0\" >24</td>\n",
       "      <td id=\"T_2ce7a_row0_col1\" class=\"data row0 col1\" >30</td>\n",
       "    </tr>\n",
       "    <tr>\n",
       "      <th id=\"T_2ce7a_level0_row1\" class=\"row_heading level0 row1\" >0.2</th>\n",
       "      <td id=\"T_2ce7a_row1_col0\" class=\"data row1 col0\" >19</td>\n",
       "      <td id=\"T_2ce7a_row1_col1\" class=\"data row1 col1\" >24</td>\n",
       "    </tr>\n",
       "    <tr>\n",
       "      <th id=\"T_2ce7a_level0_row2\" class=\"row_heading level0 row2\" >0.3</th>\n",
       "      <td id=\"T_2ce7a_row2_col0\" class=\"data row2 col0\" >16</td>\n",
       "      <td id=\"T_2ce7a_row2_col1\" class=\"data row2 col1\" >21</td>\n",
       "    </tr>\n",
       "  </tbody>\n",
       "</table>\n"
      ],
      "text/plain": [
       "<IPython.core.display.HTML object>"
      ]
     },
     "metadata": {},
     "output_type": "display_data"
    }
   ],
   "source": [
    "styled_dict =sa.styled_dfs()"
   ]
  },
  {
   "cell_type": "code",
   "execution_count": 50,
   "id": "3843ff0d",
   "metadata": {},
   "outputs": [],
   "source": [
    "#Scenario Analysis\n",
    "Bad_economy_Data=ModelInputs(\n",
    "    start_salary=40000,\n",
    "    promos_every_n_year=8,\n",
    "    cost_o_living_raise=0.01,\n",
    "    promo_rise=0.07,\n",
    "    savings_rate=0.15,\n",
    "    interest_rate=0.03\n",
    ")\n",
    "Good_economy_Data=ModelInputs(\n",
    "    start_salary=70000,\n",
    "    promos_every_n_year=4,\n",
    "    cost_o_living_raise=0.03,\n",
    "    promo_rise=0.2,\n",
    "    savings_rate=0.35,\n",
    "    interest_rate=0.03\n",
    ")\n",
    "cases ={\n",
    "    'Recession':Bad_economy_Data,\n",
    "    'Normal':model_data,\n",
    "    'Expansion': Good_economy_Data\n",
    "}"
   ]
  },
  {
   "cell_type": "code",
   "execution_count": 51,
   "id": "16dc3d88",
   "metadata": {},
   "outputs": [
    {
     "name": "stdout",
     "output_type": "stream",
     "text": [
      "It would take 61 years to retire in a Recession economy\n",
      "It would take 28 years to retire in a Normal economy\n",
      "It would take 21 years to retire in a Expansion economy\n"
     ]
    }
   ],
   "source": [
    "for case_type,case_input in cases.items():\n",
    "    ytr = years_to_retirement(case_input,print_output=False)\n",
    "    print(f'It would take {ytr} years to retire in a {case_type} economy')"
   ]
  },
  {
   "cell_type": "code",
   "execution_count": 52,
   "id": "08f21695",
   "metadata": {},
   "outputs": [
    {
     "name": "stdout",
     "output_type": "stream",
     "text": [
      "It would take 32 years to retire,consideringa 20% chance of Recession anda 50% chance of Normal anda 30% chance of Expansion\n"
     ]
    }
   ],
   "source": [
    "case_probabilities ={\n",
    "    \"Recession\":0.2,\n",
    "    \"Normal\":0.5,\n",
    "    \"Expansion\":0.3\n",
    "}\n",
    "expected_ytr=0\n",
    "for case_type,case_input in cases.items():\n",
    "    ytr = years_to_retirement(case_input,print_output=False)\n",
    "    weighted_ytr=ytr*case_probabilities[case_type]                                 \n",
    "    expected_ytr=expected_ytr+weighted_ytr\n",
    "print(f'It would take {expected_ytr:.0f} years to retire,considering'\n",
    "      f'a {case_probabilities[\"Recession\"]:.0%} chance of Recession and'\n",
    "      f'a {case_probabilities[\"Normal\"]:.0%} chance of Normal and'\n",
    "      f'a {case_probabilities[\"Expansion\"]:.0%} chance of Expansion'\n",
    "\n",
    "\n",
    "     )"
   ]
  },
  {
   "cell_type": "code",
   "execution_count": 53,
   "id": "a10b6650",
   "metadata": {},
   "outputs": [],
   "source": [
    "#Internal RandomNess"
   ]
  },
  {
   "cell_type": "code",
   "execution_count": 54,
   "id": "1c1a6051",
   "metadata": {},
   "outputs": [
    {
     "data": {
      "text/plain": [
       "ModelInputs(starting_salary=(40000, 60000, 70000), promos_every_n_years=(8, 5, 4), cost_of_living_raise=(0.01, 0.02, 0.03), promo_raise=(0.07, 0.15, 0.2), savings_rate=(0.15, 0.25, 0.35), interest_rate=(0.03, 0.05, 0.06), desired_cash=1500000, recession_prob=0.2, expansion_prob=0.3, case_names=('Recession', 'Normal', 'Expansion'), n_iter=1000)"
      ]
     },
     "execution_count": 54,
     "metadata": {},
     "output_type": "execute_result"
    }
   ],
   "source": [
    "@dataclass\n",
    "class ModelInputs:\n",
    "    starting_salary: tuple = (40000, 60000, 70000)\n",
    "    promos_every_n_years: tuple = (8, 5, 4)\n",
    "    cost_of_living_raise: tuple = (0.01, 0.02, 0.03)\n",
    "    promo_raise: tuple = (0.07, 0.15, 0.2)\n",
    "    savings_rate: tuple = (0.15, 0.25, 0.35)\n",
    "    interest_rate: tuple = (0.03, 0.05, 0.06)\n",
    "    desired_cash: int = 1500000\n",
    "    recession_prob: float = 0.2\n",
    "    expansion_prob: float = 0.3\n",
    "    case_names: tuple = ('Recession', 'Normal', 'Expansion')\n",
    "    n_iter: int = 1000\n",
    "        \n",
    "model_data = ModelInputs()\n",
    "model_data"
   ]
  },
  {
   "cell_type": "code",
   "execution_count": 55,
   "id": "caddd868",
   "metadata": {},
   "outputs": [
    {
     "data": {
      "text/plain": [
       "1"
      ]
     },
     "execution_count": 55,
     "metadata": {},
     "output_type": "execute_result"
    }
   ],
   "source": [
    "def get_economy_case_number(data):\n",
    "    \"\"\"\n",
    "    Uses the probabilities of a bad and good economy to output the economy case number for a given year.\n",
    "    \n",
    "    0 corresponsds to a bad economy, 1 to a normal economy, and 2 to a good economy.\n",
    "    \"\"\"\n",
    "    normal_probability = 1 - data.recession_prob - data.expansion_prob\n",
    "    case_num = random.choices([0, 1, 2], weights=[data.recession_prob, normal_probability, data.expansion_prob])[0]\n",
    "    return case_num\n",
    "\n",
    "\n",
    "case=get_economy_case_number(model_data)\n",
    "case"
   ]
  },
  {
   "cell_type": "code",
   "execution_count": 56,
   "id": "a5c39c74",
   "metadata": {},
   "outputs": [],
   "source": [
    "def salary_at_year(data: ModelInputs, year, case):\n",
    "    \"\"\"\n",
    "    Gets the salary at a given year from the start of the model based on cost of living raises and regular promotions.\n",
    "    \"\"\"\n",
    "    # Every n years we have a promotion, so dividing the years and taking out the decimals gets the number of promotions\n",
    "    num_promos = int(year / data.promos_every_n_years[case])\n",
    "    \n",
    "    # This is the formula above implemented in Python\n",
    "    salary_t = data.starting_salary[case] * (1 + data.cost_of_living_raise[case]) ** year * (1 + data.promo_raise[case]) ** num_promos\n",
    "    return salary_t\n",
    "\n",
    "\n",
    "def cash_saved_during_year(data: ModelInputs, year, case):\n",
    "    \"\"\"\n",
    "    Calculated the cash saved within a given year, by first calculating the salary at that year then applying the \n",
    "    savings rate.\n",
    "    \"\"\"\n",
    "    salary = salary_at_year(data, year, case)\n",
    "    cash_saved = salary * data.savings_rate[case]\n",
    "    return cash_saved\n",
    "\n",
    "\n",
    "def wealth_at_year(data: ModelInputs, year, prior_wealth, case):\n",
    "    \"\"\"\n",
    "    Calculate the accumulated wealth for a given year, based on previous wealth, the investment rate,\n",
    "    and cash saved during the year.\n",
    "    \"\"\"\n",
    "    cash_saved = cash_saved_during_year(data, year, case)\n",
    "    wealth = prior_wealth * (1 + data.interest_rate[case]) + cash_saved\n",
    "    return wealth\n",
    "\n",
    "\n",
    "def years_to_retirement(data: ModelInputs, print_output=True):\n",
    "    \"\"\"\n",
    "    The main model function which calculates the years to retirement based on the model inputs,\n",
    "    calling the other functions to determine the salaries and wealths over time.\n",
    "    \"\"\"\n",
    "    # starting with no cash saved\n",
    "    prior_wealth = 0  \n",
    "    wealth = 0\n",
    "\n",
    "    year = 0 # will become 1 on first loop\n",
    "\n",
    "    if print_output:\n",
    "        print('Wealths over time:') # \\n makes a blank line in the output.\n",
    "    while wealth < data.desired_cash:\n",
    "        year = year + 1\n",
    "        case = get_economy_case_number(data)  # 0 = recession, 1 = normal, 2 = expansion\n",
    "        case_type = data.case_names[case]\n",
    "        wealth = wealth_at_year(data, year, prior_wealth, case)\n",
    "        if print_output:\n",
    "            print(f'The wealth at year {year} ({case_type} economy) is ${wealth:,.0f}.')\n",
    "\n",
    "        # Set next year's prior wealth to this year's wealth\n",
    "        prior_wealth = wealth\n",
    "\n",
    "    # Now we have exited the while loop, so wealth must be >= desired_cash. Whatever last year was set\n",
    "    # is the years to retirement.\n",
    "    if print_output:\n",
    "        print(f'\\nRetirement:\\nIt will take {year} years to retire.')  # \\n makes a blank line in the output.\n",
    "    return year"
   ]
  },
  {
   "cell_type": "code",
   "execution_count": 57,
   "id": "b196c846",
   "metadata": {},
   "outputs": [
    {
     "name": "stdout",
     "output_type": "stream",
     "text": [
      "Wealths over time:\n",
      "The wealth at year 1 (Expansion economy) is $25,235.\n",
      "The wealth at year 2 (Normal economy) is $42,103.\n",
      "The wealth at year 3 (Expansion economy) is $71,401.\n",
      "The wealth at year 4 (Normal economy) is $91,207.\n",
      "The wealth at year 5 (Normal economy) is $114,813.\n",
      "The wealth at year 6 (Recession economy) is $124,627.\n",
      "The wealth at year 7 (Normal economy) is $150,673.\n",
      "The wealth at year 8 (Recession economy) is $162,145.\n",
      "The wealth at year 9 (Recession economy) is $174,031.\n",
      "The wealth at year 10 (Normal economy) is $206,914.\n",
      "The wealth at year 11 (Normal economy) is $241,925.\n",
      "The wealth at year 12 (Normal economy) is $279,180.\n",
      "The wealth at year 13 (Recession economy) is $294,862.\n",
      "The wealth at year 14 (Expansion economy) is $376,591.\n",
      "The wealth at year 15 (Normal economy) is $426,124.\n",
      "The wealth at year 16 (Normal economy) is $478,747.\n",
      "The wealth at year 17 (Recession economy) is $501,245.\n",
      "The wealth at year 18 (Expansion economy) is $617,809.\n",
      "The wealth at year 19 (Recession economy) is $644,642.\n",
      "The wealth at year 20 (Normal economy) is $715,858.\n",
      "The wealth at year 21 (Expansion economy) is $872,221.\n",
      "The wealth at year 22 (Expansion economy) is $1,041,367.\n",
      "The wealth at year 23 (Expansion economy) is $1,224,166.\n",
      "The wealth at year 24 (Normal economy) is $1,327,572.\n",
      "The wealth at year 25 (Recession economy) is $1,376,826.\n",
      "The wealth at year 26 (Normal economy) is $1,496,154.\n",
      "The wealth at year 27 (Normal economy) is $1,622,460.\n",
      "\n",
      "Retirement:\n",
      "It will take 27 years to retire.\n"
     ]
    },
    {
     "data": {
      "text/plain": [
       "27"
      ]
     },
     "execution_count": 57,
     "metadata": {},
     "output_type": "execute_result"
    }
   ],
   "source": [
    "years_to_retirement(model_data)"
   ]
  },
  {
   "cell_type": "code",
   "execution_count": 58,
   "id": "5b1a55fe",
   "metadata": {},
   "outputs": [
    {
     "data": {
      "text/html": [
       "<div>\n",
       "<style scoped>\n",
       "    .dataframe tbody tr th:only-of-type {\n",
       "        vertical-align: middle;\n",
       "    }\n",
       "\n",
       "    .dataframe tbody tr th {\n",
       "        vertical-align: top;\n",
       "    }\n",
       "\n",
       "    .dataframe thead th {\n",
       "        text-align: right;\n",
       "    }\n",
       "</style>\n",
       "<table border=\"1\" class=\"dataframe\">\n",
       "  <thead>\n",
       "    <tr style=\"text-align: right;\">\n",
       "      <th></th>\n",
       "      <th>years to Retirement</th>\n",
       "    </tr>\n",
       "  </thead>\n",
       "  <tbody>\n",
       "    <tr>\n",
       "      <th>0</th>\n",
       "      <td>25</td>\n",
       "    </tr>\n",
       "    <tr>\n",
       "      <th>1</th>\n",
       "      <td>25</td>\n",
       "    </tr>\n",
       "    <tr>\n",
       "      <th>2</th>\n",
       "      <td>25</td>\n",
       "    </tr>\n",
       "    <tr>\n",
       "      <th>3</th>\n",
       "      <td>27</td>\n",
       "    </tr>\n",
       "    <tr>\n",
       "      <th>4</th>\n",
       "      <td>26</td>\n",
       "    </tr>\n",
       "    <tr>\n",
       "      <th>5</th>\n",
       "      <td>25</td>\n",
       "    </tr>\n",
       "    <tr>\n",
       "      <th>6</th>\n",
       "      <td>25</td>\n",
       "    </tr>\n",
       "    <tr>\n",
       "      <th>7</th>\n",
       "      <td>26</td>\n",
       "    </tr>\n",
       "    <tr>\n",
       "      <th>8</th>\n",
       "      <td>27</td>\n",
       "    </tr>\n",
       "    <tr>\n",
       "      <th>9</th>\n",
       "      <td>24</td>\n",
       "    </tr>\n",
       "  </tbody>\n",
       "</table>\n",
       "</div>"
      ],
      "text/plain": [
       "   years to Retirement\n",
       "0                   25\n",
       "1                   25\n",
       "2                   25\n",
       "3                   27\n",
       "4                   26\n",
       "5                   25\n",
       "6                   25\n",
       "7                   26\n",
       "8                   27\n",
       "9                   24"
      ]
     },
     "execution_count": 58,
     "metadata": {},
     "output_type": "execute_result"
    }
   ],
   "source": [
    "data= ModelInputs(n_iter=10)\n",
    "all_ytrs =[]\n",
    "for i in range (data.n_iter):\n",
    "    ytr = years_to_retirement(data,print_output=False)\n",
    "    all_ytrs.append(ytr)\n",
    "df=pd.DataFrame()\n",
    "df['years to Retirement']=all_ytrs\n",
    "df"
   ]
  },
  {
   "cell_type": "code",
   "execution_count": 59,
   "id": "067a7be7",
   "metadata": {},
   "outputs": [
    {
     "name": "stdout",
     "output_type": "stream",
     "text": [
      "it will take26 years to retire on average with a standard deviation of 1.0, max of 27 and min of24\n"
     ]
    }
   ],
   "source": [
    "avg=df['years to Retirement'].mean()\n",
    "std=df['years to Retirement'].std()\n",
    "maxi=df['years to Retirement'].max()\n",
    "mini=df['years to Retirement'].min()\n",
    "print(\n",
    "    f'it will take{avg:.0f} years to retire on average with a standard deviation'\n",
    "    f' of {std:.1f}, max of {maxi:.0f} and min of{mini:.0f}'\n",
    ")"
   ]
  },
  {
   "cell_type": "code",
   "execution_count": 60,
   "id": "f536b8c4",
   "metadata": {},
   "outputs": [],
   "source": [
    "\n",
    "def years_to_retirement_case_df(data):\n",
    "    all_ytrs =[]\n",
    "    for i in range (data.n_iter):\n",
    "        ytr = years_to_retirement(data,print_output=False)\n",
    "        all_ytrs.append(ytr)\n",
    "    df=pd.DataFrame()\n",
    "    df['years to Retirement']=all_ytrs\n",
    "    return df\n",
    "def summarize_ytr_df(df):\n",
    "    avg=df['years to Retirement'].mean()\n",
    "    std=df['years to Retirement'].std()\n",
    "    maxi=df['years to Retirement'].max()\n",
    "    mini=df['years to Retirement'].min()\n",
    "    print(\n",
    "        f'it will take{avg:.0f} years to retire on average with a standard deviation'\n",
    "        f' of {std:.1f}, max of {maxi:.0f} and min of{mini:.0f}'\n",
    "    )\n",
    "def years_to_retirment_cases_and_summarize(data):\n",
    "    df=years_to_retirement_case_df(data)\n",
    "    summarize_ytr_df(df)"
   ]
  },
  {
   "cell_type": "code",
   "execution_count": 61,
   "id": "9344388f",
   "metadata": {},
   "outputs": [
    {
     "name": "stdout",
     "output_type": "stream",
     "text": [
      "it will take31 years to retire on average with a standard deviation of 1.8, max of 37 and min of26\n"
     ]
    }
   ],
   "source": [
    "years_to_retirment_cases_and_summarize(ModelInputs(desired_cash=2500000))"
   ]
  },
  {
   "cell_type": "code",
   "execution_count": 62,
   "id": "568b6d2e",
   "metadata": {},
   "outputs": [],
   "source": [
    "#Monte carlo stimulation "
   ]
  },
  {
   "cell_type": "code",
   "execution_count": 63,
   "id": "5ef77330",
   "metadata": {},
   "outputs": [
    {
     "data": {
      "text/plain": [
       "0.065"
      ]
     },
     "execution_count": 63,
     "metadata": {},
     "output_type": "execute_result"
    }
   ],
   "source": [
    "#Portfolio Returns\n",
    "stock_return =0.1\n",
    "rf=0.03\n",
    "stock_weight=0.5\n",
    "portfolio_ret=rf*(1-stock_weight)+stock_return*stock_weight\n",
    "portfolio_ret"
   ]
  },
  {
   "cell_type": "code",
   "execution_count": 64,
   "id": "170be914",
   "metadata": {},
   "outputs": [
    {
     "data": {
      "text/plain": [
       "1286.466350625"
      ]
     },
     "execution_count": 64,
     "metadata": {},
     "output_type": "execute_result"
    }
   ],
   "source": [
    "portfolio_initial_value=1000\n",
    "\n",
    "portfolio_end_value = portfolio_initial_value*(1+portfolio_ret)**4\n",
    "portfolio_end_value"
   ]
  },
  {
   "cell_type": "code",
   "execution_count": 65,
   "id": "13143aee",
   "metadata": {},
   "outputs": [
    {
     "data": {
      "text/plain": [
       "1286.466350625"
      ]
     },
     "execution_count": 65,
     "metadata": {},
     "output_type": "execute_result"
    }
   ],
   "source": [
    "def port_end_value(stock_return=0.01,rf=0.03,stock_weight=0.5,portfolio_initial_value=1000):\n",
    "    portfolio_ret=rf*(1-stock_weight)+stock_return*stock_weight\n",
    "    portfolio_end_value = portfolio_initial_value*(1+portfolio_ret)\n",
    "    return portfolio_end_value\n",
    "portfolio_end_value"
   ]
  },
  {
   "cell_type": "code",
   "execution_count": 66,
   "id": "6160f16c",
   "metadata": {},
   "outputs": [
    {
     "data": {
      "text/plain": [
       "1044.0"
      ]
     },
     "execution_count": 66,
     "metadata": {},
     "output_type": "execute_result"
    }
   ],
   "source": [
    "port_end_value(0.05,0.03,0.7)"
   ]
  },
  {
   "cell_type": "code",
   "execution_count": 67,
   "id": "e51f4787",
   "metadata": {},
   "outputs": [
    {
     "data": {
      "text/plain": [
       "0.3632548024787158"
      ]
     },
     "execution_count": 67,
     "metadata": {},
     "output_type": "execute_result"
    }
   ],
   "source": [
    "import random\n",
    "stock_mean=0.1\n",
    "stock_std=0.2\n",
    "random.normalvariate(stock_mean,stock_std)"
   ]
  },
  {
   "cell_type": "code",
   "execution_count": 68,
   "id": "626cdeee",
   "metadata": {},
   "outputs": [
    {
     "name": "stdout",
     "output_type": "stream",
     "text": [
      "running with stock return-8.2%\n"
     ]
    },
    {
     "data": {
      "text/plain": [
       "974.0327301126157"
      ]
     },
     "execution_count": 68,
     "metadata": {},
     "output_type": "execute_result"
    }
   ],
   "source": [
    "stock_ret=random.normalvariate(stock_mean,stock_std)\n",
    "print(f'running with stock return{stock_ret:.1%}')\n",
    "port_end_value(stock_ret)"
   ]
  },
  {
   "cell_type": "code",
   "execution_count": 69,
   "id": "0d896ecc",
   "metadata": {},
   "outputs": [
    {
     "name": "stdout",
     "output_type": "stream",
     "text": [
      "there are10000 results. First five:\n"
     ]
    },
    {
     "data": {
      "text/plain": [
       "[1153.6555943862838,\n",
       " 1128.4338816393017,\n",
       " 868.6218616745838,\n",
       " 1013.4847625625172,\n",
       " 1043.5400629414548]"
      ]
     },
     "execution_count": 69,
     "metadata": {},
     "output_type": "execute_result"
    }
   ],
   "source": [
    "def port_end_value_simulations(stock_mean=0.1,stock_std=0.2,stock_weight=0.5,n_iter=1000):\n",
    "    output=[]\n",
    "    for i in range(n_iter):\n",
    "        stock_ret=random.normalvariate(stock_mean,stock_std)\n",
    "        result=port_end_value(stock_ret)\n",
    "        output.append(result)\n",
    "    return output\n",
    "result=port_end_value_simulations(n_iter=10000)\n",
    "print(f'there are{len(result)} results. First five:')\n",
    "result[:5]"
   ]
  },
  {
   "cell_type": "code",
   "execution_count": 70,
   "id": "f9712d45",
   "metadata": {},
   "outputs": [
    {
     "data": {
      "text/plain": [
       "<matplotlib.axes._subplots.AxesSubplot at 0x1959417e4a8>"
      ]
     },
     "execution_count": 70,
     "metadata": {},
     "output_type": "execute_result"
    },
    {
     "data": {
      "image/png": "[encoded data removed]",
      "text/plain": [
       "<Figure size 432x288 with 1 Axes>"
      ]
     },
     "metadata": {
      "needs_background": "light"
     },
     "output_type": "display_data"
    }
   ],
   "source": [
    "%matplotlib inline\n",
    "import pandas as pd\n",
    "\n",
    "df=pd.DataFrame()\n",
    "df['Portfolio End Values']= result\n",
    "df.plot.hist(bins=100)"
   ]
  },
  {
   "cell_type": "code",
   "execution_count": 71,
   "id": "b907968f",
   "metadata": {},
   "outputs": [
    {
     "data": {
      "text/plain": [
       "<matplotlib.axes._subplots.AxesSubplot at 0x1959459bcf8>"
      ]
     },
     "execution_count": 71,
     "metadata": {},
     "output_type": "execute_result"
    },
    {
     "data": {
      "image/png": "[encoded data removed]",
      "text/plain": [
       "<Figure size 432x288 with 1 Axes>"
      ]
     },
     "metadata": {
      "needs_background": "light"
     },
     "output_type": "display_data"
    }
   ],
   "source": [
    "df.plot.kde()"
   ]
  },
  {
   "cell_type": "code",
   "execution_count": 72,
   "id": "b0c2dcaf",
   "metadata": {},
   "outputs": [
    {
     "data": {
      "text/plain": [
       "[0.0,\n",
       " 0.05,\n",
       " 0.1,\n",
       " 0.15,\n",
       " 0.2,\n",
       " 0.25,\n",
       " 0.3,\n",
       " 0.35,\n",
       " 0.4,\n",
       " 0.45,\n",
       " 0.5,\n",
       " 0.55,\n",
       " 0.6,\n",
       " 0.65,\n",
       " 0.7,\n",
       " 0.75,\n",
       " 0.8,\n",
       " 0.85,\n",
       " 0.9,\n",
       " 0.95]"
      ]
     },
     "execution_count": 72,
     "metadata": {},
     "output_type": "execute_result"
    }
   ],
   "source": [
    "percentiles=[i/100 for i in range(0,100,5)]\n",
    "percentiles"
   ]
  },
  {
   "cell_type": "code",
   "execution_count": 73,
   "id": "5e602ed6",
   "metadata": {},
   "outputs": [
    {
     "data": {
      "text/plain": [
       "0.00     586.111125\n",
       "0.05     901.378886\n",
       "0.10     936.042580\n",
       "0.15     960.316533\n",
       "0.20     979.645765\n",
       "0.25     995.855370\n",
       "0.30    1010.175425\n",
       "0.35    1024.221157\n",
       "0.40    1037.726556\n",
       "0.45    1050.612427\n",
       "0.50    1063.372377\n",
       "0.55    1075.786866\n",
       "0.60    1088.762580\n",
       "0.65    1101.889294\n",
       "0.70    1114.747301\n",
       "0.75    1130.685669\n",
       "0.80    1147.418274\n",
       "0.85    1166.790269\n",
       "0.90    1193.165408\n",
       "0.95    1230.870618\n",
       "Name: Portfolio End Values, dtype: float64"
      ]
     },
     "execution_count": 73,
     "metadata": {},
     "output_type": "execute_result"
    }
   ],
   "source": [
    "df['Portfolio End Values'].quantile(percentiles)\n"
   ]
  },
  {
   "cell_type": "code",
   "execution_count": 74,
   "id": "ac67749b",
   "metadata": {},
   "outputs": [
    {
     "data": {
      "text/plain": [
       "0       1\n",
       "1       1\n",
       "2       0\n",
       "3       0\n",
       "4       0\n",
       "       ..\n",
       "9995    0\n",
       "9996    1\n",
       "9997    0\n",
       "9998    1\n",
       "9999    1\n",
       "Name: Portfolio End Values, Length: 10000, dtype: int32"
      ]
     },
     "execution_count": 74,
     "metadata": {},
     "output_type": "execute_result"
    }
   ],
   "source": [
    "(df['Portfolio End Values']>=1050).astype(int)\n"
   ]
  },
  {
   "cell_type": "code",
   "execution_count": 75,
   "id": "a90a146b",
   "metadata": {},
   "outputs": [
    {
     "data": {
      "text/plain": [
       "0.5532"
      ]
     },
     "execution_count": 75,
     "metadata": {},
     "output_type": "execute_result"
    }
   ],
   "source": [
    "(df['Portfolio End Values']>=1050).astype(int).mean()# out of 10000 outcomes 5637 cases met the condition\n"
   ]
  },
  {
   "cell_type": "code",
   "execution_count": 76,
   "id": "014e0231",
   "metadata": {},
   "outputs": [],
   "source": [
    "#in 5% cases you get less than 900.068202 dollar and 95% case you will have less than 1223.667097 dollar"
   ]
  },
  {
   "cell_type": "code",
   "execution_count": 77,
   "id": "6df6f3c1",
   "metadata": {},
   "outputs": [
    {
     "data": {
      "image/png": "[encoded data removed]",
      "text/plain": [
       "<Figure size 432x288 with 1 Axes>"
      ]
     },
     "metadata": {
      "needs_background": "light"
     },
     "output_type": "display_data"
    },
    {
     "name": "stdout",
     "output_type": "stream",
     "text": [
      "Probability Table\n",
      "0.05     $901.38\n",
      "0.10     $936.04\n",
      "0.15     $960.32\n",
      "0.20     $979.65\n",
      "0.25     $995.86\n",
      "0.30    $1010.18\n",
      "0.35    $1024.22\n",
      "0.40    $1037.73\n",
      "0.45    $1050.61\n",
      "0.50    $1063.37\n",
      "0.55    $1075.79\n",
      "0.60    $1088.76\n",
      "0.65    $1101.89\n",
      "0.70    $1114.75\n",
      "0.75    $1130.69\n",
      "0.80    $1147.42\n",
      "0.85    $1166.79\n",
      "0.90    $1193.17\n",
      "0.95    $1230.87\n",
      "Name: Portfolio End values, dtype: object\n",
      "\n",
      "Probability of getting $1,050 in cash: 55.3%\n",
      "\n"
     ]
    }
   ],
   "source": [
    "import matplotlib.pyplot as plt\n",
    "\n",
    "def create_dataframe_fromresults(results):\n",
    "    df=pd.DataFrame()\n",
    "    df['Portfolio End values']=results\n",
    "    return df\n",
    "def visualize_results(df):\n",
    "    df.plot.hist(bins=100)\n",
    "    plt.show()\n",
    "def probability_table(df):\n",
    "    percentiles = [i/20 for i in range(1,20)]\n",
    "    return df['Portfolio End values'].quantile(percentiles)\n",
    "def probability_of_objective(df,desired_cash=1050):\n",
    "    return(df['Portfolio End values']>=desired_cash).astype(int).mean()\n",
    "def model_output(results,desired_cash=1050):\n",
    "    df=create_dataframe_fromresults(results)\n",
    "    visualize_results(df)\n",
    "    prob_table = probability_table(df)\n",
    "    prob_objective=probability_of_objective(df)\n",
    "    return prob_table,prob_objective\n",
    "\n",
    "def display_model_summary(results, desired_cash=1050):\n",
    "    prob_table, prob_objective = model_output(results, desired_cash=desired_cash)\n",
    "    print('Probability Table')\n",
    "    print(prob_table.apply(lambda x: f'${x:.2f}'))  # a way of formatting a pandas series\n",
    "    print('')\n",
    "    print(f'Probability of getting ${desired_cash:,.0f} in cash: {prob_objective:.1%}')\n",
    "    print('')\n",
    "    \n",
    "    \n",
    "display_model_summary(result)"
   ]
  },
  {
   "cell_type": "code",
   "execution_count": 78,
   "id": "47b013a7",
   "metadata": {},
   "outputs": [
    {
     "data": {
      "text/html": [
       "<h2>My Title</h2>"
      ],
      "text/plain": [
       "<IPython.core.display.HTML object>"
      ]
     },
     "metadata": {},
     "output_type": "display_data"
    }
   ],
   "source": [
    "from IPython.display import HTML, display\n",
    "display(HTML('<h2>My Title</h2>'))"
   ]
  },
  {
   "cell_type": "code",
   "execution_count": 79,
   "id": "af01a883",
   "metadata": {},
   "outputs": [
    {
     "data": {
      "text/html": [
       "<h2>Another Title</h2>"
      ],
      "text/plain": [
       "<IPython.core.display.HTML object>"
      ]
     },
     "metadata": {},
     "output_type": "display_data"
    }
   ],
   "source": [
    "def display_header(header):\n",
    "    return display(HTML(f'<h2>{header}</h2>'))\n",
    "\n",
    "display_header('Another Title')"
   ]
  },
  {
   "cell_type": "code",
   "execution_count": 80,
   "id": "5b120d8a",
   "metadata": {},
   "outputs": [
    {
     "data": {
      "text/plain": [
       "[0.1, 0.2, 0.3, 0.4, 0.5, 0.6, 0.7, 0.8, 0.9]"
      ]
     },
     "execution_count": 80,
     "metadata": {},
     "output_type": "execute_result"
    }
   ],
   "source": [
    "weights = [i/10 for i in range(1, 10)]\n",
    "weights"
   ]
  },
  {
   "cell_type": "code",
   "execution_count": 81,
   "id": "a91a6196",
   "metadata": {},
   "outputs": [
    {
     "data": {
      "text/html": [
       "<h2>Results with 10% in the Stock</h2>"
      ],
      "text/plain": [
       "<IPython.core.display.HTML object>"
      ]
     },
     "metadata": {},
     "output_type": "display_data"
    },
    {
     "data": {
      "image/png": "[encoded data removed]",
      "text/plain": [
       "<Figure size 432x288 with 1 Axes>"
      ]
     },
     "metadata": {
      "needs_background": "light"
     },
     "output_type": "display_data"
    },
    {
     "name": "stdout",
     "output_type": "stream",
     "text": [
      "Probability Table\n",
      "0.05     $902.53\n",
      "0.10     $938.41\n",
      "0.15     $958.96\n",
      "0.20     $976.51\n",
      "0.25     $992.73\n",
      "0.30    $1008.07\n",
      "0.35    $1023.82\n",
      "0.40    $1037.83\n",
      "0.45    $1048.77\n",
      "0.50    $1062.30\n",
      "0.55    $1075.03\n",
      "0.60    $1089.27\n",
      "0.65    $1103.14\n",
      "0.70    $1116.76\n",
      "0.75    $1128.35\n",
      "0.80    $1143.89\n",
      "0.85    $1164.92\n",
      "0.90    $1189.34\n",
      "0.95    $1217.07\n",
      "Name: Portfolio End values, dtype: object\n",
      "\n",
      "Probability of getting $1,050 in cash: 54.5%\n",
      "\n"
     ]
    },
    {
     "data": {
      "text/html": [
       "<h2>Results with 20% in the Stock</h2>"
      ],
      "text/plain": [
       "<IPython.core.display.HTML object>"
      ]
     },
     "metadata": {},
     "output_type": "display_data"
    },
    {
     "data": {
      "image/png": "[encoded data removed]",
      "text/plain": [
       "<Figure size 432x288 with 1 Axes>"
      ]
     },
     "metadata": {
      "needs_background": "light"
     },
     "output_type": "display_data"
    },
    {
     "name": "stdout",
     "output_type": "stream",
     "text": [
      "Probability Table\n",
      "0.05     $906.46\n",
      "0.10     $945.36\n",
      "0.15     $965.87\n",
      "0.20     $985.61\n",
      "0.25     $997.10\n",
      "0.30    $1011.18\n",
      "0.35    $1023.36\n",
      "0.40    $1035.22\n",
      "0.45    $1048.77\n",
      "0.50    $1059.57\n",
      "0.55    $1069.95\n",
      "0.60    $1082.52\n",
      "0.65    $1097.20\n",
      "0.70    $1115.61\n",
      "0.75    $1129.87\n",
      "0.80    $1150.25\n",
      "0.85    $1171.83\n",
      "0.90    $1196.57\n",
      "0.95    $1233.16\n",
      "Name: Portfolio End values, dtype: object\n",
      "\n",
      "Probability of getting $1,050 in cash: 54.4%\n",
      "\n"
     ]
    },
    {
     "data": {
      "text/html": [
       "<h2>Results with 30% in the Stock</h2>"
      ],
      "text/plain": [
       "<IPython.core.display.HTML object>"
      ]
     },
     "metadata": {},
     "output_type": "display_data"
    },
    {
     "data": {
      "image/png": "[encoded data removed]",
      "text/plain": [
       "<Figure size 432x288 with 1 Axes>"
      ]
     },
     "metadata": {
      "needs_background": "light"
     },
     "output_type": "display_data"
    },
    {
     "name": "stdout",
     "output_type": "stream",
     "text": [
      "Probability Table\n",
      "0.05     $891.19\n",
      "0.10     $931.59\n",
      "0.15     $956.15\n",
      "0.20     $981.20\n",
      "0.25     $997.61\n",
      "0.30    $1012.11\n",
      "0.35    $1022.74\n",
      "0.40    $1033.87\n",
      "0.45    $1048.65\n",
      "0.50    $1064.14\n",
      "0.55    $1075.57\n",
      "0.60    $1089.80\n",
      "0.65    $1103.62\n",
      "0.70    $1118.14\n",
      "0.75    $1131.61\n",
      "0.80    $1148.13\n",
      "0.85    $1168.33\n",
      "0.90    $1195.12\n",
      "0.95    $1230.03\n",
      "Name: Portfolio End values, dtype: object\n",
      "\n",
      "Probability of getting $1,050 in cash: 54.8%\n",
      "\n"
     ]
    },
    {
     "data": {
      "text/html": [
       "<h2>Results with 40% in the Stock</h2>"
      ],
      "text/plain": [
       "<IPython.core.display.HTML object>"
      ]
     },
     "metadata": {},
     "output_type": "display_data"
    },
    {
     "data": {
      "image/png": "[encoded data removed]",
      "text/plain": [
       "<Figure size 432x288 with 1 Axes>"
      ]
     },
     "metadata": {
      "needs_background": "light"
     },
     "output_type": "display_data"
    },
    {
     "name": "stdout",
     "output_type": "stream",
     "text": [
      "Probability Table\n",
      "0.05     $901.61\n",
      "0.10     $939.73\n",
      "0.15     $963.98\n",
      "0.20     $983.17\n",
      "0.25     $999.76\n",
      "0.30    $1015.13\n",
      "0.35    $1026.67\n",
      "0.40    $1037.93\n",
      "0.45    $1052.41\n",
      "0.50    $1064.62\n",
      "0.55    $1076.55\n",
      "0.60    $1091.34\n",
      "0.65    $1102.37\n",
      "0.70    $1117.00\n",
      "0.75    $1131.27\n",
      "0.80    $1150.56\n",
      "0.85    $1172.04\n",
      "0.90    $1198.53\n",
      "0.95    $1234.46\n",
      "Name: Portfolio End values, dtype: object\n",
      "\n",
      "Probability of getting $1,050 in cash: 55.7%\n",
      "\n"
     ]
    },
    {
     "data": {
      "text/html": [
       "<h2>Results with 50% in the Stock</h2>"
      ],
      "text/plain": [
       "<IPython.core.display.HTML object>"
      ]
     },
     "metadata": {},
     "output_type": "display_data"
    },
    {
     "data": {
      "image/png": "[encoded data removed]",
      "text/plain": [
       "<Figure size 432x288 with 1 Axes>"
      ]
     },
     "metadata": {
      "needs_background": "light"
     },
     "output_type": "display_data"
    },
    {
     "name": "stdout",
     "output_type": "stream",
     "text": [
      "Probability Table\n",
      "0.05     $898.93\n",
      "0.10     $939.96\n",
      "0.15     $957.31\n",
      "0.20     $975.86\n",
      "0.25     $993.10\n",
      "0.30    $1010.31\n",
      "0.35    $1024.52\n",
      "0.40    $1036.82\n",
      "0.45    $1052.03\n",
      "0.50    $1064.29\n",
      "0.55    $1075.64\n",
      "0.60    $1085.96\n",
      "0.65    $1098.15\n",
      "0.70    $1111.28\n",
      "0.75    $1126.62\n",
      "0.80    $1146.81\n",
      "0.85    $1170.37\n",
      "0.90    $1192.57\n",
      "0.95    $1236.02\n",
      "Name: Portfolio End values, dtype: object\n",
      "\n",
      "Probability of getting $1,050 in cash: 55.7%\n",
      "\n"
     ]
    },
    {
     "data": {
      "text/html": [
       "<h2>Results with 60% in the Stock</h2>"
      ],
      "text/plain": [
       "<IPython.core.display.HTML object>"
      ]
     },
     "metadata": {},
     "output_type": "display_data"
    },
    {
     "data": {
      "image/png": "[encoded data removed]",
      "text/plain": [
       "<Figure size 432x288 with 1 Axes>"
      ]
     },
     "metadata": {
      "needs_background": "light"
     },
     "output_type": "display_data"
    },
    {
     "name": "stdout",
     "output_type": "stream",
     "text": [
      "Probability Table\n",
      "0.05     $905.10\n",
      "0.10     $935.86\n",
      "0.15     $963.97\n",
      "0.20     $982.23\n",
      "0.25     $998.13\n",
      "0.30    $1012.49\n",
      "0.35    $1027.06\n",
      "0.40    $1039.09\n",
      "0.45    $1052.88\n",
      "0.50    $1067.20\n",
      "0.55    $1079.94\n",
      "0.60    $1092.85\n",
      "0.65    $1103.56\n",
      "0.70    $1115.66\n",
      "0.75    $1128.64\n",
      "0.80    $1144.74\n",
      "0.85    $1161.88\n",
      "0.90    $1189.33\n",
      "0.95    $1222.94\n",
      "Name: Portfolio End values, dtype: object\n",
      "\n",
      "Probability of getting $1,050 in cash: 56.0%\n",
      "\n"
     ]
    },
    {
     "data": {
      "text/html": [
       "<h2>Results with 70% in the Stock</h2>"
      ],
      "text/plain": [
       "<IPython.core.display.HTML object>"
      ]
     },
     "metadata": {},
     "output_type": "display_data"
    },
    {
     "data": {
      "image/png": "[encoded data removed]",
      "text/plain": [
       "<Figure size 432x288 with 1 Axes>"
      ]
     },
     "metadata": {
      "needs_background": "light"
     },
     "output_type": "display_data"
    },
    {
     "name": "stdout",
     "output_type": "stream",
     "text": [
      "Probability Table\n",
      "0.05     $891.48\n",
      "0.10     $923.83\n",
      "0.15     $956.55\n",
      "0.20     $974.46\n",
      "0.25     $995.91\n",
      "0.30    $1008.64\n",
      "0.35    $1022.78\n",
      "0.40    $1036.90\n",
      "0.45    $1046.58\n",
      "0.50    $1058.11\n",
      "0.55    $1072.62\n",
      "0.60    $1084.85\n",
      "0.65    $1098.19\n",
      "0.70    $1111.59\n",
      "0.75    $1129.59\n",
      "0.80    $1142.69\n",
      "0.85    $1167.65\n",
      "0.90    $1193.45\n",
      "0.95    $1234.87\n",
      "Name: Portfolio End values, dtype: object\n",
      "\n",
      "Probability of getting $1,050 in cash: 53.8%\n",
      "\n"
     ]
    },
    {
     "data": {
      "text/html": [
       "<h2>Results with 80% in the Stock</h2>"
      ],
      "text/plain": [
       "<IPython.core.display.HTML object>"
      ]
     },
     "metadata": {},
     "output_type": "display_data"
    },
    {
     "data": {
      "image/png": "[encoded data removed]",
      "text/plain": [
       "<Figure size 432x288 with 1 Axes>"
      ]
     },
     "metadata": {
      "needs_background": "light"
     },
     "output_type": "display_data"
    },
    {
     "name": "stdout",
     "output_type": "stream",
     "text": [
      "Probability Table\n",
      "0.05     $893.69\n",
      "0.10     $940.50\n",
      "0.15     $961.66\n",
      "0.20     $980.94\n",
      "0.25     $999.97\n",
      "0.30    $1015.08\n",
      "0.35    $1030.85\n",
      "0.40    $1045.44\n",
      "0.45    $1057.67\n",
      "0.50    $1069.34\n",
      "0.55    $1080.37\n",
      "0.60    $1096.08\n",
      "0.65    $1110.50\n",
      "0.70    $1121.71\n",
      "0.75    $1135.55\n",
      "0.80    $1152.69\n",
      "0.85    $1174.18\n",
      "0.90    $1201.34\n",
      "0.95    $1225.37\n",
      "Name: Portfolio End values, dtype: object\n",
      "\n",
      "Probability of getting $1,050 in cash: 58.3%\n",
      "\n"
     ]
    },
    {
     "data": {
      "text/html": [
       "<h2>Results with 90% in the Stock</h2>"
      ],
      "text/plain": [
       "<IPython.core.display.HTML object>"
      ]
     },
     "metadata": {},
     "output_type": "display_data"
    },
    {
     "data": {
      "image/png": "[encoded data removed]",
      "text/plain": [
       "<Figure size 432x288 with 1 Axes>"
      ]
     },
     "metadata": {
      "needs_background": "light"
     },
     "output_type": "display_data"
    },
    {
     "name": "stdout",
     "output_type": "stream",
     "text": [
      "Probability Table\n",
      "0.05     $907.63\n",
      "0.10     $943.35\n",
      "0.15     $969.52\n",
      "0.20     $987.24\n",
      "0.25    $1002.69\n",
      "0.30    $1016.56\n",
      "0.35    $1029.31\n",
      "0.40    $1041.36\n",
      "0.45    $1055.41\n",
      "0.50    $1068.84\n",
      "0.55    $1081.00\n",
      "0.60    $1094.47\n",
      "0.65    $1105.54\n",
      "0.70    $1120.12\n",
      "0.75    $1137.65\n",
      "0.80    $1154.63\n",
      "0.85    $1176.53\n",
      "0.90    $1201.98\n",
      "0.95    $1238.77\n",
      "Name: Portfolio End values, dtype: object\n",
      "\n",
      "Probability of getting $1,050 in cash: 57.1%\n",
      "\n"
     ]
    }
   ],
   "source": [
    "for weight in weights:\n",
    "    display_header(f'Results with {weight:.0%} in the Stock')\n",
    "    results = port_end_value_simulations(stock_weight=weight)\n",
    "    display_model_summary(results)"
   ]
  },
  {
   "cell_type": "code",
   "execution_count": 82,
   "id": "73573911",
   "metadata": {},
   "outputs": [],
   "source": [
    "#Salary Retirement model with monte carlo simulation "
   ]
  },
  {
   "cell_type": "code",
   "execution_count": 83,
   "id": "35015457",
   "metadata": {},
   "outputs": [
    {
     "data": {
      "text/plain": [
       "ModelInputs(starting_salary=60000, promos_every_n_years=5, cost_of_living_raise=0.02, promo_raise=0.15, savings_rate=0.25, interest_rate=0.05, desired_cash=1500000)"
      ]
     },
     "execution_count": 83,
     "metadata": {},
     "output_type": "execute_result"
    }
   ],
   "source": [
    "@dataclass\n",
    "class ModelInputs:\n",
    "    starting_salary: int = 60000\n",
    "    promos_every_n_years: int = 5\n",
    "    cost_of_living_raise: float = 0.02\n",
    "    promo_raise: float = 0.15\n",
    "    savings_rate: float = 0.25\n",
    "    interest_rate: float = 0.05\n",
    "    desired_cash: int = 1500000\n",
    "        \n",
    "model_data = ModelInputs()\n",
    "model_data"
   ]
  },
  {
   "cell_type": "code",
   "execution_count": 84,
   "id": "2d8d98be",
   "metadata": {},
   "outputs": [],
   "source": [
    "def salary_at_year(data: ModelInputs, year):\n",
    "    num_promos = int(year / data.promos_every_n_years)\n",
    "    salary_t = data.starting_salary * (1 + data.cost_of_living_raise) ** year * (1 + data.promo_raise) ** num_promos\n",
    "    return salary_t"
   ]
  },
  {
   "cell_type": "code",
   "execution_count": 85,
   "id": "9e949d3c",
   "metadata": {},
   "outputs": [
    {
     "name": "stdout",
     "output_type": "stream",
     "text": [
      "The salary at year 1 is $61,200.\n",
      "The salary at year 2 is $62,424.\n",
      "The salary at year 3 is $63,672.\n",
      "The salary at year 4 is $64,946.\n",
      "The salary at year 5 is $76,182.\n",
      "The salary at year 6 is $77,705.\n"
     ]
    }
   ],
   "source": [
    "for i in range(6):\n",
    "    year = i + 1\n",
    "    salary = salary_at_year(model_data, year)\n",
    "    print(f'The salary at year {year} is ${salary:,.0f}.')"
   ]
  },
  {
   "cell_type": "code",
   "execution_count": 86,
   "id": "902ccee0",
   "metadata": {},
   "outputs": [],
   "source": [
    "def cash_saved_during_year(data: ModelInputs, year):\n",
    "    salary = salary_at_year(data, year)\n",
    "    cash_saved = salary * data.savings_rate\n",
    "    return cash_saved"
   ]
  },
  {
   "cell_type": "code",
   "execution_count": 87,
   "id": "81f2e451",
   "metadata": {},
   "outputs": [],
   "source": [
    "def wealth_at_year(data: ModelInputs, year, prior_wealth):\n",
    "    cash_saved = cash_saved_during_year(data, year)\n",
    "    wealth = prior_wealth * (1 + data.interest_rate) + cash_saved\n",
    "    return wealth"
   ]
  },
  {
   "cell_type": "code",
   "execution_count": 88,
   "id": "2e37e3d1",
   "metadata": {},
   "outputs": [
    {
     "name": "stdout",
     "output_type": "stream",
     "text": [
      "The wealth at year 1 is $15,300.\n",
      "The wealth at year 2 is $31,671.\n",
      "The wealth at year 3 is $49,173.\n",
      "The wealth at year 4 is $67,868.\n",
      "The wealth at year 5 is $90,307.\n",
      "The wealth at year 6 is $114,248.\n"
     ]
    }
   ],
   "source": [
    "prior_wealth = 0 \n",
    "for i in range(6):\n",
    "    year = i + 1\n",
    "    wealth = wealth_at_year(model_data, year, prior_wealth)\n",
    "    print(f'The wealth at year {year} is ${wealth:,.0f}.')\n",
    "    prior_wealth = wealth"
   ]
  },
  {
   "cell_type": "code",
   "execution_count": 89,
   "id": "68932e7b",
   "metadata": {},
   "outputs": [],
   "source": [
    "def years_to_retirement(data: ModelInputs, print_output=True):\n",
    "    prior_wealth = 0  \n",
    "    wealth = 0\n",
    "    \n",
    "    year = 0  \n",
    "    \n",
    "    if print_output:\n",
    "        print('Wealths over time:') \n",
    "    while wealth < data.desired_cash:\n",
    "        year = year + 1\n",
    "        wealth = wealth_at_year(data, year, prior_wealth)\n",
    "        if print_output:\n",
    "            print(f'The wealth at year {year} is ${wealth:,.0f}.')\n",
    "        prior_wealth = wealth\n",
    "\n",
    "    if print_output:\n",
    "        print(f'\\nRetirement:\\nIt will take {year} years to retire.')\n",
    "    return year"
   ]
  },
  {
   "cell_type": "code",
   "execution_count": 90,
   "id": "3ec5f628",
   "metadata": {},
   "outputs": [
    {
     "name": "stdout",
     "output_type": "stream",
     "text": [
      "Wealths over time:\n",
      "The wealth at year 1 is $15,300.\n",
      "The wealth at year 2 is $31,671.\n",
      "The wealth at year 3 is $49,173.\n",
      "The wealth at year 4 is $67,868.\n",
      "The wealth at year 5 is $90,307.\n",
      "The wealth at year 6 is $114,248.\n",
      "The wealth at year 7 is $139,775.\n",
      "The wealth at year 8 is $166,975.\n",
      "The wealth at year 9 is $195,939.\n",
      "The wealth at year 10 is $229,918.\n",
      "The wealth at year 11 is $266,080.\n",
      "The wealth at year 12 is $304,542.\n",
      "The wealth at year 13 is $345,431.\n",
      "The wealth at year 14 is $388,878.\n",
      "The wealth at year 15 is $439,025.\n",
      "The wealth at year 16 is $492,294.\n",
      "The wealth at year 17 is $548,853.\n",
      "The wealth at year 18 is $608,878.\n",
      "The wealth at year 19 is $672,557.\n",
      "The wealth at year 20 is $745,168.\n",
      "The wealth at year 21 is $822,190.\n",
      "The wealth at year 22 is $903,859.\n",
      "The wealth at year 23 is $990,422.\n",
      "The wealth at year 24 is $1,082,140.\n",
      "The wealth at year 25 is $1,185,745.\n",
      "The wealth at year 26 is $1,295,520.\n",
      "The wealth at year 27 is $1,411,793.\n",
      "The wealth at year 28 is $1,534,910.\n",
      "\n",
      "Retirement:\n",
      "It will take 28 years to retire.\n"
     ]
    }
   ],
   "source": [
    "years = years_to_retirement(model_data)"
   ]
  },
  {
   "cell_type": "code",
   "execution_count": 91,
   "id": "0c406884",
   "metadata": {},
   "outputs": [],
   "source": [
    "def get_salaries_wealths_df(data):\n",
    "    prior_wealth = 0  \n",
    "    wealth = 0\n",
    "    \n",
    "    year = 0  \n",
    "    \n",
    "    df_data_tups = []\n",
    "    while wealth < data.desired_cash:\n",
    "        year = year + 1\n",
    "        salary = salary_at_year(data, year)\n",
    "        wealth = wealth_at_year(data, year, prior_wealth)\n",
    "        prior_wealth = wealth\n",
    "        df_data_tups.append((year, salary, wealth))\n",
    "    df = pd.DataFrame(df_data_tups, columns=['Year', 'Salary', 'Wealth'])\n",
    "    \n",
    "    return df"
   ]
  },
  {
   "cell_type": "code",
   "execution_count": 92,
   "id": "655c1381",
   "metadata": {},
   "outputs": [],
   "source": [
    "@dataclass\n",
    "class SimluationInputs:\n",
    "    n_iterations: int = 10000\n",
    "    starting_salary_std: int = 10000\n",
    "    promos_every_n_years_std: int = 1.5\n",
    "    cost_of_living_raise_std: float = 0.005\n",
    "    promo_raise_std: float = 0.05\n",
    "    savings_rate_std: float = 0.07\n",
    "    interest_rate_std: float = 0.01\n",
    "        \n",
    "sim_data = SimluationInputs()"
   ]
  },
  {
   "cell_type": "code",
   "execution_count": 93,
   "id": "4214f3f3",
   "metadata": {},
   "outputs": [
    {
     "data": {
      "text/plain": [
       "ModelInputs(starting_salary=60000, promos_every_n_years=5, cost_of_living_raise=0.02, promo_raise=0.15, savings_rate=0.25, interest_rate=0.05, desired_cash=1500000)"
      ]
     },
     "execution_count": 93,
     "metadata": {},
     "output_type": "execute_result"
    }
   ],
   "source": [
    "def random_normal_positive(mean, std):\n",
    "    \"\"\"\n",
    "    This function keeps drawing random numbers from a normal distribution until it gets a positive number,\n",
    "    then it returns that number.\n",
    "    \"\"\"\n",
    "    drawn_value = -1  # initialize to some negative number so that the while loop will start\n",
    "    while drawn_value < 0:\n",
    "        drawn_value = random.normalvariate(mean, std)\n",
    "    return drawn_value\n",
    "\n",
    "def years_to_retirement_simulation_inputs(data, sim_data):\n",
    "    \"\"\"\n",
    "    Randomly picks values from normal distributions for:\n",
    "    - starting salary \n",
    "    - promotions every N years\n",
    "    - cost of living raise\n",
    "    - promotion raise\n",
    "    - savings rate\n",
    "    - interest rate\n",
    "    \n",
    "    These inputs are drawn based on using the ModelInputs values\n",
    "    as means, and the _std values in SimulationInputs as standard deviations.\n",
    "    \n",
    "    Additionally, if any drawn value is zero or below, it will be drawn again.\n",
    "    \"\"\"\n",
    "    starting_salary = random_normal_positive(data.starting_salary, sim_data.starting_salary_std)\n",
    "    promos_every_n_years = random_normal_positive(data.promos_every_n_years, sim_data.promos_every_n_years_std)\n",
    "    cost_of_living_raise = random_normal_positive(data.cost_of_living_raise, sim_data.cost_of_living_raise_std)\n",
    "    promo_raise = random_normal_positive(data.promo_raise, sim_data.promo_raise_std)\n",
    "    savings_rate = random_normal_positive(data.savings_rate, sim_data.savings_rate_std)\n",
    "    interest_rate = random_normal_positive(data.interest_rate, sim_data.interest_rate_std)\n",
    "    \n",
    "    return (\n",
    "        starting_salary,\n",
    "        promos_every_n_years,\n",
    "        cost_of_living_raise,\n",
    "        promo_raise,\n",
    "        savings_rate,\n",
    "        interest_rate,\n",
    "    )\n",
    "model_data"
   ]
  },
  {
   "cell_type": "code",
   "execution_count": 94,
   "id": "5f76c6b2",
   "metadata": {},
   "outputs": [],
   "source": [
    "def years_to_retirement_single_simulation(data, sim_data):\n",
    "    \"\"\"\n",
    "    Runs a single Monte Carlo simulation of the years to retirement model.\n",
    "    \n",
    "    Uses years_to_retirement_simulation_inputs\n",
    "    \"\"\"\n",
    "    (\n",
    "        starting_salary,\n",
    "        promos_every_n_years,\n",
    "        cost_of_living_raise,\n",
    "        promo_raise,\n",
    "        savings_rate,\n",
    "        interest_rate,\n",
    "    ) = years_to_retirement_simulation_inputs(data, sim_data)\n",
    "    \n",
    "    new_data = ModelInputs(\n",
    "        starting_salary=starting_salary,\n",
    "        promos_every_n_years=promos_every_n_years,\n",
    "        cost_of_living_raise=cost_of_living_raise,\n",
    "        promo_raise=promo_raise,\n",
    "        savings_rate=savings_rate,\n",
    "        interest_rate=interest_rate,\n",
    "    )\n",
    "\n",
    "    ytr = years_to_retirement(new_data, print_output=False)\n",
    "    \n",
    "    return (\n",
    "        starting_salary,\n",
    "        promos_every_n_years,\n",
    "        cost_of_living_raise,\n",
    "        promo_raise,\n",
    "        savings_rate,\n",
    "        interest_rate,\n",
    "        ytr\n",
    "    )"
   ]
  },
  {
   "cell_type": "code",
   "execution_count": 95,
   "id": "6b1cee9d",
   "metadata": {},
   "outputs": [
    {
     "data": {
      "text/plain": [
       "(58800.69208990713,\n",
       " 7.475995438669911,\n",
       " 0.02536967695536418,\n",
       " 0.09479774750829323,\n",
       " 0.21359241449915867,\n",
       " 0.06438484475918912,\n",
       " 30)"
      ]
     },
     "execution_count": 95,
     "metadata": {},
     "output_type": "execute_result"
    }
   ],
   "source": [
    "years_to_retirement_single_simulation(model_data, sim_data)"
   ]
  },
  {
   "cell_type": "code",
   "execution_count": 96,
   "id": "e792f279",
   "metadata": {},
   "outputs": [],
   "source": [
    "all_results = [years_to_retirement_single_simulation(model_data, sim_data) for i in range(sim_data.n_iterations)]"
   ]
  },
  {
   "cell_type": "code",
   "execution_count": 97,
   "id": "3750f73d",
   "metadata": {},
   "outputs": [
    {
     "data": {
      "text/plain": [
       "[(64449.059409534806,\n",
       "  3.249163077953258,\n",
       "  0.024486535443107332,\n",
       "  0.26108628808785916,\n",
       "  0.33174673376770447,\n",
       "  0.060862221554078014,\n",
       "  19),\n",
       " (63590.2591697774,\n",
       "  6.08668465337866,\n",
       "  0.019575335851970008,\n",
       "  0.2029528072776286,\n",
       "  0.17542383127567357,\n",
       "  0.0472800689102073,\n",
       "  32),\n",
       " (68460.7645578546,\n",
       "  5.5860109607394,\n",
       "  0.007949701032908816,\n",
       "  0.3020840890608826,\n",
       "  0.228314460820064,\n",
       "  0.0634688568806133,\n",
       "  26),\n",
       " (66197.63012387847,\n",
       "  4.140745187163424,\n",
       "  0.011412467697497675,\n",
       "  0.1338703016766608,\n",
       "  0.2636083695713697,\n",
       "  0.05764062241823003,\n",
       "  26),\n",
       " (61689.341159562886,\n",
       "  4.128050361637257,\n",
       "  0.019460575867178958,\n",
       "  0.1420320416862786,\n",
       "  0.16731354761833964,\n",
       "  0.06996472159900576,\n",
       "  29)]"
      ]
     },
     "execution_count": 97,
     "metadata": {},
     "output_type": "execute_result"
    }
   ],
   "source": [
    "all_results[:5]"
   ]
  },
  {
   "cell_type": "code",
   "execution_count": 98,
   "id": "4b04c99b",
   "metadata": {},
   "outputs": [
    {
     "data": {
      "text/html": [
       "<div>\n",
       "<style scoped>\n",
       "    .dataframe tbody tr th:only-of-type {\n",
       "        vertical-align: middle;\n",
       "    }\n",
       "\n",
       "    .dataframe tbody tr th {\n",
       "        vertical-align: top;\n",
       "    }\n",
       "\n",
       "    .dataframe thead th {\n",
       "        text-align: right;\n",
       "    }\n",
       "</style>\n",
       "<table border=\"1\" class=\"dataframe\">\n",
       "  <thead>\n",
       "    <tr style=\"text-align: right;\">\n",
       "      <th></th>\n",
       "      <th>Starting Salary</th>\n",
       "      <th>Promotions Every $N$ Years</th>\n",
       "      <th>Cost of Living Raise</th>\n",
       "      <th>Promotion Raise</th>\n",
       "      <th>Savings Rate</th>\n",
       "      <th>Interest Rate</th>\n",
       "      <th>Years to Retirement</th>\n",
       "    </tr>\n",
       "  </thead>\n",
       "  <tbody>\n",
       "    <tr>\n",
       "      <th>0</th>\n",
       "      <td>66626.040078</td>\n",
       "      <td>6.836593</td>\n",
       "      <td>0.024550</td>\n",
       "      <td>0.138141</td>\n",
       "      <td>0.264598</td>\n",
       "      <td>0.068081</td>\n",
       "      <td>25</td>\n",
       "    </tr>\n",
       "    <tr>\n",
       "      <th>1</th>\n",
       "      <td>53069.534213</td>\n",
       "      <td>6.760032</td>\n",
       "      <td>0.014338</td>\n",
       "      <td>0.136783</td>\n",
       "      <td>0.083480</td>\n",
       "      <td>0.037043</td>\n",
       "      <td>55</td>\n",
       "    </tr>\n",
       "    <tr>\n",
       "      <th>2</th>\n",
       "      <td>68643.898877</td>\n",
       "      <td>3.585655</td>\n",
       "      <td>0.013470</td>\n",
       "      <td>0.062212</td>\n",
       "      <td>0.279852</td>\n",
       "      <td>0.054465</td>\n",
       "      <td>27</td>\n",
       "    </tr>\n",
       "    <tr>\n",
       "      <th>3</th>\n",
       "      <td>63892.420755</td>\n",
       "      <td>4.529803</td>\n",
       "      <td>0.021342</td>\n",
       "      <td>0.119354</td>\n",
       "      <td>0.325619</td>\n",
       "      <td>0.061927</td>\n",
       "      <td>23</td>\n",
       "    </tr>\n",
       "    <tr>\n",
       "      <th>4</th>\n",
       "      <td>79357.401865</td>\n",
       "      <td>3.011108</td>\n",
       "      <td>0.016424</td>\n",
       "      <td>0.157411</td>\n",
       "      <td>0.208519</td>\n",
       "      <td>0.060850</td>\n",
       "      <td>24</td>\n",
       "    </tr>\n",
       "    <tr>\n",
       "      <th>...</th>\n",
       "      <td>...</td>\n",
       "      <td>...</td>\n",
       "      <td>...</td>\n",
       "      <td>...</td>\n",
       "      <td>...</td>\n",
       "      <td>...</td>\n",
       "      <td>...</td>\n",
       "    </tr>\n",
       "    <tr>\n",
       "      <th>9995</th>\n",
       "      <td>56328.231861</td>\n",
       "      <td>7.932272</td>\n",
       "      <td>0.016958</td>\n",
       "      <td>0.108149</td>\n",
       "      <td>0.256476</td>\n",
       "      <td>0.050167</td>\n",
       "      <td>32</td>\n",
       "    </tr>\n",
       "    <tr>\n",
       "      <th>9996</th>\n",
       "      <td>52338.009963</td>\n",
       "      <td>6.542337</td>\n",
       "      <td>0.028374</td>\n",
       "      <td>0.100563</td>\n",
       "      <td>0.333417</td>\n",
       "      <td>0.052251</td>\n",
       "      <td>27</td>\n",
       "    </tr>\n",
       "    <tr>\n",
       "      <th>9997</th>\n",
       "      <td>83897.781888</td>\n",
       "      <td>2.278478</td>\n",
       "      <td>0.026470</td>\n",
       "      <td>0.260193</td>\n",
       "      <td>0.295076</td>\n",
       "      <td>0.052832</td>\n",
       "      <td>16</td>\n",
       "    </tr>\n",
       "    <tr>\n",
       "      <th>9998</th>\n",
       "      <td>56893.602390</td>\n",
       "      <td>4.475849</td>\n",
       "      <td>0.020067</td>\n",
       "      <td>0.141118</td>\n",
       "      <td>0.244701</td>\n",
       "      <td>0.038089</td>\n",
       "      <td>31</td>\n",
       "    </tr>\n",
       "    <tr>\n",
       "      <th>9999</th>\n",
       "      <td>26256.315020</td>\n",
       "      <td>5.644393</td>\n",
       "      <td>0.017721</td>\n",
       "      <td>0.148513</td>\n",
       "      <td>0.115883</td>\n",
       "      <td>0.048029</td>\n",
       "      <td>53</td>\n",
       "    </tr>\n",
       "  </tbody>\n",
       "</table>\n",
       "<p>10000 rows × 7 columns</p>\n",
       "</div>"
      ],
      "text/plain": [
       "      Starting Salary  Promotions Every $N$ Years  Cost of Living Raise  \\\n",
       "0        66626.040078                    6.836593              0.024550   \n",
       "1        53069.534213                    6.760032              0.014338   \n",
       "2        68643.898877                    3.585655              0.013470   \n",
       "3        63892.420755                    4.529803              0.021342   \n",
       "4        79357.401865                    3.011108              0.016424   \n",
       "...               ...                         ...                   ...   \n",
       "9995     56328.231861                    7.932272              0.016958   \n",
       "9996     52338.009963                    6.542337              0.028374   \n",
       "9997     83897.781888                    2.278478              0.026470   \n",
       "9998     56893.602390                    4.475849              0.020067   \n",
       "9999     26256.315020                    5.644393              0.017721   \n",
       "\n",
       "      Promotion Raise  Savings Rate  Interest Rate  Years to Retirement  \n",
       "0            0.138141      0.264598       0.068081                   25  \n",
       "1            0.136783      0.083480       0.037043                   55  \n",
       "2            0.062212      0.279852       0.054465                   27  \n",
       "3            0.119354      0.325619       0.061927                   23  \n",
       "4            0.157411      0.208519       0.060850                   24  \n",
       "...               ...           ...            ...                  ...  \n",
       "9995         0.108149      0.256476       0.050167                   32  \n",
       "9996         0.100563      0.333417       0.052251                   27  \n",
       "9997         0.260193      0.295076       0.052832                   16  \n",
       "9998         0.141118      0.244701       0.038089                   31  \n",
       "9999         0.148513      0.115883       0.048029                   53  \n",
       "\n",
       "[10000 rows x 7 columns]"
      ]
     },
     "execution_count": 98,
     "metadata": {},
     "output_type": "execute_result"
    }
   ],
   "source": [
    "def years_to_retirement_mc(data, sim_data):\n",
    "    all_results = [years_to_retirement_single_simulation(data, sim_data) for i in range(sim_data.n_iterations)]\n",
    "    df = pd.DataFrame(\n",
    "        all_results,\n",
    "        columns=[\n",
    "            'Starting Salary', \n",
    "            'Promotions Every $N$ Years', \n",
    "            'Cost of Living Raise', \n",
    "            'Promotion Raise', \n",
    "            'Savings Rate', \n",
    "            'Interest Rate',\n",
    "            'Years to Retirement'\n",
    "        ]\n",
    "    )\n",
    "    return df\n",
    "df = years_to_retirement_mc(model_data, sim_data)\n",
    "df"
   ]
  },
  {
   "cell_type": "code",
   "execution_count": 99,
   "id": "376f3339",
   "metadata": {},
   "outputs": [],
   "source": [
    "def styled_df(df):\n",
    "    \"\"\"\n",
    "    Styles DataFrames containing the inputs and years to retirement.\n",
    "    \"\"\"\n",
    "    return df.style.format({\n",
    "        'Starting Salary': '${:,.0f}', \n",
    "        'Promotions Every $N$ Years': '{:.1f}', \n",
    "        'Cost of Living Raise': '{:.2%}', \n",
    "        'Promotion Raise': '{:.2%}', \n",
    "        'Savings Rate': '{:.2%}', \n",
    "        'Interest Rate': '{:.2%}',\n",
    "        'Years to Retirement': '{:.0f}'\n",
    "    }).background_gradient(cmap='RdYlGn_r', subset='Years to Retirement')"
   ]
  },
  {
   "cell_type": "code",
   "execution_count": 100,
   "id": "6abbe64e",
   "metadata": {},
   "outputs": [
    {
     "data": {
      "text/html": [
       "<style type=\"text/css\">\n",
       "#T_042aa_row0_col6 {\n",
       "  background-color: #108647;\n",
       "  color: #f1f1f1;\n",
       "}\n",
       "#T_042aa_row1_col6 {\n",
       "  background-color: #a50026;\n",
       "  color: #f1f1f1;\n",
       "}\n",
       "#T_042aa_row2_col6 {\n",
       "  background-color: #2da155;\n",
       "  color: #f1f1f1;\n",
       "}\n",
       "#T_042aa_row3_col6 {\n",
       "  background-color: #006837;\n",
       "  color: #f1f1f1;\n",
       "}\n",
       "#T_042aa_row4_col6 {\n",
       "  background-color: #08773f;\n",
       "  color: #f1f1f1;\n",
       "}\n",
       "</style>\n",
       "<table id=\"T_042aa_\">\n",
       "  <thead>\n",
       "    <tr>\n",
       "      <th class=\"blank level0\" >&nbsp;</th>\n",
       "      <th class=\"col_heading level0 col0\" >Starting Salary</th>\n",
       "      <th class=\"col_heading level0 col1\" >Promotions Every $N$ Years</th>\n",
       "      <th class=\"col_heading level0 col2\" >Cost of Living Raise</th>\n",
       "      <th class=\"col_heading level0 col3\" >Promotion Raise</th>\n",
       "      <th class=\"col_heading level0 col4\" >Savings Rate</th>\n",
       "      <th class=\"col_heading level0 col5\" >Interest Rate</th>\n",
       "      <th class=\"col_heading level0 col6\" >Years to Retirement</th>\n",
       "    </tr>\n",
       "  </thead>\n",
       "  <tbody>\n",
       "    <tr>\n",
       "      <th id=\"T_042aa_level0_row0\" class=\"row_heading level0 row0\" >0</th>\n",
       "      <td id=\"T_042aa_row0_col0\" class=\"data row0 col0\" >$66,626</td>\n",
       "      <td id=\"T_042aa_row0_col1\" class=\"data row0 col1\" >6.8</td>\n",
       "      <td id=\"T_042aa_row0_col2\" class=\"data row0 col2\" >2.45%</td>\n",
       "      <td id=\"T_042aa_row0_col3\" class=\"data row0 col3\" >13.81%</td>\n",
       "      <td id=\"T_042aa_row0_col4\" class=\"data row0 col4\" >26.46%</td>\n",
       "      <td id=\"T_042aa_row0_col5\" class=\"data row0 col5\" >6.81%</td>\n",
       "      <td id=\"T_042aa_row0_col6\" class=\"data row0 col6\" >25</td>\n",
       "    </tr>\n",
       "    <tr>\n",
       "      <th id=\"T_042aa_level0_row1\" class=\"row_heading level0 row1\" >1</th>\n",
       "      <td id=\"T_042aa_row1_col0\" class=\"data row1 col0\" >$53,070</td>\n",
       "      <td id=\"T_042aa_row1_col1\" class=\"data row1 col1\" >6.8</td>\n",
       "      <td id=\"T_042aa_row1_col2\" class=\"data row1 col2\" >1.43%</td>\n",
       "      <td id=\"T_042aa_row1_col3\" class=\"data row1 col3\" >13.68%</td>\n",
       "      <td id=\"T_042aa_row1_col4\" class=\"data row1 col4\" >8.35%</td>\n",
       "      <td id=\"T_042aa_row1_col5\" class=\"data row1 col5\" >3.70%</td>\n",
       "      <td id=\"T_042aa_row1_col6\" class=\"data row1 col6\" >55</td>\n",
       "    </tr>\n",
       "    <tr>\n",
       "      <th id=\"T_042aa_level0_row2\" class=\"row_heading level0 row2\" >2</th>\n",
       "      <td id=\"T_042aa_row2_col0\" class=\"data row2 col0\" >$68,644</td>\n",
       "      <td id=\"T_042aa_row2_col1\" class=\"data row2 col1\" >3.6</td>\n",
       "      <td id=\"T_042aa_row2_col2\" class=\"data row2 col2\" >1.35%</td>\n",
       "      <td id=\"T_042aa_row2_col3\" class=\"data row2 col3\" >6.22%</td>\n",
       "      <td id=\"T_042aa_row2_col4\" class=\"data row2 col4\" >27.99%</td>\n",
       "      <td id=\"T_042aa_row2_col5\" class=\"data row2 col5\" >5.45%</td>\n",
       "      <td id=\"T_042aa_row2_col6\" class=\"data row2 col6\" >27</td>\n",
       "    </tr>\n",
       "    <tr>\n",
       "      <th id=\"T_042aa_level0_row3\" class=\"row_heading level0 row3\" >3</th>\n",
       "      <td id=\"T_042aa_row3_col0\" class=\"data row3 col0\" >$63,892</td>\n",
       "      <td id=\"T_042aa_row3_col1\" class=\"data row3 col1\" >4.5</td>\n",
       "      <td id=\"T_042aa_row3_col2\" class=\"data row3 col2\" >2.13%</td>\n",
       "      <td id=\"T_042aa_row3_col3\" class=\"data row3 col3\" >11.94%</td>\n",
       "      <td id=\"T_042aa_row3_col4\" class=\"data row3 col4\" >32.56%</td>\n",
       "      <td id=\"T_042aa_row3_col5\" class=\"data row3 col5\" >6.19%</td>\n",
       "      <td id=\"T_042aa_row3_col6\" class=\"data row3 col6\" >23</td>\n",
       "    </tr>\n",
       "    <tr>\n",
       "      <th id=\"T_042aa_level0_row4\" class=\"row_heading level0 row4\" >4</th>\n",
       "      <td id=\"T_042aa_row4_col0\" class=\"data row4 col0\" >$79,357</td>\n",
       "      <td id=\"T_042aa_row4_col1\" class=\"data row4 col1\" >3.0</td>\n",
       "      <td id=\"T_042aa_row4_col2\" class=\"data row4 col2\" >1.64%</td>\n",
       "      <td id=\"T_042aa_row4_col3\" class=\"data row4 col3\" >15.74%</td>\n",
       "      <td id=\"T_042aa_row4_col4\" class=\"data row4 col4\" >20.85%</td>\n",
       "      <td id=\"T_042aa_row4_col5\" class=\"data row4 col5\" >6.09%</td>\n",
       "      <td id=\"T_042aa_row4_col6\" class=\"data row4 col6\" >24</td>\n",
       "    </tr>\n",
       "  </tbody>\n",
       "</table>\n"
      ],
      "text/plain": [
       "<pandas.io.formats.style.Styler at 0x1959e99a0f0>"
      ]
     },
     "execution_count": 100,
     "metadata": {},
     "output_type": "execute_result"
    }
   ],
   "source": [
    "styled_df(df.head())"
   ]
  },
  {
   "cell_type": "code",
   "execution_count": 101,
   "id": "247b5013",
   "metadata": {},
   "outputs": [
    {
     "name": "stdout",
     "output_type": "stream",
     "text": [
      "10000 simulations were run.\n"
     ]
    }
   ],
   "source": [
    "print(f'{len(df)} simulations were run.')"
   ]
  },
  {
   "cell_type": "code",
   "execution_count": 102,
   "id": "d69d0892",
   "metadata": {},
   "outputs": [
    {
     "data": {
      "text/plain": [
       "<matplotlib.axes._subplots.AxesSubplot at 0x1959d5a7f60>"
      ]
     },
     "execution_count": 102,
     "metadata": {},
     "output_type": "execute_result"
    },
    {
     "data": {
      "image/png": "[encoded data removed]",
      "text/plain": [
       "<Figure size 432x288 with 1 Axes>"
      ]
     },
     "metadata": {
      "needs_background": "light"
     },
     "output_type": "display_data"
    }
   ],
   "source": [
    "df['Years to Retirement'].plot.hist(bins=70)"
   ]
  },
  {
   "cell_type": "code",
   "execution_count": 103,
   "id": "a19fc4ca",
   "metadata": {},
   "outputs": [
    {
     "data": {
      "text/html": [
       "<style type=\"text/css\">\n",
       "#T_50a00_row0_col6 {\n",
       "  background-color: #006837;\n",
       "  color: #f1f1f1;\n",
       "}\n",
       "#T_50a00_row1_col6 {\n",
       "  background-color: #219c52;\n",
       "  color: #f1f1f1;\n",
       "}\n",
       "#T_50a00_row2_col6 {\n",
       "  background-color: #4bb05c;\n",
       "  color: #f1f1f1;\n",
       "}\n",
       "#T_50a00_row3_col6, #T_50a00_row4_col6 {\n",
       "  background-color: #73c264;\n",
       "  color: #000000;\n",
       "}\n",
       "#T_50a00_row5_col6 {\n",
       "  background-color: #98d368;\n",
       "  color: #000000;\n",
       "}\n",
       "#T_50a00_row6_col6, #T_50a00_row7_col6 {\n",
       "  background-color: #b7e075;\n",
       "  color: #000000;\n",
       "}\n",
       "#T_50a00_row8_col6, #T_50a00_row9_col6 {\n",
       "  background-color: #d3ec87;\n",
       "  color: #000000;\n",
       "}\n",
       "#T_50a00_row10_col6 {\n",
       "  background-color: #e9f6a1;\n",
       "  color: #000000;\n",
       "}\n",
       "#T_50a00_row11_col6, #T_50a00_row12_col6 {\n",
       "  background-color: #fffebe;\n",
       "  color: #000000;\n",
       "}\n",
       "#T_50a00_row13_col6 {\n",
       "  background-color: #feeda1;\n",
       "  color: #000000;\n",
       "}\n",
       "#T_50a00_row14_col6 {\n",
       "  background-color: #feda86;\n",
       "  color: #000000;\n",
       "}\n",
       "#T_50a00_row15_col6 {\n",
       "  background-color: #fdbf6f;\n",
       "  color: #000000;\n",
       "}\n",
       "#T_50a00_row16_col6 {\n",
       "  background-color: #fba05b;\n",
       "  color: #000000;\n",
       "}\n",
       "#T_50a00_row17_col6 {\n",
       "  background-color: #ea5739;\n",
       "  color: #f1f1f1;\n",
       "}\n",
       "#T_50a00_row18_col6 {\n",
       "  background-color: #a50026;\n",
       "  color: #f1f1f1;\n",
       "}\n",
       "</style>\n",
       "<table id=\"T_50a00_\">\n",
       "  <thead>\n",
       "    <tr>\n",
       "      <th class=\"blank level0\" >&nbsp;</th>\n",
       "      <th class=\"col_heading level0 col0\" >Starting Salary</th>\n",
       "      <th class=\"col_heading level0 col1\" >Promotions Every $N$ Years</th>\n",
       "      <th class=\"col_heading level0 col2\" >Cost of Living Raise</th>\n",
       "      <th class=\"col_heading level0 col3\" >Promotion Raise</th>\n",
       "      <th class=\"col_heading level0 col4\" >Savings Rate</th>\n",
       "      <th class=\"col_heading level0 col5\" >Interest Rate</th>\n",
       "      <th class=\"col_heading level0 col6\" >Years to Retirement</th>\n",
       "    </tr>\n",
       "  </thead>\n",
       "  <tbody>\n",
       "    <tr>\n",
       "      <th id=\"T_50a00_level0_row0\" class=\"row_heading level0 row0\" >0.05</th>\n",
       "      <td id=\"T_50a00_row0_col0\" class=\"data row0 col0\" >$43,204</td>\n",
       "      <td id=\"T_50a00_row0_col1\" class=\"data row0 col1\" >2.5</td>\n",
       "      <td id=\"T_50a00_row0_col2\" class=\"data row0 col2\" >1.17%</td>\n",
       "      <td id=\"T_50a00_row0_col3\" class=\"data row0 col3\" >6.88%</td>\n",
       "      <td id=\"T_50a00_row0_col4\" class=\"data row0 col4\" >13.54%</td>\n",
       "      <td id=\"T_50a00_row0_col5\" class=\"data row0 col5\" >3.34%</td>\n",
       "      <td id=\"T_50a00_row0_col6\" class=\"data row0 col6\" >21</td>\n",
       "    </tr>\n",
       "    <tr>\n",
       "      <th id=\"T_50a00_level0_row1\" class=\"row_heading level0 row1\" >0.1</th>\n",
       "      <td id=\"T_50a00_row1_col0\" class=\"data row1 col0\" >$46,816</td>\n",
       "      <td id=\"T_50a00_row1_col1\" class=\"data row1 col1\" >3.1</td>\n",
       "      <td id=\"T_50a00_row1_col2\" class=\"data row1 col2\" >1.35%</td>\n",
       "      <td id=\"T_50a00_row1_col3\" class=\"data row1 col3\" >8.66%</td>\n",
       "      <td id=\"T_50a00_row1_col4\" class=\"data row1 col4\" >16.28%</td>\n",
       "      <td id=\"T_50a00_row1_col5\" class=\"data row1 col5\" >3.69%</td>\n",
       "      <td id=\"T_50a00_row1_col6\" class=\"data row1 col6\" >23</td>\n",
       "    </tr>\n",
       "    <tr>\n",
       "      <th id=\"T_50a00_level0_row2\" class=\"row_heading level0 row2\" >0.15</th>\n",
       "      <td id=\"T_50a00_row2_col0\" class=\"data row2 col0\" >$49,269</td>\n",
       "      <td id=\"T_50a00_row2_col1\" class=\"data row2 col1\" >3.4</td>\n",
       "      <td id=\"T_50a00_row2_col2\" class=\"data row2 col2\" >1.48%</td>\n",
       "      <td id=\"T_50a00_row2_col3\" class=\"data row2 col3\" >9.93%</td>\n",
       "      <td id=\"T_50a00_row2_col4\" class=\"data row2 col4\" >18.01%</td>\n",
       "      <td id=\"T_50a00_row2_col5\" class=\"data row2 col5\" >3.95%</td>\n",
       "      <td id=\"T_50a00_row2_col6\" class=\"data row2 col6\" >24</td>\n",
       "    </tr>\n",
       "    <tr>\n",
       "      <th id=\"T_50a00_level0_row3\" class=\"row_heading level0 row3\" >0.2</th>\n",
       "      <td id=\"T_50a00_row3_col0\" class=\"data row3 col0\" >$51,373</td>\n",
       "      <td id=\"T_50a00_row3_col1\" class=\"data row3 col1\" >3.7</td>\n",
       "      <td id=\"T_50a00_row3_col2\" class=\"data row3 col2\" >1.58%</td>\n",
       "      <td id=\"T_50a00_row3_col3\" class=\"data row3 col3\" >10.93%</td>\n",
       "      <td id=\"T_50a00_row3_col4\" class=\"data row3 col4\" >19.24%</td>\n",
       "      <td id=\"T_50a00_row3_col5\" class=\"data row3 col5\" >4.14%</td>\n",
       "      <td id=\"T_50a00_row3_col6\" class=\"data row3 col6\" >25</td>\n",
       "    </tr>\n",
       "    <tr>\n",
       "      <th id=\"T_50a00_level0_row4\" class=\"row_heading level0 row4\" >0.25</th>\n",
       "      <td id=\"T_50a00_row4_col0\" class=\"data row4 col0\" >$53,135</td>\n",
       "      <td id=\"T_50a00_row4_col1\" class=\"data row4 col1\" >4.0</td>\n",
       "      <td id=\"T_50a00_row4_col2\" class=\"data row4 col2\" >1.66%</td>\n",
       "      <td id=\"T_50a00_row4_col3\" class=\"data row4 col3\" >11.70%</td>\n",
       "      <td id=\"T_50a00_row4_col4\" class=\"data row4 col4\" >20.33%</td>\n",
       "      <td id=\"T_50a00_row4_col5\" class=\"data row4 col5\" >4.31%</td>\n",
       "      <td id=\"T_50a00_row4_col6\" class=\"data row4 col6\" >25</td>\n",
       "    </tr>\n",
       "    <tr>\n",
       "      <th id=\"T_50a00_level0_row5\" class=\"row_heading level0 row5\" >0.3</th>\n",
       "      <td id=\"T_50a00_row5_col0\" class=\"data row5 col0\" >$54,653</td>\n",
       "      <td id=\"T_50a00_row5_col1\" class=\"data row5 col1\" >4.2</td>\n",
       "      <td id=\"T_50a00_row5_col2\" class=\"data row5 col2\" >1.74%</td>\n",
       "      <td id=\"T_50a00_row5_col3\" class=\"data row5 col3\" >12.45%</td>\n",
       "      <td id=\"T_50a00_row5_col4\" class=\"data row5 col4\" >21.42%</td>\n",
       "      <td id=\"T_50a00_row5_col5\" class=\"data row5 col5\" >4.47%</td>\n",
       "      <td id=\"T_50a00_row5_col6\" class=\"data row5 col6\" >26</td>\n",
       "    </tr>\n",
       "    <tr>\n",
       "      <th id=\"T_50a00_level0_row6\" class=\"row_heading level0 row6\" >0.35</th>\n",
       "      <td id=\"T_50a00_row6_col0\" class=\"data row6 col0\" >$56,150</td>\n",
       "      <td id=\"T_50a00_row6_col1\" class=\"data row6 col1\" >4.4</td>\n",
       "      <td id=\"T_50a00_row6_col2\" class=\"data row6 col2\" >1.81%</td>\n",
       "      <td id=\"T_50a00_row6_col3\" class=\"data row6 col3\" >13.10%</td>\n",
       "      <td id=\"T_50a00_row6_col4\" class=\"data row6 col4\" >22.30%</td>\n",
       "      <td id=\"T_50a00_row6_col5\" class=\"data row6 col5\" >4.62%</td>\n",
       "      <td id=\"T_50a00_row6_col6\" class=\"data row6 col6\" >27</td>\n",
       "    </tr>\n",
       "    <tr>\n",
       "      <th id=\"T_50a00_level0_row7\" class=\"row_heading level0 row7\" >0.4</th>\n",
       "      <td id=\"T_50a00_row7_col0\" class=\"data row7 col0\" >$57,444</td>\n",
       "      <td id=\"T_50a00_row7_col1\" class=\"data row7 col1\" >4.6</td>\n",
       "      <td id=\"T_50a00_row7_col2\" class=\"data row7 col2\" >1.88%</td>\n",
       "      <td id=\"T_50a00_row7_col3\" class=\"data row7 col3\" >13.76%</td>\n",
       "      <td id=\"T_50a00_row7_col4\" class=\"data row7 col4\" >23.24%</td>\n",
       "      <td id=\"T_50a00_row7_col5\" class=\"data row7 col5\" >4.74%</td>\n",
       "      <td id=\"T_50a00_row7_col6\" class=\"data row7 col6\" >27</td>\n",
       "    </tr>\n",
       "    <tr>\n",
       "      <th id=\"T_50a00_level0_row8\" class=\"row_heading level0 row8\" >0.45</th>\n",
       "      <td id=\"T_50a00_row8_col0\" class=\"data row8 col0\" >$58,641</td>\n",
       "      <td id=\"T_50a00_row8_col1\" class=\"data row8 col1\" >4.8</td>\n",
       "      <td id=\"T_50a00_row8_col2\" class=\"data row8 col2\" >1.94%</td>\n",
       "      <td id=\"T_50a00_row8_col3\" class=\"data row8 col3\" >14.39%</td>\n",
       "      <td id=\"T_50a00_row8_col4\" class=\"data row8 col4\" >24.11%</td>\n",
       "      <td id=\"T_50a00_row8_col5\" class=\"data row8 col5\" >4.86%</td>\n",
       "      <td id=\"T_50a00_row8_col6\" class=\"data row8 col6\" >28</td>\n",
       "    </tr>\n",
       "    <tr>\n",
       "      <th id=\"T_50a00_level0_row9\" class=\"row_heading level0 row9\" >0.5</th>\n",
       "      <td id=\"T_50a00_row9_col0\" class=\"data row9 col0\" >$59,983</td>\n",
       "      <td id=\"T_50a00_row9_col1\" class=\"data row9 col1\" >5.0</td>\n",
       "      <td id=\"T_50a00_row9_col2\" class=\"data row9 col2\" >2.00%</td>\n",
       "      <td id=\"T_50a00_row9_col3\" class=\"data row9 col3\" >15.02%</td>\n",
       "      <td id=\"T_50a00_row9_col4\" class=\"data row9 col4\" >24.92%</td>\n",
       "      <td id=\"T_50a00_row9_col5\" class=\"data row9 col5\" >4.98%</td>\n",
       "      <td id=\"T_50a00_row9_col6\" class=\"data row9 col6\" >28</td>\n",
       "    </tr>\n",
       "    <tr>\n",
       "      <th id=\"T_50a00_level0_row10\" class=\"row_heading level0 row10\" >0.55</th>\n",
       "      <td id=\"T_50a00_row10_col0\" class=\"data row10 col0\" >$61,236</td>\n",
       "      <td id=\"T_50a00_row10_col1\" class=\"data row10 col1\" >5.2</td>\n",
       "      <td id=\"T_50a00_row10_col2\" class=\"data row10 col2\" >2.07%</td>\n",
       "      <td id=\"T_50a00_row10_col3\" class=\"data row10 col3\" >15.64%</td>\n",
       "      <td id=\"T_50a00_row10_col4\" class=\"data row10 col4\" >25.83%</td>\n",
       "      <td id=\"T_50a00_row10_col5\" class=\"data row10 col5\" >5.11%</td>\n",
       "      <td id=\"T_50a00_row10_col6\" class=\"data row10 col6\" >29</td>\n",
       "    </tr>\n",
       "    <tr>\n",
       "      <th id=\"T_50a00_level0_row11\" class=\"row_heading level0 row11\" >0.6</th>\n",
       "      <td id=\"T_50a00_row11_col0\" class=\"data row11 col0\" >$62,521</td>\n",
       "      <td id=\"T_50a00_row11_col1\" class=\"data row11 col1\" >5.4</td>\n",
       "      <td id=\"T_50a00_row11_col2\" class=\"data row11 col2\" >2.13%</td>\n",
       "      <td id=\"T_50a00_row11_col3\" class=\"data row11 col3\" >16.25%</td>\n",
       "      <td id=\"T_50a00_row11_col4\" class=\"data row11 col4\" >26.73%</td>\n",
       "      <td id=\"T_50a00_row11_col5\" class=\"data row11 col5\" >5.23%</td>\n",
       "      <td id=\"T_50a00_row11_col6\" class=\"data row11 col6\" >30</td>\n",
       "    </tr>\n",
       "    <tr>\n",
       "      <th id=\"T_50a00_level0_row12\" class=\"row_heading level0 row12\" >0.65</th>\n",
       "      <td id=\"T_50a00_row12_col0\" class=\"data row12 col0\" >$63,829</td>\n",
       "      <td id=\"T_50a00_row12_col1\" class=\"data row12 col1\" >5.6</td>\n",
       "      <td id=\"T_50a00_row12_col2\" class=\"data row12 col2\" >2.20%</td>\n",
       "      <td id=\"T_50a00_row12_col3\" class=\"data row12 col3\" >16.97%</td>\n",
       "      <td id=\"T_50a00_row12_col4\" class=\"data row12 col4\" >27.74%</td>\n",
       "      <td id=\"T_50a00_row12_col5\" class=\"data row12 col5\" >5.38%</td>\n",
       "      <td id=\"T_50a00_row12_col6\" class=\"data row12 col6\" >30</td>\n",
       "    </tr>\n",
       "    <tr>\n",
       "      <th id=\"T_50a00_level0_row13\" class=\"row_heading level0 row13\" >0.7</th>\n",
       "      <td id=\"T_50a00_row13_col0\" class=\"data row13 col0\" >$65,239</td>\n",
       "      <td id=\"T_50a00_row13_col1\" class=\"data row13 col1\" >5.8</td>\n",
       "      <td id=\"T_50a00_row13_col2\" class=\"data row13 col2\" >2.27%</td>\n",
       "      <td id=\"T_50a00_row13_col3\" class=\"data row13 col3\" >17.65%</td>\n",
       "      <td id=\"T_50a00_row13_col4\" class=\"data row13 col4\" >28.66%</td>\n",
       "      <td id=\"T_50a00_row13_col5\" class=\"data row13 col5\" >5.51%</td>\n",
       "      <td id=\"T_50a00_row13_col6\" class=\"data row13 col6\" >31</td>\n",
       "    </tr>\n",
       "    <tr>\n",
       "      <th id=\"T_50a00_level0_row14\" class=\"row_heading level0 row14\" >0.75</th>\n",
       "      <td id=\"T_50a00_row14_col0\" class=\"data row14 col0\" >$66,794</td>\n",
       "      <td id=\"T_50a00_row14_col1\" class=\"data row14 col1\" >6.0</td>\n",
       "      <td id=\"T_50a00_row14_col2\" class=\"data row14 col2\" >2.34%</td>\n",
       "      <td id=\"T_50a00_row14_col3\" class=\"data row14 col3\" >18.41%</td>\n",
       "      <td id=\"T_50a00_row14_col4\" class=\"data row14 col4\" >29.71%</td>\n",
       "      <td id=\"T_50a00_row14_col5\" class=\"data row14 col5\" >5.66%</td>\n",
       "      <td id=\"T_50a00_row14_col6\" class=\"data row14 col6\" >32</td>\n",
       "    </tr>\n",
       "    <tr>\n",
       "      <th id=\"T_50a00_level0_row15\" class=\"row_heading level0 row15\" >0.8</th>\n",
       "      <td id=\"T_50a00_row15_col0\" class=\"data row15 col0\" >$68,455</td>\n",
       "      <td id=\"T_50a00_row15_col1\" class=\"data row15 col1\" >6.3</td>\n",
       "      <td id=\"T_50a00_row15_col2\" class=\"data row15 col2\" >2.43%</td>\n",
       "      <td id=\"T_50a00_row15_col3\" class=\"data row15 col3\" >19.24%</td>\n",
       "      <td id=\"T_50a00_row15_col4\" class=\"data row15 col4\" >30.85%</td>\n",
       "      <td id=\"T_50a00_row15_col5\" class=\"data row15 col5\" >5.84%</td>\n",
       "      <td id=\"T_50a00_row15_col6\" class=\"data row15 col6\" >33</td>\n",
       "    </tr>\n",
       "    <tr>\n",
       "      <th id=\"T_50a00_level0_row16\" class=\"row_heading level0 row16\" >0.85</th>\n",
       "      <td id=\"T_50a00_row16_col0\" class=\"data row16 col0\" >$70,368</td>\n",
       "      <td id=\"T_50a00_row16_col1\" class=\"data row16 col1\" >6.6</td>\n",
       "      <td id=\"T_50a00_row16_col2\" class=\"data row16 col2\" >2.52%</td>\n",
       "      <td id=\"T_50a00_row16_col3\" class=\"data row16 col3\" >20.27%</td>\n",
       "      <td id=\"T_50a00_row16_col4\" class=\"data row16 col4\" >32.18%</td>\n",
       "      <td id=\"T_50a00_row16_col5\" class=\"data row16 col5\" >6.03%</td>\n",
       "      <td id=\"T_50a00_row16_col6\" class=\"data row16 col6\" >34</td>\n",
       "    </tr>\n",
       "    <tr>\n",
       "      <th id=\"T_50a00_level0_row17\" class=\"row_heading level0 row17\" >0.9</th>\n",
       "      <td id=\"T_50a00_row17_col0\" class=\"data row17 col0\" >$72,975</td>\n",
       "      <td id=\"T_50a00_row17_col1\" class=\"data row17 col1\" >6.9</td>\n",
       "      <td id=\"T_50a00_row17_col2\" class=\"data row17 col2\" >2.64%</td>\n",
       "      <td id=\"T_50a00_row17_col3\" class=\"data row17 col3\" >21.47%</td>\n",
       "      <td id=\"T_50a00_row17_col4\" class=\"data row17 col4\" >33.89%</td>\n",
       "      <td id=\"T_50a00_row17_col5\" class=\"data row17 col5\" >6.29%</td>\n",
       "      <td id=\"T_50a00_row17_col6\" class=\"data row17 col6\" >36</td>\n",
       "    </tr>\n",
       "    <tr>\n",
       "      <th id=\"T_50a00_level0_row18\" class=\"row_heading level0 row18\" >0.95</th>\n",
       "      <td id=\"T_50a00_row18_col0\" class=\"data row18 col0\" >$76,392</td>\n",
       "      <td id=\"T_50a00_row18_col1\" class=\"data row18 col1\" >7.5</td>\n",
       "      <td id=\"T_50a00_row18_col2\" class=\"data row18 col2\" >2.82%</td>\n",
       "      <td id=\"T_50a00_row18_col3\" class=\"data row18 col3\" >23.27%</td>\n",
       "      <td id=\"T_50a00_row18_col4\" class=\"data row18 col4\" >36.53%</td>\n",
       "      <td id=\"T_50a00_row18_col5\" class=\"data row18 col5\" >6.64%</td>\n",
       "      <td id=\"T_50a00_row18_col6\" class=\"data row18 col6\" >39</td>\n",
       "    </tr>\n",
       "  </tbody>\n",
       "</table>\n"
      ],
      "text/plain": [
       "<pandas.io.formats.style.Styler at 0x1959d588a90>"
      ]
     },
     "execution_count": 103,
     "metadata": {},
     "output_type": "execute_result"
    }
   ],
   "source": [
    "styled_df(df.quantile([i/20 for i in range(1,20)]))"
   ]
  },
  {
   "cell_type": "code",
   "execution_count": 104,
   "id": "bef7d92a",
   "metadata": {},
   "outputs": [
    {
     "data": {
      "text/plain": [
       "19"
      ]
     },
     "execution_count": 104,
     "metadata": {},
     "output_type": "execute_result"
    }
   ],
   "source": [
    "len([i/20 for i in range(1,20)])"
   ]
  },
  {
   "cell_type": "code",
   "execution_count": 105,
   "id": "7c39ab4d",
   "metadata": {},
   "outputs": [
    {
     "data": {
      "image/png": "[encoded data removed]",
      "text/plain": [
       "<Figure size 432x288 with 1 Axes>"
      ]
     },
     "metadata": {
      "needs_background": "light"
     },
     "output_type": "display_data"
    },
    {
     "data": {
      "image/png": "[encoded data removed]",
      "text/plain": [
       "<Figure size 432x288 with 1 Axes>"
      ]
     },
     "metadata": {
      "needs_background": "light"
     },
     "output_type": "display_data"
    },
    {
     "data": {
      "image/png": "[encoded data removed]",
      "text/plain": [
       "<Figure size 432x288 with 1 Axes>"
      ]
     },
     "metadata": {
      "needs_background": "light"
     },
     "output_type": "display_data"
    },
    {
     "data": {
      "image/png": "[encoded data removed]",
      "text/plain": [
       "<Figure size 432x288 with 1 Axes>"
      ]
     },
     "metadata": {
      "needs_background": "light"
     },
     "output_type": "display_data"
    },
    {
     "data": {
      "image/png": "[encoded data removed]",
      "text/plain": [
       "<Figure size 432x288 with 1 Axes>"
      ]
     },
     "metadata": {
      "needs_background": "light"
     },
     "output_type": "display_data"
    },
    {
     "data": {
      "image/png": "[encoded data removed]",
      "text/plain": [
       "<Figure size 432x288 with 1 Axes>"
      ]
     },
     "metadata": {
      "needs_background": "light"
     },
     "output_type": "display_data"
    }
   ],
   "source": [
    "input_cols = [\n",
    "    'Starting Salary', \n",
    "    'Promotions Every $N$ Years', \n",
    "    'Cost of Living Raise', \n",
    "    'Promotion Raise', \n",
    "    'Savings Rate', \n",
    "    'Interest Rate',\n",
    "]\n",
    "\n",
    "for col in input_cols:\n",
    "    df.plot.scatter(y='Years to Retirement', x=col)"
   ]
  },
  {
   "cell_type": "code",
   "execution_count": 106,
   "id": "7aa2ded9",
   "metadata": {},
   "outputs": [],
   "source": [
    "import statsmodels.api as sm\n",
    "from sklearn import linear_model\n",
    "output_col = 'Years to Retirement'\n",
    "\n",
    "X = df.drop('Years to Retirement',axis='columns').values\n",
    "y = df['Years to Retirement']\n",
    "mod =linear_model.LinearRegression()\n",
    "result = mod.fit(X,y)"
   ]
  },
  {
   "cell_type": "code",
   "execution_count": 107,
   "id": "69a38039",
   "metadata": {},
   "outputs": [
    {
     "data": {
      "text/plain": [
       "array([-2.02873627e-04,  1.26209216e+00, -1.73474721e+02, -2.85648515e+01,\n",
       "       -5.28425271e+01, -1.60155753e+02])"
      ]
     },
     "execution_count": 107,
     "metadata": {},
     "output_type": "execute_result"
    }
   ],
   "source": [
    "x=mod.coef_\n",
    "x"
   ]
  },
  {
   "cell_type": "code",
   "execution_count": 108,
   "id": "7122d095",
   "metadata": {},
   "outputs": [
    {
     "data": {
      "text/html": [
       "<div>\n",
       "<style scoped>\n",
       "    .dataframe tbody tr th:only-of-type {\n",
       "        vertical-align: middle;\n",
       "    }\n",
       "\n",
       "    .dataframe tbody tr th {\n",
       "        vertical-align: top;\n",
       "    }\n",
       "\n",
       "    .dataframe thead th {\n",
       "        text-align: right;\n",
       "    }\n",
       "</style>\n",
       "<table border=\"1\" class=\"dataframe\">\n",
       "  <thead>\n",
       "    <tr style=\"text-align: right;\">\n",
       "      <th></th>\n",
       "      <th>0</th>\n",
       "    </tr>\n",
       "  </thead>\n",
       "  <tbody>\n",
       "    <tr>\n",
       "      <th>0</th>\n",
       "      <td>-0.000203</td>\n",
       "    </tr>\n",
       "    <tr>\n",
       "      <th>1</th>\n",
       "      <td>1.262092</td>\n",
       "    </tr>\n",
       "    <tr>\n",
       "      <th>2</th>\n",
       "      <td>-173.474721</td>\n",
       "    </tr>\n",
       "    <tr>\n",
       "      <th>3</th>\n",
       "      <td>-28.564851</td>\n",
       "    </tr>\n",
       "    <tr>\n",
       "      <th>4</th>\n",
       "      <td>-52.842527</td>\n",
       "    </tr>\n",
       "    <tr>\n",
       "      <th>5</th>\n",
       "      <td>-160.155753</td>\n",
       "    </tr>\n",
       "  </tbody>\n",
       "</table>\n",
       "</div>"
      ],
      "text/plain": [
       "            0\n",
       "0   -0.000203\n",
       "1    1.262092\n",
       "2 -173.474721\n",
       "3  -28.564851\n",
       "4  -52.842527\n",
       "5 -160.155753"
      ]
     },
     "execution_count": 108,
     "metadata": {},
     "output_type": "execute_result"
    }
   ],
   "source": [
    "df1 = pd.DataFrame(x)\n",
    "df1"
   ]
  },
  {
   "cell_type": "code",
   "execution_count": 109,
   "id": "72882ddf",
   "metadata": {},
   "outputs": [
    {
     "data": {
      "text/plain": [
       "63.76317073424024"
      ]
     },
     "execution_count": 109,
     "metadata": {},
     "output_type": "execute_result"
    }
   ],
   "source": [
    "mod.intercept_"
   ]
  },
  {
   "cell_type": "code",
   "execution_count": 110,
   "id": "48af8912",
   "metadata": {},
   "outputs": [
    {
     "data": {
      "text/html": [
       "<table class=\"simpletable\">\n",
       "<caption>OLS Regression Results</caption>\n",
       "<tr>\n",
       "  <th>Dep. Variable:</th>    <td>Years to Retirement</td> <th>  R-squared:         </th> <td>   0.878</td> \n",
       "</tr>\n",
       "<tr>\n",
       "  <th>Model:</th>                    <td>OLS</td>         <th>  Adj. R-squared:    </th> <td>   0.878</td> \n",
       "</tr>\n",
       "<tr>\n",
       "  <th>Method:</th>              <td>Least Squares</td>    <th>  F-statistic:       </th> <td>1.196e+04</td>\n",
       "</tr>\n",
       "<tr>\n",
       "  <th>Date:</th>              <td>Thu, 20 Jan 2022</td>   <th>  Prob (F-statistic):</th>  <td>  0.00</td>  \n",
       "</tr>\n",
       "<tr>\n",
       "  <th>Time:</th>                  <td>16:17:18</td>       <th>  Log-Likelihood:    </th> <td> -20726.</td> \n",
       "</tr>\n",
       "<tr>\n",
       "  <th>No. Observations:</th>       <td> 10000</td>        <th>  AIC:               </th> <td>4.147e+04</td>\n",
       "</tr>\n",
       "<tr>\n",
       "  <th>Df Residuals:</th>           <td>  9993</td>        <th>  BIC:               </th> <td>4.152e+04</td>\n",
       "</tr>\n",
       "<tr>\n",
       "  <th>Df Model:</th>               <td>     6</td>        <th>                     </th>     <td> </td>    \n",
       "</tr>\n",
       "<tr>\n",
       "  <th>Covariance Type:</th>       <td>nonrobust</td>      <th>                     </th>     <td> </td>    \n",
       "</tr>\n",
       "</table>\n",
       "<table class=\"simpletable\">\n",
       "<tr>\n",
       "               <td></td>                 <th>coef</th>     <th>std err</th>      <th>t</th>      <th>P>|t|</th>  <th>[0.025</th>    <th>0.975]</th>  \n",
       "</tr>\n",
       "<tr>\n",
       "  <th>const</th>                      <td>   63.7632</td> <td>    0.202</td> <td>  315.873</td> <td> 0.000</td> <td>   63.367</td> <td>   64.159</td>\n",
       "</tr>\n",
       "<tr>\n",
       "  <th>Starting Salary</th>            <td>   -0.0002</td> <td> 1.91e-06</td> <td> -106.064</td> <td> 0.000</td> <td>   -0.000</td> <td>   -0.000</td>\n",
       "</tr>\n",
       "<tr>\n",
       "  <th>Promotions Every $N$ Years</th> <td>    1.2621</td> <td>    0.013</td> <td>   99.099</td> <td> 0.000</td> <td>    1.237</td> <td>    1.287</td>\n",
       "</tr>\n",
       "<tr>\n",
       "  <th>Cost of Living Raise</th>       <td> -173.4747</td> <td>    3.835</td> <td>  -45.232</td> <td> 0.000</td> <td> -180.993</td> <td> -165.957</td>\n",
       "</tr>\n",
       "<tr>\n",
       "  <th>Promotion Raise</th>            <td>  -28.5649</td> <td>    0.387</td> <td>  -73.893</td> <td> 0.000</td> <td>  -29.323</td> <td>  -27.807</td>\n",
       "</tr>\n",
       "<tr>\n",
       "  <th>Savings Rate</th>               <td>  -52.8425</td> <td>    0.277</td> <td> -190.453</td> <td> 0.000</td> <td>  -53.386</td> <td>  -52.299</td>\n",
       "</tr>\n",
       "<tr>\n",
       "  <th>Interest Rate</th>              <td> -160.1558</td> <td>    1.920</td> <td>  -83.413</td> <td> 0.000</td> <td> -163.919</td> <td> -156.392</td>\n",
       "</tr>\n",
       "</table>\n",
       "<table class=\"simpletable\">\n",
       "<tr>\n",
       "  <th>Omnibus:</th>       <td>7017.979</td> <th>  Durbin-Watson:     </th>  <td>   1.954</td>  \n",
       "</tr>\n",
       "<tr>\n",
       "  <th>Prob(Omnibus):</th>  <td> 0.000</td>  <th>  Jarque-Bera (JB):  </th> <td>2048681.474</td>\n",
       "</tr>\n",
       "<tr>\n",
       "  <th>Skew:</th>           <td> 2.267</td>  <th>  Prob(JB):          </th>  <td>    0.00</td>  \n",
       "</tr>\n",
       "<tr>\n",
       "  <th>Kurtosis:</th>       <td>72.973</td>  <th>  Cond. No.          </th>  <td>1.21e+07</td>  \n",
       "</tr>\n",
       "</table><br/><br/>Notes:<br/>[1] Standard Errors assume that the covariance matrix of the errors is correctly specified.<br/>[2] The condition number is large, 1.21e+07. This might indicate that there are<br/>strong multicollinearity or other numerical problems."
      ],
      "text/plain": [
       "<class 'statsmodels.iolib.summary.Summary'>\n",
       "\"\"\"\n",
       "                             OLS Regression Results                            \n",
       "===============================================================================\n",
       "Dep. Variable:     Years to Retirement   R-squared:                       0.878\n",
       "Model:                             OLS   Adj. R-squared:                  0.878\n",
       "Method:                  Least Squares   F-statistic:                 1.196e+04\n",
       "Date:                 Thu, 20 Jan 2022   Prob (F-statistic):               0.00\n",
       "Time:                         16:17:18   Log-Likelihood:                -20726.\n",
       "No. Observations:                10000   AIC:                         4.147e+04\n",
       "Df Residuals:                     9993   BIC:                         4.152e+04\n",
       "Df Model:                            6                                         \n",
       "Covariance Type:             nonrobust                                         \n",
       "==============================================================================================\n",
       "                                 coef    std err          t      P>|t|      [0.025      0.975]\n",
       "----------------------------------------------------------------------------------------------\n",
       "const                         63.7632      0.202    315.873      0.000      63.367      64.159\n",
       "Starting Salary               -0.0002   1.91e-06   -106.064      0.000      -0.000      -0.000\n",
       "Promotions Every $N$ Years     1.2621      0.013     99.099      0.000       1.237       1.287\n",
       "Cost of Living Raise        -173.4747      3.835    -45.232      0.000    -180.993    -165.957\n",
       "Promotion Raise              -28.5649      0.387    -73.893      0.000     -29.323     -27.807\n",
       "Savings Rate                 -52.8425      0.277   -190.453      0.000     -53.386     -52.299\n",
       "Interest Rate               -160.1558      1.920    -83.413      0.000    -163.919    -156.392\n",
       "==============================================================================\n",
       "Omnibus:                     7017.979   Durbin-Watson:                   1.954\n",
       "Prob(Omnibus):                  0.000   Jarque-Bera (JB):          2048681.474\n",
       "Skew:                           2.267   Prob(JB):                         0.00\n",
       "Kurtosis:                      72.973   Cond. No.                     1.21e+07\n",
       "==============================================================================\n",
       "\n",
       "Notes:\n",
       "[1] Standard Errors assume that the covariance matrix of the errors is correctly specified.\n",
       "[2] The condition number is large, 1.21e+07. This might indicate that there are\n",
       "strong multicollinearity or other numerical problems.\n",
       "\"\"\""
      ]
     },
     "execution_count": 110,
     "metadata": {},
     "output_type": "execute_result"
    }
   ],
   "source": [
    "output_col = 'Years to Retirement'\n",
    "\n",
    "X = sm.add_constant(df[input_cols])\n",
    "y = df[output_col]\n",
    "\n",
    "mod = sm.OLS(y, X)\n",
    "result = mod.fit()\n",
    "result.summary()"
   ]
  },
  {
   "cell_type": "code",
   "execution_count": 111,
   "id": "0bc764d8",
   "metadata": {},
   "outputs": [
    {
     "data": {
      "text/plain": [
       "Starting Salary               10058.110309\n",
       "Promotions Every $N$ Years        1.511054\n",
       "Cost of Living Raise              0.005018\n",
       "Promotion Raise                   0.049757\n",
       "Savings Rate                      0.069340\n",
       "Interest Rate                     0.010019\n",
       "Years to Retirement               5.499703\n",
       "dtype: float64"
      ]
     },
     "execution_count": 111,
     "metadata": {},
     "output_type": "execute_result"
    }
   ],
   "source": [
    "df.std()"
   ]
  },
  {
   "cell_type": "code",
   "execution_count": 112,
   "id": "cd0e4fec",
   "metadata": {},
   "outputs": [
    {
     "data": {
      "text/plain": [
       "Cost of Living Raise         -0.870427\n",
       "Interest Rate                -1.604652\n",
       "Promotion Raise              -1.421291\n",
       "Promotions Every $N$ Years    1.907089\n",
       "Savings Rate                 -3.664092\n",
       "Starting Salary              -2.040525\n",
       "Years to Retirement                NaN\n",
       "const                              NaN\n",
       "dtype: float64"
      ]
     },
     "execution_count": 112,
     "metadata": {},
     "output_type": "execute_result"
    }
   ],
   "source": [
    "result.params * df.std()#standard coffecient Savings Rate starting salaries are impactful coffecient "
   ]
  },
  {
   "cell_type": "code",
   "execution_count": 113,
   "id": "4dd01a42",
   "metadata": {},
   "outputs": [
    {
     "data": {
      "text/plain": [
       "const                          63.763171\n",
       "Starting Salary                -0.000203\n",
       "Promotions Every $N$ Years      1.262092\n",
       "Cost of Living Raise         -173.474721\n",
       "Promotion Raise               -28.564851\n",
       "Savings Rate                  -52.842527\n",
       "Interest Rate                -160.155753\n",
       "dtype: float64"
      ]
     },
     "execution_count": 113,
     "metadata": {},
     "output_type": "execute_result"
    }
   ],
   "source": [
    "result.params "
   ]
  },
  {
   "cell_type": "code",
   "execution_count": null,
   "id": "9257e64e",
   "metadata": {},
   "outputs": [],
   "source": []
  }
 ],
 "metadata": {
  "kernelspec": {
   "display_name": "Python 3 (ipykernel)",
   "language": "python",
   "name": "python3"
  },
  "language_info": {
   "codemirror_mode": {
    "name": "ipython",
    "version": 3
   },
   "file_extension": ".py",
   "mimetype": "text/x-python",
   "name": "python",
   "nbconvert_exporter": "python",
   "pygments_lexer": "ipython3",
   "version": "3.7.3"
  }
 },
 "nbformat": 4,
 "nbformat_minor": 5
}
