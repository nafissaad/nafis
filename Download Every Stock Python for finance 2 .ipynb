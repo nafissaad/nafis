{
 "cells": [
  {
   "cell_type": "code",
   "execution_count": 1,
   "id": "8472d459",
   "metadata": {},
   "outputs": [],
   "source": [
    "import numpy as np \n",
    "import pandas as pd\n",
    "from pandas_datareader import data as web # Reads stock data \n",
    "import matplotlib.pyplot as plt # Plotting\n",
    "import matplotlib.dates as mdates # Styling dates\n",
    "%matplotlib inline\n",
    "import os# Used to get data from a directory\n",
    "from os import listdir\n",
    "from os.path import isfile, join\n",
    "import datetime as dt # For defining dates\n",
    "import mplfinance as mpf # Matplotlib finance\n",
    "\n",
    "import time"
   ]
  },
  {
   "cell_type": "code",
   "execution_count": 2,
   "id": "e88434df",
   "metadata": {},
   "outputs": [],
   "source": [
    "stocks_not_downloaded = []\n",
    "missing_stocks = []"
   ]
  },
  {
   "cell_type": "code",
   "execution_count": 3,
   "id": "ad626c33",
   "metadata": {},
   "outputs": [],
   "source": [
    "def save_to_csv_from_yahoo(folder, ticker, syear, smonth, sday, eyear, emonth, eday):\n",
    "    # Defines the time periods to use\n",
    "    start = dt.datetime(syear, smonth, sday)\n",
    "    end = dt.datetime(eyear, emonth, eday)\n",
    "    \n",
    "    try:\n",
    "        print(\"Get Data for : \", ticker)\n",
    "        # Reads data into into a dataframe\n",
    "        df = web.DataReader(ticker, 'yahoo', start, end)['Adj Close']\n",
    "    \n",
    "        # Wait 10 seconds\n",
    "        time.sleep(10)\n",
    "    \n",
    "        # Save data to a CSV file\n",
    "        df.to_csv(folder + ticker + '.csv')\n",
    "    except Exception as ex:\n",
    "        stocks_not_downloaded.append(ticker)\n",
    "        print(\"Couldn't Get Data for :\", ticker)"
   ]
  },
  {
   "cell_type": "code",
   "execution_count": 4,
   "id": "19665f8c",
   "metadata": {},
   "outputs": [],
   "source": [
    "def get_stock_df_from_csv(folder, ticker):\n",
    "    \n",
    "    # Try to get the file and if it doesn't exist issue a warning\n",
    "    try:\n",
    "        df = pd.read_csv(folder + ticker + '.csv',index=False)\n",
    "    except FileNotFoundError:\n",
    "        print(\"File Doesn't Exist\")\n",
    "    else:\n",
    "        return df"
   ]
  },
  {
   "cell_type": "code",
   "execution_count": 7,
   "id": "3711fa62",
   "metadata": {},
   "outputs": [],
   "source": [
    "def get_column_from_csv(file, col_name):\n",
    "    # Try to get the file and if it doesn't exist issue a warning\n",
    "    try:\n",
    "        df = pd.read_csv(file)\n",
    "    except FileNotFoundError:\n",
    "        print(\"File Doesn't Exist\")\n",
    "    else:\n",
    "        return df[col_name]"
   ]
  },
  {
   "cell_type": "code",
   "execution_count": 8,
   "id": "8a969c7e",
   "metadata": {},
   "outputs": [
    {
     "data": {
      "text/plain": [
       "0          A\n",
       "1         AA\n",
       "2        AAL\n",
       "3       AAME\n",
       "4        AAN\n",
       "        ... \n",
       "3476    ZUMZ\n",
       "3477     ZUO\n",
       "3478    ZYNE\n",
       "3479    ZYXI\n",
       "3480    ZNGA\n",
       "Name: Ticker, Length: 3481, dtype: object"
      ]
     },
     "execution_count": 8,
     "metadata": {},
     "output_type": "execute_result"
    }
   ],
   "source": [
    "#Test Receiving stock Ticker\n",
    "ticker = get_column_from_csv('E:\\\\New folder\\\\data set\\\\Wilshire-5000-Stocks.csv','Ticker')\n",
    "ticker"
   ]
  },
  {
   "cell_type": "code",
   "execution_count": 9,
   "id": "907d88ce",
   "metadata": {},
   "outputs": [
    {
     "name": "stdout",
     "output_type": "stream",
     "text": [
      "Get Data for :  A\n",
      "Get Data for :  AA\n",
      "Get Data for :  AAL\n",
      "Get Data for :  AAME\n",
      "Get Data for :  AAN\n",
      "Get Data for :  AAOI\n",
      "Get Data for :  AAON\n",
      "Get Data for :  AAP\n",
      "Get Data for :  AAPL\n",
      "Get Data for :  AAT\n",
      "Get Data for :  AAWW\n",
      "Get Data for :  AAXN\n",
      "Couldn't Get Data for : AAXN\n",
      "Get Data for :  ABBV\n",
      "Get Data for :  ABC\n",
      "Get Data for :  ABCB\n",
      "Get Data for :  ABEO\n",
      "Get Data for :  ABG\n",
      "Get Data for :  ABIO\n",
      "Get Data for :  ABM\n",
      "Get Data for :  ABMD\n",
      "Finished\n"
     ]
    }
   ],
   "source": [
    "# # Folder used to store stock data\n",
    "folder ='C:\\\\Users\\\\nafissaad\\\\Finance\\\\Stock List\\\\'\n",
    "\n",
    "for x in range(20):\n",
    "    save_to_csv_from_yahoo(folder, ticker[x], 2017, 1, 1, 2022,1,25)\n",
    "print(\"Finished\")"
   ]
  },
  {
   "cell_type": "code",
   "execution_count": 10,
   "id": "1749df31",
   "metadata": {},
   "outputs": [
    {
     "name": "stdout",
     "output_type": "stream",
     "text": [
      "Get Data for :  ABR\n",
      "Get Data for :  ABT\n",
      "Get Data for :  ABTX\n",
      "Get Data for :  AC\n",
      "Get Data for :  ACA\n",
      "Finished\n"
     ]
    }
   ],
   "source": [
    "#Download Stocks in Blocks\n",
    "for x in range(20,25):\n",
    "        save_to_csv_from_yahoo(folder, ticker[x], 2017, 1, 1, 2022,1,25)\n",
    "print(\"Finished\")"
   ]
  },
  {
   "cell_type": "code",
   "execution_count": 11,
   "id": "8485de64",
   "metadata": {},
   "outputs": [
    {
     "data": {
      "text/plain": [
       "['AAXN']"
      ]
     },
     "execution_count": 11,
     "metadata": {},
     "output_type": "execute_result"
    }
   ],
   "source": [
    "stocks_not_downloaded"
   ]
  },
  {
   "cell_type": "code",
   "execution_count": 12,
   "id": "5794343f",
   "metadata": {},
   "outputs": [],
   "source": [
    "PATH='C:\\\\Users\\\\nafissaad\\\\Finance\\\\Stock List\\\\'\n",
    "S_YEAR = 2017\n",
    "S_MONTH = 1\n",
    "S_DATE = 3\n",
    "S_DATE_SART = f'{S_YEAR}-{S_MONTH}-{S_DATE}'\n",
    "S_DATE_DATETIME = dt.datetime(S_YEAR,S_MONTH,S_DATE)\n",
    "E_YEAR = 2021\n",
    "E_MONTH = 8\n",
    "E_DATE = 19\n",
    "E_DATE_END = f'{E_YEAR}-{E_MONTH}-{E_DATE}'\n",
    "S_DATE_DATETIME = dt.datetime(E_YEAR,E_MONTH,E_DATE)"
   ]
  },
  {
   "cell_type": "code",
   "execution_count": 13,
   "id": "a674ebc3",
   "metadata": {},
   "outputs": [
    {
     "data": {
      "text/plain": [
       "['A.csv',\n",
       " 'AA.csv',\n",
       " 'AAL.csv',\n",
       " 'AAME.csv',\n",
       " 'AAN.csv',\n",
       " 'AAOI.csv',\n",
       " 'AAON.csv',\n",
       " 'AAP.csv',\n",
       " 'AAPL.csv',\n",
       " 'AAT.csv',\n",
       " 'AAWW.csv',\n",
       " 'ABBV.csv',\n",
       " 'ABC.csv',\n",
       " 'ABCB.csv',\n",
       " 'ABEO.csv',\n",
       " 'ABG.csv',\n",
       " 'ABIO.csv',\n",
       " 'ABM.csv',\n",
       " 'ABMD.csv',\n",
       " 'ABR.csv',\n",
       " 'ABT.csv',\n",
       " 'ABTX.csv',\n",
       " 'AC.csv',\n",
       " 'ACA.csv']"
      ]
     },
     "execution_count": 13,
     "metadata": {},
     "output_type": "execute_result"
    }
   ],
   "source": [
    "#Get Stock File Names in a List\n",
    "files = [x for x in listdir(PATH) if isfile(join(PATH,x))]\n",
    "files"
   ]
  },
  {
   "cell_type": "code",
   "execution_count": 14,
   "id": "40f926ba",
   "metadata": {},
   "outputs": [
    {
     "data": {
      "text/plain": [
       "24"
      ]
     },
     "execution_count": 14,
     "metadata": {},
     "output_type": "execute_result"
    }
   ],
   "source": [
    "tickers = [os.path.splitext(x)[0] for x in files]\n",
    "len(tickers)"
   ]
  },
  {
   "cell_type": "code",
   "execution_count": 15,
   "id": "9bdfb6df",
   "metadata": {},
   "outputs": [
    {
     "data": {
      "text/html": [
       "<div>\n",
       "<style scoped>\n",
       "    .dataframe tbody tr th:only-of-type {\n",
       "        vertical-align: middle;\n",
       "    }\n",
       "\n",
       "    .dataframe tbody tr th {\n",
       "        vertical-align: top;\n",
       "    }\n",
       "\n",
       "    .dataframe thead th {\n",
       "        text-align: right;\n",
       "    }\n",
       "</style>\n",
       "<table border=\"1\" class=\"dataframe\">\n",
       "  <thead>\n",
       "    <tr style=\"text-align: right;\">\n",
       "      <th></th>\n",
       "      <th>Ticker</th>\n",
       "    </tr>\n",
       "  </thead>\n",
       "  <tbody>\n",
       "    <tr>\n",
       "      <th>0</th>\n",
       "      <td>A</td>\n",
       "    </tr>\n",
       "    <tr>\n",
       "      <th>1</th>\n",
       "      <td>AA</td>\n",
       "    </tr>\n",
       "    <tr>\n",
       "      <th>2</th>\n",
       "      <td>AAL</td>\n",
       "    </tr>\n",
       "    <tr>\n",
       "      <th>3</th>\n",
       "      <td>AAME</td>\n",
       "    </tr>\n",
       "    <tr>\n",
       "      <th>4</th>\n",
       "      <td>AAN</td>\n",
       "    </tr>\n",
       "    <tr>\n",
       "      <th>5</th>\n",
       "      <td>AAOI</td>\n",
       "    </tr>\n",
       "    <tr>\n",
       "      <th>6</th>\n",
       "      <td>AAON</td>\n",
       "    </tr>\n",
       "    <tr>\n",
       "      <th>7</th>\n",
       "      <td>AAP</td>\n",
       "    </tr>\n",
       "    <tr>\n",
       "      <th>8</th>\n",
       "      <td>AAPL</td>\n",
       "    </tr>\n",
       "    <tr>\n",
       "      <th>9</th>\n",
       "      <td>AAT</td>\n",
       "    </tr>\n",
       "    <tr>\n",
       "      <th>10</th>\n",
       "      <td>AAWW</td>\n",
       "    </tr>\n",
       "    <tr>\n",
       "      <th>11</th>\n",
       "      <td>ABBV</td>\n",
       "    </tr>\n",
       "    <tr>\n",
       "      <th>12</th>\n",
       "      <td>ABC</td>\n",
       "    </tr>\n",
       "    <tr>\n",
       "      <th>13</th>\n",
       "      <td>ABCB</td>\n",
       "    </tr>\n",
       "    <tr>\n",
       "      <th>14</th>\n",
       "      <td>ABEO</td>\n",
       "    </tr>\n",
       "    <tr>\n",
       "      <th>15</th>\n",
       "      <td>ABG</td>\n",
       "    </tr>\n",
       "    <tr>\n",
       "      <th>16</th>\n",
       "      <td>ABIO</td>\n",
       "    </tr>\n",
       "    <tr>\n",
       "      <th>17</th>\n",
       "      <td>ABM</td>\n",
       "    </tr>\n",
       "    <tr>\n",
       "      <th>18</th>\n",
       "      <td>ABMD</td>\n",
       "    </tr>\n",
       "    <tr>\n",
       "      <th>19</th>\n",
       "      <td>ABR</td>\n",
       "    </tr>\n",
       "    <tr>\n",
       "      <th>20</th>\n",
       "      <td>ABT</td>\n",
       "    </tr>\n",
       "    <tr>\n",
       "      <th>21</th>\n",
       "      <td>ABTX</td>\n",
       "    </tr>\n",
       "    <tr>\n",
       "      <th>22</th>\n",
       "      <td>AC</td>\n",
       "    </tr>\n",
       "    <tr>\n",
       "      <th>23</th>\n",
       "      <td>ACA</td>\n",
       "    </tr>\n",
       "  </tbody>\n",
       "</table>\n",
       "</div>"
      ],
      "text/plain": [
       "   Ticker\n",
       "0       A\n",
       "1      AA\n",
       "2     AAL\n",
       "3    AAME\n",
       "4     AAN\n",
       "5    AAOI\n",
       "6    AAON\n",
       "7     AAP\n",
       "8    AAPL\n",
       "9     AAT\n",
       "10   AAWW\n",
       "11   ABBV\n",
       "12    ABC\n",
       "13   ABCB\n",
       "14   ABEO\n",
       "15    ABG\n",
       "16   ABIO\n",
       "17    ABM\n",
       "18   ABMD\n",
       "19    ABR\n",
       "20    ABT\n",
       "21   ABTX\n",
       "22     AC\n",
       "23    ACA"
      ]
     },
     "execution_count": 15,
     "metadata": {},
     "output_type": "execute_result"
    }
   ],
   "source": [
    "#Create a Data Frame From Our List\n",
    "stock_df = pd.DataFrame(tickers, columns=['Ticker'])\n",
    "stock_df"
   ]
  },
  {
   "cell_type": "code",
   "execution_count": 24,
   "id": "b354f6bf",
   "metadata": {},
   "outputs": [],
   "source": [
    "#Function that SaveS Dataframe to csv\n",
    "def get_df_from_csv(ticker):\n",
    "    \n",
    "    # Try to get the file and if it doesn't exist issue a warning\n",
    "    try:\n",
    "        df = pd.read_csv(PATH + ticker + '.csv')\n",
    "    except FileNotFoundError:\n",
    "        print(\"File Doesn't Exist\")\n",
    "    else:\n",
    "        return df"
   ]
  },
  {
   "cell_type": "code",
   "execution_count": 25,
   "id": "13984f4b",
   "metadata": {},
   "outputs": [],
   "source": [
    "#Function that Saves Dataframe to CSV\n",
    "def save_dataframe_to_csv(df, ticker):\n",
    "    df.to_csv(PATH + ticker + '.csv',index=False)"
   ]
  },
  {
   "cell_type": "code",
   "execution_count": 26,
   "id": "a659e7ec",
   "metadata": {},
   "outputs": [],
   "source": [
    "#Delete Unnamed Columns in CSV Files\n",
    "def delete_unnamed_cols(df):\n",
    "    df = df.loc[:, ~df.columns.str.contains('^Unnamed')]\n",
    "    return df"
   ]
  },
  {
   "cell_type": "code",
   "execution_count": 27,
   "id": "2e212060",
   "metadata": {},
   "outputs": [],
   "source": [
    "#add Daily Return to Dataframe\n",
    "def add_daily_return_to_df(df,ticker):\n",
    "    df['daily_return']=(df['Adj Close']/df['Adj Close'].shift(1))-1\n",
    "    df.to_csv(PATH +ticker +'.csv')\n",
    "    return df"
   ]
  },
  {
   "cell_type": "code",
   "execution_count": 28,
   "id": "3b989e57",
   "metadata": {},
   "outputs": [],
   "source": [
    "#Returns Return on Investment over Time\n",
    "def get_roi_defined_time(df):\n",
    "    df['Date'] =pd.to_datetime(df['Date'])\n",
    "    start_val =df[df['Date']==S_DATE_START]['Adj Close'][0]\n",
    "    end_val =df[df['Date']==E_DATE_END][0]['Adj Close'][0]\n",
    "    print('Initial Price:',start_val)\n",
    "    print('Final Price:',start_val)\n",
    "    roi = (end_val - start_val)/start_val\n",
    "    return roi"
   ]
  },
  {
   "cell_type": "code",
   "execution_count": 29,
   "id": "ba36fae9",
   "metadata": {},
   "outputs": [],
   "source": [
    "# get Coefficient of Variation\n",
    "def get_cov(stock_df):\n",
    "    mean = stock_df['Adj Close'].mean()\n",
    "    sd=stock_df['Adj Close'].std()\n",
    "    cov=sd/mean\n",
    "    return cov"
   ]
  },
  {
   "cell_type": "code",
   "execution_count": 30,
   "id": "bfcd0fb0",
   "metadata": {},
   "outputs": [
    {
     "data": {
      "text/plain": [
       "'AAME'"
      ]
     },
     "execution_count": 30,
     "metadata": {},
     "output_type": "execute_result"
    }
   ],
   "source": [
    "tickers[3]"
   ]
  },
  {
   "cell_type": "code",
   "execution_count": 31,
   "id": "73a2b27b",
   "metadata": {},
   "outputs": [
    {
     "data": {
      "text/html": [
       "<div>\n",
       "<style scoped>\n",
       "    .dataframe tbody tr th:only-of-type {\n",
       "        vertical-align: middle;\n",
       "    }\n",
       "\n",
       "    .dataframe tbody tr th {\n",
       "        vertical-align: top;\n",
       "    }\n",
       "\n",
       "    .dataframe thead th {\n",
       "        text-align: right;\n",
       "    }\n",
       "</style>\n",
       "<table border=\"1\" class=\"dataframe\">\n",
       "  <thead>\n",
       "    <tr style=\"text-align: right;\">\n",
       "      <th></th>\n",
       "      <th>Date</th>\n",
       "      <th>Adj Close</th>\n",
       "    </tr>\n",
       "  </thead>\n",
       "  <tbody>\n",
       "    <tr>\n",
       "      <th>0</th>\n",
       "      <td>2017-01-03</td>\n",
       "      <td>4.001373</td>\n",
       "    </tr>\n",
       "    <tr>\n",
       "      <th>1</th>\n",
       "      <td>2017-01-04</td>\n",
       "      <td>4.001373</td>\n",
       "    </tr>\n",
       "    <tr>\n",
       "      <th>2</th>\n",
       "      <td>2017-01-05</td>\n",
       "      <td>3.757387</td>\n",
       "    </tr>\n",
       "    <tr>\n",
       "      <th>3</th>\n",
       "      <td>2017-01-06</td>\n",
       "      <td>4.001373</td>\n",
       "    </tr>\n",
       "    <tr>\n",
       "      <th>4</th>\n",
       "      <td>2017-01-09</td>\n",
       "      <td>3.854982</td>\n",
       "    </tr>\n",
       "    <tr>\n",
       "      <th>...</th>\n",
       "      <td>...</td>\n",
       "      <td>...</td>\n",
       "    </tr>\n",
       "    <tr>\n",
       "      <th>1270</th>\n",
       "      <td>2022-01-19</td>\n",
       "      <td>2.500000</td>\n",
       "    </tr>\n",
       "    <tr>\n",
       "      <th>1271</th>\n",
       "      <td>2022-01-20</td>\n",
       "      <td>2.480000</td>\n",
       "    </tr>\n",
       "    <tr>\n",
       "      <th>1272</th>\n",
       "      <td>2022-01-21</td>\n",
       "      <td>2.280000</td>\n",
       "    </tr>\n",
       "    <tr>\n",
       "      <th>1273</th>\n",
       "      <td>2022-01-24</td>\n",
       "      <td>2.310000</td>\n",
       "    </tr>\n",
       "    <tr>\n",
       "      <th>1274</th>\n",
       "      <td>2022-01-25</td>\n",
       "      <td>2.550000</td>\n",
       "    </tr>\n",
       "  </tbody>\n",
       "</table>\n",
       "<p>1275 rows × 2 columns</p>\n",
       "</div>"
      ],
      "text/plain": [
       "            Date  Adj Close\n",
       "0     2017-01-03   4.001373\n",
       "1     2017-01-04   4.001373\n",
       "2     2017-01-05   3.757387\n",
       "3     2017-01-06   4.001373\n",
       "4     2017-01-09   3.854982\n",
       "...          ...        ...\n",
       "1270  2022-01-19   2.500000\n",
       "1271  2022-01-20   2.480000\n",
       "1272  2022-01-21   2.280000\n",
       "1273  2022-01-24   2.310000\n",
       "1274  2022-01-25   2.550000\n",
       "\n",
       "[1275 rows x 2 columns]"
      ]
     },
     "execution_count": 31,
     "metadata": {},
     "output_type": "execute_result"
    }
   ],
   "source": [
    "stock_a = get_df_from_csv(tickers[3])\n",
    "stock_a"
   ]
  },
  {
   "cell_type": "code",
   "execution_count": 32,
   "id": "aaecc243",
   "metadata": {},
   "outputs": [
    {
     "data": {
      "text/html": [
       "<div>\n",
       "<style scoped>\n",
       "    .dataframe tbody tr th:only-of-type {\n",
       "        vertical-align: middle;\n",
       "    }\n",
       "\n",
       "    .dataframe tbody tr th {\n",
       "        vertical-align: top;\n",
       "    }\n",
       "\n",
       "    .dataframe thead th {\n",
       "        text-align: right;\n",
       "    }\n",
       "</style>\n",
       "<table border=\"1\" class=\"dataframe\">\n",
       "  <thead>\n",
       "    <tr style=\"text-align: right;\">\n",
       "      <th></th>\n",
       "      <th>Date</th>\n",
       "      <th>Adj Close</th>\n",
       "      <th>daily_return</th>\n",
       "    </tr>\n",
       "  </thead>\n",
       "  <tbody>\n",
       "    <tr>\n",
       "      <th>0</th>\n",
       "      <td>2017-01-03</td>\n",
       "      <td>4.001373</td>\n",
       "      <td>NaN</td>\n",
       "    </tr>\n",
       "    <tr>\n",
       "      <th>1</th>\n",
       "      <td>2017-01-04</td>\n",
       "      <td>4.001373</td>\n",
       "      <td>0.000000</td>\n",
       "    </tr>\n",
       "    <tr>\n",
       "      <th>2</th>\n",
       "      <td>2017-01-05</td>\n",
       "      <td>3.757387</td>\n",
       "      <td>-0.060976</td>\n",
       "    </tr>\n",
       "    <tr>\n",
       "      <th>3</th>\n",
       "      <td>2017-01-06</td>\n",
       "      <td>4.001373</td>\n",
       "      <td>0.064935</td>\n",
       "    </tr>\n",
       "    <tr>\n",
       "      <th>4</th>\n",
       "      <td>2017-01-09</td>\n",
       "      <td>3.854982</td>\n",
       "      <td>-0.036585</td>\n",
       "    </tr>\n",
       "    <tr>\n",
       "      <th>...</th>\n",
       "      <td>...</td>\n",
       "      <td>...</td>\n",
       "      <td>...</td>\n",
       "    </tr>\n",
       "    <tr>\n",
       "      <th>1270</th>\n",
       "      <td>2022-01-19</td>\n",
       "      <td>2.500000</td>\n",
       "      <td>-0.003984</td>\n",
       "    </tr>\n",
       "    <tr>\n",
       "      <th>1271</th>\n",
       "      <td>2022-01-20</td>\n",
       "      <td>2.480000</td>\n",
       "      <td>-0.008000</td>\n",
       "    </tr>\n",
       "    <tr>\n",
       "      <th>1272</th>\n",
       "      <td>2022-01-21</td>\n",
       "      <td>2.280000</td>\n",
       "      <td>-0.080645</td>\n",
       "    </tr>\n",
       "    <tr>\n",
       "      <th>1273</th>\n",
       "      <td>2022-01-24</td>\n",
       "      <td>2.310000</td>\n",
       "      <td>0.013158</td>\n",
       "    </tr>\n",
       "    <tr>\n",
       "      <th>1274</th>\n",
       "      <td>2022-01-25</td>\n",
       "      <td>2.550000</td>\n",
       "      <td>0.103896</td>\n",
       "    </tr>\n",
       "  </tbody>\n",
       "</table>\n",
       "<p>1275 rows × 3 columns</p>\n",
       "</div>"
      ],
      "text/plain": [
       "            Date  Adj Close  daily_return\n",
       "0     2017-01-03   4.001373           NaN\n",
       "1     2017-01-04   4.001373      0.000000\n",
       "2     2017-01-05   3.757387     -0.060976\n",
       "3     2017-01-06   4.001373      0.064935\n",
       "4     2017-01-09   3.854982     -0.036585\n",
       "...          ...        ...           ...\n",
       "1270  2022-01-19   2.500000     -0.003984\n",
       "1271  2022-01-20   2.480000     -0.008000\n",
       "1272  2022-01-21   2.280000     -0.080645\n",
       "1273  2022-01-24   2.310000      0.013158\n",
       "1274  2022-01-25   2.550000      0.103896\n",
       "\n",
       "[1275 rows x 3 columns]"
      ]
     },
     "execution_count": 32,
     "metadata": {},
     "output_type": "execute_result"
    }
   ],
   "source": [
    "add_daily_return_to_df(stock_a, tickers[3])\n",
    "stock_a"
   ]
  },
  {
   "cell_type": "code",
   "execution_count": 33,
   "id": "7b8677a6",
   "metadata": {},
   "outputs": [],
   "source": [
    "save_dataframe_to_csv(stock_a,tickers[3])"
   ]
  },
  {
   "cell_type": "code",
   "execution_count": 34,
   "id": "3af918be",
   "metadata": {},
   "outputs": [
    {
     "name": "stdout",
     "output_type": "stream",
     "text": [
      "Working on : A\n",
      "Working on : AA\n",
      "Working on : AAL\n",
      "Working on : AAME\n",
      "Working on : AAN\n",
      "Working on : AAOI\n",
      "Working on : AAON\n",
      "Working on : AAP\n",
      "Working on : AAPL\n",
      "Working on : AAT\n",
      "Working on : AAWW\n",
      "Working on : ABBV\n",
      "Working on : ABC\n",
      "Working on : ABCB\n",
      "Working on : ABEO\n",
      "Working on : ABG\n",
      "Working on : ABIO\n",
      "Working on : ABM\n",
      "Working on : ABMD\n",
      "Working on : ABR\n",
      "Working on : ABT\n",
      "Working on : ABTX\n",
      "Working on : AC\n",
      "Working on : ACA\n"
     ]
    }
   ],
   "source": [
    "\n",
    "# Cycle through all tickers\n",
    "for ticker in tickers:\n",
    "    print(\"Working on :\", ticker)\n",
    "    \n",
    "    # Get a dataframe for that ticker\n",
    "    stock_df = get_df_from_csv(ticker)\n",
    "    \n",
    "    # Add daily return to this dataframe\n",
    "    add_daily_return_to_df(stock_df, ticker)\n",
    "    \n",
    "    # Delete unnamed columns in dataframe\n",
    "    stock_df = delete_unnamed_cols(stock_df)\n",
    "    \n",
    "    # Save cleaned dataframe to csv\n",
    "    save_dataframe_to_csv(stock_df, ticker)"
   ]
  },
  {
   "cell_type": "code",
   "execution_count": 55,
   "id": "4961e90f",
   "metadata": {},
   "outputs": [
    {
     "ename": "KeyError",
     "evalue": "'Ticker'",
     "output_type": "error",
     "traceback": [
      "\u001b[1;31m---------------------------------------------------------------------------\u001b[0m",
      "\u001b[1;31mKeyError\u001b[0m                                  Traceback (most recent call last)",
      "\u001b[1;32m~\\AppData\\Local\\Programs\\Python\\Python37\\lib\\site-packages\\pandas\\core\\indexes\\base.py\u001b[0m in \u001b[0;36mget_loc\u001b[1;34m(self, key, method, tolerance)\u001b[0m\n\u001b[0;32m   3360\u001b[0m             \u001b[1;32mtry\u001b[0m\u001b[1;33m:\u001b[0m\u001b[1;33m\u001b[0m\u001b[1;33m\u001b[0m\u001b[0m\n\u001b[1;32m-> 3361\u001b[1;33m                 \u001b[1;32mreturn\u001b[0m \u001b[0mself\u001b[0m\u001b[1;33m.\u001b[0m\u001b[0m_engine\u001b[0m\u001b[1;33m.\u001b[0m\u001b[0mget_loc\u001b[0m\u001b[1;33m(\u001b[0m\u001b[0mcasted_key\u001b[0m\u001b[1;33m)\u001b[0m\u001b[1;33m\u001b[0m\u001b[1;33m\u001b[0m\u001b[0m\n\u001b[0m\u001b[0;32m   3362\u001b[0m             \u001b[1;32mexcept\u001b[0m \u001b[0mKeyError\u001b[0m \u001b[1;32mas\u001b[0m \u001b[0merr\u001b[0m\u001b[1;33m:\u001b[0m\u001b[1;33m\u001b[0m\u001b[1;33m\u001b[0m\u001b[0m\n",
      "\u001b[1;32m~\\AppData\\Local\\Programs\\Python\\Python37\\lib\\site-packages\\pandas\\_libs\\index.pyx\u001b[0m in \u001b[0;36mpandas._libs.index.IndexEngine.get_loc\u001b[1;34m()\u001b[0m\n",
      "\u001b[1;32m~\\AppData\\Local\\Programs\\Python\\Python37\\lib\\site-packages\\pandas\\_libs\\index.pyx\u001b[0m in \u001b[0;36mpandas._libs.index.IndexEngine.get_loc\u001b[1;34m()\u001b[0m\n",
      "\u001b[1;32mpandas\\_libs\\hashtable_class_helper.pxi\u001b[0m in \u001b[0;36mpandas._libs.hashtable.PyObjectHashTable.get_item\u001b[1;34m()\u001b[0m\n",
      "\u001b[1;32mpandas\\_libs\\hashtable_class_helper.pxi\u001b[0m in \u001b[0;36mpandas._libs.hashtable.PyObjectHashTable.get_item\u001b[1;34m()\u001b[0m\n",
      "\u001b[1;31mKeyError\u001b[0m: 'Ticker'",
      "\nThe above exception was the direct cause of the following exception:\n",
      "\u001b[1;31mKeyError\u001b[0m                                  Traceback (most recent call last)",
      "\u001b[1;32mC:\\Users\\NAFISS~1\\AppData\\Local\\Temp/ipykernel_3180/766253510.py\u001b[0m in \u001b[0;36m<module>\u001b[1;34m\u001b[0m\n\u001b[1;32m----> 1\u001b[1;33m \u001b[0mstock_df\u001b[0m\u001b[1;33m[\u001b[0m\u001b[1;34m'Ticker'\u001b[0m\u001b[1;33m]\u001b[0m\u001b[1;33m\u001b[0m\u001b[1;33m\u001b[0m\u001b[0m\n\u001b[0m",
      "\u001b[1;32m~\\AppData\\Local\\Programs\\Python\\Python37\\lib\\site-packages\\pandas\\core\\frame.py\u001b[0m in \u001b[0;36m__getitem__\u001b[1;34m(self, key)\u001b[0m\n\u001b[0;32m   3456\u001b[0m             \u001b[1;32mif\u001b[0m \u001b[0mself\u001b[0m\u001b[1;33m.\u001b[0m\u001b[0mcolumns\u001b[0m\u001b[1;33m.\u001b[0m\u001b[0mnlevels\u001b[0m \u001b[1;33m>\u001b[0m \u001b[1;36m1\u001b[0m\u001b[1;33m:\u001b[0m\u001b[1;33m\u001b[0m\u001b[1;33m\u001b[0m\u001b[0m\n\u001b[0;32m   3457\u001b[0m                 \u001b[1;32mreturn\u001b[0m \u001b[0mself\u001b[0m\u001b[1;33m.\u001b[0m\u001b[0m_getitem_multilevel\u001b[0m\u001b[1;33m(\u001b[0m\u001b[0mkey\u001b[0m\u001b[1;33m)\u001b[0m\u001b[1;33m\u001b[0m\u001b[1;33m\u001b[0m\u001b[0m\n\u001b[1;32m-> 3458\u001b[1;33m             \u001b[0mindexer\u001b[0m \u001b[1;33m=\u001b[0m \u001b[0mself\u001b[0m\u001b[1;33m.\u001b[0m\u001b[0mcolumns\u001b[0m\u001b[1;33m.\u001b[0m\u001b[0mget_loc\u001b[0m\u001b[1;33m(\u001b[0m\u001b[0mkey\u001b[0m\u001b[1;33m)\u001b[0m\u001b[1;33m\u001b[0m\u001b[1;33m\u001b[0m\u001b[0m\n\u001b[0m\u001b[0;32m   3459\u001b[0m             \u001b[1;32mif\u001b[0m \u001b[0mis_integer\u001b[0m\u001b[1;33m(\u001b[0m\u001b[0mindexer\u001b[0m\u001b[1;33m)\u001b[0m\u001b[1;33m:\u001b[0m\u001b[1;33m\u001b[0m\u001b[1;33m\u001b[0m\u001b[0m\n\u001b[0;32m   3460\u001b[0m                 \u001b[0mindexer\u001b[0m \u001b[1;33m=\u001b[0m \u001b[1;33m[\u001b[0m\u001b[0mindexer\u001b[0m\u001b[1;33m]\u001b[0m\u001b[1;33m\u001b[0m\u001b[1;33m\u001b[0m\u001b[0m\n",
      "\u001b[1;32m~\\AppData\\Local\\Programs\\Python\\Python37\\lib\\site-packages\\pandas\\core\\indexes\\base.py\u001b[0m in \u001b[0;36mget_loc\u001b[1;34m(self, key, method, tolerance)\u001b[0m\n\u001b[0;32m   3361\u001b[0m                 \u001b[1;32mreturn\u001b[0m \u001b[0mself\u001b[0m\u001b[1;33m.\u001b[0m\u001b[0m_engine\u001b[0m\u001b[1;33m.\u001b[0m\u001b[0mget_loc\u001b[0m\u001b[1;33m(\u001b[0m\u001b[0mcasted_key\u001b[0m\u001b[1;33m)\u001b[0m\u001b[1;33m\u001b[0m\u001b[1;33m\u001b[0m\u001b[0m\n\u001b[0;32m   3362\u001b[0m             \u001b[1;32mexcept\u001b[0m \u001b[0mKeyError\u001b[0m \u001b[1;32mas\u001b[0m \u001b[0merr\u001b[0m\u001b[1;33m:\u001b[0m\u001b[1;33m\u001b[0m\u001b[1;33m\u001b[0m\u001b[0m\n\u001b[1;32m-> 3363\u001b[1;33m                 \u001b[1;32mraise\u001b[0m \u001b[0mKeyError\u001b[0m\u001b[1;33m(\u001b[0m\u001b[0mkey\u001b[0m\u001b[1;33m)\u001b[0m \u001b[1;32mfrom\u001b[0m \u001b[0merr\u001b[0m\u001b[1;33m\u001b[0m\u001b[1;33m\u001b[0m\u001b[0m\n\u001b[0m\u001b[0;32m   3364\u001b[0m \u001b[1;33m\u001b[0m\u001b[0m\n\u001b[0;32m   3365\u001b[0m         \u001b[1;32mif\u001b[0m \u001b[0mis_scalar\u001b[0m\u001b[1;33m(\u001b[0m\u001b[0mkey\u001b[0m\u001b[1;33m)\u001b[0m \u001b[1;32mand\u001b[0m \u001b[0misna\u001b[0m\u001b[1;33m(\u001b[0m\u001b[0mkey\u001b[0m\u001b[1;33m)\u001b[0m \u001b[1;32mand\u001b[0m \u001b[1;32mnot\u001b[0m \u001b[0mself\u001b[0m\u001b[1;33m.\u001b[0m\u001b[0mhasnans\u001b[0m\u001b[1;33m:\u001b[0m\u001b[1;33m\u001b[0m\u001b[1;33m\u001b[0m\u001b[0m\n",
      "\u001b[1;31mKeyError\u001b[0m: 'Ticker'"
     ]
    }
   ],
   "source": []
  },
  {
   "cell_type": "code",
   "execution_count": null,
   "id": "7834cab3",
   "metadata": {},
   "outputs": [],
   "source": []
  }
 ],
 "metadata": {
  "kernelspec": {
   "display_name": "Python 3 (ipykernel)",
   "language": "python",
   "name": "python3"
  },
  "language_info": {
   "codemirror_mode": {
    "name": "ipython",
    "version": 3
   },
   "file_extension": ".py",
   "mimetype": "text/x-python",
   "name": "python",
   "nbconvert_exporter": "python",
   "pygments_lexer": "ipython3",
   "version": "3.7.3"
  }
 },
 "nbformat": 4,
 "nbformat_minor": 5
}
